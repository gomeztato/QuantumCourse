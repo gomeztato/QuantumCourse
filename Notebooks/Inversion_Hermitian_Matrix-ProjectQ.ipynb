{
 "cells": [
  {
   "cell_type": "markdown",
   "metadata": {},
   "source": [
    "### Inversion of an Hermitian Matrix\n",
    "\n",
    "Author: Andrés Gómez - 2020\n",
    "\n"
   ]
  },
  {
   "cell_type": "markdown",
   "metadata": {},
   "source": [
    "The objective of this notebook is to solve the linear system\n",
    "\n",
    "$$M\\vec{x}=\\vec{b}$$\n",
    "\n",
    "where $M \\in \\mathbb{C}^{2^n\\times2^n}$ is an hermitian Matrix with eigenvalues $\\{\\lambda_j, j=1\\dots 2^n\\}$, and $\\vec{x}$ and $\\vec{b} \\in \\mathbb{C}^{2^n}$\n",
    "\n",
    "The original algorithm was proposed by [Aram W. Harrow, Avinatan Hassidim, and Seth Lloyd](https://arxiv.org/abs/0811.3171), but later was improved and a simpler version is described on [Danial Dervovic, Mark Herbster, Peter Mountney, Simone Severini, Naïri Usher, Leonard Wossnig](https://arxiv.org/abs/1802.08227), which is used on this notebook. \n",
    "\n",
    "The algorithm assumes that $\\vec{b}$ is normalized, so it can be decomposed on the basis of a quantum system as\n",
    "\n",
    "$$\\vec{b}=\\sum_{j=1}^{M}\\beta_j|u_j\\rangle$$\n",
    "\n",
    "If $C \\in \\mathbb{R}$ is a constant such as $C<min\\{\\lambda_j\\}$, being $\\{\\lambda_j\\}$ the set of eigenvalues of $A$. In this case, the algorithm will find an approximation of $\\vec{x}$ as\n",
    "\n",
    "$$|x\\rangle \\approx C \\sum_{j=1}^M \\frac{\\beta_j}{\\lambda_j}|u_j\\rangle$$\n",
    "\n",
    "The algorithm uses three registers:\n",
    "\n",
    "1. C or clock register, where the eigenvalues of the matrix $M$ are stored, with the number of qubits desired for the accuracy.\n",
    "2. I to store $\\vec{b}$\n",
    "3. One ancilla qubit to calculate the inversion of the eigenvalues\n",
    "\n",
    "For this notebook, the QuantumRegister is defined as:\n",
    "\n",
    "$$|ancilla\\rangle \\otimes |Clock\\rangle \\otimes |b\\rangle$$\n",
    "\n",
    "The algorithm has 3 steps:\n",
    "\n",
    "1. Calculate on register C the eigenvalues of $M$ using the Quantum Phase Estimation algorithm. Because $\\vec{b}$ is a superposition of the eigenvectors, all the eigenvalues will be stored on this register because the parallelism of the Quantum Operators\n",
    "2. Inverse the eigenvalues using controlled $R_y$ rotations over the ancilla qubit\n",
    "3. Apply the inverse of step 1\n",
    "\n",
    "Let's do it step by step.\n",
    "\n",
    "**NOTE**. This version of the algorithm can work only for Hermitian matrices with eigenvalues $0<\\lambda<=2^{accuracy}$\n",
    "\n"
   ]
  },
  {
   "cell_type": "code",
   "execution_count": 1,
   "metadata": {},
   "outputs": [],
   "source": [
    "import projectq\n",
    "from projectq.cengines import MainEngine\n",
    "from projectq.ops import H,X,Ry,Rx,C,Measure,QFT,get_inverse,All,Swap,QubitOperator,TimeEvolution\n",
    "from projectq.meta import Control,Compute,Uncompute\n",
    "import numpy as np\n",
    "import math\n",
    "#import cmath\n"
   ]
  },
  {
   "cell_type": "markdown",
   "metadata": {},
   "source": [
    "Auxiliary functions to show the matrix and quantum states"
   ]
  },
  {
   "cell_type": "code",
   "execution_count": 2,
   "metadata": {},
   "outputs": [],
   "source": [
    "def MatrixToLatex(A):\n",
    "    a=\"\\\\begin{pmatrix}\"\n",
    "    for i in range(A.shape[0]):\n",
    "        for j in range(A.shape[1]):\n",
    "            if ((j+1)%A.shape[1])==0:\n",
    "                a=a+\"{0:.2f}\".format(A[i,j])\n",
    "            else:\n",
    "                a=a+\"%s&\"%\"{0:.2f}\".format(A[i,j])\n",
    "        if ((i+1)%A.shape[0])!=0:\n",
    "            a=a+\"\\\\\\\\\"\n",
    "    a=a+\"\\\\end{pmatrix}\"\n",
    "    return(a)\n",
    "def Display(string):\n",
    "    from IPython.display import display, Markdown\n",
    "    display(Markdown(string))\n",
    "    \n",
    "def get_state_as_str(eng,qubits,cheat=False):\n",
    "    import numpy as np\n",
    "    s=\"$\"\n",
    "    if (cheat):\n",
    "        print(\"Cheat: \", eng.backend.cheat())\n",
    "    \n",
    "    for j in range(2**(len(qubits))):\n",
    "        bits=np.binary_repr(j,width=len(qubits))\n",
    "        a=eng.backend.get_amplitude(\"%s\"%(bits[-1::-1]),qubits)\n",
    "        if (abs(a.real)>0.0000001)|(abs(a.imag)>0.0000001):\n",
    "            #print(\"Añado\")\n",
    "            if s!=\"$\":\n",
    "                s=s+\"+\"\n",
    "            a=\"({:.5f})\".format(a)\n",
    "            s=s+\"%s|%s\\\\rangle_a|%s\\\\rangle_C|%s\\\\rangle_b\"%(a,bits[0],bits[1:-2],bits[-2:])\n",
    "        #print(s)\n",
    "    s=s+\"$\"\n",
    "    #Display(s)\n",
    "    return(s)"
   ]
  },
  {
   "cell_type": "markdown",
   "metadata": {},
   "source": [
    "## <span style=\"color:blue\"> 1. Create the matrix M</span>\n",
    "\n",
    "Create one matrix $M$ from an spectral decomposition. Let be the eigenvectors\n",
    "\n",
    "$$v_1=\\frac{1 }{\\sqrt{2}}(|00\\rangle+|01\\rangle)\\\\ v_2=\\frac{1 }{\\sqrt{2}}(|00\\rangle-|01\\rangle) \\\\v_3=\\frac{1 }{\\sqrt{2}}(|10\\rangle+|11\\rangle) \\\\ v_4=\\frac{1 }{\\sqrt{2}}(|10\\rangle-|11\\rangle)$$\n",
    "\n",
    "and the eigenvalues $\\lambda_1=16,\\lambda_2=8,\\lambda_3=4,\\lambda_4=2$ \n",
    "\n",
    "Define the matrix\n",
    "$$M=\\lambda_1|v_1\\rangle\\langle v_1| +  \\lambda_2|v_2\\rangle\\langle v_2| + \\lambda_3|v_3\\rangle\\langle v_3| + \\lambda_4|v_4 \\rangle\\langle v_4|$$\n"
   ]
  },
  {
   "cell_type": "code",
   "execution_count": 3,
   "metadata": {},
   "outputs": [
    {
     "data": {
      "text/markdown": [
       "M=\\begin{pmatrix}12.00&4.00&0.00&0.00\\\\4.00&12.00&0.00&0.00\\\\0.00&0.00&3.00&1.00\\\\0.00&0.00&1.00&3.00\\end{pmatrix}"
      ],
      "text/plain": [
       "<IPython.core.display.Markdown object>"
      ]
     },
     "metadata": {},
     "output_type": "display_data"
    }
   ],
   "source": [
    "Lambda=[16,8,4,2]\n",
    "Chi1P=(1/math.sqrt(2))*np.array([[1],[1],[0],[0]])\n",
    "Chi1M=(1/math.sqrt(2))*np.array([[1],[-1],[0],[0]])\n",
    "Chi2P=(1/math.sqrt(2))*np.array([[0],[0],[1],[1]])\n",
    "Chi2M=(1/math.sqrt(2))*np.array([[0],[0],[1],[-1]])\n",
    "Vector=[Chi1P,Chi1M,Chi2P,Chi2M] # Two, Three]\n",
    "M=np.zeros((len(Chi1P),len(Chi1P)))\n",
    "for i in range(len(Vector)):\n",
    "    M=M+Lambda[i]*np.dot(Vector[i],Vector[i].T)\n",
    "Display(\"M=%s\"%MatrixToLatex(M))\n",
    "    \n"
   ]
  },
  {
   "cell_type": "markdown",
   "metadata": {},
   "source": [
    "Check that this matrix has the expected eigenvalues and eigenvector"
   ]
  },
  {
   "cell_type": "code",
   "execution_count": 4,
   "metadata": {},
   "outputs": [
    {
     "data": {
      "text/markdown": [
       "Eigenvalues: [16.,  8.,  4.,  2.]"
      ],
      "text/plain": [
       "<IPython.core.display.Markdown object>"
      ]
     },
     "metadata": {},
     "output_type": "display_data"
    },
    {
     "data": {
      "text/markdown": [
       "Eigenvectors: [[ 0.70710678, -0.70710678,  0.        ,  0.        ],\n",
       " [ 0.70710678,  0.70710678,  0.        ,  0.        ],\n",
       " [ 0.        ,  0.        ,  0.70710678, -0.70710678],\n",
       " [ 0.        ,  0.        ,  0.70710678,  0.70710678]]"
      ],
      "text/plain": [
       "<IPython.core.display.Markdown object>"
      ]
     },
     "metadata": {},
     "output_type": "display_data"
    },
    {
     "data": {
      "text/markdown": [
       "M|v_0> = [[11.3137085 11.3137085  0.         0.       ]] must be Lambda[0]*|v[0]>=[[11.3137085, 11.3137085,  0.       ,  0.       ]]"
      ],
      "text/plain": [
       "<IPython.core.display.Markdown object>"
      ]
     },
     "metadata": {},
     "output_type": "display_data"
    },
    {
     "data": {
      "text/markdown": [
       "M|v_1> = [[ 5.65685425 -5.65685425  0.          0.        ]] must be Lambda[1]*|v[1]>=[[ 5.65685425, -5.65685425,  0.        ,  0.        ]]"
      ],
      "text/plain": [
       "<IPython.core.display.Markdown object>"
      ]
     },
     "metadata": {},
     "output_type": "display_data"
    },
    {
     "data": {
      "text/markdown": [
       "M|v_2> = [[0.         0.         2.82842712 2.82842712]] must be Lambda[2]*|v[2]>=[[0.        , 0.        , 2.82842712, 2.82842712]]"
      ],
      "text/plain": [
       "<IPython.core.display.Markdown object>"
      ]
     },
     "metadata": {},
     "output_type": "display_data"
    },
    {
     "data": {
      "text/markdown": [
       "M|v_3> = [[ 0.          0.          1.41421356 -1.41421356]] must be Lambda[3]*|v[3]>=[[ 0.        ,  0.        ,  1.41421356, -1.41421356]]"
      ],
      "text/plain": [
       "<IPython.core.display.Markdown object>"
      ]
     },
     "metadata": {},
     "output_type": "display_data"
    }
   ],
   "source": [
    "E,v=np.linalg.eig(M)\n",
    "Display(\"Eigenvalues: %s\"%np.array2string(E,separator=\", \"))\n",
    "Display(\"Eigenvectors: %s\"%np.array2string(v,separator=\", \"))\n",
    "for i in range(len(Vector)):\n",
    "    Display(\"M|v_%d> = %s must be Lambda[%d]*|v[%d]>=%s\"%(i,np.array2string(np.dot(M,Vector[i]).T), i,i,np.array2string(Lambda[i]*Vector[i].T,separator=\", \")))\n"
   ]
  },
  {
   "cell_type": "markdown",
   "metadata": {},
   "source": [
    "### Unitary operator from the Hermitian Matrix\n",
    "\n",
    "From the Hermitian matrix $M \\in \\mathbb{C}^{2^n\\times2^n}$, it is possible to create an Unitary Operator $U_M=e^{iM}$ with eigenvalues $e^{i\\lambda_i}$, being $\\lambda_i$ the eigenvalues of $M$ and with the same eigenvectors\n",
    "\n",
    "Check that $U_M |v_i>=e^{iM}|v_i>=e^{i\\lambda_i} |v_i>$"
   ]
  },
  {
   "cell_type": "code",
   "execution_count": 5,
   "metadata": {},
   "outputs": [
    {
     "data": {
      "text/markdown": [
       "$$ U_M |v[0]\\rangle=\\begin{pmatrix}-0.68-0.20j\\\\-0.68-0.20j\\\\0.00+0.00j\\\\0.00+0.00j\\end{pmatrix},e^{i\\lambda_0}|v[0]\\rangle=\\begin{pmatrix}-0.68-0.20j\\\\-0.68-0.20j\\\\0.00-0.00j\\\\0.00-0.00j\\end{pmatrix}$$"
      ],
      "text/plain": [
       "<IPython.core.display.Markdown object>"
      ]
     },
     "metadata": {},
     "output_type": "display_data"
    },
    {
     "data": {
      "text/markdown": [
       "$$ U_M |v[1]\\rangle=\\begin{pmatrix}-0.10+0.70j\\\\0.10-0.70j\\\\0.00+0.00j\\\\0.00+0.00j\\end{pmatrix},e^{i\\lambda_1}|v[1]\\rangle=\\begin{pmatrix}-0.10+0.70j\\\\0.10-0.70j\\\\-0.00+0.00j\\\\-0.00+0.00j\\end{pmatrix}$$"
      ],
      "text/plain": [
       "<IPython.core.display.Markdown object>"
      ]
     },
     "metadata": {},
     "output_type": "display_data"
    },
    {
     "data": {
      "text/markdown": [
       "$$ U_M |v[2]\\rangle=\\begin{pmatrix}0.00+0.00j\\\\0.00+0.00j\\\\-0.46-0.54j\\\\-0.46-0.54j\\end{pmatrix},e^{i\\lambda_2}|v[2]\\rangle=\\begin{pmatrix}0.00-0.00j\\\\0.00-0.00j\\\\-0.46-0.54j\\\\-0.46-0.54j\\end{pmatrix}$$"
      ],
      "text/plain": [
       "<IPython.core.display.Markdown object>"
      ]
     },
     "metadata": {},
     "output_type": "display_data"
    },
    {
     "data": {
      "text/markdown": [
       "$$ U_M |v[3]\\rangle=\\begin{pmatrix}0.00+0.00j\\\\0.00+0.00j\\\\-0.29+0.64j\\\\0.29-0.64j\\end{pmatrix},e^{i\\lambda_3}|v[3]\\rangle=\\begin{pmatrix}-0.00+0.00j\\\\-0.00+0.00j\\\\-0.29+0.64j\\\\0.29-0.64j\\end{pmatrix}$$"
      ],
      "text/plain": [
       "<IPython.core.display.Markdown object>"
      ]
     },
     "metadata": {},
     "output_type": "display_data"
    }
   ],
   "source": [
    "from scipy.linalg import expm\n",
    "for i in range(len(Vector)):\n",
    "    OP=np.dot(expm(1j*M),Vector[i])\n",
    "    EIG=np.exp(1j*Lambda[i])*Vector[i]          \n",
    "    Display(\"$$ U_M |v[%d]\\\\rangle=%s,e^{i\\lambda_%d}|v[%d]\\\\rangle=%s$$\"%(i,MatrixToLatex(OP),i,i,MatrixToLatex(EIG)))\n"
   ]
  },
  {
   "cell_type": "markdown",
   "metadata": {},
   "source": [
    "Because the eigenvalues of this case are integers, they have an exact binary representation"
   ]
  },
  {
   "cell_type": "code",
   "execution_count": 6,
   "metadata": {},
   "outputs": [
    {
     "name": "stdout",
     "output_type": "stream",
     "text": [
      "Binary of 16 is  10000\n",
      "Binary of 8 is  01000\n",
      "Binary of 4 is  00100\n",
      "Binary of 2 is  00010\n"
     ]
    }
   ],
   "source": [
    "for i in range(len(Lambda)):\n",
    "    print(\"Binary of %.0f is \"%(Lambda[i]),\"{0:05b}\".format(int(Lambda[i])))"
   ]
  },
  {
   "cell_type": "markdown",
   "metadata": {},
   "source": [
    "### Matrix decomposition\n",
    "Any matrix $M \\in \\mathbb{C}^{2^n}\\times\\mathbb{C}^{2^n}$, being $n$ the number of qubits, can be decomposed on tensor products of the extended Pauli set $\\Sigma=\\{I,X,Y,Z\\}$. \n",
    "\n",
    "If  $\\sigma_i \\in \\Sigma, i=1,2,3,4$,  then \n",
    "\n",
    "$$M=\\sum_{ijk\\dots l=1}^4 A_{ijk\\dots l} \\sigma_i\\otimes\\sigma_j\\otimes\\sigma_k\\otimes \\dots \\otimes\\sigma_l$$\n",
    "\n",
    "where\n",
    "$$A_{ijk\\dots l}=\\frac{1}{2^n}Tr[\\sigma_i\\otimes\\sigma_j\\otimes\\sigma_k\\otimes \\dots \\otimes\\sigma_l M]$$\n",
    "\n",
    "If the matrix M is Hermitian, $A_{ijk\\dots l} \\in \\mathbb{R}$ \n",
    "\n",
    "The next function, **DecompositionOnSigmas**, makes this decomposition, creating a **[QubitOperator](https://projectq.readthedocs.io/en/latest/projectq.ops.html#projectq.ops.QubitOperator)** with this decomposition"
   ]
  },
  {
   "cell_type": "code",
   "execution_count": 7,
   "metadata": {},
   "outputs": [],
   "source": [
    "def ProductTensor(A):\n",
    "    a=A[-1]\n",
    "    for i in range(len(A)-2,-1,-1):\n",
    "        a=np.tensordot(A[i],a,axes=0)\n",
    "        a=np.concatenate((np.concatenate((a[0][0],a[0][1]),axis=1),np.concatenate((a[1][0],a[1][1]),axis=1)))\n",
    "    return a\n",
    "def DecompositionOnSigmas(A):\n",
    "    I=np.array([[1,0],[0,1]])\n",
    "    X=np.array([[0,1],[1,0]])\n",
    "    Y=np.array([[0,-1j],[1j,0]])\n",
    "    Z=np.array([[1,0],[0,-1]])\n",
    "    Pauli={\"I\":I,\"X\":X,\"Y\":Y,\"Z\":Z}\n",
    "    import itertools\n",
    "    n=int(math.log2(A.shape[0]))\n",
    "    Ham=QubitOperator()\n",
    "    for i in itertools.product(\"IXYZ\",repeat=n):\n",
    "        AxB=ProductTensor([Pauli[i[0]],Pauli[i[1]]])\n",
    "        coef=(1/2**n)*complex(np.trace(np.dot(AxB,A)))\n",
    "        if (coef.real!=0) | (coef.imag!=0):\n",
    "            Paulis=\"\"\n",
    "            if i[0][0]!=\"I\":\n",
    "                Paulis=Paulis+\"%s1\"%i[0]\n",
    "            if i[1][0]!=\"I\":\n",
    "                Paulis=Paulis+\" %s0\"%i[1]\n",
    "            Ham=Ham+QubitOperator(Paulis,coef)\n",
    "    return Ham"
   ]
  },
  {
   "cell_type": "markdown",
   "metadata": {},
   "source": [
    "The decomposition of $M$ is\n",
    "\n",
    "$$M=a_{11}(I\\otimes I)+ a_{12}(I\\otimes X) +a_{13}(I\\otimes Y)+ a_{14}(I\\otimes Z)\\\\+a_{21}(X\\otimes I)+a_{22}(X\\otimes X)+a_{23}(X\\otimes Y)+a_{24}(X\\otimes Z)\\\\+a_{31}(Y\\otimes I)+a_{32}(Y\\otimes X)+a_{33}(Y\\otimes Y)+a_{34}(Y\\otimes Z)\\\\+a_{41}(Z\\otimes I)+a_{42}(Z\\otimes X)+a_{43}(Z\\otimes Y)+a_{44}(Z\\otimes Z)$$ \n",
    "\n",
    "\n",
    "$$M= 7.5(I\\otimes I) + 2.5(I\\otimes X) + 4.5(Z\\otimes I) +1.5(Z\\otimes X)$$ \n",
    "\n",
    "For example:\n",
    "\n",
    "$$a_{11}=\\frac{1}{2^2}Tr((I\\otimes I)M)=\\frac{1}{4}Tr\\left[ \\begin{pmatrix}1&0&0&0\\\\0&1&0&0\\\\0&0&1&0\\\\0&0&0&1\\end{pmatrix}\\begin{pmatrix}12&4&0&0\\\\4&12&0&0\\\\0&0&3&1\\\\0&0&1&3\\end{pmatrix}\\right]=\\\\\n",
    "=\\frac{1}{4}Tr\\left[\\begin{pmatrix}12&0&0&0\\\\0&12&0&0\\\\0&0&3&0\\\\0&0&0&3\\end{pmatrix} \\right]=\\frac{1}{4}30=7.5$$\n",
    "\n"
   ]
  },
  {
   "cell_type": "code",
   "execution_count": 8,
   "metadata": {},
   "outputs": [
    {
     "data": {
      "text/plain": [
       "(1.4999999999999996+0j) X0 Z1 +\n",
       "(7.499999999999998+0j) I +\n",
       "(2.4999999999999996+0j) X0 +\n",
       "(4.499999999999998+0j) Z1"
      ]
     },
     "execution_count": 8,
     "metadata": {},
     "output_type": "execute_result"
    }
   ],
   "source": [
    "DecompositionOnSigmas(M)"
   ]
  },
  {
   "cell_type": "markdown",
   "metadata": {},
   "source": [
    "## <span style=\"color:blue\"> 2. First step: Calculate eigenvalues using Quantum Phase Estimation algorithm </span>\n",
    "\n",
    "Now, construct the circuit for the phase estimation circuits. We will build in this case the unitary operator using the **[TimeEvolution](https://projectq.readthedocs.io/en/latest/projectq.ops.html#projectq.ops.TimeEvolution)** function of Project Q. This gate makes the time evolution of a Hamiltonian (in our case, the decomposition on $\\sigma_i$ of M) as $$U_M=e^{-iMt}$$ \n",
    "We will choose $$t=\\frac{-2\\pi}{2^{accuracy}}$$, being *accuracy* the number of desired binary digits for our eigenvalues. \n",
    "\n",
    "This will map the eigenvalues of the Matrix M on the states of the qubit register. Because the $-$ sign is implicit in TimeEvolution operator and the positive exponent is desired to calculate the eigenvalues ( $e^{iMt}$ ), a $-$ sign must be included on the selected time. \n",
    "\n",
    "**CalculateEigenvalues** accepts as argument a number of a vector. From 0 to 3, this number will initialize the vector $b$ with the eigenvectors of M. From 4 and 6, b is initialized to:\n",
    "\n",
    "$4, |b_4\\rangle=|01\\rangle=\\frac{\\sqrt{2}}{2}(|v_1\\rangle - |v_2\\rangle)=\\beta_1|v_1\\rangle + \\beta_2 |v_2\\rangle$\n",
    "\n",
    "$5, |b_5\\rangle=|10\\rangle=\\frac{\\sqrt{2}}{2}(|v_3\\rangle + |v_4\\rangle)$\n",
    "\n",
    "$6, |b_6\\rangle=H_1 R_{x0}(0.05)R_{x1}(0.25)|00\\rangle$\n",
    "\n",
    "Let's see what's happen with these vectors and why we have selected this evolution time.\n",
    "\n",
    "The controled operation $CU_M$ with a single additional qubit of the unitary gate $U_M$ is defined as:\n",
    "\n",
    "$$CU_M=|0\\rangle\\langle0|\\otimes I +|1\\rangle\\langle1|\\otimes U_M$$\n",
    "\n",
    "so,\n",
    "\n",
    "$$CU_M(H|0\\rangle\\otimes|b_4\\rangle)=CU_M[(\\frac{1}{\\sqrt{2}}(|0\\rangle + |1\\rangle)\\otimes|b_4\\rangle)]=$$\n",
    "$$=\\frac{1}{\\sqrt{2}}[|0\\rangle\\otimes|b_4\\rangle + |1\\rangle\\otimes U_M(|b_4\\rangle)]=$$\n",
    "$$=\\frac{1}{\\sqrt{2}}[|0\\rangle\\otimes (\\beta_1 |v_1\\rangle + \\beta_2 |v_2\\rangle) + |1\\rangle\\otimes U_M(\\beta_1 |v_1\\rangle + \\beta_2 |v_2\\rangle)]$$\n",
    "$$= \\frac{1}{\\sqrt{2}}[|0\\rangle \\otimes(\\beta_1 |v_1\\rangle + \\beta_2 |v_2\\rangle)+ |1\\rangle\\otimes(\\beta_1 e^{i\\lambda_1t}|v_1\\rangle + \\beta_2 e^{i\\lambda_2t}|v_2\\rangle)]$$\n",
    "\n",
    "$$=\\frac{\\beta_1}{\\sqrt{2}}[|0\\rangle \\otimes |v_1\\rangle + e^{i\\lambda_1t}|1\\rangle \\otimes |v_1\\rangle)]\n",
    "+ \\frac{\\beta_2}{\\sqrt{2}}[|0\\rangle \\otimes |v_2\\rangle + e^{i\\lambda_2t}|1\\rangle \\otimes |v_2\\rangle)]$$\n",
    "$$=\\frac{1}{\\sqrt{2}}[(|0\\rangle + e^{i\\lambda_1t}|1\\rangle) \\otimes \\beta_1|v_1\\rangle)]\n",
    "+ \\frac{1}{\\sqrt{2}}[(|0\\rangle + e^{i\\lambda_2t}|1\\rangle) \\otimes \\beta_2|v_2\\rangle)]$$\n",
    "\n",
    "Passing the eigenvalues to the control qubit and keeping the superposition of $|v_1\\rangle$ and $|v_2\\rangle$ on register $|b\\rangle$\n",
    "\n",
    "Defining the controlled unitary operation of operator U with qubit l as $C^lU$, if we appy $\\Pi_{l=0}^{accuracy}C^l(U_M)^l$ on state $H^{\\otimes accuracy}|0\\rangle \\otimes |b_4\\rangle$, the result is:\n",
    "\n",
    "$$\\Pi_{l=0}^{accuracy}C^l(U_M)^l[H^{\\otimes accuracy}|0\\rangle \\otimes |b_4\\rangle] = [ \\frac{\\beta_1}{2^{accuracy/2}}\\sum_{k=0}^{2^{accuracy}-1} e^{i\\lambda_1 tk}|k\\rangle \\otimes |v_1\\rangle ]+ [\\frac{\\beta_2}{2^{accuracy/2}}\\sum_{k=0}^{2^{accuracy}-1} e^{i\\lambda_2 tk}|k\\rangle \\otimes |v_2\\rangle]$$\n",
    "\n",
    "Choosing $t=\\frac{2\\pi}{2^{accuracy}}$, the final state after the controlled operations is:\n",
    "\n",
    "$$[ \\frac{\\beta_1}{2^{accuracy/2}}\\sum_{k=0}^{2^{accuracy}-1} e^{i2\\pi k \\frac{\\lambda_1}{2^{accuracy}}}|k\\rangle \\otimes |v_1\\rangle ]+ [\\frac{\\beta_2}{2^{accuracy/2}}\\sum_{k=0}^{2^{accuracy}-1} e^{i2\\pi k \\frac{\\lambda_2}{2^{accuracy}}}|k\\rangle \\otimes |v_2\\rangle]$$\n",
    "\n",
    "Now, applying now the inverse Quantum Fourier Transform on the control qubits:\n",
    "\n",
    "$$(iQFT\\otimes I)([ \\frac{\\beta_1}{2^{accuracy/2}}\\sum_{k=0}^{2^{accuracy}-1} e^{i2\\pi k \\frac{\\lambda_1}{2^{accuracy}}}|k\\rangle \\otimes |v_1\\rangle ]+ [\\frac{\\beta_2}{2^{accuracy/2}}\\sum_{k=0}^{2^{accuracy}-1} e^{i2\\pi k \\frac{\\lambda_2}{2^{accuracy}}}|k\\rangle \\otimes |v_2\\rangle])=$$\n",
    "\n",
    "$$=iQFT( \\frac{\\beta_1}{2^{accuracy/2}}\\sum_{k=0}^{2^{accuracy}-1} e^{i2\\pi k \\frac{\\lambda_1}{2^{accuracy}}}|k\\rangle) \\otimes I|v_1\\rangle+\n",
    "iQFT( \\frac{\\beta_2}{2^{accuracy/2}}\\sum_{k=0}^{2^{accuracy}-1} e^{i2\\pi k \\frac{\\lambda_2}{2^{accuracy}}}|k\\rangle) \\otimes I|v_2\\rangle \n",
    "=$$\n",
    "$$=\\beta_1|\\lambda_1\\rangle\\otimes|v_1\\rangle + \\beta_2|\\lambda_2\\rangle\\otimes|v_2\\rangle\n",
    "$$\n",
    "\n",
    "As consecuence, the state has a superposition of all the eigenvalues of $M$ on the control register."
   ]
  },
  {
   "cell_type": "markdown",
   "metadata": {},
   "source": [
    "### Operations to init the state to the values of different vectors"
   ]
  },
  {
   "cell_type": "code",
   "execution_count": 9,
   "metadata": {},
   "outputs": [],
   "source": [
    "def InitState(b,vector=0,eng=None,cheat=False):\n",
    "    \"\"\"\n",
    "    Init the vector b\n",
    "    \"\"\"\n",
    "    if vector==0:\n",
    "        \"\"\"\n",
    "        1/sqrt(2)(|00>+|01>)\n",
    "        \"\"\"\n",
    "        H|b[0]\n",
    "    if vector==1:\n",
    "        \"\"\"\n",
    "        1/sqrt(2)(|00>-|01>)\n",
    "        \"\"\"\n",
    "        X|b[0]\n",
    "        H|b[0]\n",
    "    if vector==2:\n",
    "        \"\"\"\n",
    "        1/sqrt(2)(|10>+|11>)\n",
    "        \"\"\"\n",
    "\n",
    "        X|b[1]\n",
    "        H|b[0]\n",
    "    if vector==3:\n",
    "        \"\"\"\n",
    "        1/sqrt(2)(|10>-|11>)\n",
    "        \"\"\"\n",
    "        X|b[1]\n",
    "        X|b[0]\n",
    "        H|b[0]\n",
    "    if vector==4:\n",
    "        \"\"\"\n",
    "        |01>\n",
    "        \"\"\"\n",
    "        X|b[0]\n",
    "    if vector==5:\n",
    "        \"\"\"\n",
    "        |10>\n",
    "        \"\"\"\n",
    "        X|b[1]\n",
    "        \n",
    "    if vector==6:\n",
    "        Rx(0.05)|b[0]\n",
    "        Rx(0.25)|b[1]\n",
    "        H|b[1]\n",
    "\n",
    "    if (eng!=None) & cheat:\n",
    "        eng.flush()\n",
    "        Display(get_state_as_str(eng,b+Clock))\n",
    "    return\n"
   ]
  },
  {
   "cell_type": "markdown",
   "metadata": {},
   "source": [
    "### Quantum Phase Estimation algorithm for an Hermitian Matrix"
   ]
  },
  {
   "cell_type": "code",
   "execution_count": 10,
   "metadata": {},
   "outputs": [],
   "source": [
    "def QPE(M,Clock,b,eng=None,cheat=True):\n",
    "    Ham=DecompositionOnSigmas(M)\n",
    "    \n",
    "    accuracy=len(Clock)\n",
    "    t0=2*math.pi/2**accuracy\n",
    "    \"\"\"\n",
    "    Init the Clock\n",
    "    \"\"\"\n",
    "    \n",
    "    All(H)|Clock\n",
    "    \n",
    "    \"\"\"\n",
    "    Apply the time evolution of the Hamiltonian\n",
    "    \"\"\"\n",
    "    for i in range(len(Clock)):\n",
    "        with Control(eng,Clock[i]):\n",
    "            TimeEvolution(time=-t0*2**i,hamiltonian=Ham)|b\n",
    "    \n",
    "    \"\"\"\n",
    "    Apply the iQFT\n",
    "    \"\"\"\n",
    "    for i in range(len(Clock)//2):\n",
    "        Swap | (Clock[i],Clock[len(Clock)-i-1])\n",
    "    get_inverse(QFT)|Clock\n",
    "    #H|C\n",
    "    \n",
    "    if (eng==None) & cheat:\n",
    "        eng.flush()\n",
    "        Display(get_state_as_str(eng,b+Clock))\n"
   ]
  },
  {
   "cell_type": "markdown",
   "metadata": {},
   "source": [
    "### Main function to calculate the eigenvalues of an Hermitian Matrix"
   ]
  },
  {
   "cell_type": "code",
   "execution_count": 11,
   "metadata": {},
   "outputs": [],
   "source": [
    "def CalculateEigenvalues(M,accuracy,vector=0,cheat=False):\n",
    "    eng=MainEngine()\n",
    "    cols = M.shape[0]\n",
    "    m = int(math.log2(cols))\n",
    "    Clock = eng.allocate_qureg(accuracy)\n",
    "    b = eng.allocate_qureg(m)\n",
    "    \n",
    "    InitState(b,vector=vector,eng=eng,cheat=cheat)\n",
    "    \n",
    "    QPE(M,Clock,b,eng,cheat)\n",
    "    \n",
    "    \"\"\"\n",
    "    Measure the registers\n",
    "    \"\"\"\n",
    "    All(Measure)|Clock\n",
    "    All(Measure)|b\n",
    "    eng.flush()\n",
    "\n",
    "    \"\"\"\n",
    "    Get output \n",
    "    \"\"\"\n",
    "    output=[int(q) for q in Clock]\n",
    "    ancilla=[int(q) for q in b]\n",
    "\n",
    "    del Clock\n",
    "    del b\n",
    "    del eng\n",
    "\n",
    "    \"\"\"\n",
    "    Calculate the Eigenvalue\n",
    "    \"\"\"\n",
    "    bits=0\n",
    "    for (k,i) in enumerate(output):\n",
    "        bits=bits+i*2.**k\n",
    "    return bits\n"
   ]
  },
  {
   "cell_type": "markdown",
   "metadata": {},
   "source": [
    "We will calculate the fase with an accuracy of $$\\frac{1}{2^5}$$\n",
    "\n",
    "Because this is a probabilistic algorithm, we have to repeat the experiment several times. In this case, 100\n",
    "\n",
    "Calculate the eigenvalues for the eigenvectors"
   ]
  },
  {
   "cell_type": "code",
   "execution_count": 12,
   "metadata": {},
   "outputs": [
    {
     "data": {
      "image/png": "[encoded data removed]",
      "text/plain": [
       "<Figure size 432x288 with 1 Axes>"
      ]
     },
     "metadata": {
      "needs_background": "light"
     },
     "output_type": "display_data"
    }
   ],
   "source": [
    "accuracy=5\n",
    "experiments=100\n",
    "%matplotlib inline\n",
    "import matplotlib.pyplot as plt\n",
    "for j in range(0,4,1):\n",
    "    out=[]\n",
    "    for i in range(experiments):\n",
    "        out.append(CalculateEigenvalues(M,accuracy=accuracy,vector=j,cheat=False))\n",
    "    x=plt.hist(out,bins=2**accuracy,range=(0,(2**accuracy)),label=\"$\\lambda_%d$\"%(j+1))\n",
    "plt.legend()\n",
    "plt.show()\n",
    "plt.close()\n"
   ]
  },
  {
   "cell_type": "markdown",
   "metadata": {},
   "source": [
    "Choosing vector=4, \n",
    "\n",
    "$|b_4\\rangle=|01\\rangle=\\frac{\\sqrt{2}}{2}(|v_1\\rangle-|v_2\\rangle)$\n",
    "\n",
    "this is a superposition of the eigenvectors $|v_1\\rangle$ and $|v_2\\rangle$, so the final state after the QPE must contain eigenvalues $\\lambda_1$ and $\\lambda_2$"
   ]
  },
  {
   "cell_type": "code",
   "execution_count": 13,
   "metadata": {},
   "outputs": [
    {
     "data": {
      "image/png": "[encoded data removed]",
      "text/plain": [
       "<Figure size 432x288 with 1 Axes>"
      ]
     },
     "metadata": {
      "needs_background": "light"
     },
     "output_type": "display_data"
    }
   ],
   "source": [
    "out=[]\n",
    "j=4\n",
    "for i in range(experiments):\n",
    "    out.append(CalculateEigenvalues(M,accuracy=accuracy,vector=j,cheat=False))\n",
    "x=plt.hist(out,bins=2**accuracy,range=(0,(2**accuracy)),label=\"$b_%d$\"%j)\n",
    "plt.legend()\n",
    "plt.show()\n",
    "plt.close()"
   ]
  },
  {
   "cell_type": "markdown",
   "metadata": {},
   "source": [
    "For the vector=5, \n",
    "\n",
    "$|b_5\\rangle=|10\\rangle=\\frac{\\sqrt{2}}{2}(|v_3\\rangle-|v_4\\rangle)$\n",
    "\n",
    "so, because this superposition, the final state after the QPE must contain eigenvalues $\\lambda_3$ and $\\lambda_4$"
   ]
  },
  {
   "cell_type": "code",
   "execution_count": 14,
   "metadata": {},
   "outputs": [
    {
     "data": {
      "image/png": "[encoded data removed]",
      "text/plain": [
       "<Figure size 432x288 with 1 Axes>"
      ]
     },
     "metadata": {
      "needs_background": "light"
     },
     "output_type": "display_data"
    }
   ],
   "source": [
    "out=[]\n",
    "j=5\n",
    "for i in range(experiments):\n",
    "    out.append(CalculateEigenvalues(M,accuracy=accuracy,vector=j,cheat=False))\n",
    "x=plt.hist(out,bins=2**accuracy,range=(0,(2**accuracy)),color=\"r\",label=\"$b_%d$\"%j)\n",
    "plt.legend()\n",
    "plt.show()\n",
    "plt.close()"
   ]
  },
  {
   "cell_type": "markdown",
   "metadata": {},
   "source": [
    "And, because \n",
    "$$|b_6\\rangle=H_1 R_{x0}(0.05)R_{x1}(0.25)|00\\rangle = \\sum_{i=1}^4\\beta_i |v_i\\rangle$$\n",
    "\n",
    "the final state must have a combination of all eigenvalues"
   ]
  },
  {
   "cell_type": "code",
   "execution_count": 15,
   "metadata": {},
   "outputs": [
    {
     "data": {
      "image/png": "[encoded data removed]",
      "text/plain": [
       "<Figure size 432x288 with 1 Axes>"
      ]
     },
     "metadata": {
      "needs_background": "light"
     },
     "output_type": "display_data"
    }
   ],
   "source": [
    "out=[]\n",
    "j=6\n",
    "for i in range(experiments):\n",
    "    out.append(CalculateEigenvalues(M,accuracy=accuracy,vector=j,cheat=False))\n",
    "x=plt.hist(out,bins=2**accuracy,range=(0,(2**accuracy)),color=\"g\",label=\"$b_%d$\"%j)\n",
    "plt.legend()\n",
    "plt.show()\n",
    "plt.close()"
   ]
  },
  {
   "cell_type": "markdown",
   "metadata": {},
   "source": [
    "## <span style=\"color:blue\"> 3. Second step: Inversion of eigenvalues </span>\n",
    "\n",
    "After the previous step, the register Clock will have a superposition of all eigenvalues as states. On the next step, the values of these states will be inverted on the amplitudes, using an ancilla qubit over a set of controlled $R_y$ operations will be applyed.\n",
    "\n",
    "\n",
    "Following the definition of the QuantumRegister\n",
    "\n",
    "$$|ancilla\\rangle \\otimes |Clock\\rangle \\otimes |b\\rangle$$\n",
    "\n",
    ", let assume that the ancilla and Clock registers are ordered such than one Quantum State is defined by\n",
    "\n",
    "$$|a_0 c_{n-1} c_{n-2} \\dots c_0\\rangle=|a_0\\rangle \\otimes |c_{n-1} c_{n-2} \\dots c_0\\rangle_C $$\n",
    "\n",
    "being $n$ the accuracy and number of qubits on the Clock register.\n",
    "\n"
   ]
  },
  {
   "cell_type": "code",
   "execution_count": 16,
   "metadata": {},
   "outputs": [],
   "source": [
    "from sympy import *\n",
    "from sympy.physics.quantum import TensorProduct\n",
    "c=Symbol(\"C\")\n",
    "#Alpha=Symbol(\"beta_1\")\n",
    "#Beta=Symbol(\"beta_2\")\n",
    "Theta=Symbol(\"Theta\")\n",
    "SRy=Matrix([[cos(Theta/2),-sin(Theta/2)],[sin(Theta/2),cos(Theta/2)]])\n",
    "Uno=Matrix([[0],[1]])\n",
    "Zero=Matrix([[1],[0]])\n",
    "#B=TensorProduct(Uno.T,Uno)\n",
    "#A=TensorProduct(Zero.T,Zero)\n",
    "#X_matrix=Matrix([[0,1],[1,0]])\n",
    "I=Matrix([[1,0],[0,1]])\n",
    "II=I.copy()"
   ]
  },
  {
   "cell_type": "markdown",
   "metadata": {},
   "source": [
    "In this case, the control $R_y$ unitary operator by state $|c_i\\rangle$ on ancilla $|a_0\\rangle$ is defined as:\n",
    "\n",
    "$$C_{c_i}R_y(\\theta)= R_y(\\theta)\\otimes |c_i\\rangle\\langle c_i|+I\\otimes (I-|c_i\\rangle\\langle c_i|)$$\n",
    "\n",
    "For state $|10\\rangle$ as control, is"
   ]
  },
  {
   "cell_type": "code",
   "execution_count": 17,
   "metadata": {},
   "outputs": [
    {
     "data": {
      "text/latex": [
       "$\\displaystyle \\left[\\begin{matrix}1 & 0 & 0 & 0 & 0 & 0 & 0 & 0\\\\0 & 1 & 0 & 0 & 0 & 0 & 0 & 0\\\\0 & 0 & \\cos{\\left(\\frac{\\Theta}{2} \\right)} & 0 & 0 & 0 & - \\sin{\\left(\\frac{\\Theta}{2} \\right)} & 0\\\\0 & 0 & 0 & 1 & 0 & 0 & 0 & 0\\\\0 & 0 & 0 & 0 & 1 & 0 & 0 & 0\\\\0 & 0 & 0 & 0 & 0 & 1 & 0 & 0\\\\0 & 0 & \\sin{\\left(\\frac{\\Theta}{2} \\right)} & 0 & 0 & 0 & \\cos{\\left(\\frac{\\Theta}{2} \\right)} & 0\\\\0 & 0 & 0 & 0 & 0 & 0 & 0 & 1\\end{matrix}\\right]$"
      ],
      "text/plain": [
       "Matrix([\n",
       "[1, 0,            0, 0, 0, 0,             0, 0],\n",
       "[0, 1,            0, 0, 0, 0,             0, 0],\n",
       "[0, 0, cos(Theta/2), 0, 0, 0, -sin(Theta/2), 0],\n",
       "[0, 0,            0, 1, 0, 0,             0, 0],\n",
       "[0, 0,            0, 0, 1, 0,             0, 0],\n",
       "[0, 0,            0, 0, 0, 1,             0, 0],\n",
       "[0, 0, sin(Theta/2), 0, 0, 0,  cos(Theta/2), 0],\n",
       "[0, 0,            0, 0, 0, 0,             0, 1]])"
      ]
     },
     "execution_count": 17,
     "metadata": {},
     "output_type": "execute_result"
    }
   ],
   "source": [
    "CRy=SRy.copy()\n",
    "OneZero=Matrix(np.array([[0],[0],[1],[0]]))\n",
    "COneZero=TensorProduct(OneZero,OneZero.T)\n",
    "II=I.copy()\n",
    "for i in range(1):\n",
    "    II=TensorProduct(I,II)\n",
    "CRy=TensorProduct(CRy,COneZero)+TensorProduct(I,(II-COneZero))\n",
    "CRy"
   ]
  },
  {
   "cell_type": "markdown",
   "metadata": {},
   "source": [
    "The angle of rotation will be\n",
    "\n",
    "$$\\theta=2*sin^{-1}(\\frac{C}{\\lambda_i})$$\n",
    "\n",
    "When $Ry(\\theta)$ is applied on state $|0\\rangle$, the result is \n",
    "$$\\begin{pmatrix}\\sqrt{1-\\frac{C^2}{\\lambda_i^2}}\\\\ \\frac{C}{\\lambda_i}\\end{pmatrix}$$"
   ]
  },
  {
   "cell_type": "code",
   "execution_count": 18,
   "metadata": {},
   "outputs": [
    {
     "data": {
      "text/latex": [
       "$\\displaystyle \\left[\\begin{matrix}\\sqrt{- \\frac{C^{2}}{\\lambda_{1}^{2}} + 1}\\\\\\frac{C}{\\lambda_{1}}\\end{matrix}\\right]$"
      ],
      "text/plain": [
       "Matrix([\n",
       "[sqrt(-C**2/lambda_1**2 + 1)],\n",
       "[                 C/lambda_1]])"
      ]
     },
     "execution_count": 18,
     "metadata": {},
     "output_type": "execute_result"
    }
   ],
   "source": [
    "L_1=Symbol(\"lambda_1\")\n",
    "Rot=2*asin(c/L_1)\n",
    "SRy.subs(Theta,Rot)*Zero"
   ]
  },
  {
   "cell_type": "markdown",
   "metadata": {},
   "source": [
    "So, for $\\lambda_i=2$ represented as state $|10\\rangle$, the result of applying the $C_{|10\\rangle}R_y(\\theta)$ will be\n",
    "\n",
    "$$C_{|10>}(|0\\rangle \\otimes |10\\rangle)=[R_y(\\theta)\\otimes |10\\rangle\\langle 10|+I\\otimes (I-|10\\rangle\\langle 10|)](|0\\rangle\\otimes |10\\rangle)=$$\n",
    "\n",
    "$$R_y(\\theta)|0\\rangle \\otimes |10\\rangle\\langle 10|10\\rangle+I|0\\rangle\\otimes (I-|10\\rangle\\langle 10|)|10\\rangle =$$\n",
    "\n",
    "$$R_y(\\theta)|0\\rangle\\otimes |10\\rangle +I|0\\rangle \\otimes (0)|10\\rangle=$$\n",
    "\n",
    "$$R_y(\\theta)|0\\rangle\\otimes |10\\rangle =$$\n",
    "\n",
    "$$\\sqrt{1-\\frac{C^2}{\\lambda_i^2}}|0>\\otimes |10\\rangle  + \\frac{C}{\\lambda_i}|1\\rangle\\otimes |10\\rangle =$$\n",
    "\n",
    "\n",
    "$$\\begin{pmatrix}\\sqrt{1-\\frac{C^2}{\\lambda_i^2}}\\\\ \\frac{C}{\\lambda_i}\\end{pmatrix}\\otimes \\begin{pmatrix}0\\\\0\\\\1\\\\0\\end{pmatrix}=$$\n",
    "\n",
    "$$\\begin{pmatrix}0\\\\0\\\\\\sqrt{1-\\frac{C^2}{\\lambda_i^2}}\\\\0\\\\0\\\\0 \\\\ \\frac{C}{\\lambda_i}\\\\0\\end{pmatrix}$$\n",
    "\n"
   ]
  },
  {
   "cell_type": "code",
   "execution_count": 19,
   "metadata": {},
   "outputs": [
    {
     "data": {
      "text/latex": [
       "$\\displaystyle \\left[\\begin{matrix}0\\\\0\\\\\\sqrt{- \\frac{C^{2}}{\\lambda_{1}^{2}} + 1}\\\\0\\\\0\\\\0\\\\\\frac{C}{\\lambda_{1}}\\\\0\\end{matrix}\\right]$"
      ],
      "text/plain": [
       "Matrix([\n",
       "[                          0],\n",
       "[                          0],\n",
       "[sqrt(-C**2/lambda_1**2 + 1)],\n",
       "[                          0],\n",
       "[                          0],\n",
       "[                          0],\n",
       "[                 C/lambda_1],\n",
       "[                          0]])"
      ]
     },
     "execution_count": 19,
     "metadata": {},
     "output_type": "execute_result"
    }
   ],
   "source": [
    "State=TensorProduct(Zero,TensorProduct(Uno,Zero))\n",
    "Lambda_i=Symbol(\"lambda_1\")\n",
    "Rot=2*asin(c/Lambda_i)\n",
    "CRyLambda=CRy.subs(Theta,Rot)\n",
    "CRyLambda*State"
   ]
  },
  {
   "cell_type": "markdown",
   "metadata": {},
   "source": [
    "For two eigenvalues $\\lambda_1$ and $\\lambda_2$, the final state after Quantum Phase Estimation was\n",
    "\n",
    "$$|\\chi\\rangle= |0\\rangle \\otimes |\\lambda_1\\rangle \\otimes \\beta_1|v_1\\rangle +|0\\rangle \\otimes |\\lambda_2\\rangle \\otimes \\beta_2|v_2\\rangle $$\n",
    "\n",
    "After applying $C_{\\lambda_2}R_y(\\theta_2)C_{\\lambda_1}R_y(\\theta_1)$, the result state is:\n",
    "\n",
    "$$C_{\\lambda_2}R_y(\\theta_2)C_{\\lambda_1}R_y(\\theta_1)|\\chi\\rangle=C_{\\lambda_2}R_y(\\theta_2)[R_y(\\theta_1)\\otimes |\\lambda_1\\rangle\\langle\\lambda_1| \\otimes I + I\\otimes (I-|\\lambda_1\\rangle\\langle\\lambda_1|) \\otimes I] (|0\\rangle \\otimes |\\lambda_1\\rangle \\otimes \\beta_1|v_1\\rangle +|0\\rangle \\otimes |\\lambda_2\\rangle \\otimes \\beta_2|v_2\\rangle)=$$\n",
    "\n",
    "$$C_{\\lambda_2}R_y(\\theta_2)[(\\sqrt{1-\\frac{C^2}{\\lambda_1^2}}|0> + \\frac{C}{\\lambda_1}|1\\rangle) \\otimes |\\lambda_1\\rangle \\otimes \\beta_1 |v_1\\rangle + |0\\rangle \\otimes |\\lambda_2\\rangle \\otimes \\beta_2 |v_2\\rangle]=$$\n",
    "\n",
    "$$(\\sqrt{1-\\frac{C^2}{\\lambda_1^2}}|0> + \\frac{C}{\\lambda_1}|1\\rangle) \\otimes |\\lambda_1\\rangle \\otimes \\beta_1 |v_1\\rangle + (\\sqrt{1-\\frac{C^2}{\\lambda_2^2}}|0> + \\frac{C}{\\lambda_2}|1\\rangle) \\otimes |\\lambda_2\\rangle \\otimes \\beta_2 |v_2\\rangle$$\n",
    "\n",
    "But, if $C_{\\lambda_i}R_y(\\theta_i))$ with $i$ different of 1 or 2, the state will remain unchanged. So, appying all the controlled-$R_y$ gates for all possible eigenvalues (integers from 0 to $2^n-1$), the final state will be:\n",
    "\n",
    "$$|\\phi\\rangle = \\sum_i (\\sqrt{1-\\frac{C^2}{\\lambda_i^2}}|0> + \\frac{C}{\\lambda_i}|1\\rangle)\\otimes |\\lambda_i\\rangle \\otimes \\beta_i |v_i\\rangle$$\n",
    "\n",
    "After applying the inverse of the Quantum Phase Estimation, the final state is:\n",
    "\n",
    "$$|\\phi\\rangle = \\sum_i (\\sqrt{1-\\frac{C^2}{\\lambda_i^2}}|0> + \\frac{C}{\\lambda_i}|1\\rangle)\\otimes |0\\rangle \\otimes \\beta_i |v_i\\rangle$$\n"
   ]
  },
  {
   "cell_type": "markdown",
   "metadata": {},
   "source": [
    "This function will loop around all possible states for $n$ qubits, applying this controlled rotation. There is an special case, when $\\lambda_i=2^{accuracy}$. On this case, the eigenvalue is mapped to the state $|0\\rangle_{Clock}$. For this case, all the qubits must be inverted before appying a controlled-$R_y$ rotation. "
   ]
  },
  {
   "cell_type": "code",
   "execution_count": 20,
   "metadata": {},
   "outputs": [],
   "source": [
    "def ControlledRy(Clock,ancilla,c,accuracy):\n",
    "    from projectq.ops import C\n",
    "    Format=\"{0:0%db}\"%accuracy\n",
    "    for i in range(1,2**accuracy):\n",
    "        angle=2*asin(c/i)\n",
    "        h=Format.format(i)\n",
    "        controls=[]\n",
    "        for j,k in enumerate(h[-1::-1]):\n",
    "            if k== \"1\":\n",
    "                controls.append(Clock[j])\n",
    "        C(Ry(angle),len(controls))|(controls,ancilla)\n",
    "    All(X) | Clock\n",
    "    angle=2*asin(c/2**accuracy)\n",
    "    C(Ry(angle),len(controls))|(Clock,ancilla)\n",
    "    All(X) | Clock\n",
    "    "
   ]
  },
  {
   "cell_type": "markdown",
   "metadata": {},
   "source": [
    "Let's see an example. With $accuracy=2$ and a single $\\lambda=2$ for the eigenvector $|0>$, after the QPE, the state should be:\n",
    "\n",
    "$$|0\\rangle_{ancilla}\\otimes |10\\rangle_{Clock}\\otimes |0\\rangle_b$$\n",
    "\n",
    "Applying the controlled-$R_y$ with \"c=1\", the result must be\n",
    "\n",
    "$$(\\sqrt{1- \\frac{c^2}{\\lambda^2}}|0\\rangle_{ancilla}+\\frac{c}{\\lambda}|1\\rangle_{ancilla})\\otimes |10\\rangle_{Clock}\\otimes |0\\rangle_b=$$\n",
    "$$(\\sqrt{0.75}|0\\rangle_{ancilla}+0.5|1\\rangle_{ancilla})\\otimes |10\\rangle_{Clock}\\otimes |0\\rangle_b=$$\n",
    "\n",
    "$$\\sqrt{0.75}|0\\rangle_{ancilla}\\otimes |10\\rangle_{Clock}\\otimes |0\\rangle_b+0.5|1\\rangle_{ancilla}\\otimes |10\\rangle_{Clock}\\otimes |0\\rangle_b=$$\n",
    "\n",
    "$$0.866025|0\\rangle_{ancilla}\\otimes |10\\rangle_{Clock}\\otimes |0\\rangle_b+0.5|1\\rangle_{ancilla}\\otimes |10\\rangle_{Clock}\\otimes |0\\rangle_b$$\n",
    "\n"
   ]
  },
  {
   "cell_type": "code",
   "execution_count": 21,
   "metadata": {},
   "outputs": [
    {
     "data": {
      "text/markdown": [
       "$(0.86603+0.00000j)|0\\rangle_a|10\\rangle_C|00\\rangle_b+(0.50000+0.00000j)|1\\rangle_a|10\\rangle_C|00\\rangle_b$"
      ],
      "text/plain": [
       "<IPython.core.display.Markdown object>"
      ]
     },
     "metadata": {},
     "output_type": "display_data"
    }
   ],
   "source": [
    "c=1.\n",
    "accuracy=2\n",
    "Format=\"{0:0%db}\"%accuracy\n",
    "eng=MainEngine()\n",
    "b = eng.allocate_qureg(2)\n",
    "Clock = eng.allocate_qureg(accuracy)\n",
    "ancilla=eng.allocate_qureg(1)\n",
    "\n",
    "X|Clock[1]\n",
    "ControlledRy(Clock,ancilla,c,accuracy)\n",
    "eng.flush()\n",
    "Display(get_state_as_str(eng,b+Clock+ancilla))\n",
    "All(Measure)|b+Clock+ancilla\n",
    "eng.flush()\n",
    "\n",
    "del b\n",
    "del Clock\n",
    "del ancilla\n",
    "del eng\n"
   ]
  },
  {
   "cell_type": "markdown",
   "metadata": {},
   "source": [
    "And for $\\lambda=2^{accuracy}$ the clock register will be $|0\\rangle$"
   ]
  },
  {
   "cell_type": "code",
   "execution_count": 22,
   "metadata": {},
   "outputs": [
    {
     "data": {
      "text/markdown": [
       "$(0.96825+0.00000j)|0\\rangle_a|00\\rangle_C|00\\rangle_b+(0.25000+0.00000j)|1\\rangle_a|00\\rangle_C|00\\rangle_b$"
      ],
      "text/plain": [
       "<IPython.core.display.Markdown object>"
      ]
     },
     "metadata": {},
     "output_type": "display_data"
    }
   ],
   "source": [
    "c=1.\n",
    "accuracy=2\n",
    "Format=\"{0:0%db}\"%accuracy\n",
    "eng=MainEngine()\n",
    "b = eng.allocate_qureg(2)\n",
    "Clock = eng.allocate_qureg(accuracy)\n",
    "ancilla=eng.allocate_qureg(1)\n",
    "\n",
    "ControlledRy(Clock,ancilla,c,accuracy)\n",
    "eng.flush()\n",
    "Display(get_state_as_str(eng,b+Clock+ancilla))\n",
    "All(Measure)|b+Clock+ancilla\n",
    "eng.flush()\n",
    "\n",
    "del b\n",
    "del Clock\n",
    "del ancilla\n",
    "del eng\n"
   ]
  },
  {
   "cell_type": "markdown",
   "metadata": {},
   "source": [
    "## <span style=\"color:blue\"> 4. Third step: putting all together</span>\n",
    "\n",
    "Now, all the needed pieces are there. Combine in the algorithm which has the steps:\n",
    "\n",
    "1. Init register $|b\\rangle$ to the normalized values of $\\vec{b}$\n",
    "2. Apply the Quantum Phase Estimation algorithm for the Hermitian matrix $M$\n",
    "3. Apply the controlled-$R_y$ rotations\n",
    "4. Uncompute step 2\n",
    "5. Measure ancilla register. If the measure is 1, the quantum register $|b\\rangle$ will contain the result. If the result is 0, clear the Quantum registers and go to 1\n",
    "\n"
   ]
  },
  {
   "cell_type": "markdown",
   "metadata": {},
   "source": [
    "For vector=4, \n",
    "\n",
    "$|b_4\\rangle=|01\\rangle=\\frac{\\sqrt{2}}{2}(|v_1\\rangle-|v_2\\rangle)$\n",
    "\n",
    "so \n",
    "\n",
    "$$\\beta_1=\\beta_2=\\frac{\\sqrt{2}}{2}$$\n",
    "\n",
    "and \n",
    "\n",
    "$$|v_1\\rangle=\\frac{1}{\\sqrt{2}}(|00\\rangle+|01\\rangle)$$\n",
    "$$|v_2\\rangle=\\frac{1}{\\sqrt{2}}(|00\\rangle-|01\\rangle)$$\n",
    "\n",
    "And the $|b\\rangle$ when the ancilla register is $|1\\rangle$, is\n",
    "\n",
    "$$|b\\rangle=\\frac{\\beta_1}{\\lambda_1}|v_1\\rangle+\\frac{\\beta_2}{\\lambda_2}|v_2\\rangle=\n",
    "\\frac{\\sqrt{2}}{2}\\frac{1}{\\sqrt{2}}\\frac{1}{\\lambda_1}(|00\\rangle+|01\\rangle)-\n",
    "\\frac{\\sqrt{2}}{2}\\frac{1}{\\sqrt{2}}\\frac{1}{\\lambda_2}(|00\\rangle-|01\\rangle)=$$\n",
    "$$\\frac{1}{2}(\\frac{1}{\\lambda_1}-\\frac{1}{\\lambda_2})|00\\rangle+\n",
    "\\frac{1}{2}(\\frac{1}{\\lambda_1}+\\frac{1}{\\lambda_2})|01\\rangle$$\n",
    "\n",
    "And because $\\lambda_1=16$ and $\\lambda_2=8$, the amplitudes will be\n",
    "\n",
    "$$\\frac{1}{2}(\\frac{1}{16}-\\frac{1}{8})|00\\rangle+\n",
    "\\frac{1}{2}(\\frac{1}{16}+\\frac{1}{8})|01\\rangle=-0.03125|00\\rangle+0.09375|01\\rangle$$\n"
   ]
  },
  {
   "cell_type": "code",
   "execution_count": 23,
   "metadata": {},
   "outputs": [
    {
     "data": {
      "text/markdown": [
       "$(-0.50000-0.00000j)|0\\rangle_a|01000\\rangle_C|00\\rangle_b+(0.50000+0.00000j)|0\\rangle_a|01000\\rangle_C|01\\rangle_b+(0.50000+0.00000j)|0\\rangle_a|10000\\rangle_C|00\\rangle_b+(0.50000+0.00000j)|0\\rangle_a|10000\\rangle_C|01\\rangle_b$"
      ],
      "text/plain": [
       "<IPython.core.display.Markdown object>"
      ]
     },
     "metadata": {},
     "output_type": "display_data"
    },
    {
     "data": {
      "text/markdown": [
       "$(0.00294-0.00000j)|0\\rangle_a|00000\\rangle_C|00\\rangle_b+(0.99510+0.00000j)|0\\rangle_a|00000\\rangle_C|01\\rangle_b+(-0.03125-0.00000j)|1\\rangle_a|00000\\rangle_C|00\\rangle_b+(0.09375+0.00000j)|1\\rangle_a|00000\\rangle_C|01\\rangle_b$"
      ],
      "text/plain": [
       "<IPython.core.display.Markdown object>"
      ]
     },
     "metadata": {},
     "output_type": "display_data"
    },
    {
     "data": {
      "text/markdown": [
       "$(-0.50000-0.00000j)|0\\rangle_a|01000\\rangle_C|00\\rangle_b+(0.50000+0.00000j)|0\\rangle_a|01000\\rangle_C|01\\rangle_b+(0.50000+0.00000j)|0\\rangle_a|10000\\rangle_C|00\\rangle_b+(0.50000+0.00000j)|0\\rangle_a|10000\\rangle_C|01\\rangle_b$"
      ],
      "text/plain": [
       "<IPython.core.display.Markdown object>"
      ]
     },
     "metadata": {},
     "output_type": "display_data"
    },
    {
     "data": {
      "text/markdown": [
       "$(0.00294-0.00000j)|0\\rangle_a|00000\\rangle_C|00\\rangle_b+(0.99510+0.00000j)|0\\rangle_a|00000\\rangle_C|01\\rangle_b+(-0.03125-0.00000j)|1\\rangle_a|00000\\rangle_C|00\\rangle_b+(0.09375+0.00000j)|1\\rangle_a|00000\\rangle_C|01\\rangle_b$"
      ],
      "text/plain": [
       "<IPython.core.display.Markdown object>"
      ]
     },
     "metadata": {},
     "output_type": "display_data"
    },
    {
     "data": {
      "text/markdown": [
       "$(-0.50000-0.00000j)|0\\rangle_a|01000\\rangle_C|00\\rangle_b+(0.50000+0.00000j)|0\\rangle_a|01000\\rangle_C|01\\rangle_b+(0.50000+0.00000j)|0\\rangle_a|10000\\rangle_C|00\\rangle_b+(0.50000+0.00000j)|0\\rangle_a|10000\\rangle_C|01\\rangle_b$"
      ],
      "text/plain": [
       "<IPython.core.display.Markdown object>"
      ]
     },
     "metadata": {},
     "output_type": "display_data"
    },
    {
     "data": {
      "text/markdown": [
       "$(0.00294-0.00000j)|0\\rangle_a|00000\\rangle_C|00\\rangle_b+(0.99510+0.00000j)|0\\rangle_a|00000\\rangle_C|01\\rangle_b+(-0.03125-0.00000j)|1\\rangle_a|00000\\rangle_C|00\\rangle_b+(0.09375+0.00000j)|1\\rangle_a|00000\\rangle_C|01\\rangle_b$"
      ],
      "text/plain": [
       "<IPython.core.display.Markdown object>"
      ]
     },
     "metadata": {},
     "output_type": "display_data"
    },
    {
     "data": {
      "text/markdown": [
       "$(-0.50000-0.00000j)|0\\rangle_a|01000\\rangle_C|00\\rangle_b+(0.50000+0.00000j)|0\\rangle_a|01000\\rangle_C|01\\rangle_b+(0.50000+0.00000j)|0\\rangle_a|10000\\rangle_C|00\\rangle_b+(0.50000+0.00000j)|0\\rangle_a|10000\\rangle_C|01\\rangle_b$"
      ],
      "text/plain": [
       "<IPython.core.display.Markdown object>"
      ]
     },
     "metadata": {},
     "output_type": "display_data"
    },
    {
     "data": {
      "text/markdown": [
       "$(0.00294-0.00000j)|0\\rangle_a|00000\\rangle_C|00\\rangle_b+(0.99510+0.00000j)|0\\rangle_a|00000\\rangle_C|01\\rangle_b+(-0.03125-0.00000j)|1\\rangle_a|00000\\rangle_C|00\\rangle_b+(0.09375+0.00000j)|1\\rangle_a|00000\\rangle_C|01\\rangle_b$"
      ],
      "text/plain": [
       "<IPython.core.display.Markdown object>"
      ]
     },
     "metadata": {},
     "output_type": "display_data"
    },
    {
     "data": {
      "text/markdown": [
       "$(-0.50000-0.00000j)|0\\rangle_a|01000\\rangle_C|00\\rangle_b+(0.50000+0.00000j)|0\\rangle_a|01000\\rangle_C|01\\rangle_b+(0.50000+0.00000j)|0\\rangle_a|10000\\rangle_C|00\\rangle_b+(0.50000+0.00000j)|0\\rangle_a|10000\\rangle_C|01\\rangle_b$"
      ],
      "text/plain": [
       "<IPython.core.display.Markdown object>"
      ]
     },
     "metadata": {},
     "output_type": "display_data"
    },
    {
     "data": {
      "text/markdown": [
       "$(0.00294-0.00000j)|0\\rangle_a|00000\\rangle_C|00\\rangle_b+(0.99510+0.00000j)|0\\rangle_a|00000\\rangle_C|01\\rangle_b+(-0.03125-0.00000j)|1\\rangle_a|00000\\rangle_C|00\\rangle_b+(0.09375+0.00000j)|1\\rangle_a|00000\\rangle_C|01\\rangle_b$"
      ],
      "text/plain": [
       "<IPython.core.display.Markdown object>"
      ]
     },
     "metadata": {},
     "output_type": "display_data"
    },
    {
     "data": {
      "text/markdown": [
       "$(-0.50000-0.00000j)|0\\rangle_a|01000\\rangle_C|00\\rangle_b+(0.50000+0.00000j)|0\\rangle_a|01000\\rangle_C|01\\rangle_b+(0.50000+0.00000j)|0\\rangle_a|10000\\rangle_C|00\\rangle_b+(0.50000+0.00000j)|0\\rangle_a|10000\\rangle_C|01\\rangle_b$"
      ],
      "text/plain": [
       "<IPython.core.display.Markdown object>"
      ]
     },
     "metadata": {},
     "output_type": "display_data"
    },
    {
     "data": {
      "text/markdown": [
       "$(0.00294-0.00000j)|0\\rangle_a|00000\\rangle_C|00\\rangle_b+(0.99510+0.00000j)|0\\rangle_a|00000\\rangle_C|01\\rangle_b+(-0.03125-0.00000j)|1\\rangle_a|00000\\rangle_C|00\\rangle_b+(0.09375+0.00000j)|1\\rangle_a|00000\\rangle_C|01\\rangle_b$"
      ],
      "text/plain": [
       "<IPython.core.display.Markdown object>"
      ]
     },
     "metadata": {},
     "output_type": "display_data"
    },
    {
     "data": {
      "text/markdown": [
       "$(-0.50000-0.00000j)|0\\rangle_a|01000\\rangle_C|00\\rangle_b+(0.50000+0.00000j)|0\\rangle_a|01000\\rangle_C|01\\rangle_b+(0.50000+0.00000j)|0\\rangle_a|10000\\rangle_C|00\\rangle_b+(0.50000+0.00000j)|0\\rangle_a|10000\\rangle_C|01\\rangle_b$"
      ],
      "text/plain": [
       "<IPython.core.display.Markdown object>"
      ]
     },
     "metadata": {},
     "output_type": "display_data"
    },
    {
     "data": {
      "text/markdown": [
       "$(0.00294-0.00000j)|0\\rangle_a|00000\\rangle_C|00\\rangle_b+(0.99510+0.00000j)|0\\rangle_a|00000\\rangle_C|01\\rangle_b+(-0.03125-0.00000j)|1\\rangle_a|00000\\rangle_C|00\\rangle_b+(0.09375+0.00000j)|1\\rangle_a|00000\\rangle_C|01\\rangle_b$"
      ],
      "text/plain": [
       "<IPython.core.display.Markdown object>"
      ]
     },
     "metadata": {},
     "output_type": "display_data"
    },
    {
     "data": {
      "text/markdown": [
       "$(-0.50000-0.00000j)|0\\rangle_a|01000\\rangle_C|00\\rangle_b+(0.50000+0.00000j)|0\\rangle_a|01000\\rangle_C|01\\rangle_b+(0.50000+0.00000j)|0\\rangle_a|10000\\rangle_C|00\\rangle_b+(0.50000+0.00000j)|0\\rangle_a|10000\\rangle_C|01\\rangle_b$"
      ],
      "text/plain": [
       "<IPython.core.display.Markdown object>"
      ]
     },
     "metadata": {},
     "output_type": "display_data"
    },
    {
     "data": {
      "text/markdown": [
       "$(0.00294-0.00000j)|0\\rangle_a|00000\\rangle_C|00\\rangle_b+(0.99510+0.00000j)|0\\rangle_a|00000\\rangle_C|01\\rangle_b+(-0.03125-0.00000j)|1\\rangle_a|00000\\rangle_C|00\\rangle_b+(0.09375+0.00000j)|1\\rangle_a|00000\\rangle_C|01\\rangle_b$"
      ],
      "text/plain": [
       "<IPython.core.display.Markdown object>"
      ]
     },
     "metadata": {},
     "output_type": "display_data"
    },
    {
     "data": {
      "text/markdown": [
       "$(-0.50000-0.00000j)|0\\rangle_a|01000\\rangle_C|00\\rangle_b+(0.50000+0.00000j)|0\\rangle_a|01000\\rangle_C|01\\rangle_b+(0.50000+0.00000j)|0\\rangle_a|10000\\rangle_C|00\\rangle_b+(0.50000+0.00000j)|0\\rangle_a|10000\\rangle_C|01\\rangle_b$"
      ],
      "text/plain": [
       "<IPython.core.display.Markdown object>"
      ]
     },
     "metadata": {},
     "output_type": "display_data"
    },
    {
     "data": {
      "text/markdown": [
       "$(0.00294-0.00000j)|0\\rangle_a|00000\\rangle_C|00\\rangle_b+(0.99510+0.00000j)|0\\rangle_a|00000\\rangle_C|01\\rangle_b+(-0.03125-0.00000j)|1\\rangle_a|00000\\rangle_C|00\\rangle_b+(0.09375+0.00000j)|1\\rangle_a|00000\\rangle_C|01\\rangle_b$"
      ],
      "text/plain": [
       "<IPython.core.display.Markdown object>"
      ]
     },
     "metadata": {},
     "output_type": "display_data"
    },
    {
     "data": {
      "text/markdown": [
       "$(-0.50000-0.00000j)|0\\rangle_a|01000\\rangle_C|00\\rangle_b+(0.50000+0.00000j)|0\\rangle_a|01000\\rangle_C|01\\rangle_b+(0.50000+0.00000j)|0\\rangle_a|10000\\rangle_C|00\\rangle_b+(0.50000+0.00000j)|0\\rangle_a|10000\\rangle_C|01\\rangle_b$"
      ],
      "text/plain": [
       "<IPython.core.display.Markdown object>"
      ]
     },
     "metadata": {},
     "output_type": "display_data"
    },
    {
     "data": {
      "text/markdown": [
       "$(0.00294-0.00000j)|0\\rangle_a|00000\\rangle_C|00\\rangle_b+(0.99510+0.00000j)|0\\rangle_a|00000\\rangle_C|01\\rangle_b+(-0.03125-0.00000j)|1\\rangle_a|00000\\rangle_C|00\\rangle_b+(0.09375+0.00000j)|1\\rangle_a|00000\\rangle_C|01\\rangle_b$"
      ],
      "text/plain": [
       "<IPython.core.display.Markdown object>"
      ]
     },
     "metadata": {},
     "output_type": "display_data"
    },
    {
     "data": {
      "text/markdown": [
       "$(-0.50000-0.00000j)|0\\rangle_a|01000\\rangle_C|00\\rangle_b+(0.50000+0.00000j)|0\\rangle_a|01000\\rangle_C|01\\rangle_b+(0.50000+0.00000j)|0\\rangle_a|10000\\rangle_C|00\\rangle_b+(0.50000+0.00000j)|0\\rangle_a|10000\\rangle_C|01\\rangle_b$"
      ],
      "text/plain": [
       "<IPython.core.display.Markdown object>"
      ]
     },
     "metadata": {},
     "output_type": "display_data"
    },
    {
     "data": {
      "text/markdown": [
       "$(0.00294-0.00000j)|0\\rangle_a|00000\\rangle_C|00\\rangle_b+(0.99510+0.00000j)|0\\rangle_a|00000\\rangle_C|01\\rangle_b+(-0.03125-0.00000j)|1\\rangle_a|00000\\rangle_C|00\\rangle_b+(0.09375+0.00000j)|1\\rangle_a|00000\\rangle_C|01\\rangle_b$"
      ],
      "text/plain": [
       "<IPython.core.display.Markdown object>"
      ]
     },
     "metadata": {},
     "output_type": "display_data"
    },
    {
     "data": {
      "text/markdown": [
       "$(-0.50000-0.00000j)|0\\rangle_a|01000\\rangle_C|00\\rangle_b+(0.50000+0.00000j)|0\\rangle_a|01000\\rangle_C|01\\rangle_b+(0.50000+0.00000j)|0\\rangle_a|10000\\rangle_C|00\\rangle_b+(0.50000+0.00000j)|0\\rangle_a|10000\\rangle_C|01\\rangle_b$"
      ],
      "text/plain": [
       "<IPython.core.display.Markdown object>"
      ]
     },
     "metadata": {},
     "output_type": "display_data"
    },
    {
     "data": {
      "text/markdown": [
       "$(0.00294-0.00000j)|0\\rangle_a|00000\\rangle_C|00\\rangle_b+(0.99510+0.00000j)|0\\rangle_a|00000\\rangle_C|01\\rangle_b+(-0.03125-0.00000j)|1\\rangle_a|00000\\rangle_C|00\\rangle_b+(0.09375+0.00000j)|1\\rangle_a|00000\\rangle_C|01\\rangle_b$"
      ],
      "text/plain": [
       "<IPython.core.display.Markdown object>"
      ]
     },
     "metadata": {},
     "output_type": "display_data"
    },
    {
     "data": {
      "text/markdown": [
       "$(-0.50000-0.00000j)|0\\rangle_a|01000\\rangle_C|00\\rangle_b+(0.50000+0.00000j)|0\\rangle_a|01000\\rangle_C|01\\rangle_b+(0.50000+0.00000j)|0\\rangle_a|10000\\rangle_C|00\\rangle_b+(0.50000+0.00000j)|0\\rangle_a|10000\\rangle_C|01\\rangle_b$"
      ],
      "text/plain": [
       "<IPython.core.display.Markdown object>"
      ]
     },
     "metadata": {},
     "output_type": "display_data"
    },
    {
     "data": {
      "text/markdown": [
       "$(0.00294-0.00000j)|0\\rangle_a|00000\\rangle_C|00\\rangle_b+(0.99510+0.00000j)|0\\rangle_a|00000\\rangle_C|01\\rangle_b+(-0.03125-0.00000j)|1\\rangle_a|00000\\rangle_C|00\\rangle_b+(0.09375+0.00000j)|1\\rangle_a|00000\\rangle_C|01\\rangle_b$"
      ],
      "text/plain": [
       "<IPython.core.display.Markdown object>"
      ]
     },
     "metadata": {},
     "output_type": "display_data"
    },
    {
     "data": {
      "text/markdown": [
       "$(-0.50000-0.00000j)|0\\rangle_a|01000\\rangle_C|00\\rangle_b+(0.50000+0.00000j)|0\\rangle_a|01000\\rangle_C|01\\rangle_b+(0.50000+0.00000j)|0\\rangle_a|10000\\rangle_C|00\\rangle_b+(0.50000+0.00000j)|0\\rangle_a|10000\\rangle_C|01\\rangle_b$"
      ],
      "text/plain": [
       "<IPython.core.display.Markdown object>"
      ]
     },
     "metadata": {},
     "output_type": "display_data"
    },
    {
     "data": {
      "text/markdown": [
       "$(0.00294-0.00000j)|0\\rangle_a|00000\\rangle_C|00\\rangle_b+(0.99510+0.00000j)|0\\rangle_a|00000\\rangle_C|01\\rangle_b+(-0.03125-0.00000j)|1\\rangle_a|00000\\rangle_C|00\\rangle_b+(0.09375+0.00000j)|1\\rangle_a|00000\\rangle_C|01\\rangle_b$"
      ],
      "text/plain": [
       "<IPython.core.display.Markdown object>"
      ]
     },
     "metadata": {},
     "output_type": "display_data"
    },
    {
     "data": {
      "text/markdown": [
       "$(-0.50000-0.00000j)|0\\rangle_a|01000\\rangle_C|00\\rangle_b+(0.50000+0.00000j)|0\\rangle_a|01000\\rangle_C|01\\rangle_b+(0.50000+0.00000j)|0\\rangle_a|10000\\rangle_C|00\\rangle_b+(0.50000+0.00000j)|0\\rangle_a|10000\\rangle_C|01\\rangle_b$"
      ],
      "text/plain": [
       "<IPython.core.display.Markdown object>"
      ]
     },
     "metadata": {},
     "output_type": "display_data"
    },
    {
     "data": {
      "text/markdown": [
       "$(0.00294-0.00000j)|0\\rangle_a|00000\\rangle_C|00\\rangle_b+(0.99510+0.00000j)|0\\rangle_a|00000\\rangle_C|01\\rangle_b+(-0.03125-0.00000j)|1\\rangle_a|00000\\rangle_C|00\\rangle_b+(0.09375+0.00000j)|1\\rangle_a|00000\\rangle_C|01\\rangle_b$"
      ],
      "text/plain": [
       "<IPython.core.display.Markdown object>"
      ]
     },
     "metadata": {},
     "output_type": "display_data"
    },
    {
     "data": {
      "text/markdown": [
       "$(-0.50000-0.00000j)|0\\rangle_a|01000\\rangle_C|00\\rangle_b+(0.50000+0.00000j)|0\\rangle_a|01000\\rangle_C|01\\rangle_b+(0.50000+0.00000j)|0\\rangle_a|10000\\rangle_C|00\\rangle_b+(0.50000+0.00000j)|0\\rangle_a|10000\\rangle_C|01\\rangle_b$"
      ],
      "text/plain": [
       "<IPython.core.display.Markdown object>"
      ]
     },
     "metadata": {},
     "output_type": "display_data"
    },
    {
     "data": {
      "text/markdown": [
       "$(0.00294-0.00000j)|0\\rangle_a|00000\\rangle_C|00\\rangle_b+(0.99510+0.00000j)|0\\rangle_a|00000\\rangle_C|01\\rangle_b+(-0.03125-0.00000j)|1\\rangle_a|00000\\rangle_C|00\\rangle_b+(0.09375+0.00000j)|1\\rangle_a|00000\\rangle_C|01\\rangle_b$"
      ],
      "text/plain": [
       "<IPython.core.display.Markdown object>"
      ]
     },
     "metadata": {},
     "output_type": "display_data"
    },
    {
     "data": {
      "text/markdown": [
       "$(-0.50000-0.00000j)|0\\rangle_a|01000\\rangle_C|00\\rangle_b+(0.50000+0.00000j)|0\\rangle_a|01000\\rangle_C|01\\rangle_b+(0.50000+0.00000j)|0\\rangle_a|10000\\rangle_C|00\\rangle_b+(0.50000+0.00000j)|0\\rangle_a|10000\\rangle_C|01\\rangle_b$"
      ],
      "text/plain": [
       "<IPython.core.display.Markdown object>"
      ]
     },
     "metadata": {},
     "output_type": "display_data"
    },
    {
     "data": {
      "text/markdown": [
       "$(0.00294-0.00000j)|0\\rangle_a|00000\\rangle_C|00\\rangle_b+(0.99510+0.00000j)|0\\rangle_a|00000\\rangle_C|01\\rangle_b+(-0.03125-0.00000j)|1\\rangle_a|00000\\rangle_C|00\\rangle_b+(0.09375+0.00000j)|1\\rangle_a|00000\\rangle_C|01\\rangle_b$"
      ],
      "text/plain": [
       "<IPython.core.display.Markdown object>"
      ]
     },
     "metadata": {},
     "output_type": "display_data"
    },
    {
     "data": {
      "text/markdown": [
       "$(-0.50000-0.00000j)|0\\rangle_a|01000\\rangle_C|00\\rangle_b+(0.50000+0.00000j)|0\\rangle_a|01000\\rangle_C|01\\rangle_b+(0.50000+0.00000j)|0\\rangle_a|10000\\rangle_C|00\\rangle_b+(0.50000+0.00000j)|0\\rangle_a|10000\\rangle_C|01\\rangle_b$"
      ],
      "text/plain": [
       "<IPython.core.display.Markdown object>"
      ]
     },
     "metadata": {},
     "output_type": "display_data"
    },
    {
     "data": {
      "text/markdown": [
       "$(0.00294-0.00000j)|0\\rangle_a|00000\\rangle_C|00\\rangle_b+(0.99510+0.00000j)|0\\rangle_a|00000\\rangle_C|01\\rangle_b+(-0.03125-0.00000j)|1\\rangle_a|00000\\rangle_C|00\\rangle_b+(0.09375+0.00000j)|1\\rangle_a|00000\\rangle_C|01\\rangle_b$"
      ],
      "text/plain": [
       "<IPython.core.display.Markdown object>"
      ]
     },
     "metadata": {},
     "output_type": "display_data"
    },
    {
     "data": {
      "text/markdown": [
       "$(-0.50000-0.00000j)|0\\rangle_a|01000\\rangle_C|00\\rangle_b+(0.50000+0.00000j)|0\\rangle_a|01000\\rangle_C|01\\rangle_b+(0.50000+0.00000j)|0\\rangle_a|10000\\rangle_C|00\\rangle_b+(0.50000+0.00000j)|0\\rangle_a|10000\\rangle_C|01\\rangle_b$"
      ],
      "text/plain": [
       "<IPython.core.display.Markdown object>"
      ]
     },
     "metadata": {},
     "output_type": "display_data"
    },
    {
     "data": {
      "text/markdown": [
       "$(0.00294-0.00000j)|0\\rangle_a|00000\\rangle_C|00\\rangle_b+(0.99510+0.00000j)|0\\rangle_a|00000\\rangle_C|01\\rangle_b+(-0.03125-0.00000j)|1\\rangle_a|00000\\rangle_C|00\\rangle_b+(0.09375+0.00000j)|1\\rangle_a|00000\\rangle_C|01\\rangle_b$"
      ],
      "text/plain": [
       "<IPython.core.display.Markdown object>"
      ]
     },
     "metadata": {},
     "output_type": "display_data"
    },
    {
     "data": {
      "text/markdown": [
       "$(-0.50000-0.00000j)|0\\rangle_a|01000\\rangle_C|00\\rangle_b+(0.50000+0.00000j)|0\\rangle_a|01000\\rangle_C|01\\rangle_b+(0.50000+0.00000j)|0\\rangle_a|10000\\rangle_C|00\\rangle_b+(0.50000+0.00000j)|0\\rangle_a|10000\\rangle_C|01\\rangle_b$"
      ],
      "text/plain": [
       "<IPython.core.display.Markdown object>"
      ]
     },
     "metadata": {},
     "output_type": "display_data"
    },
    {
     "data": {
      "text/markdown": [
       "$(0.00294-0.00000j)|0\\rangle_a|00000\\rangle_C|00\\rangle_b+(0.99510+0.00000j)|0\\rangle_a|00000\\rangle_C|01\\rangle_b+(-0.03125-0.00000j)|1\\rangle_a|00000\\rangle_C|00\\rangle_b+(0.09375+0.00000j)|1\\rangle_a|00000\\rangle_C|01\\rangle_b$"
      ],
      "text/plain": [
       "<IPython.core.display.Markdown object>"
      ]
     },
     "metadata": {},
     "output_type": "display_data"
    },
    {
     "data": {
      "text/markdown": [
       "$(-0.50000-0.00000j)|0\\rangle_a|01000\\rangle_C|00\\rangle_b+(0.50000+0.00000j)|0\\rangle_a|01000\\rangle_C|01\\rangle_b+(0.50000+0.00000j)|0\\rangle_a|10000\\rangle_C|00\\rangle_b+(0.50000+0.00000j)|0\\rangle_a|10000\\rangle_C|01\\rangle_b$"
      ],
      "text/plain": [
       "<IPython.core.display.Markdown object>"
      ]
     },
     "metadata": {},
     "output_type": "display_data"
    },
    {
     "data": {
      "text/markdown": [
       "$(0.00294-0.00000j)|0\\rangle_a|00000\\rangle_C|00\\rangle_b+(0.99510+0.00000j)|0\\rangle_a|00000\\rangle_C|01\\rangle_b+(-0.03125-0.00000j)|1\\rangle_a|00000\\rangle_C|00\\rangle_b+(0.09375+0.00000j)|1\\rangle_a|00000\\rangle_C|01\\rangle_b$"
      ],
      "text/plain": [
       "<IPython.core.display.Markdown object>"
      ]
     },
     "metadata": {},
     "output_type": "display_data"
    },
    {
     "data": {
      "text/markdown": [
       "$(-0.50000-0.00000j)|0\\rangle_a|01000\\rangle_C|00\\rangle_b+(0.50000+0.00000j)|0\\rangle_a|01000\\rangle_C|01\\rangle_b+(0.50000+0.00000j)|0\\rangle_a|10000\\rangle_C|00\\rangle_b+(0.50000+0.00000j)|0\\rangle_a|10000\\rangle_C|01\\rangle_b$"
      ],
      "text/plain": [
       "<IPython.core.display.Markdown object>"
      ]
     },
     "metadata": {},
     "output_type": "display_data"
    },
    {
     "data": {
      "text/markdown": [
       "$(0.00294-0.00000j)|0\\rangle_a|00000\\rangle_C|00\\rangle_b+(0.99510+0.00000j)|0\\rangle_a|00000\\rangle_C|01\\rangle_b+(-0.03125-0.00000j)|1\\rangle_a|00000\\rangle_C|00\\rangle_b+(0.09375+0.00000j)|1\\rangle_a|00000\\rangle_C|01\\rangle_b$"
      ],
      "text/plain": [
       "<IPython.core.display.Markdown object>"
      ]
     },
     "metadata": {},
     "output_type": "display_data"
    },
    {
     "data": {
      "text/markdown": [
       "$(-0.50000-0.00000j)|0\\rangle_a|01000\\rangle_C|00\\rangle_b+(0.50000+0.00000j)|0\\rangle_a|01000\\rangle_C|01\\rangle_b+(0.50000+0.00000j)|0\\rangle_a|10000\\rangle_C|00\\rangle_b+(0.50000+0.00000j)|0\\rangle_a|10000\\rangle_C|01\\rangle_b$"
      ],
      "text/plain": [
       "<IPython.core.display.Markdown object>"
      ]
     },
     "metadata": {},
     "output_type": "display_data"
    },
    {
     "data": {
      "text/markdown": [
       "$(0.00294-0.00000j)|0\\rangle_a|00000\\rangle_C|00\\rangle_b+(0.99510+0.00000j)|0\\rangle_a|00000\\rangle_C|01\\rangle_b+(-0.03125-0.00000j)|1\\rangle_a|00000\\rangle_C|00\\rangle_b+(0.09375+0.00000j)|1\\rangle_a|00000\\rangle_C|01\\rangle_b$"
      ],
      "text/plain": [
       "<IPython.core.display.Markdown object>"
      ]
     },
     "metadata": {},
     "output_type": "display_data"
    },
    {
     "data": {
      "text/markdown": [
       "$(-0.50000-0.00000j)|0\\rangle_a|01000\\rangle_C|00\\rangle_b+(0.50000+0.00000j)|0\\rangle_a|01000\\rangle_C|01\\rangle_b+(0.50000+0.00000j)|0\\rangle_a|10000\\rangle_C|00\\rangle_b+(0.50000+0.00000j)|0\\rangle_a|10000\\rangle_C|01\\rangle_b$"
      ],
      "text/plain": [
       "<IPython.core.display.Markdown object>"
      ]
     },
     "metadata": {},
     "output_type": "display_data"
    },
    {
     "data": {
      "text/markdown": [
       "$(0.00294-0.00000j)|0\\rangle_a|00000\\rangle_C|00\\rangle_b+(0.99510+0.00000j)|0\\rangle_a|00000\\rangle_C|01\\rangle_b+(-0.03125-0.00000j)|1\\rangle_a|00000\\rangle_C|00\\rangle_b+(0.09375+0.00000j)|1\\rangle_a|00000\\rangle_C|01\\rangle_b$"
      ],
      "text/plain": [
       "<IPython.core.display.Markdown object>"
      ]
     },
     "metadata": {},
     "output_type": "display_data"
    },
    {
     "data": {
      "text/markdown": [
       "$(-0.50000-0.00000j)|0\\rangle_a|01000\\rangle_C|00\\rangle_b+(0.50000+0.00000j)|0\\rangle_a|01000\\rangle_C|01\\rangle_b+(0.50000+0.00000j)|0\\rangle_a|10000\\rangle_C|00\\rangle_b+(0.50000+0.00000j)|0\\rangle_a|10000\\rangle_C|01\\rangle_b$"
      ],
      "text/plain": [
       "<IPython.core.display.Markdown object>"
      ]
     },
     "metadata": {},
     "output_type": "display_data"
    },
    {
     "data": {
      "text/markdown": [
       "$(0.00294-0.00000j)|0\\rangle_a|00000\\rangle_C|00\\rangle_b+(0.99510+0.00000j)|0\\rangle_a|00000\\rangle_C|01\\rangle_b+(-0.03125-0.00000j)|1\\rangle_a|00000\\rangle_C|00\\rangle_b+(0.09375+0.00000j)|1\\rangle_a|00000\\rangle_C|01\\rangle_b$"
      ],
      "text/plain": [
       "<IPython.core.display.Markdown object>"
      ]
     },
     "metadata": {},
     "output_type": "display_data"
    },
    {
     "data": {
      "text/markdown": [
       "$(-0.50000-0.00000j)|0\\rangle_a|01000\\rangle_C|00\\rangle_b+(0.50000+0.00000j)|0\\rangle_a|01000\\rangle_C|01\\rangle_b+(0.50000+0.00000j)|0\\rangle_a|10000\\rangle_C|00\\rangle_b+(0.50000+0.00000j)|0\\rangle_a|10000\\rangle_C|01\\rangle_b$"
      ],
      "text/plain": [
       "<IPython.core.display.Markdown object>"
      ]
     },
     "metadata": {},
     "output_type": "display_data"
    },
    {
     "data": {
      "text/markdown": [
       "$(0.00294-0.00000j)|0\\rangle_a|00000\\rangle_C|00\\rangle_b+(0.99510+0.00000j)|0\\rangle_a|00000\\rangle_C|01\\rangle_b+(-0.03125-0.00000j)|1\\rangle_a|00000\\rangle_C|00\\rangle_b+(0.09375+0.00000j)|1\\rangle_a|00000\\rangle_C|01\\rangle_b$"
      ],
      "text/plain": [
       "<IPython.core.display.Markdown object>"
      ]
     },
     "metadata": {},
     "output_type": "display_data"
    },
    {
     "data": {
      "text/markdown": [
       "$(-0.50000-0.00000j)|0\\rangle_a|01000\\rangle_C|00\\rangle_b+(0.50000+0.00000j)|0\\rangle_a|01000\\rangle_C|01\\rangle_b+(0.50000+0.00000j)|0\\rangle_a|10000\\rangle_C|00\\rangle_b+(0.50000+0.00000j)|0\\rangle_a|10000\\rangle_C|01\\rangle_b$"
      ],
      "text/plain": [
       "<IPython.core.display.Markdown object>"
      ]
     },
     "metadata": {},
     "output_type": "display_data"
    },
    {
     "data": {
      "text/markdown": [
       "$(0.00294-0.00000j)|0\\rangle_a|00000\\rangle_C|00\\rangle_b+(0.99510+0.00000j)|0\\rangle_a|00000\\rangle_C|01\\rangle_b+(-0.03125-0.00000j)|1\\rangle_a|00000\\rangle_C|00\\rangle_b+(0.09375+0.00000j)|1\\rangle_a|00000\\rangle_C|01\\rangle_b$"
      ],
      "text/plain": [
       "<IPython.core.display.Markdown object>"
      ]
     },
     "metadata": {},
     "output_type": "display_data"
    },
    {
     "data": {
      "text/markdown": [
       "$(-0.50000-0.00000j)|0\\rangle_a|01000\\rangle_C|00\\rangle_b+(0.50000+0.00000j)|0\\rangle_a|01000\\rangle_C|01\\rangle_b+(0.50000+0.00000j)|0\\rangle_a|10000\\rangle_C|00\\rangle_b+(0.50000+0.00000j)|0\\rangle_a|10000\\rangle_C|01\\rangle_b$"
      ],
      "text/plain": [
       "<IPython.core.display.Markdown object>"
      ]
     },
     "metadata": {},
     "output_type": "display_data"
    },
    {
     "data": {
      "text/markdown": [
       "$(0.00294-0.00000j)|0\\rangle_a|00000\\rangle_C|00\\rangle_b+(0.99510+0.00000j)|0\\rangle_a|00000\\rangle_C|01\\rangle_b+(-0.03125-0.00000j)|1\\rangle_a|00000\\rangle_C|00\\rangle_b+(0.09375+0.00000j)|1\\rangle_a|00000\\rangle_C|01\\rangle_b$"
      ],
      "text/plain": [
       "<IPython.core.display.Markdown object>"
      ]
     },
     "metadata": {},
     "output_type": "display_data"
    },
    {
     "data": {
      "text/markdown": [
       "$(-0.50000-0.00000j)|0\\rangle_a|01000\\rangle_C|00\\rangle_b+(0.50000+0.00000j)|0\\rangle_a|01000\\rangle_C|01\\rangle_b+(0.50000+0.00000j)|0\\rangle_a|10000\\rangle_C|00\\rangle_b+(0.50000+0.00000j)|0\\rangle_a|10000\\rangle_C|01\\rangle_b$"
      ],
      "text/plain": [
       "<IPython.core.display.Markdown object>"
      ]
     },
     "metadata": {},
     "output_type": "display_data"
    },
    {
     "data": {
      "text/markdown": [
       "$(0.00294-0.00000j)|0\\rangle_a|00000\\rangle_C|00\\rangle_b+(0.99510+0.00000j)|0\\rangle_a|00000\\rangle_C|01\\rangle_b+(-0.03125-0.00000j)|1\\rangle_a|00000\\rangle_C|00\\rangle_b+(0.09375+0.00000j)|1\\rangle_a|00000\\rangle_C|01\\rangle_b$"
      ],
      "text/plain": [
       "<IPython.core.display.Markdown object>"
      ]
     },
     "metadata": {},
     "output_type": "display_data"
    },
    {
     "data": {
      "text/markdown": [
       "$(-0.50000-0.00000j)|0\\rangle_a|01000\\rangle_C|00\\rangle_b+(0.50000+0.00000j)|0\\rangle_a|01000\\rangle_C|01\\rangle_b+(0.50000+0.00000j)|0\\rangle_a|10000\\rangle_C|00\\rangle_b+(0.50000+0.00000j)|0\\rangle_a|10000\\rangle_C|01\\rangle_b$"
      ],
      "text/plain": [
       "<IPython.core.display.Markdown object>"
      ]
     },
     "metadata": {},
     "output_type": "display_data"
    },
    {
     "data": {
      "text/markdown": [
       "$(0.00294-0.00000j)|0\\rangle_a|00000\\rangle_C|00\\rangle_b+(0.99510+0.00000j)|0\\rangle_a|00000\\rangle_C|01\\rangle_b+(-0.03125-0.00000j)|1\\rangle_a|00000\\rangle_C|00\\rangle_b+(0.09375+0.00000j)|1\\rangle_a|00000\\rangle_C|01\\rangle_b$"
      ],
      "text/plain": [
       "<IPython.core.display.Markdown object>"
      ]
     },
     "metadata": {},
     "output_type": "display_data"
    },
    {
     "data": {
      "text/markdown": [
       "$(-0.50000-0.00000j)|0\\rangle_a|01000\\rangle_C|00\\rangle_b+(0.50000+0.00000j)|0\\rangle_a|01000\\rangle_C|01\\rangle_b+(0.50000+0.00000j)|0\\rangle_a|10000\\rangle_C|00\\rangle_b+(0.50000+0.00000j)|0\\rangle_a|10000\\rangle_C|01\\rangle_b$"
      ],
      "text/plain": [
       "<IPython.core.display.Markdown object>"
      ]
     },
     "metadata": {},
     "output_type": "display_data"
    },
    {
     "data": {
      "text/markdown": [
       "$(0.00294-0.00000j)|0\\rangle_a|00000\\rangle_C|00\\rangle_b+(0.99510+0.00000j)|0\\rangle_a|00000\\rangle_C|01\\rangle_b+(-0.03125-0.00000j)|1\\rangle_a|00000\\rangle_C|00\\rangle_b+(0.09375+0.00000j)|1\\rangle_a|00000\\rangle_C|01\\rangle_b$"
      ],
      "text/plain": [
       "<IPython.core.display.Markdown object>"
      ]
     },
     "metadata": {},
     "output_type": "display_data"
    },
    {
     "data": {
      "text/markdown": [
       "$(-0.50000-0.00000j)|0\\rangle_a|01000\\rangle_C|00\\rangle_b+(0.50000+0.00000j)|0\\rangle_a|01000\\rangle_C|01\\rangle_b+(0.50000+0.00000j)|0\\rangle_a|10000\\rangle_C|00\\rangle_b+(0.50000+0.00000j)|0\\rangle_a|10000\\rangle_C|01\\rangle_b$"
      ],
      "text/plain": [
       "<IPython.core.display.Markdown object>"
      ]
     },
     "metadata": {},
     "output_type": "display_data"
    },
    {
     "data": {
      "text/markdown": [
       "$(0.00294-0.00000j)|0\\rangle_a|00000\\rangle_C|00\\rangle_b+(0.99510+0.00000j)|0\\rangle_a|00000\\rangle_C|01\\rangle_b+(-0.03125-0.00000j)|1\\rangle_a|00000\\rangle_C|00\\rangle_b+(0.09375+0.00000j)|1\\rangle_a|00000\\rangle_C|01\\rangle_b$"
      ],
      "text/plain": [
       "<IPython.core.display.Markdown object>"
      ]
     },
     "metadata": {},
     "output_type": "display_data"
    },
    {
     "data": {
      "text/markdown": [
       "$(-0.50000-0.00000j)|0\\rangle_a|01000\\rangle_C|00\\rangle_b+(0.50000+0.00000j)|0\\rangle_a|01000\\rangle_C|01\\rangle_b+(0.50000+0.00000j)|0\\rangle_a|10000\\rangle_C|00\\rangle_b+(0.50000+0.00000j)|0\\rangle_a|10000\\rangle_C|01\\rangle_b$"
      ],
      "text/plain": [
       "<IPython.core.display.Markdown object>"
      ]
     },
     "metadata": {},
     "output_type": "display_data"
    },
    {
     "data": {
      "text/markdown": [
       "$(0.00294-0.00000j)|0\\rangle_a|00000\\rangle_C|00\\rangle_b+(0.99510+0.00000j)|0\\rangle_a|00000\\rangle_C|01\\rangle_b+(-0.03125-0.00000j)|1\\rangle_a|00000\\rangle_C|00\\rangle_b+(0.09375+0.00000j)|1\\rangle_a|00000\\rangle_C|01\\rangle_b$"
      ],
      "text/plain": [
       "<IPython.core.display.Markdown object>"
      ]
     },
     "metadata": {},
     "output_type": "display_data"
    },
    {
     "data": {
      "text/markdown": [
       "$(-0.50000-0.00000j)|0\\rangle_a|01000\\rangle_C|00\\rangle_b+(0.50000+0.00000j)|0\\rangle_a|01000\\rangle_C|01\\rangle_b+(0.50000+0.00000j)|0\\rangle_a|10000\\rangle_C|00\\rangle_b+(0.50000+0.00000j)|0\\rangle_a|10000\\rangle_C|01\\rangle_b$"
      ],
      "text/plain": [
       "<IPython.core.display.Markdown object>"
      ]
     },
     "metadata": {},
     "output_type": "display_data"
    },
    {
     "data": {
      "text/markdown": [
       "$(0.00294-0.00000j)|0\\rangle_a|00000\\rangle_C|00\\rangle_b+(0.99510+0.00000j)|0\\rangle_a|00000\\rangle_C|01\\rangle_b+(-0.03125-0.00000j)|1\\rangle_a|00000\\rangle_C|00\\rangle_b+(0.09375+0.00000j)|1\\rangle_a|00000\\rangle_C|01\\rangle_b$"
      ],
      "text/plain": [
       "<IPython.core.display.Markdown object>"
      ]
     },
     "metadata": {},
     "output_type": "display_data"
    },
    {
     "data": {
      "text/markdown": [
       "$(-0.50000-0.00000j)|0\\rangle_a|01000\\rangle_C|00\\rangle_b+(0.50000+0.00000j)|0\\rangle_a|01000\\rangle_C|01\\rangle_b+(0.50000+0.00000j)|0\\rangle_a|10000\\rangle_C|00\\rangle_b+(0.50000+0.00000j)|0\\rangle_a|10000\\rangle_C|01\\rangle_b$"
      ],
      "text/plain": [
       "<IPython.core.display.Markdown object>"
      ]
     },
     "metadata": {},
     "output_type": "display_data"
    },
    {
     "data": {
      "text/markdown": [
       "$(0.00294-0.00000j)|0\\rangle_a|00000\\rangle_C|00\\rangle_b+(0.99510+0.00000j)|0\\rangle_a|00000\\rangle_C|01\\rangle_b+(-0.03125-0.00000j)|1\\rangle_a|00000\\rangle_C|00\\rangle_b+(0.09375+0.00000j)|1\\rangle_a|00000\\rangle_C|01\\rangle_b$"
      ],
      "text/plain": [
       "<IPython.core.display.Markdown object>"
      ]
     },
     "metadata": {},
     "output_type": "display_data"
    },
    {
     "data": {
      "text/markdown": [
       "$(-0.50000-0.00000j)|0\\rangle_a|01000\\rangle_C|00\\rangle_b+(0.50000+0.00000j)|0\\rangle_a|01000\\rangle_C|01\\rangle_b+(0.50000+0.00000j)|0\\rangle_a|10000\\rangle_C|00\\rangle_b+(0.50000+0.00000j)|0\\rangle_a|10000\\rangle_C|01\\rangle_b$"
      ],
      "text/plain": [
       "<IPython.core.display.Markdown object>"
      ]
     },
     "metadata": {},
     "output_type": "display_data"
    },
    {
     "data": {
      "text/markdown": [
       "$(0.00294-0.00000j)|0\\rangle_a|00000\\rangle_C|00\\rangle_b+(0.99510+0.00000j)|0\\rangle_a|00000\\rangle_C|01\\rangle_b+(-0.03125-0.00000j)|1\\rangle_a|00000\\rangle_C|00\\rangle_b+(0.09375+0.00000j)|1\\rangle_a|00000\\rangle_C|01\\rangle_b$"
      ],
      "text/plain": [
       "<IPython.core.display.Markdown object>"
      ]
     },
     "metadata": {},
     "output_type": "display_data"
    },
    {
     "data": {
      "text/markdown": [
       "$(-0.50000-0.00000j)|0\\rangle_a|01000\\rangle_C|00\\rangle_b+(0.50000+0.00000j)|0\\rangle_a|01000\\rangle_C|01\\rangle_b+(0.50000+0.00000j)|0\\rangle_a|10000\\rangle_C|00\\rangle_b+(0.50000+0.00000j)|0\\rangle_a|10000\\rangle_C|01\\rangle_b$"
      ],
      "text/plain": [
       "<IPython.core.display.Markdown object>"
      ]
     },
     "metadata": {},
     "output_type": "display_data"
    },
    {
     "data": {
      "text/markdown": [
       "$(0.00294-0.00000j)|0\\rangle_a|00000\\rangle_C|00\\rangle_b+(0.99510+0.00000j)|0\\rangle_a|00000\\rangle_C|01\\rangle_b+(-0.03125-0.00000j)|1\\rangle_a|00000\\rangle_C|00\\rangle_b+(0.09375+0.00000j)|1\\rangle_a|00000\\rangle_C|01\\rangle_b$"
      ],
      "text/plain": [
       "<IPython.core.display.Markdown object>"
      ]
     },
     "metadata": {},
     "output_type": "display_data"
    },
    {
     "data": {
      "text/markdown": [
       "$(-0.50000-0.00000j)|0\\rangle_a|01000\\rangle_C|00\\rangle_b+(0.50000+0.00000j)|0\\rangle_a|01000\\rangle_C|01\\rangle_b+(0.50000+0.00000j)|0\\rangle_a|10000\\rangle_C|00\\rangle_b+(0.50000+0.00000j)|0\\rangle_a|10000\\rangle_C|01\\rangle_b$"
      ],
      "text/plain": [
       "<IPython.core.display.Markdown object>"
      ]
     },
     "metadata": {},
     "output_type": "display_data"
    },
    {
     "data": {
      "text/markdown": [
       "$(0.00294-0.00000j)|0\\rangle_a|00000\\rangle_C|00\\rangle_b+(0.99510+0.00000j)|0\\rangle_a|00000\\rangle_C|01\\rangle_b+(-0.03125-0.00000j)|1\\rangle_a|00000\\rangle_C|00\\rangle_b+(0.09375+0.00000j)|1\\rangle_a|00000\\rangle_C|01\\rangle_b$"
      ],
      "text/plain": [
       "<IPython.core.display.Markdown object>"
      ]
     },
     "metadata": {},
     "output_type": "display_data"
    },
    {
     "data": {
      "text/markdown": [
       "$(-0.50000-0.00000j)|0\\rangle_a|01000\\rangle_C|00\\rangle_b+(0.50000+0.00000j)|0\\rangle_a|01000\\rangle_C|01\\rangle_b+(0.50000+0.00000j)|0\\rangle_a|10000\\rangle_C|00\\rangle_b+(0.50000+0.00000j)|0\\rangle_a|10000\\rangle_C|01\\rangle_b$"
      ],
      "text/plain": [
       "<IPython.core.display.Markdown object>"
      ]
     },
     "metadata": {},
     "output_type": "display_data"
    },
    {
     "data": {
      "text/markdown": [
       "$(0.00294-0.00000j)|0\\rangle_a|00000\\rangle_C|00\\rangle_b+(0.99510+0.00000j)|0\\rangle_a|00000\\rangle_C|01\\rangle_b+(-0.03125-0.00000j)|1\\rangle_a|00000\\rangle_C|00\\rangle_b+(0.09375+0.00000j)|1\\rangle_a|00000\\rangle_C|01\\rangle_b$"
      ],
      "text/plain": [
       "<IPython.core.display.Markdown object>"
      ]
     },
     "metadata": {},
     "output_type": "display_data"
    },
    {
     "data": {
      "text/markdown": [
       "$(-0.50000-0.00000j)|0\\rangle_a|01000\\rangle_C|00\\rangle_b+(0.50000+0.00000j)|0\\rangle_a|01000\\rangle_C|01\\rangle_b+(0.50000+0.00000j)|0\\rangle_a|10000\\rangle_C|00\\rangle_b+(0.50000+0.00000j)|0\\rangle_a|10000\\rangle_C|01\\rangle_b$"
      ],
      "text/plain": [
       "<IPython.core.display.Markdown object>"
      ]
     },
     "metadata": {},
     "output_type": "display_data"
    },
    {
     "data": {
      "text/markdown": [
       "$(0.00294-0.00000j)|0\\rangle_a|00000\\rangle_C|00\\rangle_b+(0.99510+0.00000j)|0\\rangle_a|00000\\rangle_C|01\\rangle_b+(-0.03125-0.00000j)|1\\rangle_a|00000\\rangle_C|00\\rangle_b+(0.09375+0.00000j)|1\\rangle_a|00000\\rangle_C|01\\rangle_b$"
      ],
      "text/plain": [
       "<IPython.core.display.Markdown object>"
      ]
     },
     "metadata": {},
     "output_type": "display_data"
    },
    {
     "data": {
      "text/markdown": [
       "$(-0.50000-0.00000j)|0\\rangle_a|01000\\rangle_C|00\\rangle_b+(0.50000+0.00000j)|0\\rangle_a|01000\\rangle_C|01\\rangle_b+(0.50000+0.00000j)|0\\rangle_a|10000\\rangle_C|00\\rangle_b+(0.50000+0.00000j)|0\\rangle_a|10000\\rangle_C|01\\rangle_b$"
      ],
      "text/plain": [
       "<IPython.core.display.Markdown object>"
      ]
     },
     "metadata": {},
     "output_type": "display_data"
    },
    {
     "data": {
      "text/markdown": [
       "$(0.00294-0.00000j)|0\\rangle_a|00000\\rangle_C|00\\rangle_b+(0.99510+0.00000j)|0\\rangle_a|00000\\rangle_C|01\\rangle_b+(-0.03125-0.00000j)|1\\rangle_a|00000\\rangle_C|00\\rangle_b+(0.09375+0.00000j)|1\\rangle_a|00000\\rangle_C|01\\rangle_b$"
      ],
      "text/plain": [
       "<IPython.core.display.Markdown object>"
      ]
     },
     "metadata": {},
     "output_type": "display_data"
    },
    {
     "data": {
      "text/markdown": [
       "$(-0.50000-0.00000j)|0\\rangle_a|01000\\rangle_C|00\\rangle_b+(0.50000+0.00000j)|0\\rangle_a|01000\\rangle_C|01\\rangle_b+(0.50000+0.00000j)|0\\rangle_a|10000\\rangle_C|00\\rangle_b+(0.50000+0.00000j)|0\\rangle_a|10000\\rangle_C|01\\rangle_b$"
      ],
      "text/plain": [
       "<IPython.core.display.Markdown object>"
      ]
     },
     "metadata": {},
     "output_type": "display_data"
    },
    {
     "data": {
      "text/markdown": [
       "$(0.00294-0.00000j)|0\\rangle_a|00000\\rangle_C|00\\rangle_b+(0.99510+0.00000j)|0\\rangle_a|00000\\rangle_C|01\\rangle_b+(-0.03125-0.00000j)|1\\rangle_a|00000\\rangle_C|00\\rangle_b+(0.09375+0.00000j)|1\\rangle_a|00000\\rangle_C|01\\rangle_b$"
      ],
      "text/plain": [
       "<IPython.core.display.Markdown object>"
      ]
     },
     "metadata": {},
     "output_type": "display_data"
    },
    {
     "data": {
      "text/markdown": [
       "$(-0.50000-0.00000j)|0\\rangle_a|01000\\rangle_C|00\\rangle_b+(0.50000+0.00000j)|0\\rangle_a|01000\\rangle_C|01\\rangle_b+(0.50000+0.00000j)|0\\rangle_a|10000\\rangle_C|00\\rangle_b+(0.50000+0.00000j)|0\\rangle_a|10000\\rangle_C|01\\rangle_b$"
      ],
      "text/plain": [
       "<IPython.core.display.Markdown object>"
      ]
     },
     "metadata": {},
     "output_type": "display_data"
    },
    {
     "data": {
      "text/markdown": [
       "$(0.00294-0.00000j)|0\\rangle_a|00000\\rangle_C|00\\rangle_b+(0.99510+0.00000j)|0\\rangle_a|00000\\rangle_C|01\\rangle_b+(-0.03125-0.00000j)|1\\rangle_a|00000\\rangle_C|00\\rangle_b+(0.09375+0.00000j)|1\\rangle_a|00000\\rangle_C|01\\rangle_b$"
      ],
      "text/plain": [
       "<IPython.core.display.Markdown object>"
      ]
     },
     "metadata": {},
     "output_type": "display_data"
    },
    {
     "data": {
      "text/markdown": [
       "$(-0.50000-0.00000j)|0\\rangle_a|01000\\rangle_C|00\\rangle_b+(0.50000+0.00000j)|0\\rangle_a|01000\\rangle_C|01\\rangle_b+(0.50000+0.00000j)|0\\rangle_a|10000\\rangle_C|00\\rangle_b+(0.50000+0.00000j)|0\\rangle_a|10000\\rangle_C|01\\rangle_b$"
      ],
      "text/plain": [
       "<IPython.core.display.Markdown object>"
      ]
     },
     "metadata": {},
     "output_type": "display_data"
    },
    {
     "data": {
      "text/markdown": [
       "$(0.00294-0.00000j)|0\\rangle_a|00000\\rangle_C|00\\rangle_b+(0.99510+0.00000j)|0\\rangle_a|00000\\rangle_C|01\\rangle_b+(-0.03125-0.00000j)|1\\rangle_a|00000\\rangle_C|00\\rangle_b+(0.09375+0.00000j)|1\\rangle_a|00000\\rangle_C|01\\rangle_b$"
      ],
      "text/plain": [
       "<IPython.core.display.Markdown object>"
      ]
     },
     "metadata": {},
     "output_type": "display_data"
    },
    {
     "data": {
      "text/markdown": [
       "$(-0.50000-0.00000j)|0\\rangle_a|01000\\rangle_C|00\\rangle_b+(0.50000+0.00000j)|0\\rangle_a|01000\\rangle_C|01\\rangle_b+(0.50000+0.00000j)|0\\rangle_a|10000\\rangle_C|00\\rangle_b+(0.50000+0.00000j)|0\\rangle_a|10000\\rangle_C|01\\rangle_b$"
      ],
      "text/plain": [
       "<IPython.core.display.Markdown object>"
      ]
     },
     "metadata": {},
     "output_type": "display_data"
    },
    {
     "data": {
      "text/markdown": [
       "$(0.00294-0.00000j)|0\\rangle_a|00000\\rangle_C|00\\rangle_b+(0.99510+0.00000j)|0\\rangle_a|00000\\rangle_C|01\\rangle_b+(-0.03125-0.00000j)|1\\rangle_a|00000\\rangle_C|00\\rangle_b+(0.09375+0.00000j)|1\\rangle_a|00000\\rangle_C|01\\rangle_b$"
      ],
      "text/plain": [
       "<IPython.core.display.Markdown object>"
      ]
     },
     "metadata": {},
     "output_type": "display_data"
    },
    {
     "data": {
      "text/markdown": [
       "$(-0.50000-0.00000j)|0\\rangle_a|01000\\rangle_C|00\\rangle_b+(0.50000+0.00000j)|0\\rangle_a|01000\\rangle_C|01\\rangle_b+(0.50000+0.00000j)|0\\rangle_a|10000\\rangle_C|00\\rangle_b+(0.50000+0.00000j)|0\\rangle_a|10000\\rangle_C|01\\rangle_b$"
      ],
      "text/plain": [
       "<IPython.core.display.Markdown object>"
      ]
     },
     "metadata": {},
     "output_type": "display_data"
    },
    {
     "data": {
      "text/markdown": [
       "$(0.00294-0.00000j)|0\\rangle_a|00000\\rangle_C|00\\rangle_b+(0.99510+0.00000j)|0\\rangle_a|00000\\rangle_C|01\\rangle_b+(-0.03125-0.00000j)|1\\rangle_a|00000\\rangle_C|00\\rangle_b+(0.09375+0.00000j)|1\\rangle_a|00000\\rangle_C|01\\rangle_b$"
      ],
      "text/plain": [
       "<IPython.core.display.Markdown object>"
      ]
     },
     "metadata": {},
     "output_type": "display_data"
    },
    {
     "data": {
      "text/markdown": [
       "$(-0.50000-0.00000j)|0\\rangle_a|01000\\rangle_C|00\\rangle_b+(0.50000+0.00000j)|0\\rangle_a|01000\\rangle_C|01\\rangle_b+(0.50000+0.00000j)|0\\rangle_a|10000\\rangle_C|00\\rangle_b+(0.50000+0.00000j)|0\\rangle_a|10000\\rangle_C|01\\rangle_b$"
      ],
      "text/plain": [
       "<IPython.core.display.Markdown object>"
      ]
     },
     "metadata": {},
     "output_type": "display_data"
    },
    {
     "data": {
      "text/markdown": [
       "$(0.00294-0.00000j)|0\\rangle_a|00000\\rangle_C|00\\rangle_b+(0.99510+0.00000j)|0\\rangle_a|00000\\rangle_C|01\\rangle_b+(-0.03125-0.00000j)|1\\rangle_a|00000\\rangle_C|00\\rangle_b+(0.09375+0.00000j)|1\\rangle_a|00000\\rangle_C|01\\rangle_b$"
      ],
      "text/plain": [
       "<IPython.core.display.Markdown object>"
      ]
     },
     "metadata": {},
     "output_type": "display_data"
    },
    {
     "data": {
      "text/markdown": [
       "$(-0.50000-0.00000j)|0\\rangle_a|01000\\rangle_C|00\\rangle_b+(0.50000+0.00000j)|0\\rangle_a|01000\\rangle_C|01\\rangle_b+(0.50000+0.00000j)|0\\rangle_a|10000\\rangle_C|00\\rangle_b+(0.50000+0.00000j)|0\\rangle_a|10000\\rangle_C|01\\rangle_b$"
      ],
      "text/plain": [
       "<IPython.core.display.Markdown object>"
      ]
     },
     "metadata": {},
     "output_type": "display_data"
    },
    {
     "data": {
      "text/markdown": [
       "$(0.00294-0.00000j)|0\\rangle_a|00000\\rangle_C|00\\rangle_b+(0.99510+0.00000j)|0\\rangle_a|00000\\rangle_C|01\\rangle_b+(-0.03125-0.00000j)|1\\rangle_a|00000\\rangle_C|00\\rangle_b+(0.09375+0.00000j)|1\\rangle_a|00000\\rangle_C|01\\rangle_b$"
      ],
      "text/plain": [
       "<IPython.core.display.Markdown object>"
      ]
     },
     "metadata": {},
     "output_type": "display_data"
    },
    {
     "data": {
      "text/markdown": [
       "$(-0.50000-0.00000j)|0\\rangle_a|01000\\rangle_C|00\\rangle_b+(0.50000+0.00000j)|0\\rangle_a|01000\\rangle_C|01\\rangle_b+(0.50000+0.00000j)|0\\rangle_a|10000\\rangle_C|00\\rangle_b+(0.50000+0.00000j)|0\\rangle_a|10000\\rangle_C|01\\rangle_b$"
      ],
      "text/plain": [
       "<IPython.core.display.Markdown object>"
      ]
     },
     "metadata": {},
     "output_type": "display_data"
    },
    {
     "data": {
      "text/markdown": [
       "$(0.00294-0.00000j)|0\\rangle_a|00000\\rangle_C|00\\rangle_b+(0.99510+0.00000j)|0\\rangle_a|00000\\rangle_C|01\\rangle_b+(-0.03125-0.00000j)|1\\rangle_a|00000\\rangle_C|00\\rangle_b+(0.09375+0.00000j)|1\\rangle_a|00000\\rangle_C|01\\rangle_b$"
      ],
      "text/plain": [
       "<IPython.core.display.Markdown object>"
      ]
     },
     "metadata": {},
     "output_type": "display_data"
    },
    {
     "data": {
      "text/markdown": [
       "$(-0.50000-0.00000j)|0\\rangle_a|01000\\rangle_C|00\\rangle_b+(0.50000+0.00000j)|0\\rangle_a|01000\\rangle_C|01\\rangle_b+(0.50000+0.00000j)|0\\rangle_a|10000\\rangle_C|00\\rangle_b+(0.50000+0.00000j)|0\\rangle_a|10000\\rangle_C|01\\rangle_b$"
      ],
      "text/plain": [
       "<IPython.core.display.Markdown object>"
      ]
     },
     "metadata": {},
     "output_type": "display_data"
    },
    {
     "data": {
      "text/markdown": [
       "$(0.00294-0.00000j)|0\\rangle_a|00000\\rangle_C|00\\rangle_b+(0.99510+0.00000j)|0\\rangle_a|00000\\rangle_C|01\\rangle_b+(-0.03125-0.00000j)|1\\rangle_a|00000\\rangle_C|00\\rangle_b+(0.09375+0.00000j)|1\\rangle_a|00000\\rangle_C|01\\rangle_b$"
      ],
      "text/plain": [
       "<IPython.core.display.Markdown object>"
      ]
     },
     "metadata": {},
     "output_type": "display_data"
    },
    {
     "data": {
      "text/markdown": [
       "$(-0.50000-0.00000j)|0\\rangle_a|01000\\rangle_C|00\\rangle_b+(0.50000+0.00000j)|0\\rangle_a|01000\\rangle_C|01\\rangle_b+(0.50000+0.00000j)|0\\rangle_a|10000\\rangle_C|00\\rangle_b+(0.50000+0.00000j)|0\\rangle_a|10000\\rangle_C|01\\rangle_b$"
      ],
      "text/plain": [
       "<IPython.core.display.Markdown object>"
      ]
     },
     "metadata": {},
     "output_type": "display_data"
    },
    {
     "data": {
      "text/markdown": [
       "$(0.00294-0.00000j)|0\\rangle_a|00000\\rangle_C|00\\rangle_b+(0.99510+0.00000j)|0\\rangle_a|00000\\rangle_C|01\\rangle_b+(-0.03125-0.00000j)|1\\rangle_a|00000\\rangle_C|00\\rangle_b+(0.09375+0.00000j)|1\\rangle_a|00000\\rangle_C|01\\rangle_b$"
      ],
      "text/plain": [
       "<IPython.core.display.Markdown object>"
      ]
     },
     "metadata": {},
     "output_type": "display_data"
    },
    {
     "data": {
      "text/markdown": [
       "$(-0.50000-0.00000j)|0\\rangle_a|01000\\rangle_C|00\\rangle_b+(0.50000+0.00000j)|0\\rangle_a|01000\\rangle_C|01\\rangle_b+(0.50000+0.00000j)|0\\rangle_a|10000\\rangle_C|00\\rangle_b+(0.50000+0.00000j)|0\\rangle_a|10000\\rangle_C|01\\rangle_b$"
      ],
      "text/plain": [
       "<IPython.core.display.Markdown object>"
      ]
     },
     "metadata": {},
     "output_type": "display_data"
    },
    {
     "data": {
      "text/markdown": [
       "$(0.00294-0.00000j)|0\\rangle_a|00000\\rangle_C|00\\rangle_b+(0.99510+0.00000j)|0\\rangle_a|00000\\rangle_C|01\\rangle_b+(-0.03125-0.00000j)|1\\rangle_a|00000\\rangle_C|00\\rangle_b+(0.09375+0.00000j)|1\\rangle_a|00000\\rangle_C|01\\rangle_b$"
      ],
      "text/plain": [
       "<IPython.core.display.Markdown object>"
      ]
     },
     "metadata": {},
     "output_type": "display_data"
    }
   ],
   "source": [
    "accuracy=5\n",
    "result=0\n",
    "c=1\n",
    "cheat=True\n",
    "Format=\"{0:0%db}\"%accuracy\n",
    "cols = M.shape[0]\n",
    "m = int(math.log2(cols))\n",
    "while result==0:\n",
    "    eng=MainEngine()\n",
    "    b = eng.allocate_qureg(m)\n",
    "    Clock = eng.allocate_qureg(accuracy)\n",
    "    ancilla=eng.allocate_qureg(1)\n",
    "\n",
    "    InitState(b,vector=4,eng=eng,cheat=False)\n",
    "\n",
    "    with Compute(eng):\n",
    "        QPE(M,Clock,b,eng,cheat=False)\n",
    "\n",
    "\n",
    "    if cheat:\n",
    "        eng.flush()\n",
    "        Display(get_state_as_str(eng,b+Clock+ancilla))\n",
    "\n",
    "    ControlledRy(Clock,ancilla,c,accuracy)\n",
    "\n",
    "    Uncompute(eng)\n",
    "\n",
    "    if cheat:\n",
    "        eng.flush()\n",
    "        Display(get_state_as_str(eng,b+Clock+ancilla))\n",
    "    \n",
    "    Output=get_state_as_str(eng,b+Clock+ancilla)\n",
    "    All(Measure)|ancilla\n",
    "\n",
    "    eng.flush()\n",
    "\n",
    "    result=int(ancilla)\n",
    "    if result==0:\n",
    "            All(Measure) |Clock\n",
    "            All(Measure) |b\n",
    "            eng.flush()\n",
    "            del Clock\n",
    "            del b\n",
    "            del ancilla\n",
    "            del eng\n",
    "\n",
    "    "
   ]
  },
  {
   "cell_type": "code",
   "execution_count": 24,
   "metadata": {},
   "outputs": [
    {
     "data": {
      "text/markdown": [
       "Before measure the ancilla qubit, the state is: $(0.00294-0.00000j)|0\\rangle_a|00000\\rangle_C|00\\rangle_b+(0.99510+0.00000j)|0\\rangle_a|00000\\rangle_C|01\\rangle_b+(-0.03125-0.00000j)|1\\rangle_a|00000\\rangle_C|00\\rangle_b+(0.09375+0.00000j)|1\\rangle_a|00000\\rangle_C|01\\rangle_b$"
      ],
      "text/plain": [
       "<IPython.core.display.Markdown object>"
      ]
     },
     "metadata": {},
     "output_type": "display_data"
    }
   ],
   "source": [
    "Display(\"Before measure the ancilla qubit, the state is: %s\"%Output)"
   ]
  },
  {
   "cell_type": "code",
   "execution_count": 25,
   "metadata": {},
   "outputs": [
    {
     "data": {
      "text/markdown": [
       "After measure the ancilla qubit, the state is: $(-0.31623-0.00000j)|1\\rangle_a|00000\\rangle_C|00\\rangle_b+(0.94868+0.00000j)|1\\rangle_a|00000\\rangle_C|01\\rangle_b$"
      ],
      "text/plain": [
       "<IPython.core.display.Markdown object>"
      ]
     },
     "metadata": {},
     "output_type": "display_data"
    }
   ],
   "source": [
    "Display(\"After measure the ancilla qubit, the state is: %s\"%get_state_as_str(eng,b+Clock+ancilla))"
   ]
  },
  {
   "cell_type": "markdown",
   "metadata": {},
   "source": [
    "## <span style=\"color:blue\"> 4. Calculate expectation values </span>\n",
    "\n",
    "The register $|b\\rangle$ now can be used on other operations. For example, to calculate the expectation value of one observable as $I\\otimes\\sigma_x$\n",
    "\n",
    "Let's check that the results is identical to classical ones"
   ]
  },
  {
   "cell_type": "code",
   "execution_count": 26,
   "metadata": {},
   "outputs": [],
   "source": [
    "def solve(A,b):\n",
    "    import numpy as np\n",
    "    a = np.array(A)\n",
    "    b = np.array(b)\n",
    "    x = np.linalg.solve(a, b)\n",
    "    Isigmax=np.array([[0,1,0,0],[1,0,0,0],[0,0,0,1],[0,0,1,0]])\n",
    "    Isigmay=np.array([[0,-1j,0,0],[1j,0,0,0],[0,0,0,-1j],[0,0,1j,0]])\n",
    "    Isigmaz=np.array([[1,0,0,0],[0,-1,0,0],[0,0,1,0],[0,0,0,-1]])\n",
    "    norm=np.linalg.norm(x)\n",
    "    Esx=np.dot(x,np.dot(Isigmax,x.T))/norm**2\n",
    "    Esy=np.dot(x,np.dot(Isigmay,x.T))/norm**2\n",
    "    Esz=np.dot(x,np.dot(Isigmaz,x.T))/norm**2\n",
    "    return Esx,Esy,Esz,x"
   ]
  },
  {
   "cell_type": "code",
   "execution_count": 27,
   "metadata": {},
   "outputs": [],
   "source": [
    "bvector=np.array([0,1,0,0])"
   ]
  },
  {
   "cell_type": "code",
   "execution_count": 28,
   "metadata": {},
   "outputs": [],
   "source": [
    "def DisplayResults(eng, Qureg,B,A,b):\n",
    "    Display(\"After Measure:%s\"%get_state_as_str(eng,Qureg,False))\n",
    "    Format=\"{0:0%db}\"%np.log2(len(b))\n",
    "    amplitudes=[]\n",
    "    for i in range(len(b)):\n",
    "            a=\"%s%s1\"%(Format.format(i)[-1::-1],accuracy*\"0\")\n",
    "            #print(\"a\",a)\n",
    "            amplitudes.append(eng.backend.get_amplitude(a,Qureg))\n",
    "            #print(amplitudes[i])\n",
    "    Esx,Esy,Esz,x = solve(A, b)\n",
    "    Q=\"({:.5f})\".format(amplitudes[0])\n",
    "    for i in range(1,len(amplitudes)):\n",
    "        Q=Q+\",%s\"%(\"({:.5f})\".format(amplitudes[i]))\n",
    "    Display(\"Quantum: (%s).\"%(Q))\n",
    "    Classical=\"%.5f\"%x[0]\n",
    "    for i in range(1,len(x)):\n",
    "        Classical=Classical+\",%.5f\"%x[i]\n",
    "    \n",
    "    Display(\"Classical: (%s)\"%Classical)\n",
    "    Ratios=\"%.3f\"%(amplitudes[0].real/x[0])\n",
    "    for i in range(1,len(x)):\n",
    "        if x[i]!=0:\n",
    "            Ratios=Ratios+\",%.3f\"%(amplitudes[i].real/x[i])\n",
    "        else:\n",
    "            Ratios=Ratios+\",-\"\n",
    "    Display(\"Ratios:(%s)\"%Ratios)\n",
    "    Display(\"Calculated expectation value of $\\sigma_X$:%.3f. Should be %.3f\"%(eng.backend.get_expectation_value(QubitOperator(\"X0\"),B).real,Esx.real))  \n",
    "    Display(\"Calculated expectation value of $\\sigma_Y$:%.3f. Should be %.3f\"%(eng.backend.get_expectation_value(QubitOperator(\"Y0\"),B).real,Esy.real)) \n",
    "    Display(\"Calculated expectation value of $\\sigma_Z$:%.3f. Should be %.3f\"%(eng.backend.get_expectation_value(QubitOperator(\"Z0\"),B).real,Esz.real)) "
   ]
  },
  {
   "cell_type": "code",
   "execution_count": 29,
   "metadata": {},
   "outputs": [
    {
     "data": {
      "text/markdown": [
       "After Measure:$(-0.31623-0.00000j)|1\\rangle_a|00000\\rangle_C|00\\rangle_b+(0.94868+0.00000j)|1\\rangle_a|00000\\rangle_C|01\\rangle_b$"
      ],
      "text/plain": [
       "<IPython.core.display.Markdown object>"
      ]
     },
     "metadata": {},
     "output_type": "display_data"
    },
    {
     "data": {
      "text/markdown": [
       "Quantum: ((-0.31623-0.00000j),(0.94868+0.00000j),(0.00000+0.00000j),(0.00000+0.00000j))."
      ],
      "text/plain": [
       "<IPython.core.display.Markdown object>"
      ]
     },
     "metadata": {},
     "output_type": "display_data"
    },
    {
     "data": {
      "text/markdown": [
       "Classical: (-0.03125,0.09375,0.00000,0.00000)"
      ],
      "text/plain": [
       "<IPython.core.display.Markdown object>"
      ]
     },
     "metadata": {},
     "output_type": "display_data"
    },
    {
     "data": {
      "text/markdown": [
       "Ratios:(10.119,10.119,-,-)"
      ],
      "text/plain": [
       "<IPython.core.display.Markdown object>"
      ]
     },
     "metadata": {},
     "output_type": "display_data"
    },
    {
     "data": {
      "text/markdown": [
       "Calculated expectation value of $\\sigma_X$:-0.600. Should be -0.600"
      ],
      "text/plain": [
       "<IPython.core.display.Markdown object>"
      ]
     },
     "metadata": {},
     "output_type": "display_data"
    },
    {
     "data": {
      "text/markdown": [
       "Calculated expectation value of $\\sigma_Y$:0.000. Should be 0.000"
      ],
      "text/plain": [
       "<IPython.core.display.Markdown object>"
      ]
     },
     "metadata": {},
     "output_type": "display_data"
    },
    {
     "data": {
      "text/markdown": [
       "Calculated expectation value of $\\sigma_Z$:-0.800. Should be -0.800"
      ],
      "text/plain": [
       "<IPython.core.display.Markdown object>"
      ]
     },
     "metadata": {},
     "output_type": "display_data"
    }
   ],
   "source": [
    "DisplayResults(eng, b+Clock+ancilla,b,M,bvector)"
   ]
  },
  {
   "cell_type": "code",
   "execution_count": null,
   "metadata": {},
   "outputs": [],
   "source": []
  }
 ],
 "metadata": {
  "kernelspec": {
   "display_name": "Python 3",
   "language": "python",
   "name": "python3"
  },
  "language_info": {
   "codemirror_mode": {
    "name": "ipython",
    "version": 3
   },
   "file_extension": ".py",
   "mimetype": "text/x-python",
   "name": "python",
   "nbconvert_exporter": "python",
   "pygments_lexer": "ipython3",
   "version": "3.5.6"
  }
 },
 "nbformat": 4,
 "nbformat_minor": 2
}
