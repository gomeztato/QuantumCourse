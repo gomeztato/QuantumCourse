{
 "cells": [
  {
   "cell_type": "markdown",
   "metadata": {},
   "source": [
    "### Phase estimation of an Hermitian Matrix\n",
    "\n"
   ]
  },
  {
   "cell_type": "code",
   "execution_count": 62,
   "metadata": {},
   "outputs": [],
   "source": [
    "import projectq\n",
    "from projectq.cengines import MainEngine\n",
    "from projectq.ops import H,X,BasicGate,Measure,QFT,get_inverse,All,Swap,QubitOperator,TimeEvolution,Rx,Y,StatePreparation\n",
    "from projectq.meta import Control,Compute,Uncompute\n",
    "import numpy as np\n",
    "import math\n",
    "import cmath\n"
   ]
  },
  {
   "cell_type": "markdown",
   "metadata": {},
   "source": [
    "Auxiliary functions to to show the matrix and quantum states"
   ]
  },
  {
   "cell_type": "code",
   "execution_count": 63,
   "metadata": {},
   "outputs": [],
   "source": [
    "def MatrixToLatex(A):\n",
    "    a=\"\\\\begin{bmatrix}\"\n",
    "    for i in range(A.shape[0]):\n",
    "        for j in range(A.shape[1]):\n",
    "            if ((j+1)%A.shape[1])==0:\n",
    "                a=a+\"{0:.2f}\".format(A[i,j])\n",
    "            else:\n",
    "                a=a+\"%s&\"%\"{0:.2f}\".format(A[i,j])\n",
    "        if ((i+1)%A.shape[0])!=0:\n",
    "            a=a+\"\\\\\\\\\"\n",
    "    a=a+\"\\\\end{bmatrix}\"\n",
    "    return(a)\n",
    "def Display(string):\n",
    "    from IPython.display import display, Markdown\n",
    "    display(Markdown(string))\n",
    "    \n",
    "def get_state_as_str(eng,qubits,cheat=False):\n",
    "    import numpy as np\n",
    "    s=\"$\"\n",
    "    if (cheat):\n",
    "        print(\"Cheat: \", eng.backend.cheat())\n",
    "    if (len(qubits)==2):\n",
    "        for i in range(4):\n",
    "            #print(\"bits:%d%s\"%(i,bits))\n",
    "            a=eng.backend.get_amplitude(\"%d\"%(i),qubits)\n",
    "            if (abs(a.real)>0.0000001)|(abs(a.imag)>0.000001):\n",
    "                if s!=\"$\":\n",
    "                    s=s+\"+\"\n",
    "                a=\"({:.6f})\".format(a)\n",
    "                s=s+\"%s|%d>\"%(a,i)\n",
    "\n",
    "    else:\n",
    "        for j in range(2**(len(qubits))):\n",
    "            bits=np.binary_repr(j,width=len(qubits))\n",
    "            #print(\"Bits:\",j,bits)\n",
    "            #print(\"bits:%d,%s\"%(j,bits))\n",
    "            a=eng.backend.get_amplitude(\"%s\"%(bits[-1::-1]),qubits)\n",
    "            if (abs(a.real)>0.0000001)|(abs(a.imag)>0.0000001):\n",
    "                #print(\"Añado\")\n",
    "                if s!=\"$\":\n",
    "                    s=s+\"+\"\n",
    "                a=\"({:.5f})\".format(a)\n",
    "                s=s+\"%s|%s>_C|%s>_b\"%(a,bits[0:-2],bits[-2:])\n",
    "            #print(s)\n",
    "    s=s+\"$\"\n",
    "    #Display(s)\n",
    "    return(s)"
   ]
  },
  {
   "cell_type": "markdown",
   "metadata": {},
   "source": [
    "Create one matrix $M$ from an spectral decomposition. Let be the eigenvectors\n",
    "\n",
    "$$v_1=\\frac{1 }{\\sqrt{2}}(|00>+|01>)\\\\ v_2=\\frac{1 }{\\sqrt{2}}(|00>-|01>) \\\\v_3=\\frac{1 }{\\sqrt{2}}(|10>+|11>) \\\\ v_4=\\frac{1 }{\\sqrt{2}}(|10>-|11>)$$\n",
    "\n",
    "and the eigenvalues $\\lambda_1,\\lambda_2,\\lambda_3,\\lambda_4$ \n",
    "\n",
    "Define the matrix\n",
    "$$M=\\lambda_1|v_1><v_1| +  \\lambda_2|v_2><v_2| + \\lambda_3|v_3><v_3| + \\lambda_4|v_4><v_4|$$\n"
   ]
  },
  {
   "cell_type": "code",
   "execution_count": 64,
   "metadata": {},
   "outputs": [
    {
     "data": {
      "text/markdown": [
       "M=\\begin{bmatrix}12.25&4.25&0.00&0.00\\\\4.25&12.25&0.00&0.00\\\\0.00&0.00&3.00&1.00\\\\0.00&0.00&1.00&3.00\\end{bmatrix}"
      ],
      "text/plain": [
       "<IPython.core.display.Markdown object>"
      ]
     },
     "metadata": {},
     "output_type": "display_data"
    }
   ],
   "source": [
    "Lambda=[16,8,4,2]\n",
    "Chi1P=(1/math.sqrt(2))*np.array([[1],[1],[0],[0]])\n",
    "Chi1M=(1/math.sqrt(2))*np.array([[1],[-1],[0],[0]])\n",
    "Chi2P=(1/math.sqrt(2))*np.array([[0],[0],[1],[1]])\n",
    "Chi2M=(1/math.sqrt(2))*np.array([[0],[0],[1],[-1]])\n",
    "Vector=[Chi1P,Chi1M,Chi2P,Chi2M] # Two, Three]\n",
    "M=np.zeros((len(Chi1P),len(Chi1P)))\n",
    "for i in range(len(Vector)):\n",
    "    M=M+Lambda[i]*np.dot(Vector[i],Vector[i].T)\n",
    "Display(\"M=%s\"%MatrixToLatex(M))\n",
    "    \n"
   ]
  },
  {
   "cell_type": "markdown",
   "metadata": {},
   "source": [
    "Check that this matrix has the expected eigenvalues and eigenvector"
   ]
  },
  {
   "cell_type": "code",
   "execution_count": 65,
   "metadata": {},
   "outputs": [
    {
     "data": {
      "text/markdown": [
       "Eigenvalues: [16.5,  8. ,  4. ,  2. ]"
      ],
      "text/plain": [
       "<IPython.core.display.Markdown object>"
      ]
     },
     "metadata": {},
     "output_type": "display_data"
    },
    {
     "data": {
      "text/markdown": [
       "Eigenvectors: [[ 0.70710678, -0.70710678,  0.        ,  0.        ],\n",
       " [ 0.70710678,  0.70710678,  0.        ,  0.        ],\n",
       " [ 0.        ,  0.        ,  0.70710678, -0.70710678],\n",
       " [ 0.        ,  0.        ,  0.70710678,  0.70710678]]"
      ],
      "text/plain": [
       "<IPython.core.display.Markdown object>"
      ]
     },
     "metadata": {},
     "output_type": "display_data"
    },
    {
     "data": {
      "text/markdown": [
       "M|v_0> = [[11.66726189 11.66726189  0.          0.        ]] must be Lambda[0]*v[0]=[[11.66726189, 11.66726189,  0.        ,  0.        ]]"
      ],
      "text/plain": [
       "<IPython.core.display.Markdown object>"
      ]
     },
     "metadata": {},
     "output_type": "display_data"
    },
    {
     "data": {
      "text/markdown": [
       "M|v_1> = [[ 5.65685425 -5.65685425  0.          0.        ]] must be Lambda[1]*v[1]=[[ 5.65685425, -5.65685425,  0.        ,  0.        ]]"
      ],
      "text/plain": [
       "<IPython.core.display.Markdown object>"
      ]
     },
     "metadata": {},
     "output_type": "display_data"
    },
    {
     "data": {
      "text/markdown": [
       "M|v_2> = [[0.         0.         2.82842712 2.82842712]] must be Lambda[2]*v[2]=[[0.        , 0.        , 2.82842712, 2.82842712]]"
      ],
      "text/plain": [
       "<IPython.core.display.Markdown object>"
      ]
     },
     "metadata": {},
     "output_type": "display_data"
    },
    {
     "data": {
      "text/markdown": [
       "M|v_3> = [[ 0.          0.          1.41421356 -1.41421356]] must be Lambda[3]*v[3]=[[ 0.        ,  0.        ,  1.41421356, -1.41421356]]"
      ],
      "text/plain": [
       "<IPython.core.display.Markdown object>"
      ]
     },
     "metadata": {},
     "output_type": "display_data"
    }
   ],
   "source": [
    "E,v=np.linalg.eig(M)\n",
    "Display(\"Eigenvalues: %s\"%np.array2string(E,separator=\", \"))\n",
    "Display(\"Eigenvectors: %s\"%np.array2string(v,separator=\", \"))\n",
    "for i in range(len(Vector)):\n",
    "    Display(\"M|v_%d> = %s must be Lambda[%d]*v[%d]=%s\"%(i,np.array2string(np.dot(M,Vector[i]).T), i,i,np.array2string(Lambda[i]*Vector[i].T,separator=\", \")))\n"
   ]
  },
  {
   "cell_type": "markdown",
   "metadata": {},
   "source": [
    "## Unitary operator from the Hermitian Matrix\n",
    "\n",
    "From the Hermitian matrix $M \\in C^{2^nx2^n}$, it is possible to create an Unitary Operator $U_M=e^{iM}$ with eigenvalues $e^{i\\lambda_i}$, being $\\lambda_i$ the eigenvalues of $M$ and wit the same eigenvector\n",
    "\n",
    "Check that $U_M |v_i>=e^{iM}|v_i>=e^{i\\lambda_i} |v_i>$"
   ]
  },
  {
   "cell_type": "code",
   "execution_count": 66,
   "metadata": {},
   "outputs": [
    {
     "data": {
      "text/markdown": [
       "$$ U_M |v[0]>=\\begin{bmatrix}-0.50-0.50j\\\\-0.50-0.50j\\\\0.00+0.00j\\\\0.00+0.00j\\end{bmatrix},e^{i\\lambda_0}|v[0]>=\\begin{bmatrix}-0.50-0.50j\\\\-0.50-0.50j\\\\0.00-0.00j\\\\0.00-0.00j\\end{bmatrix}$$"
      ],
      "text/plain": [
       "<IPython.core.display.Markdown object>"
      ]
     },
     "metadata": {},
     "output_type": "display_data"
    },
    {
     "data": {
      "text/markdown": [
       "$$ U_M |v[1]>=\\begin{bmatrix}-0.10+0.70j\\\\0.10-0.70j\\\\0.00+0.00j\\\\0.00+0.00j\\end{bmatrix},e^{i\\lambda_1}|v[1]>=\\begin{bmatrix}-0.10+0.70j\\\\0.10-0.70j\\\\-0.00+0.00j\\\\-0.00+0.00j\\end{bmatrix}$$"
      ],
      "text/plain": [
       "<IPython.core.display.Markdown object>"
      ]
     },
     "metadata": {},
     "output_type": "display_data"
    },
    {
     "data": {
      "text/markdown": [
       "$$ U_M |v[2]>=\\begin{bmatrix}0.00+0.00j\\\\0.00+0.00j\\\\-0.46-0.54j\\\\-0.46-0.54j\\end{bmatrix},e^{i\\lambda_2}|v[2]>=\\begin{bmatrix}0.00-0.00j\\\\0.00-0.00j\\\\-0.46-0.54j\\\\-0.46-0.54j\\end{bmatrix}$$"
      ],
      "text/plain": [
       "<IPython.core.display.Markdown object>"
      ]
     },
     "metadata": {},
     "output_type": "display_data"
    },
    {
     "data": {
      "text/markdown": [
       "$$ U_M |v[3]>=\\begin{bmatrix}0.00+0.00j\\\\0.00+0.00j\\\\-0.29+0.64j\\\\0.29-0.64j\\end{bmatrix},e^{i\\lambda_3}|v[3]>=\\begin{bmatrix}-0.00+0.00j\\\\-0.00+0.00j\\\\-0.29+0.64j\\\\0.29-0.64j\\end{bmatrix}$$"
      ],
      "text/plain": [
       "<IPython.core.display.Markdown object>"
      ]
     },
     "metadata": {},
     "output_type": "display_data"
    }
   ],
   "source": [
    "from scipy.linalg import expm\n",
    "for i in range(len(Vector)):\n",
    "    OP=np.dot(expm(1j*M),Vector[i])\n",
    "    EIG=np.exp(1j*Lambda[i])*Vector[i]          \n",
    "    Display(\"$$ U_M |v[%d]>=%s,e^{i\\lambda_%d}|v[%d]>=%s$$\"%(i,MatrixToLatex(OP),i,i,MatrixToLatex(EIG)))\n"
   ]
  },
  {
   "cell_type": "markdown",
   "metadata": {},
   "source": [
    "Because the eigenvalues are integers, they have a binary representation"
   ]
  },
  {
   "cell_type": "code",
   "execution_count": 73,
   "metadata": {},
   "outputs": [
    {
     "name": "stdout",
     "output_type": "stream",
     "text": [
      "Binary of 16.50 is  10000\n",
      "Binary of 8.00 is  01000\n",
      "Binary of 4.00 is  00100\n",
      "Binary of 2.00 is  00010\n"
     ]
    }
   ],
   "source": [
    "for i in range(len(Lambda)):\n",
    "    print(\"Binary of %2.2f is \"%(Lambda[i]),\"{0:05b}\".format(int(Lambda[i])))"
   ]
  },
  {
   "cell_type": "markdown",
   "metadata": {},
   "source": [
    "Any Hermitian matrix $M \\in \\mathbb{C}^{2^nx2^n}$, being $n$ the number of qubits, can be decomposed on tensor products of the extended Pauli set $\\Sigma=\\{I,X,Y,Z\\}$. Let $\\sigma_i \\in \\Sigma$ be. \n",
    "\n",
    "$M=\\sum_{ijk\\dots l=1}^4 A_{ijk\\dots l} \\sigma_i\\otimes\\sigma_j\\otimes\\sigma_k\\otimes \\dots \\otimes\\sigma_l$\n",
    "\n",
    "where\n",
    "$$A_{ijk\\dots l}=\\frac{1}{\\sqrt{2^n}}Tr[\\sigma_i\\otimes\\sigma_j\\otimes\\sigma_k\\otimes \\dots \\otimes\\sigma_l M]$$\n",
    "\n",
    "The function DecompositionOnSigmas makes this decomposition, creating a QubitOperator with this decomposition"
   ]
  },
  {
   "cell_type": "code",
   "execution_count": 74,
   "metadata": {},
   "outputs": [],
   "source": [
    "def TensorProduct(A):\n",
    "    a=A[-1]\n",
    "    for i in range(len(A)-2,-1,-1):\n",
    "        a=np.tensordot(A[i],a,axes=0)\n",
    "        a=np.concatenate((np.concatenate((a[0][0],a[0][1]),axis=1),np.concatenate((a[1][0],a[1][1]),axis=1)))\n",
    "    return a\n",
    "def DecompositionOnSigmas(A):\n",
    "    I=np.array([[1,0],[0,1]])\n",
    "    X=np.array([[0,1],[1,0]])\n",
    "    Y=np.array([[0,-1j],[1j,0]])\n",
    "    Z=np.array([[1,0],[0,-1]])\n",
    "    Pauli={\"I\":I,\"X\":X,\"Y\":Y,\"Z\":Z}\n",
    "    import itertools\n",
    "    n=int(math.log2(A.shape[0]))\n",
    "    Ham=QubitOperator()\n",
    "    for i in itertools.product(\"IXYZ\",repeat=n):\n",
    "        AxB=TensorProduct([Pauli[i[0]],Pauli[i[1]]])\n",
    "        coef=(1/2**n)*complex(np.trace(np.dot(AxB,A)))\n",
    "        if (coef.real!=0) | (coef.imag!=0):\n",
    "            Paulis=\"\"\n",
    "            if i[0][0]!=\"I\":\n",
    "                Paulis=Paulis+\"%s1\"%i[0]\n",
    "            if i[1][0]!=\"I\":\n",
    "                Paulis=Paulis+\" %s0\"%i[1]\n",
    "            Ham=Ham+QubitOperator(Paulis,coef)\n",
    "    return Ham"
   ]
  },
  {
   "cell_type": "markdown",
   "metadata": {},
   "source": [
    "The decomposition of M is"
   ]
  },
  {
   "cell_type": "code",
   "execution_count": 75,
   "metadata": {},
   "outputs": [
    {
     "data": {
      "text/plain": [
       "(7.624999999999998+0j) I +\n",
       "(2.6249999999999996+0j) X0 +\n",
       "(1.6249999999999996+0j) X0 Z1 +\n",
       "(4.624999999999998+0j) Z1"
      ]
     },
     "execution_count": 75,
     "metadata": {},
     "output_type": "execute_result"
    }
   ],
   "source": [
    "DecompositionOnSigmas(M)"
   ]
  },
  {
   "cell_type": "markdown",
   "metadata": {},
   "source": [
    "Now, construct the circuit for the phase estimation circuits. We will build in this case the unitary operator using the TimeEvolution function of Project Q. This gate makes the time evolution of a Hamiltonian (in our case, the decomposition on $\\sigma_i$ of M) as $$U_M=e^{-iMt}$$ \n",
    "We will choose $$t=\\frac{-2\\pi}{2^{accuracy}}$$, being accuracy the number of desired binary digits for our eigenvalues. This will map the eigenvalues of the Matrix M on the states of the qubit register. Because the $-$ sign is implicit in TimeEvolution operator and the positive exponent is desired to calculat the eigenvalues ( $e^{iMt}$ ), a $-$ sign must be included on the selected time. \n",
    "\n",
    "This function accepts as argument a number of a vector. From 0 to 3, this number will initialize the vector $b$ with the eigenvectors of M. from 4 and 6, b is initialize to:\n",
    "\n",
    "$4, |b>=|01>$\n",
    "\n",
    "$5, |b>=[10>$\n",
    "\n",
    "$6, |b>=H_1 R_{x0}(0.05)R_{x1}(0.25)|00>$"
   ]
  },
  {
   "cell_type": "code",
   "execution_count": 81,
   "metadata": {},
   "outputs": [],
   "source": [
    "def QPE(M, accuracy,t0=2*math.pi,vector=0,cheat=True):\n",
    "    eng=MainEngine()\n",
    "    cols = M.shape[0]\n",
    "    m = int(math.log2(cols))\n",
    "    C = eng.allocate_qureg(accuracy)\n",
    "    b = eng.allocate_qureg(m)\n",
    "    Ham=DecompositionOnSigmas(M)\n",
    "    \n",
    "    \"\"\"\n",
    "    Init the vector b\n",
    "    \"\"\"\n",
    "    if vector==0:\n",
    "        \"\"\"\n",
    "        1/sqrt(2)(|00>+|01>)\n",
    "        \"\"\"\n",
    "        H|b[0]\n",
    "    if vector==1:\n",
    "        \"\"\"\n",
    "        1/sqrt(2)(|00>-|01>)\n",
    "        \"\"\"\n",
    "        X|b[0]\n",
    "        H|b[0]\n",
    "    if vector==2:\n",
    "        \"\"\"\n",
    "        1/sqrt(2)(|10>+|11>)\n",
    "        \"\"\"\n",
    "\n",
    "        X|b[1]\n",
    "        H|b[0]\n",
    "    if vector==3:\n",
    "        \"\"\"\n",
    "        1/sqrt(2)(|10>-|11>)\n",
    "        \"\"\"\n",
    "        X|b[1]\n",
    "        X|b[0]\n",
    "        H|b[0]\n",
    "    if vector==4:\n",
    "        \"\"\"\n",
    "        |01>\n",
    "        \"\"\"\n",
    "        X|b[0]\n",
    "    if vector==5:\n",
    "        \"\"\"\n",
    "        |10>\n",
    "        \"\"\"\n",
    "        X|b[1]\n",
    "        \n",
    "    if vector==6:\n",
    "        Rx(0.05)|b[0]\n",
    "        Rx(0.25)|b[1]\n",
    "        H|b[1]\n",
    "\n",
    "    eng.flush()\n",
    "    if cheat:\n",
    "        Display(get_state_as_str(eng,b+C))\n",
    "\n",
    "    \"\"\"\n",
    "    \n",
    "    Init the Clock\n",
    "    \n",
    "    \"\"\"\n",
    "    \n",
    "    All(H)|C\n",
    "    \n",
    "    \"\"\"\n",
    "    Apply the time evolution of the Hamiltonian\n",
    "    \"\"\"\n",
    "    for i in range(len(C)):\n",
    "        with Control(eng,C[i]):\n",
    "            TimeEvolution(time=-t0/2**(accuracy-i,hamiltonian=Ham)|b\n",
    "    \n",
    "    \"\"\"\n",
    "    Apply the iQFT\n",
    "    \"\"\"\n",
    "    for i in range(len(C)//2):\n",
    "        Swap | (C[i],C[len(C)-i-1])\n",
    "    get_inverse(QFT)|C\n",
    "    #H|C\n",
    "    \n",
    "    eng.flush()\n",
    "    if cheat:\n",
    "        Display(get_state_as_str(eng,b+C))\n",
    "    \n",
    "    \"\"\"\n",
    "    Measure the registers\n",
    "    \"\"\"\n",
    "    All(Measure)|C\n",
    "    All(Measure)|b\n",
    "    eng.flush()\n",
    "    \n",
    "    \"\"\"\n",
    "    Get output \n",
    "    \"\"\"\n",
    "    output=[int(q) for q in C]\n",
    "    ancilla=[int(q) for q in b]\n",
    "    \n",
    "    del C\n",
    "    del b\n",
    "    del eng\n",
    "    \n",
    "    \"\"\"\n",
    "    Calculate the Eigenvalue\n",
    "    \"\"\"\n",
    "    bits=0\n",
    "    for (k,i) in enumerate(output):\n",
    "        bits=bits+i*2.**k\n",
    "    return bits\n"
   ]
  },
  {
   "cell_type": "markdown",
   "metadata": {},
   "source": [
    "We will calculate the fase with an accuracy of $$\\frac{1}{2^5}$$\n",
    "\n",
    "Because this is a probabilistic algorithm, we have to repeat the experiment several times. In this case, 100\n",
    "\n",
    "Calculate the eigenvalues for the eigenvestors"
   ]
  },
  {
   "cell_type": "code",
   "execution_count": 82,
   "metadata": {},
   "outputs": [
    {
     "data": {
      "image/png": "[encoded data removed]",
      "text/plain": [
       "<Figure size 432x288 with 1 Axes>"
      ]
     },
     "metadata": {
      "needs_background": "light"
     },
     "output_type": "display_data"
    }
   ],
   "source": [
    "accuracy=5\n",
    "experiments=100\n",
    "%matplotlib inline\n",
    "import matplotlib.pyplot as plt\n",
    "for j in range(0,4,1):\n",
    "    out=[]\n",
    "    for i in range(experiments):\n",
    "        out.append(QPE(M,accuracy=accuracy,vector=j,cheat=False))\n",
    "    x=plt.hist(out,bins=2**accuracy,range=(0,(2**accuracy)),label=\"%s\"%j)\n",
    "plt.legend()\n",
    "plt.show()\n",
    "plt.close()\n"
   ]
  },
  {
   "cell_type": "markdown",
   "metadata": {},
   "source": [
    "For the vector=4, \n",
    "\n",
    "$b=|01>=\\frac{\\sqrt{2}}{2}(|v_1>-|v_2>)$\n",
    "\n",
    "so, because this superposition, the final state after the QPE must contain eigenvalues $\\lambda_1$ and $\\lambda_2$"
   ]
  },
  {
   "cell_type": "code",
   "execution_count": 59,
   "metadata": {},
   "outputs": [
    {
     "data": {
      "image/png": "[encoded data removed]",
      "text/plain": [
       "<Figure size 432x288 with 1 Axes>"
      ]
     },
     "metadata": {
      "needs_background": "light"
     },
     "output_type": "display_data"
    }
   ],
   "source": [
    "out=[]\n",
    "j=4\n",
    "for i in range(experiments):\n",
    "    out.append(QPE(M,accuracy=accuracy,vector=j,cheat=False))\n",
    "x=plt.hist(out,bins=2**accuracy,range=(0,(2**accuracy)),label=\"%s\"%j)\n",
    "plt.legend()\n",
    "plt.show()\n",
    "plt.close()"
   ]
  },
  {
   "cell_type": "markdown",
   "metadata": {},
   "source": [
    "For the vector=5, \n",
    "\n",
    "$b=|10>=\\frac{\\sqrt{2}}{2}(|v_3>-|v_4>)$\n",
    "\n",
    "so, because this superposition, the final state after the QPE must contain eigenvalues $\\lambda_3$ and $\\lambda_4$"
   ]
  },
  {
   "cell_type": "code",
   "execution_count": 79,
   "metadata": {},
   "outputs": [
    {
     "data": {
      "image/png": "[encoded data removed]",
      "text/plain": [
       "<Figure size 432x288 with 1 Axes>"
      ]
     },
     "metadata": {
      "needs_background": "light"
     },
     "output_type": "display_data"
    }
   ],
   "source": [
    "out=[]\n",
    "j=5\n",
    "for i in range(experiments):\n",
    "    out.append(QPE(M,accuracy=accuracy,vector=j,cheat=False))\n",
    "x=plt.hist(out,bins=2**accuracy,range=(0,(2**accuracy)),color=\"r\",label=\"%s\"%j)\n",
    "plt.legend()\n",
    "plt.show()\n",
    "plt.close()"
   ]
  },
  {
   "cell_type": "markdown",
   "metadata": {},
   "source": [
    "And, because \n",
    "$$|b>=H_1 R_{x0}(0.05)R_{x1}(0.25)|00> = \\sum_{i=1}^4\\beta_i |v_i>$$\n",
    "\n",
    "the final state must have a combination of every eigenvalue"
   ]
  },
  {
   "cell_type": "code",
   "execution_count": 80,
   "metadata": {},
   "outputs": [
    {
     "data": {
      "image/png": "[encoded data removed]",
      "text/plain": [
       "<Figure size 432x288 with 1 Axes>"
      ]
     },
     "metadata": {
      "needs_background": "light"
     },
     "output_type": "display_data"
    }
   ],
   "source": [
    "out=[]\n",
    "j=6\n",
    "for i in range(experiments):\n",
    "    out.append(QPE(M,accuracy=accuracy,vector=j,cheat=False))\n",
    "x=plt.hist(out,bins=2**accuracy,range=(0,(2**accuracy)),color=\"g\",label=\"%s\"%j)\n",
    "plt.legend()\n",
    "plt.show()\n",
    "plt.close()"
   ]
  },
  {
   "cell_type": "code",
   "execution_count": null,
   "metadata": {},
   "outputs": [],
   "source": [
    "import numpy as np\n",
    "from qiskit import BasicAer\n",
    "from qiskit.aqua import QuantumInstance\n",
    "from qiskit.aqua.operators import MatrixOperator, WeightedPauliOperator, op_converter\n",
    "from qiskit.aqua.utils import decimal_to_binary\n",
    "from qiskit.aqua.algorithms import ExactEigensolver\n",
    "from qiskit.aqua.algorithms import QPE\n",
    "from qiskit.aqua.components.iqfts import Standard\n",
    "from qiskit.aqua.components.initial_states import Custom"
   ]
  },
  {
   "cell_type": "code",
   "execution_count": null,
   "metadata": {},
   "outputs": [],
   "source": [
    "Mqiskit = MatrixOperator(matrix=M)\n",
    "Mqiskit = op_converter.to_weighted_pauli_operator(Mqiskit)\n",
    "Mqiskit.to_dict()"
   ]
  },
  {
   "cell_type": "code",
   "execution_count": null,
   "metadata": {},
   "outputs": [],
   "source": [
    "tmp_qubit_op = Mqiskit.copy()\n",
    "exact_eigensolver = ExactEigensolver(tmp_qubit_op,k=2**Mqiskit.num_qubits)\n",
    "results = exact_eigensolver.run()\n",
    "\n",
    "#print(results)\n",
    "ref_eigenval = results['eigvals']\n",
    "ref_eigenvec = results['eigvecs']\n",
    "print('The exact eigenvalue is:       %s', ref_eigenval[2])\n",
    "print('The corresponding eigenvector: %s', ref_eigenvec[2])\n"
   ]
  },
  {
   "cell_type": "code",
   "execution_count": null,
   "metadata": {},
   "outputs": [],
   "source": [
    "accuracy=5\n",
    "vector=Mqiskit.num_qubits\n",
    "state_in = Custom(vector, state_vector=ref_eigenvec[2])\n",
    "iqft = Standard(accuracy)\n"
   ]
  },
  {
   "cell_type": "code",
   "execution_count": null,
   "metadata": {},
   "outputs": [],
   "source": [
    "num_time_slices=1\n",
    "qpe = QPE(Mqiskit, state_in, iqft, num_time_slices, accuracy,\n",
    "          expansion_mode='trotter', expansion_order=2,\n",
    "          shallow_circuit_concat=True)\n"
   ]
  },
  {
   "cell_type": "code",
   "execution_count": null,
   "metadata": {},
   "outputs": [],
   "source": [
    "backend = BasicAer.get_backend(\"qasm_simulator\")\n",
    "quantum_instance = QuantumInstance(backend, shots=1000)\n",
    "\n"
   ]
  },
  {
   "cell_type": "code",
   "execution_count": null,
   "metadata": {},
   "outputs": [],
   "source": [
    "\n",
    "circuit=qpe.construct_circuit(measurement=True)\n",
    "result = quantum_instance.execute(circuit)\n"
   ]
  },
  {
   "cell_type": "code",
   "execution_count": null,
   "metadata": {},
   "outputs": [],
   "source": [
    "from qiskit.tools.visualization import plot_histogram\n",
    "plot_histogram(result.get_counts())"
   ]
  },
  {
   "cell_type": "code",
   "execution_count": null,
   "metadata": {},
   "outputs": [],
   "source": [
    "print(result.get_counts())"
   ]
  },
  {
   "cell_type": "code",
   "execution_count": null,
   "metadata": {},
   "outputs": [],
   "source": [
    "from qiskit.aqua.algorithms import HHL, ExactLSsolver\n",
    "from qiskit.aqua.utils import random_matrix_generator as rmg\n",
    "from qiskit.aqua.operators import MatrixOperator\n",
    "from qiskit.aqua.components.eigs import EigsQPE\n",
    "from qiskit.aqua.components.reciprocals import LookupRotation, LongDivision\n",
    "from qiskit.aqua.components.qfts import Standard as StandardQFTS\n",
    "from qiskit.aqua.components.iqfts import Standard as StandardIQFTS\n",
    "from qiskit.aqua.components.initial_states import Custom"
   ]
  },
  {
   "cell_type": "code",
   "execution_count": null,
   "metadata": {},
   "outputs": [],
   "source": [
    "matrix, vector, truncate_powerdim, truncate_hermitian = HHL.matrix_resize(M, ChiP)"
   ]
  },
  {
   "cell_type": "code",
   "execution_count": null,
   "metadata": {},
   "outputs": [],
   "source": [
    "matrix"
   ]
  },
  {
   "cell_type": "code",
   "execution_count": null,
   "metadata": {},
   "outputs": [],
   "source": [
    "vector"
   ]
  },
  {
   "cell_type": "code",
   "execution_count": null,
   "metadata": {},
   "outputs": [],
   "source": [
    "init_state = Custom(2, state_vector=vector)"
   ]
  },
  {
   "cell_type": "code",
   "execution_count": null,
   "metadata": {},
   "outputs": [],
   "source": [
    "ne_qfts = [None, None]\n",
    "negative_evals=False\n",
    "\n",
    "eigs=EigsQPE(MatrixOperator(matrix=matrix),\n",
    "                       StandardIQFTS(3),\n",
    "                       num_time_slices=1,\n",
    "                       num_ancillae=5,\n",
    "                       expansion_mode='suzuki',\n",
    "                       expansion_order=2,\n",
    "                       evo_time=None,\n",
    "                       negative_evals=False,\n",
    "                       ne_qfts=ne_qfts)\n",
    "\n",
    "num_q, num_a = eigs.get_register_sizes()\n",
    "reci = LookupRotation(negative_evals=eigs._negative_evals, evo_time=eigs._evo_time)"
   ]
  },
  {
   "cell_type": "code",
   "execution_count": null,
   "metadata": {},
   "outputs": [],
   "source": [
    "algo = HHL(matrix, vector, truncate_powerdim, truncate_hermitian, eigs,\n",
    "                   init_state, reci, num_q, num_a, len(vector))\n",
    "hhl_result = algo.run(QuantumInstance(BasicAer.get_backend('statevector_simulator'),\n",
    "                                              seed_simulator=1,\n",
    "                                              seed_transpiler=1))\n",
    "\n",
    "hhl_solution = hhl_result['solution']\n",
    "hhl_normed = hhl_solution/np.linalg.norm(hhl_solution)"
   ]
  },
  {
   "cell_type": "code",
   "execution_count": null,
   "metadata": {},
   "outputs": [],
   "source": [
    "hhl_result"
   ]
  },
  {
   "cell_type": "code",
   "execution_count": null,
   "metadata": {},
   "outputs": [],
   "source": [
    "hhl_solution"
   ]
  },
  {
   "cell_type": "code",
   "execution_count": null,
   "metadata": {},
   "outputs": [],
   "source": [
    "hhl_normed"
   ]
  },
  {
   "cell_type": "code",
   "execution_count": null,
   "metadata": {},
   "outputs": [],
   "source": []
  }
 ],
 "metadata": {
  "kernelspec": {
   "display_name": "Python 3",
   "language": "python",
   "name": "python3"
  },
  "language_info": {
   "codemirror_mode": {
    "name": "ipython",
    "version": 3
   },
   "file_extension": ".py",
   "mimetype": "text/x-python",
   "name": "python",
   "nbconvert_exporter": "python",
   "pygments_lexer": "ipython3",
   "version": "3.5.6"
  }
 },
 "nbformat": 4,
 "nbformat_minor": 2
}
