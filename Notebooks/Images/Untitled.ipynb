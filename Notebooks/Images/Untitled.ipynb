{
 "cells": [
  {
   "cell_type": "code",
   "execution_count": 1,
   "metadata": {},
   "outputs": [],
   "source": [
    "from projectq.cengines import MainEngine"
   ]
  },
  {
   "cell_type": "code",
   "execution_count": 2,
   "metadata": {},
   "outputs": [],
   "source": [
    "from projectq.ops import H,Measure,TimeEvolution,QubitOperator,QFT,get_inverse,All,S,Swap,Ry,SqrtX,Rx,Ph,Z,X\n",
    "from projectq.meta import Compute,Uncompute,Control,Dagger\n"
   ]
  },
  {
   "cell_type": "code",
   "execution_count": 3,
   "metadata": {},
   "outputs": [
    {
     "name": "stdout",
     "output_type": "stream",
     "text": [
      "1.5 I +\n",
      "0.5 X0\n"
     ]
    }
   ],
   "source": [
    "Ham=QubitOperator(\"\",1.5)\n",
    "Ham=Ham+QubitOperator(\"X0\",0.5)\n",
    "print(Ham)\n",
    "import math\n",
    "t0=2*math.pi"
   ]
  },
  {
   "cell_type": "code",
   "execution_count": 4,
   "metadata": {},
   "outputs": [],
   "source": [
    "\n",
    "params = [[0.19634953,      0.37900987,   0.9817477,  1.87900984,  0.58904862 ],\n",
    "        [1.9634954,       1.11532058,   1.9634954,  2.61532069,  1.17809726 ],\n",
    "        [-0.78539816,     1.01714584,   3.92699082, 2.51714589,  2.35619449 ],\n",
    "        [-9.01416169e-09, -0.750000046, 1.57079632, 0.750000039, -1.57079633]]"
   ]
  },
  {
   "cell_type": "code",
   "execution_count": 5,
   "metadata": {},
   "outputs": [],
   "source": [
    "def Ham4x4(eng,B,params):\n",
    "    with Control(eng,B[1]):\n",
    "        Z|B[0]\n",
    "    Rx(params[0])|B[0]\n",
    "    get_inverse(SqrtX)|B[0]\n",
    "    Ph(params[1])|B[0]\n",
    "    Rx(params[2])|B[1]\n",
    "    Ph(params[3])|B[1]\n",
    "    with Control(eng,B[1]):\n",
    "        X|B[0]\n",
    "    Rx(params[4])|B[1]\n",
    "    with Control(eng,B[1]):\n",
    "        X|B[0]\n",
    "    with Control(eng,B[1]):\n",
    "        Z|B[0]"
   ]
  },
  {
   "cell_type": "code",
   "execution_count": null,
   "metadata": {},
   "outputs": [],
   "source": []
  },
  {
   "cell_type": "code",
   "execution_count": 6,
   "metadata": {},
   "outputs": [
    {
     "name": "stdout",
     "output_type": "stream",
     "text": [
      "DD 0\n",
      "DD 1\n",
      "DD 2\n",
      "DD 3\n",
      "Exponente:  0.7853981633974483\n",
      "Exponente:  0.39269908169872414\n",
      "Exponente:  0.19634954084936207\n",
      "Exponente:  0.09817477042468103\n",
      "Result: 0\n",
      "DD 0\n",
      "DD 1\n",
      "DD 2\n",
      "DD 3\n",
      "Exponente:  0.7853981633974483\n",
      "Exponente:  0.39269908169872414\n",
      "Exponente:  0.19634954084936207\n",
      "Exponente:  0.09817477042468103\n",
      "Result: 0\n",
      "DD 0\n",
      "DD 1\n",
      "DD 2\n",
      "DD 3\n",
      "Exponente:  0.7853981633974483\n",
      "Exponente:  0.39269908169872414\n",
      "Exponente:  0.19634954084936207\n",
      "Exponente:  0.09817477042468103\n",
      "Result: 0\n",
      "DD 0\n",
      "DD 1\n",
      "DD 2\n",
      "DD 3\n",
      "Exponente:  0.7853981633974483\n",
      "Exponente:  0.39269908169872414\n",
      "Exponente:  0.19634954084936207\n",
      "Exponente:  0.09817477042468103\n",
      "Result: 0\n",
      "DD 0\n",
      "DD 1\n",
      "DD 2\n",
      "DD 3\n",
      "Exponente:  0.7853981633974483\n",
      "Exponente:  0.39269908169872414\n",
      "Exponente:  0.19634954084936207\n",
      "Exponente:  0.09817477042468103\n",
      "Result: 0\n",
      "DD 0\n",
      "DD 1\n",
      "DD 2\n",
      "DD 3\n",
      "Exponente:  0.7853981633974483\n",
      "Exponente:  0.39269908169872414\n",
      "Exponente:  0.19634954084936207\n",
      "Exponente:  0.09817477042468103\n",
      "Result: 0\n",
      "DD 0\n",
      "DD 1\n",
      "DD 2\n",
      "DD 3\n",
      "Exponente:  0.7853981633974483\n",
      "Exponente:  0.39269908169872414\n",
      "Exponente:  0.19634954084936207\n",
      "Exponente:  0.09817477042468103\n",
      "Result: 0\n",
      "DD 0\n",
      "DD 1\n",
      "DD 2\n",
      "DD 3\n",
      "Exponente:  0.7853981633974483\n",
      "Exponente:  0.39269908169872414\n",
      "Exponente:  0.19634954084936207\n",
      "Exponente:  0.09817477042468103\n",
      "Result: 0\n",
      "DD 0\n",
      "DD 1\n",
      "DD 2\n",
      "DD 3\n",
      "Exponente:  0.7853981633974483\n",
      "Exponente:  0.39269908169872414\n",
      "Exponente:  0.19634954084936207\n",
      "Exponente:  0.09817477042468103\n",
      "Result: 0\n",
      "DD 0\n",
      "DD 1\n",
      "DD 2\n",
      "DD 3\n",
      "Exponente:  0.7853981633974483\n",
      "Exponente:  0.39269908169872414\n",
      "Exponente:  0.19634954084936207\n",
      "Exponente:  0.09817477042468103\n",
      "Result: 0\n",
      "DD 0\n",
      "DD 1\n",
      "DD 2\n",
      "DD 3\n",
      "Exponente:  0.7853981633974483\n",
      "Exponente:  0.39269908169872414\n",
      "Exponente:  0.19634954084936207\n",
      "Exponente:  0.09817477042468103\n",
      "Result: 0\n",
      "DD 0\n",
      "DD 1\n",
      "DD 2\n",
      "DD 3\n",
      "Exponente:  0.7853981633974483\n",
      "Exponente:  0.39269908169872414\n",
      "Exponente:  0.19634954084936207\n",
      "Exponente:  0.09817477042468103\n",
      "Result: 0\n",
      "DD 0\n",
      "DD 1\n",
      "DD 2\n",
      "DD 3\n",
      "Exponente:  0.7853981633974483\n",
      "Exponente:  0.39269908169872414\n",
      "Exponente:  0.19634954084936207\n",
      "Exponente:  0.09817477042468103\n",
      "Result: 0\n",
      "DD 0\n",
      "DD 1\n",
      "DD 2\n",
      "DD 3\n",
      "Exponente:  0.7853981633974483\n",
      "Exponente:  0.39269908169872414\n",
      "Exponente:  0.19634954084936207\n",
      "Exponente:  0.09817477042468103\n",
      "Result: 0\n",
      "DD 0\n",
      "DD 1\n",
      "DD 2\n",
      "DD 3\n",
      "Exponente:  0.7853981633974483\n",
      "Exponente:  0.39269908169872414\n",
      "Exponente:  0.19634954084936207\n",
      "Exponente:  0.09817477042468103\n",
      "Result: 1\n",
      "({0: 2, 1: 1, 2: 5, 3: 4, 4: 3, 5: 0, 6: 6}, [0j, 0j, 0j, 0j, 0j, 0j, 0j, 0j, 0j, 0j, 0j, 0j, 0j, 0j, 0j, 0j, 0j, 0j, 0j, 0j, 0j, 0j, 0j, 0j, 0j, 0j, 0j, 0j, 0j, 0j, 0j, 0j, 0j, 0j, 0j, 0j, 0j, 0j, 0j, 0j, 0j, 0j, 0j, 0j, 0j, 0j, 0j, 0j, 0j, 0j, 0j, 0j, 0j, 0j, 0j, 0j, 0j, 0j, 0j, 0j, 0j, 0j, 0j, 0j, (0.28305912052726623+5.787405107022674e-13j), (3.4859003232982805e-13-0.19322573590566786j), (0.33154318796643795+8.488373288535105e-13j), (-3.641968702366812e-13+0.1879128599551471j), (0.43566205541139214+7.82289951150257e-13j), (4.238700739981786e-13-0.20471854164288164j), (0.5615203879693923+1.08408186120559e-12j), (-4.0470299616709354e-13+0.15930648527848226j), (3.794230535604404e-14-0.030234118881418148j), (0.12443665610365186+2.6016061396018686e-13j), (2.8742779740505123e-13-0.0985845393945653j), (0.1470863534940293+3.4420690676273115e-13j), (-3.6923494560116036e-14-0.006137585005080974j), (0.10231857540430381+1.8964120364492434e-13j), (4.465414131383348e-13-0.21441378799148195j), (0.11071464966233492+2.2483250993215592e-13j), (-6.575947869486402e-14+0.0471917843257196j), (0.019848312921939035-1.421856825086336e-15j), (1.0938711215318488e-13-0.06309512193241387j), (0.0036695216394142067+2.040980308765662e-14j), (3.5701061551540333e-13-0.12112129601375239j), (0.01898409425237732+2.88177910848207e-14j), (6.540471422128195e-14-0.030913044593145565j), (0.010991411862046486+2.3622975597891096e-14j), (0.045151233781251306+9.36522231641512e-14j), (-1.5006187366176933e-13+0.07389635995775447j), (-0.07185995207386964-1.1738155813084795e-13j), (6.342936883879242e-14-0.04101235520583297j), (0.007954249909678404-7.282817832430407e-15j), (-1.0983004294564533e-13+0.044187200123612914j), (-0.021976438277988935-7.840924625584374e-14j), (2.0783740236931295e-13-0.0941178389994011j), (5.640557320347639e-17+1.8124641237379136e-10j), (7.64492669099339e-11+4.848900153228939e-17j), (-1.9791428435055875e-18-4.937676349038312e-10j), (-2.798673444976363e-10+3.0181929499984634e-17j), (1.5833143339767278e-17-4.354906321598526e-10j), (-4.489715794915543e-11-4.6509858594942336e-17j), (7.12491450980305e-17-7.076137898137606e-10j), (-2.1780833570136303e-10+9.895714592893803e-18j), (-8.957947102830112e-11-1.2864428988487554e-17j), (6.927000207726881e-18-9.124151171060407e-11j), (-4.146805950089139e-10+2.6223643693064917e-17j), (-1.3854000446734251e-17-7.663826021513457e-11j), (-1.1053497369943547e-10+2.968714374740092e-18j), (1.5833143352800816e-17-5.470050544975848e-11j), (-5.474418562876842e-10-3.7603715444654983e-17j), (3.958285837157521e-17-4.352740342640024e-10j), (3.7959995130341656e-10-3.661414400986865e-17j), (-2.671842940915473e-17-1.252466456127267e-11j), (3.153584555175517e-10-2.919235804173794e-17j), (5.343685881830946e-17-7.152497823567458e-11j), (-5.61995412494027e-10-3.265585817427516e-17j), (3.166628670560163e-17-8.968928624709516e-11j), (-2.5895358491937994e-10-4.9478572964469015e-17j), (-3.166628670560163e-17-4.626256389908883e-10j), (-4.9478572964469015e-18-2.4439010628001234e-10j), (3.9340746859683894e-11-3.8593286928968756e-17j), (4.156200125678812e-17+1.627827317826441e-10j), (-4.713636361235059e-10-1.4843571847633385e-18j), (1.5833143352800816e-17-4.661899299211547e-11j), (-2.4504563304981416e-10-2.968714387773629e-18j), (-1.5833143373654474e-17-2.932628428285923e-10j), (-2.6034452656291253e-10-6.531171633812349e-17j)])\n",
      "Amplitudes; 0.37944375079505294 0.5091801366600547 0.4329269696006443 0.6397907997195897\n"
     ]
    }
   ],
   "source": [
    "result=0\n",
    "while (result==0):\n",
    "    eng=MainEngine()\n",
    "    B=eng.allocate_qureg(2)\n",
    "    C=eng.allocate_qureg(4)\n",
    "    qS=eng.allocate_qureg(1)\n",
    "    All(H)|B\n",
    "    with Compute(eng):\n",
    "        All(H)|C\n",
    "        for i in range(len(C)):\n",
    "            print(\"DD %d\"%i)\n",
    "            with Control(eng,C[len(C)-i-1]):\n",
    "                Ham4x4(eng,B,params[i])\n",
    "        get_inverse(QFT)|C\n",
    "        Swap|(C[1],C[2])\n",
    "    r=6\n",
    "    for i in range(len(C)):\n",
    "        with Control(eng,C[len(C)-1-i]):\n",
    "            print(\"Exponente: \",2**(len(C)-i-r)*math.pi)\n",
    "            Ry(2**(len(C)-i-r)*math.pi)|qS\n",
    "\n",
    "    Uncompute(eng)\n",
    "    eng.flush()\n",
    "    #print(eng.backend.cheat())\n",
    "    Measure |qS\n",
    "    eng.flush()\n",
    "    result=int(qS)\n",
    "    print(\"Result:\",result)\n",
    "    if result==0:\n",
    "        All(Measure) | B\n",
    "        All(Measure) |C\n",
    "        del eng\n",
    "    #result=1\n",
    "    if (result):\n",
    "        print(eng.backend.cheat())\n",
    "        amplitude1=math.sqrt(eng.backend.get_probability(\"00\",B))\n",
    "        amplitude2=math.sqrt(eng.backend.get_probability(\"10\",B))\n",
    "        amplitude3=math.sqrt(eng.backend.get_probability(\"01\",B))\n",
    "        amplitude4=math.sqrt(eng.backend.get_probability(\"11\",B))\n",
    "        print(\"Amplitudes;\",amplitude1,amplitude2,amplitude3,amplitude4)\n",
    "        "
   ]
  },
  {
   "cell_type": "code",
   "execution_count": 7,
   "metadata": {},
   "outputs": [
    {
     "data": {
      "text/plain": [
       "1.1866666666666668"
      ]
     },
     "execution_count": 7,
     "metadata": {},
     "output_type": "execute_result"
    }
   ],
   "source": [
    "0.89/0.75"
   ]
  },
  {
   "cell_type": "code",
   "execution_count": 8,
   "metadata": {},
   "outputs": [
    {
     "data": {
      "text/plain": [
       "0.9219544457292888"
      ]
     },
     "execution_count": 8,
     "metadata": {},
     "output_type": "execute_result"
    }
   ],
   "source": [
    "17/math.sqrt(340)"
   ]
  },
  {
   "cell_type": "code",
   "execution_count": 9,
   "metadata": {},
   "outputs": [
    {
     "data": {
      "text/plain": [
       "[0.19634953, 0.37900987, 0.9817477, 1.87900984, 0.58904862]"
      ]
     },
     "execution_count": 9,
     "metadata": {},
     "output_type": "execute_result"
    }
   ],
   "source": [
    "params[0]"
   ]
  },
  {
   "cell_type": "code",
   "execution_count": 10,
   "metadata": {},
   "outputs": [
    {
     "data": {
      "text/plain": [
       "0.7071067811865476"
      ]
     },
     "execution_count": 10,
     "metadata": {},
     "output_type": "execute_result"
    }
   ],
   "source": [
    "import math\n",
    "math.cos(math.pi/4.)"
   ]
  },
  {
   "cell_type": "code",
   "execution_count": 11,
   "metadata": {},
   "outputs": [
    {
     "data": {
      "text/plain": [
       "0.0707372016677029"
      ]
     },
     "execution_count": 11,
     "metadata": {},
     "output_type": "execute_result"
    }
   ],
   "source": [
    "math.cos(1.5)"
   ]
  },
  {
   "cell_type": "code",
   "execution_count": null,
   "metadata": {},
   "outputs": [],
   "source": []
  }
 ],
 "metadata": {
  "kernelspec": {
   "display_name": "Python 3",
   "language": "python",
   "name": "python3"
  },
  "language_info": {
   "codemirror_mode": {
    "name": "ipython",
    "version": 3
   },
   "file_extension": ".py",
   "mimetype": "text/x-python",
   "name": "python",
   "nbconvert_exporter": "python",
   "pygments_lexer": "ipython3",
   "version": "3.5.5"
  }
 },
 "nbformat": 4,
 "nbformat_minor": 2
}
