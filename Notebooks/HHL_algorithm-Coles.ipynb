{
 "cells": [
  {
   "cell_type": "markdown",
   "metadata": {},
   "source": [
    "# HHL algorithm\n",
    "\n",
    "The algorithm tries to solve the system of linear equations that can be represented as:\n",
    "\n",
    "$$A\\vec{x}=\\vec{b}$$\n",
    "\n",
    "The algorithm was proposed by [Aram W. Harrow, Avinatan Hassidim, and Seth Lloyd](https://arxiv.org/abs/0811.3171). It assumes that the eigenvalues ($\\{\\lambda_j,j=1,N\\}$) and eigenstates ($\\{u_j,j=1,N\\}$) of matrix A of dimension $NxN$ are known. \n",
    "\n",
    "If $$\\vec{b}=\\sum_{j=1}^{M}\\beta_j|u_j\\rangle$$\n",
    "and $C$ is a constant such as $C<\\lambda_j$, then $\\vec{x}$ can be approximated as\n",
    "\n",
    "$$|x\\rangle \\approx C \\sum_{j=1}^M \\frac{\\beta_j}{\\lambda_j}|u_j\\rangle$$\n",
    "\n",
    "The algorithm uses three registers:\n",
    "\n",
    "1. S An ancilla qubit to get the solution\n",
    "2. C or clock register\n",
    "3. b to store $\\vec{b}$\n",
    "\n",
    "So, the init state is $|0\\rangle_S|0\\rangle_C|0\\rangle_b$\n",
    "\n",
    "\n",
    "The steps of algorithm are:\n",
    "\n",
    "1. Prepare an initial state $|b\\rangle_{b}$ \n",
    "2. Make a phase estimation of A\n",
    "3. Make control rotations on S\n",
    "4. Uncompute 2\n",
    "5. Measure S. if result is $|1>$ then return the register I, else goto step 1.\n",
    "6. Calculate the expectation value of one operator on b which is equivalent to $\\langle x|Operator|x\\rangle$\n"
   ]
  },
  {
   "cell_type": "markdown",
   "metadata": {},
   "source": [
    "This exercise implements a simpler version of the HHL algorithm from [Coles et al.](https://arxiv.org/abs/1804.03719). The system of linear equations to solve is\n",
    "\n",
    "$\\frac{1}{2}\\begin{bmatrix}3&1\\\\1&3\\end{bmatrix}\\vec{x}=\\begin{bmatrix}1\\\\0\\end{bmatrix}$\n",
    "\n",
    "The eigenvalues of this matrix are $\\lambda_1=1$ and $\\lambda_2=2$, with eigenvectors $|-\\rangle=\\frac{1}{\\sqrt{2}}(|0\\rangle-|1\\rangle)$ and $|+\\rangle=\\frac{1}{\\sqrt{2}}(|0\\rangle+|1\\rangle)$ \n"
   ]
  },
  {
   "cell_type": "code",
   "execution_count": 1,
   "metadata": {},
   "outputs": [],
   "source": [
    "from projectq.cengines import MainEngine"
   ]
  },
  {
   "cell_type": "code",
   "execution_count": 2,
   "metadata": {},
   "outputs": [],
   "source": [
    "from projectq.ops import Ry,Measure,All,H,X,Swap,CNOT\n",
    "from projectq.meta import Compute,Uncompute,Control"
   ]
  },
  {
   "cell_type": "code",
   "execution_count": 3,
   "metadata": {},
   "outputs": [],
   "source": [
    "from projectq.ops import QubitOperator"
   ]
  },
  {
   "cell_type": "markdown",
   "metadata": {},
   "source": [
    "Select *case* as:\n",
    "\n",
    "0. $b=|0\\rangle$\n",
    "1. $b=|+\\rangle=\\frac{1}{\\sqrt{2}}(|0\\rangle+|1\\rangle$\n",
    "2. $b=|-\\rangle=\\frac{1}{\\sqrt{2}}(|0\\rangle-|1\\rangle$"
   ]
  },
  {
   "cell_type": "code",
   "execution_count": 4,
   "metadata": {},
   "outputs": [],
   "source": [
    "case=1 #select case=0, |0>; case =1, |+>; case=2, |->"
   ]
  },
  {
   "cell_type": "markdown",
   "metadata": {},
   "source": [
    "This is a helper function to print the final state"
   ]
  },
  {
   "cell_type": "code",
   "execution_count": 5,
   "metadata": {},
   "outputs": [],
   "source": [
    "def Display(string):\n",
    "    from IPython.display import display, Markdown\n",
    "    display(Markdown(string))"
   ]
  },
  {
   "cell_type": "code",
   "execution_count": 6,
   "metadata": {},
   "outputs": [],
   "source": [
    "def get_state_as_str(eng,qubits,cheat=False):\n",
    "    import numpy as np\n",
    "    s=\"$\"\n",
    "    if (cheat):\n",
    "        print(\"Cheat: \", eng.backend.cheat())\n",
    "    if (len(qubits)==1):\n",
    "        for i in range(2):\n",
    "            #print(\"bits:%d%s\"%(i,bits))\n",
    "            a=eng.backend.get_amplitude(\"%d\"%(i),qubits)\n",
    "            if (a.real!=0)|(a.imag!=0):\n",
    "                if s!=\"$\":\n",
    "                    s=s+\"+\"\n",
    "                a=\"({:.2f})\".format(a)\n",
    "                s=s+\"%s|%d>\"%(a,i)\n",
    "\n",
    "    else:\n",
    "        for j in range(2**(len(qubits)-1)):\n",
    "            bits=np.binary_repr(j,width=len(qubits)-1)\n",
    "            #print(\"Bits:\",j,bits)\n",
    "            for i in range(2):\n",
    "                #print(\"bits:%d%s\"%(i,bits))\n",
    "                a=eng.backend.get_amplitude(\"%d%s\"%(i,bits[-1::-1]),qubits)\n",
    "                if (a.real!=0)|(a.imag!=0):\n",
    "                    if s!=\"$\":\n",
    "                        s=s+\"+\"\n",
    "                    a=\"({:.2f})\".format(a)\n",
    "                    s=s+\"%s|%s>_S|%s>_C|%d>_b\"%(a,bits[0],bits[1:],i)\n",
    "                #print(s)\n",
    "    s=s+\"$\"\n",
    "    #Display(s)\n",
    "    return(s)"
   ]
  },
  {
   "cell_type": "markdown",
   "metadata": {},
   "source": [
    "For this version of the algorithm, the Quantum Phase Estimation can be simplified to a very few operations."
   ]
  },
  {
   "cell_type": "code",
   "execution_count": 7,
   "metadata": {},
   "outputs": [],
   "source": [
    "def QPE(b,C):\n",
    "        H | b\n",
    "        CNOT | (b,C[0])\n",
    "        CNOT | (C[0],C[1])\n",
    "        X | C[0]\n",
    "        Swap | (C[0],C[1])\n",
    "\n"
   ]
  },
  {
   "cell_type": "markdown",
   "metadata": {},
   "source": [
    "This is the function to apply the controlled rotations on qubit *S*"
   ]
  },
  {
   "cell_type": "code",
   "execution_count": 8,
   "metadata": {},
   "outputs": [],
   "source": [
    "def ControledRotation(eng,C,S):\n",
    "    import math\n",
    "    Theta_1=math.pi\n",
    "    Theta_2=math.pi/3\n",
    "    \n",
    "    with Control(eng,C[0]):\n",
    "        Ry(Theta_1) | S\n",
    "    with Control(eng,C[1]):\n",
    "        Ry(Theta_2) |S\n"
   ]
  },
  {
   "cell_type": "code",
   "execution_count": 9,
   "metadata": {},
   "outputs": [],
   "source": [
    "def initialize(eng,qureg,case):\n",
    "    b=qureg[0]\n",
    "    if (case == 2):\n",
    "        X | b\n",
    "    if (case >0):\n",
    "        H | b\n",
    "    eng.flush()\n",
    "    Display(\"Solving for vector:%s\"%(get_state_as_str(eng,qureg)))\n"
   ]
  },
  {
   "cell_type": "markdown",
   "metadata": {},
   "source": [
    "This is the main loop. It has to be executed until the result of the measurement of quantum register **S** is $|1\\rangle$. The main loop has three steps:\n",
    "\n",
    "1. Initialize quantum register $|b\\rangle$\n",
    "2. Compute QPE\n",
    "3. Computer Controlled rotations\n",
    "4. Uncompute QPE"
   ]
  },
  {
   "cell_type": "code",
   "execution_count": 10,
   "metadata": {},
   "outputs": [
    {
     "data": {
      "text/markdown": [
       "Solving for vector:$(0.71+0.00j)|0>_S|00>_C|0>_b+(0.71+0.00j)|0>_S|00>_C|1>_b$"
      ],
      "text/plain": [
       "<IPython.core.display.Markdown object>"
      ]
     },
     "metadata": {},
     "output_type": "display_data"
    },
    {
     "data": {
      "text/markdown": [
       "Ancilla measurement: 0"
      ],
      "text/plain": [
       "<IPython.core.display.Markdown object>"
      ]
     },
     "metadata": {},
     "output_type": "display_data"
    },
    {
     "data": {
      "text/markdown": [
       "Solving for vector:$(0.71+0.00j)|0>_S|00>_C|0>_b+(0.71+0.00j)|0>_S|00>_C|1>_b$"
      ],
      "text/plain": [
       "<IPython.core.display.Markdown object>"
      ]
     },
     "metadata": {},
     "output_type": "display_data"
    },
    {
     "data": {
      "text/markdown": [
       "Ancilla measurement: 0"
      ],
      "text/plain": [
       "<IPython.core.display.Markdown object>"
      ]
     },
     "metadata": {},
     "output_type": "display_data"
    },
    {
     "data": {
      "text/markdown": [
       "Solving for vector:$(0.71+0.00j)|0>_S|00>_C|0>_b+(0.71+0.00j)|0>_S|00>_C|1>_b$"
      ],
      "text/plain": [
       "<IPython.core.display.Markdown object>"
      ]
     },
     "metadata": {},
     "output_type": "display_data"
    },
    {
     "data": {
      "text/markdown": [
       "Ancilla measurement: 0"
      ],
      "text/plain": [
       "<IPython.core.display.Markdown object>"
      ]
     },
     "metadata": {},
     "output_type": "display_data"
    },
    {
     "data": {
      "text/markdown": [
       "Solving for vector:$(0.71+0.00j)|0>_S|00>_C|0>_b+(0.71+0.00j)|0>_S|00>_C|1>_b$"
      ],
      "text/plain": [
       "<IPython.core.display.Markdown object>"
      ]
     },
     "metadata": {},
     "output_type": "display_data"
    },
    {
     "data": {
      "text/markdown": [
       "Ancilla measurement: 0"
      ],
      "text/plain": [
       "<IPython.core.display.Markdown object>"
      ]
     },
     "metadata": {},
     "output_type": "display_data"
    },
    {
     "data": {
      "text/markdown": [
       "Solving for vector:$(0.71+0.00j)|0>_S|00>_C|0>_b+(0.71+0.00j)|0>_S|00>_C|1>_b$"
      ],
      "text/plain": [
       "<IPython.core.display.Markdown object>"
      ]
     },
     "metadata": {},
     "output_type": "display_data"
    },
    {
     "data": {
      "text/markdown": [
       "Ancilla measurement: 0"
      ],
      "text/plain": [
       "<IPython.core.display.Markdown object>"
      ]
     },
     "metadata": {},
     "output_type": "display_data"
    },
    {
     "data": {
      "text/markdown": [
       "Solving for vector:$(0.71+0.00j)|0>_S|00>_C|0>_b+(0.71+0.00j)|0>_S|00>_C|1>_b$"
      ],
      "text/plain": [
       "<IPython.core.display.Markdown object>"
      ]
     },
     "metadata": {},
     "output_type": "display_data"
    },
    {
     "data": {
      "text/markdown": [
       "Ancilla measurement: 0"
      ],
      "text/plain": [
       "<IPython.core.display.Markdown object>"
      ]
     },
     "metadata": {},
     "output_type": "display_data"
    },
    {
     "data": {
      "text/markdown": [
       "Solving for vector:$(0.71+0.00j)|0>_S|00>_C|0>_b+(0.71+0.00j)|0>_S|00>_C|1>_b$"
      ],
      "text/plain": [
       "<IPython.core.display.Markdown object>"
      ]
     },
     "metadata": {},
     "output_type": "display_data"
    },
    {
     "data": {
      "text/markdown": [
       "Ancilla measurement: 0"
      ],
      "text/plain": [
       "<IPython.core.display.Markdown object>"
      ]
     },
     "metadata": {},
     "output_type": "display_data"
    },
    {
     "data": {
      "text/markdown": [
       "Solving for vector:$(0.71+0.00j)|0>_S|00>_C|0>_b+(0.71+0.00j)|0>_S|00>_C|1>_b$"
      ],
      "text/plain": [
       "<IPython.core.display.Markdown object>"
      ]
     },
     "metadata": {},
     "output_type": "display_data"
    },
    {
     "data": {
      "text/markdown": [
       "Ancilla measurement: 0"
      ],
      "text/plain": [
       "<IPython.core.display.Markdown object>"
      ]
     },
     "metadata": {},
     "output_type": "display_data"
    },
    {
     "data": {
      "text/markdown": [
       "Solving for vector:$(0.71+0.00j)|0>_S|00>_C|0>_b+(0.71+0.00j)|0>_S|00>_C|1>_b$"
      ],
      "text/plain": [
       "<IPython.core.display.Markdown object>"
      ]
     },
     "metadata": {},
     "output_type": "display_data"
    },
    {
     "data": {
      "text/markdown": [
       "Ancilla measurement: 0"
      ],
      "text/plain": [
       "<IPython.core.display.Markdown object>"
      ]
     },
     "metadata": {},
     "output_type": "display_data"
    },
    {
     "data": {
      "text/markdown": [
       "Solving for vector:$(0.71+0.00j)|0>_S|00>_C|0>_b+(0.71+0.00j)|0>_S|00>_C|1>_b$"
      ],
      "text/plain": [
       "<IPython.core.display.Markdown object>"
      ]
     },
     "metadata": {},
     "output_type": "display_data"
    },
    {
     "data": {
      "text/markdown": [
       "Ancilla measurement: 0"
      ],
      "text/plain": [
       "<IPython.core.display.Markdown object>"
      ]
     },
     "metadata": {},
     "output_type": "display_data"
    },
    {
     "data": {
      "text/markdown": [
       "Solving for vector:$(0.71+0.00j)|0>_S|00>_C|0>_b+(0.71+0.00j)|0>_S|00>_C|1>_b$"
      ],
      "text/plain": [
       "<IPython.core.display.Markdown object>"
      ]
     },
     "metadata": {},
     "output_type": "display_data"
    },
    {
     "data": {
      "text/markdown": [
       "Ancilla measurement: 0"
      ],
      "text/plain": [
       "<IPython.core.display.Markdown object>"
      ]
     },
     "metadata": {},
     "output_type": "display_data"
    },
    {
     "data": {
      "text/markdown": [
       "Solving for vector:$(0.71+0.00j)|0>_S|00>_C|0>_b+(0.71+0.00j)|0>_S|00>_C|1>_b$"
      ],
      "text/plain": [
       "<IPython.core.display.Markdown object>"
      ]
     },
     "metadata": {},
     "output_type": "display_data"
    },
    {
     "data": {
      "text/markdown": [
       "Ancilla measurement: 1"
      ],
      "text/plain": [
       "<IPython.core.display.Markdown object>"
      ]
     },
     "metadata": {},
     "output_type": "display_data"
    }
   ],
   "source": [
    "result=0\n",
    "while (result==0):\n",
    "    eng=MainEngine()\n",
    "    b=eng.allocate_qureg(1)\n",
    "    C=eng.allocate_qureg(2)\n",
    "    S=eng.allocate_qureg(1)\n",
    "    qureg=b+C+S\n",
    "    \n",
    "    initialize(eng,qureg,case)\n",
    "    \n",
    "    with Compute(eng):\n",
    "        QPE(b,C)\n",
    "    \n",
    "    ControledRotation(eng,C,S)\n",
    "    \n",
    "    Uncompute(eng)\n",
    "\n",
    "    Measure | S\n",
    "    eng.flush()\n",
    "    Display(\"Ancilla measurement: %d\"%int(S))\n",
    "    result=int(S)\n",
    "    if result==0:\n",
    "        All(Measure) | C\n",
    "        Measure |b\n",
    "        eng.flush()\n",
    "        del eng"
   ]
  },
  {
   "cell_type": "markdown",
   "metadata": {},
   "source": [
    "This helper funtion, solves the system and calculates the expectation values for the Pauli's Matrices. "
   ]
  },
  {
   "cell_type": "code",
   "execution_count": 11,
   "metadata": {},
   "outputs": [],
   "source": [
    "def solve(case=1):\n",
    "    import numpy as np\n",
    "    a = np.array([[1.5,0.5], [0.5,1.5]])\n",
    "    if (case==0):\n",
    "        b = np.array([1,0])\n",
    "    if (case==1):\n",
    "        b = np.array([1,1]/np.sqrt(2))\n",
    "    if (case==2):\n",
    "        b = np.array([1,-1]/np.sqrt(2))    \n",
    "    x = np.linalg.solve(a, b)\n",
    "    sigmax=np.array([[0,1],[1,0]])\n",
    "    sigmay=np.array([[0,-1j],[1j,0]])\n",
    "    sigmaz=np.array([[1,0],[0,-1]])\n",
    "    norm=np.linalg.norm(x)\n",
    "    Esx=np.dot(x,np.dot(sigmax,(x.reshape((2,1)))))[0]/norm**2\n",
    "    Esy=np.dot(x,np.dot(sigmay,(x.reshape((2,1)))))[0]/norm**2\n",
    "    Esz=np.dot(x,np.dot(sigmaz,(x.reshape((2,1)))))[0]/norm**2\n",
    "    return Esx,Esy,Esz,x"
   ]
  },
  {
   "cell_type": "markdown",
   "metadata": {},
   "source": [
    "OK. If the program has reached this point is because the measurement of quantum register **s** is 1. Now, using ProjectQ capabilities, it is possible to calculate the final state vector and the expected valued of Pauli operators.\n",
    "\n",
    "Remember that the expectation value of an operator M for an state $|x\\rangle$ (which is normalised) is defined by:\n",
    "\n",
    "$$<M>=<x|M|x>$$"
   ]
  },
  {
   "cell_type": "code",
   "execution_count": 12,
   "metadata": {},
   "outputs": [
    {
     "data": {
      "text/markdown": [
       "X_quantum:$(0.71+0.00j)|1>_S|00>_C|0>_b+(0.71+0.00j)|1>_S|00>_C|1>_b$"
      ],
      "text/plain": [
       "<IPython.core.display.Markdown object>"
      ]
     },
     "metadata": {},
     "output_type": "display_data"
    },
    {
     "data": {
      "text/markdown": [
       "X_classical: ['0.35', '0.35']"
      ],
      "text/plain": [
       "<IPython.core.display.Markdown object>"
      ]
     },
     "metadata": {},
     "output_type": "display_data"
    },
    {
     "data": {
      "text/markdown": [
       "Calculated $< \\sigma_{x}>$=1.000. Must be 1.000"
      ],
      "text/plain": [
       "<IPython.core.display.Markdown object>"
      ]
     },
     "metadata": {},
     "output_type": "display_data"
    },
    {
     "data": {
      "text/markdown": [
       "Calculated $< \\sigma_{y}>$=0.000. Must be 0.000"
      ],
      "text/plain": [
       "<IPython.core.display.Markdown object>"
      ]
     },
     "metadata": {},
     "output_type": "display_data"
    },
    {
     "data": {
      "text/markdown": [
       "Calculated $< \\sigma_{z}>$=0.000. Must be -0.000"
      ],
      "text/plain": [
       "<IPython.core.display.Markdown object>"
      ]
     },
     "metadata": {},
     "output_type": "display_data"
    }
   ],
   "source": [
    "Display(\"X_quantum:%s\"%(get_state_as_str(eng,b+C+S)))\n",
    "Esx,Esy,Esz,X=solve(case)\n",
    "Display(\"X_classical: %s\"%[ \"{:0.2f}\".format(x) for x in X ])\n",
    "QEsx=eng.backend.get_expectation_value(QubitOperator(\"X0\"),b)\n",
    "QEsy=eng.backend.get_expectation_value(QubitOperator(\"Y0\"),b)\n",
    "QEsz=eng.backend.get_expectation_value(QubitOperator(\"Z0\"),b)\n",
    "Display(\"Calculated $< \\sigma_{x}>$=%.3f. Must be %.3f\"%(QEsx,Esx.real))\n",
    "Display(\"Calculated $< \\sigma_{y}>$=%.3f. Must be %.3f\"%(QEsy,Esy.real))\n",
    "Display(\"Calculated $< \\sigma_{z}>$=%.3f. Must be %.3f\"%(QEsz,Esz.real))\n",
    "    "
   ]
  },
  {
   "cell_type": "markdown",
   "metadata": {},
   "source": [
    "Delete everything before end"
   ]
  },
  {
   "cell_type": "code",
   "execution_count": 13,
   "metadata": {},
   "outputs": [],
   "source": [
    "All(Measure) | C\n",
    "Measure |b\n",
    "eng.flush()\n",
    "del eng        \n"
   ]
  },
  {
   "cell_type": "code",
   "execution_count": null,
   "metadata": {},
   "outputs": [],
   "source": []
  }
 ],
 "metadata": {
  "kernelspec": {
   "display_name": "Python 3",
   "language": "python",
   "name": "python3"
  },
  "language_info": {
   "codemirror_mode": {
    "name": "ipython",
    "version": 3
   },
   "file_extension": ".py",
   "mimetype": "text/x-python",
   "name": "python",
   "nbconvert_exporter": "python",
   "pygments_lexer": "ipython3",
   "version": "3.5.6"
  }
 },
 "nbformat": 4,
 "nbformat_minor": 2
}
