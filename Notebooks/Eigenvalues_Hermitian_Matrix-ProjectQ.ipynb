{
 "cells": [
  {
   "cell_type": "markdown",
   "metadata": {},
   "source": [
    "### Eigenvalues of an Hermitian Matrix\n",
    "\n",
    "Author: Andrés Gómez - 2020\n",
    "\n"
   ]
  },
  {
   "cell_type": "code",
   "execution_count": 1,
   "metadata": {},
   "outputs": [],
   "source": [
    "import projectq\n",
    "from projectq.cengines import MainEngine\n",
    "from projectq.ops import H,X,BasicGate,Measure,QFT,get_inverse,All,Swap,QubitOperator,TimeEvolution,Rx,Y,StatePreparation\n",
    "from projectq.meta import Control,Compute,Uncompute\n",
    "import numpy as np\n",
    "import math\n",
    "import cmath\n"
   ]
  },
  {
   "cell_type": "markdown",
   "metadata": {},
   "source": [
    "Auxiliary functions to to show the matrix and quantum states"
   ]
  },
  {
   "cell_type": "code",
   "execution_count": 2,
   "metadata": {},
   "outputs": [],
   "source": [
    "def MatrixToLatex(A):\n",
    "    a=\"\\\\begin{pmatrix}\"\n",
    "    for i in range(A.shape[0]):\n",
    "        for j in range(A.shape[1]):\n",
    "            if ((j+1)%A.shape[1])==0:\n",
    "                a=a+\"{0:.2f}\".format(A[i,j])\n",
    "            else:\n",
    "                a=a+\"%s&\"%\"{0:.2f}\".format(A[i,j])\n",
    "        if ((i+1)%A.shape[0])!=0:\n",
    "            a=a+\"\\\\\\\\\"\n",
    "    a=a+\"\\\\end{pmatrix}\"\n",
    "    return(a)\n",
    "def Display(string):\n",
    "    from IPython.display import display, Markdown\n",
    "    display(Markdown(string))\n",
    "    \n",
    "def get_state_as_str(eng,qubits,cheat=False):\n",
    "    import numpy as np\n",
    "    s=\"$\"\n",
    "    if (cheat):\n",
    "        print(\"Cheat: \", eng.backend.cheat())\n",
    "    if (len(qubits)==2):\n",
    "        for i in range(4):\n",
    "            #print(\"bits:%d%s\"%(i,bits))\n",
    "            a=eng.backend.get_amplitude(\"%d\"%(i),qubits)\n",
    "            if (abs(a.real)>0.0000001)|(abs(a.imag)>0.000001):\n",
    "                if s!=\"$\":\n",
    "                    s=s+\"+\"\n",
    "                a=\"({:.6f})\".format(a)\n",
    "                s=s+\"%s|%d>\"%(a,i)\n",
    "\n",
    "    else:\n",
    "        for j in range(2**(len(qubits))):\n",
    "            bits=np.binary_repr(j,width=len(qubits))\n",
    "            #print(\"Bits:\",j,bits)\n",
    "            #print(\"bits:%d,%s\"%(j,bits))\n",
    "            a=eng.backend.get_amplitude(\"%s\"%(bits[-1::-1]),qubits)\n",
    "            if (abs(a.real)>0.0000001)|(abs(a.imag)>0.0000001):\n",
    "                #print(\"Añado\")\n",
    "                if s!=\"$\":\n",
    "                    s=s+\"+\"\n",
    "                a=\"({:.5f})\".format(a)\n",
    "                s=s+\"%s|%s>_C|%s>_b\"%(a,bits[0:-2],bits[-2:])\n",
    "            #print(s)\n",
    "    s=s+\"$\"\n",
    "    #Display(s)\n",
    "    return(s)"
   ]
  },
  {
   "cell_type": "markdown",
   "metadata": {},
   "source": [
    "Create one matrix $M$ from an spectral decomposition. Let be the eigenvectors\n",
    "\n",
    "$$v_1=\\frac{1 }{\\sqrt{2}}(|00\\rangle+|01\\rangle)\\\\ v_2=\\frac{1 }{\\sqrt{2}}(|00\\rangle-|01\\rangle) \\\\v_3=\\frac{1 }{\\sqrt{2}}(|10\\rangle+|11\\rangle) \\\\ v_4=\\frac{1 }{\\sqrt{2}}(|10\\rangle-|11\\rangle)$$\n",
    "\n",
    "and the eigenvalues $\\lambda_1=16,\\lambda_2=8,\\lambda_3=4,\\lambda_4=2$ \n",
    "\n",
    "Define the matrix\n",
    "$$M=\\lambda_1|v_1\\rangle\\langle v_1| +  \\lambda_2|v_2\\rangle\\langle v_2| + \\lambda_3|v_3\\rangle\\langle v_3| + \\lambda_4|v_4 \\rangle\\langle v_4|$$\n"
   ]
  },
  {
   "cell_type": "code",
   "execution_count": 3,
   "metadata": {},
   "outputs": [
    {
     "data": {
      "text/markdown": [
       "M=\\begin{pmatrix}12.00&4.00&0.00&0.00\\\\4.00&12.00&0.00&0.00\\\\0.00&0.00&3.00&1.00\\\\0.00&0.00&1.00&3.00\\end{pmatrix}"
      ],
      "text/plain": [
       "<IPython.core.display.Markdown object>"
      ]
     },
     "metadata": {},
     "output_type": "display_data"
    }
   ],
   "source": [
    "Lambda=[16,8,4,2]\n",
    "Chi1P=(1/math.sqrt(2))*np.array([[1],[1],[0],[0]])\n",
    "Chi1M=(1/math.sqrt(2))*np.array([[1],[-1],[0],[0]])\n",
    "Chi2P=(1/math.sqrt(2))*np.array([[0],[0],[1],[1]])\n",
    "Chi2M=(1/math.sqrt(2))*np.array([[0],[0],[1],[-1]])\n",
    "Vector=[Chi1P,Chi1M,Chi2P,Chi2M] # Two, Three]\n",
    "M=np.zeros((len(Chi1P),len(Chi1P)))\n",
    "for i in range(len(Vector)):\n",
    "    M=M+Lambda[i]*np.dot(Vector[i],Vector[i].T)\n",
    "Display(\"M=%s\"%MatrixToLatex(M))\n",
    "    \n"
   ]
  },
  {
   "cell_type": "markdown",
   "metadata": {},
   "source": [
    "Check that this matrix has the expected eigenvalues and eigenvector"
   ]
  },
  {
   "cell_type": "code",
   "execution_count": 4,
   "metadata": {},
   "outputs": [
    {
     "data": {
      "text/markdown": [
       "Eigenvalues: [16.,  8.,  4.,  2.]"
      ],
      "text/plain": [
       "<IPython.core.display.Markdown object>"
      ]
     },
     "metadata": {},
     "output_type": "display_data"
    },
    {
     "data": {
      "text/markdown": [
       "Eigenvectors: [[ 0.70710678, -0.70710678,  0.        ,  0.        ],\n",
       " [ 0.70710678,  0.70710678,  0.        ,  0.        ],\n",
       " [ 0.        ,  0.        ,  0.70710678, -0.70710678],\n",
       " [ 0.        ,  0.        ,  0.70710678,  0.70710678]]"
      ],
      "text/plain": [
       "<IPython.core.display.Markdown object>"
      ]
     },
     "metadata": {},
     "output_type": "display_data"
    },
    {
     "data": {
      "text/markdown": [
       "M|v_0> = [[11.3137085 11.3137085  0.         0.       ]] must be Lambda[0]*|v[0]>=[[11.3137085, 11.3137085,  0.       ,  0.       ]]"
      ],
      "text/plain": [
       "<IPython.core.display.Markdown object>"
      ]
     },
     "metadata": {},
     "output_type": "display_data"
    },
    {
     "data": {
      "text/markdown": [
       "M|v_1> = [[ 5.65685425 -5.65685425  0.          0.        ]] must be Lambda[1]*|v[1]>=[[ 5.65685425, -5.65685425,  0.        ,  0.        ]]"
      ],
      "text/plain": [
       "<IPython.core.display.Markdown object>"
      ]
     },
     "metadata": {},
     "output_type": "display_data"
    },
    {
     "data": {
      "text/markdown": [
       "M|v_2> = [[0.         0.         2.82842712 2.82842712]] must be Lambda[2]*|v[2]>=[[0.        , 0.        , 2.82842712, 2.82842712]]"
      ],
      "text/plain": [
       "<IPython.core.display.Markdown object>"
      ]
     },
     "metadata": {},
     "output_type": "display_data"
    },
    {
     "data": {
      "text/markdown": [
       "M|v_3> = [[ 0.          0.          1.41421356 -1.41421356]] must be Lambda[3]*|v[3]>=[[ 0.        ,  0.        ,  1.41421356, -1.41421356]]"
      ],
      "text/plain": [
       "<IPython.core.display.Markdown object>"
      ]
     },
     "metadata": {},
     "output_type": "display_data"
    }
   ],
   "source": [
    "E,v=np.linalg.eig(M)\n",
    "Display(\"Eigenvalues: %s\"%np.array2string(E,separator=\", \"))\n",
    "Display(\"Eigenvectors: %s\"%np.array2string(v,separator=\", \"))\n",
    "for i in range(len(Vector)):\n",
    "    Display(\"M|v_%d> = %s must be Lambda[%d]*|v[%d]>=%s\"%(i,np.array2string(np.dot(M,Vector[i]).T), i,i,np.array2string(Lambda[i]*Vector[i].T,separator=\", \")))\n"
   ]
  },
  {
   "cell_type": "markdown",
   "metadata": {},
   "source": [
    "## Unitary operator from the Hermitian Matrix\n",
    "\n",
    "From the Hermitian matrix $M \\in C^{2^nx2^n}$, it is possible to create an Unitary Operator $U_M=e^{iM}$ with eigenvalues $e^{i\\lambda_i}$, being $\\lambda_i$ the eigenvalues of $M$ and with the same eigenvectors\n",
    "\n",
    "Check that $U_M |v_i>=e^{iM}|v_i>=e^{i\\lambda_i} |v_i>$"
   ]
  },
  {
   "cell_type": "code",
   "execution_count": 14,
   "metadata": {},
   "outputs": [
    {
     "data": {
      "text/markdown": [
       "$$ U_M |v[0]\\rangle=\\begin{pmatrix}-0.68-0.20j\\\\-0.68-0.20j\\\\0.00+0.00j\\\\0.00+0.00j\\end{pmatrix},e^{i\\lambda_0}|v[0]\\rangle=\\begin{pmatrix}-0.68-0.20j\\\\-0.68-0.20j\\\\0.00-0.00j\\\\0.00-0.00j\\end{pmatrix}$$"
      ],
      "text/plain": [
       "<IPython.core.display.Markdown object>"
      ]
     },
     "metadata": {},
     "output_type": "display_data"
    },
    {
     "data": {
      "text/markdown": [
       "$$ U_M |v[1]\\rangle=\\begin{pmatrix}-0.10+0.70j\\\\0.10-0.70j\\\\0.00+0.00j\\\\0.00+0.00j\\end{pmatrix},e^{i\\lambda_1}|v[1]\\rangle=\\begin{pmatrix}-0.10+0.70j\\\\0.10-0.70j\\\\-0.00+0.00j\\\\-0.00+0.00j\\end{pmatrix}$$"
      ],
      "text/plain": [
       "<IPython.core.display.Markdown object>"
      ]
     },
     "metadata": {},
     "output_type": "display_data"
    },
    {
     "data": {
      "text/markdown": [
       "$$ U_M |v[2]\\rangle=\\begin{pmatrix}0.00+0.00j\\\\0.00+0.00j\\\\-0.46-0.54j\\\\-0.46-0.54j\\end{pmatrix},e^{i\\lambda_2}|v[2]\\rangle=\\begin{pmatrix}0.00-0.00j\\\\0.00-0.00j\\\\-0.46-0.54j\\\\-0.46-0.54j\\end{pmatrix}$$"
      ],
      "text/plain": [
       "<IPython.core.display.Markdown object>"
      ]
     },
     "metadata": {},
     "output_type": "display_data"
    },
    {
     "data": {
      "text/markdown": [
       "$$ U_M |v[3]\\rangle=\\begin{pmatrix}0.00+0.00j\\\\0.00+0.00j\\\\-0.29+0.64j\\\\0.29-0.64j\\end{pmatrix},e^{i\\lambda_3}|v[3]\\rangle=\\begin{pmatrix}-0.00+0.00j\\\\-0.00+0.00j\\\\-0.29+0.64j\\\\0.29-0.64j\\end{pmatrix}$$"
      ],
      "text/plain": [
       "<IPython.core.display.Markdown object>"
      ]
     },
     "metadata": {},
     "output_type": "display_data"
    }
   ],
   "source": [
    "from scipy.linalg import expm\n",
    "for i in range(len(Vector)):\n",
    "    OP=np.dot(expm(1j*M),Vector[i])\n",
    "    EIG=np.exp(1j*Lambda[i])*Vector[i]          \n",
    "    Display(\"$$ U_M |v[%d]\\\\rangle=%s,e^{i\\lambda_%d}|v[%d]\\\\rangle=%s$$\"%(i,MatrixToLatex(OP),i,i,MatrixToLatex(EIG)))\n"
   ]
  },
  {
   "cell_type": "markdown",
   "metadata": {},
   "source": [
    "Because the eigenvalues of this case are integers, they have an exact binary representation"
   ]
  },
  {
   "cell_type": "code",
   "execution_count": 20,
   "metadata": {},
   "outputs": [
    {
     "name": "stdout",
     "output_type": "stream",
     "text": [
      "Binary of 16 is  10000\n",
      "Binary of 8 is  01000\n",
      "Binary of 4 is  00100\n",
      "Binary of 2 is  00010\n"
     ]
    }
   ],
   "source": [
    "for i in range(len(Lambda)):\n",
    "    print(\"Binary of %.0f is \"%(Lambda[i]),\"{0:05b}\".format(int(Lambda[i])))"
   ]
  },
  {
   "cell_type": "markdown",
   "metadata": {},
   "source": [
    "# Matrix decomposition\n",
    "Any matrix $M \\in \\mathbb{C}^{2^nx2^n}$, being $n$ the number of qubits, can be decomposed on tensor products of the extended Pauli set $\\Sigma=\\{I,X,Y,Z\\}$. \n",
    "\n",
    "If  $\\sigma_i \\in \\Sigma, i=1,2,3,4$,  then \n",
    "\n",
    "$$M=\\sum_{ijk\\dots l=1}^4 A_{ijk\\dots l} \\sigma_i\\otimes\\sigma_j\\otimes\\sigma_k\\otimes \\dots \\otimes\\sigma_l$$\n",
    "\n",
    "where\n",
    "$$A_{ijk\\dots l}=\\frac{1}{2^n}Tr[\\sigma_i\\otimes\\sigma_j\\otimes\\sigma_k\\otimes \\dots \\otimes\\sigma_l M]$$\n",
    "\n",
    "If the matrix M is Hermitian, $A_{ijk\\dots l} \\in \\mathbb{R}$ \n",
    "\n",
    "The next function, **DecompositionOnSigmas**, makes this decomposition, creating a **[QubitOperator](https://projectq.readthedocs.io/en/latest/projectq.ops.html#projectq.ops.QubitOperator)** with this decomposition"
   ]
  },
  {
   "cell_type": "code",
   "execution_count": 7,
   "metadata": {},
   "outputs": [],
   "source": [
    "def TensorProduct(A):\n",
    "    a=A[-1]\n",
    "    for i in range(len(A)-2,-1,-1):\n",
    "        a=np.tensordot(A[i],a,axes=0)\n",
    "        a=np.concatenate((np.concatenate((a[0][0],a[0][1]),axis=1),np.concatenate((a[1][0],a[1][1]),axis=1)))\n",
    "    return a\n",
    "def DecompositionOnSigmas(A):\n",
    "    I=np.array([[1,0],[0,1]])\n",
    "    X=np.array([[0,1],[1,0]])\n",
    "    Y=np.array([[0,-1j],[1j,0]])\n",
    "    Z=np.array([[1,0],[0,-1]])\n",
    "    Pauli={\"I\":I,\"X\":X,\"Y\":Y,\"Z\":Z}\n",
    "    import itertools\n",
    "    n=int(math.log2(A.shape[0]))\n",
    "    Ham=QubitOperator()\n",
    "    for i in itertools.product(\"IXYZ\",repeat=n):\n",
    "        AxB=TensorProduct([Pauli[i[0]],Pauli[i[1]]])\n",
    "        coef=(1/2**n)*complex(np.trace(np.dot(AxB,A)))\n",
    "        if (coef.real!=0) | (coef.imag!=0):\n",
    "            Paulis=\"\"\n",
    "            if i[0][0]!=\"I\":\n",
    "                Paulis=Paulis+\"%s1\"%i[0]\n",
    "            if i[1][0]!=\"I\":\n",
    "                Paulis=Paulis+\" %s0\"%i[1]\n",
    "            Ham=Ham+QubitOperator(Paulis,coef)\n",
    "    return Ham"
   ]
  },
  {
   "cell_type": "markdown",
   "metadata": {},
   "source": [
    "The decomposition of $M$ is\n",
    "\n",
    "$$M=a_{11}(I\\otimes I)+ a_{12}(I\\otimes X) +a_{13}(I\\otimes Y)+ a_{14}(I\\otimes Z)\\\\+a_{21}(X\\otimes I)+a_{22}(X\\otimes X)+a_{23}(X\\otimes Y)+a_{24}(X\\otimes Z)\\\\+a_{31}(Y\\otimes I)+a_{32}(Y\\otimes X)+a_{33}(Y\\otimes Y)+a_{34}(Y\\otimes Z)\\\\+a_{41}(Z\\otimes I)+a_{42}(Z\\otimes X)+a_{43}(Z\\otimes Y)+a_{44}(Z\\otimes Z)$$ \n",
    "\n",
    "\n",
    "$$M= 7.5(I\\otimes I) + 2.5(I\\otimes X) + 4.5(Z\\otimes I) +1.5(Z\\otimes X)$$ \n",
    "\n",
    "For example:\n",
    "\n",
    "$$a_{11}=\\frac{1}{2^2}Tr((I\\otimes I)M)=\\frac{1}{4}Tr\\left[ \\begin{pmatrix}1&0&0&0\\\\0&1&0&0\\\\0&0&1&0\\\\0&0&0&1\\end{pmatrix}\\begin{pmatrix}12&4&0&0\\\\4&12&0&0\\\\0&0&3&1\\\\0&0&1&3\\end{pmatrix}\\right]=\\\\\n",
    "=\\frac{1}{4}Tr\\left[\\begin{pmatrix}12&0&0&0\\\\0&12&0&0\\\\0&0&3&0\\\\0&0&0&3\\end{pmatrix} \\right]=\\frac{1}{4}30=7.5$$\n",
    "\n"
   ]
  },
  {
   "cell_type": "code",
   "execution_count": 8,
   "metadata": {},
   "outputs": [
    {
     "data": {
      "text/plain": [
       "(7.499999999999998+0j) I +\n",
       "(2.4999999999999996+0j) X0 +\n",
       "(4.499999999999998+0j) Z1 +\n",
       "(1.4999999999999996+0j) X0 Z1"
      ]
     },
     "execution_count": 8,
     "metadata": {},
     "output_type": "execute_result"
    }
   ],
   "source": [
    "DecompositionOnSigmas(M)"
   ]
  },
  {
   "cell_type": "markdown",
   "metadata": {},
   "source": [
    "Now, construct the circuit for the phase estimation circuits. We will build in this case the unitary operator using the **[TimeEvolution](https://projectq.readthedocs.io/en/latest/projectq.ops.html#projectq.ops.TimeEvolution)** function of Project Q. This gate makes the time evolution of a Hamiltonian (in our case, the decomposition on $\\sigma_i$ of M) as $$U_M=e^{-iMt}$$ \n",
    "We will choose $$t=\\frac{-2\\pi}{2^{accuracy}}$$, being *accuracy* the number of desired binary digits for our eigenvalues. \n",
    "\n",
    "This will map the eigenvalues of the Matrix M on the states of the qubit register. Because the $-$ sign is implicit in TimeEvolution operator and the positive exponent is desired to calculate the eigenvalues ( $e^{iMt}$ ), a $-$ sign must be included on the selected time. \n",
    "\n",
    "**CalculateEigenvalues** accepts as argument a number of a vector. From 0 to 3, this number will initialize the vector $b$ with the eigenvectors of M. From 4 and 6, b is initialized to:\n",
    "\n",
    "$4, |b_4\\rangle=|01\\rangle=\\frac{\\sqrt{2}}{2}(|v_1\\rangle - |v_2\\rangle)=\\beta_1|v_1\\rangle + \\beta_2 |v_2\\rangle$\n",
    "\n",
    "$5, |b_5\\rangle=|10\\rangle=\\frac{\\sqrt{2}}{2}(|v_3\\rangle + |v_4\\rangle)$\n",
    "\n",
    "$6, |b_6\\rangle=H_1 R_{x0}(0.05)R_{x1}(0.25)|00\\rangle$\n",
    "\n",
    "Let's see what's happen with these vectors and why we have selected this evolution time.\n",
    "\n",
    "The controled operation $CU_M$ with a single additional qubit of the unitary gate $U_M$ is defined as:\n",
    "\n",
    "$$CU_M=|0\\rangle\\langle0|\\otimes I +|1\\rangle\\langle1|\\otimes U_M$$\n",
    "\n",
    "so,\n",
    "\n",
    "$$CU_M(H|0\\rangle\\otimes|b_4\\rangle)=CU_M[(\\frac{1}{\\sqrt{2}}(|0\\rangle + |1\\rangle)\\otimes|b_4\\rangle)]=$$\n",
    "$$=\\frac{1}{\\sqrt{2}}[|0\\rangle\\otimes|b_4\\rangle + |1\\rangle\\otimes U_M(|b_4\\rangle)]=$$\n",
    "$$=\\frac{1}{\\sqrt{2}}[|0\\rangle\\otimes (\\beta_1 |v_1\\rangle + \\beta_2 |v_2\\rangle) + |1\\rangle\\otimes U_M(\\beta_1 |v_1\\rangle + \\beta_2 |v_2\\rangle)]$$\n",
    "$$= \\frac{1}{\\sqrt{2}}[|0\\rangle \\otimes(\\beta_1 |v_1\\rangle + \\beta_2 |v_2\\rangle)+ |1\\rangle\\otimes(\\beta_1 e^{i\\lambda_1t}|v_1\\rangle + \\beta_2 e^{i\\lambda_2t}|v_2\\rangle)]$$\n",
    "\n",
    "$$=\\frac{\\beta_1}{\\sqrt{2}}[|0\\rangle \\otimes |v_1\\rangle + e^{i\\lambda_1t}|1\\rangle \\otimes |v_1\\rangle)]\n",
    "+ \\frac{\\beta_2}{\\sqrt{2}}[|0\\rangle \\otimes |v_2\\rangle + e^{i\\lambda_2t}|1\\rangle \\otimes |v_2\\rangle)]$$\n",
    "$$=\\frac{1}{\\sqrt{2}}[(|0\\rangle + e^{i\\lambda_1t}|1\\rangle) \\otimes \\beta_1|v_1\\rangle)]\n",
    "+ \\frac{1}{\\sqrt{2}}[(|0\\rangle + e^{i\\lambda_2t}|1\\rangle) \\otimes \\beta_2|v_2\\rangle)]$$\n",
    "\n",
    "Passing the eigenvalues to the control qubit and keeping the superposition of $|v_1\\rangle$ and $|v_2\\rangle$ on register $|b\\rangle$\n",
    "\n",
    "Defining the controlled unitary operation of operator U with qubit l as $C^lU$, if we appy $\\Pi_{l=0}^{accuracy}C^l(U_M)^l$ on state $H^{\\otimes accuracy}|0\\rangle \\otimes |b_4\\rangle$, the result is:\n",
    "\n",
    "$$\\Pi_{l=0}^{accuracy}C^l(U_M)^l[H^{\\otimes accuracy}|0\\rangle \\otimes |b_4\\rangle] = [ \\frac{\\beta_1}{2^{accuracy/2}}\\sum_{k=0}^{2^{accuracy}-1} e^{i\\lambda_1 tk}|k\\rangle \\otimes |v_1\\rangle ]+ [\\frac{\\beta_2}{2^{accuracy/2}}\\sum_{k=0}^{2^{accuracy}-1} e^{i\\lambda_2 tk}|k\\rangle \\otimes |v_2\\rangle]$$\n",
    "\n",
    "Choosing $t=\\frac{2\\pi}{2^{accuracy}}$, the final state after the controlled operations is:\n",
    "\n",
    "$$[ \\frac{\\beta_1}{2^{accuracy/2}}\\sum_{k=0}^{2^{accuracy}-1} e^{i2\\pi k \\frac{\\lambda_1}{2^{accuracy}}}|k\\rangle \\otimes |v_1\\rangle ]+ [\\frac{\\beta_2}{2^{accuracy/2}}\\sum_{k=0}^{2^{accuracy}-1} e^{i2\\pi k \\frac{\\lambda_2}{2^{accuracy}}}|k\\rangle \\otimes |v_2\\rangle]$$\n",
    "\n",
    "Now, applying now the inverse Quantum Fourier Transform on the control qubits:\n",
    "\n",
    "$$(iQFT\\otimes I)([ \\frac{\\beta_1}{2^{accuracy/2}}\\sum_{k=0}^{2^{accuracy}-1} e^{i2\\pi k \\frac{\\lambda_1}{2^{accuracy}}}|k\\rangle \\otimes |v_1\\rangle ]+ [\\frac{\\beta_2}{2^{accuracy/2}}\\sum_{k=0}^{2^{accuracy}-1} e^{i2\\pi k \\frac{\\lambda_2}{2^{accuracy}}}|k\\rangle \\otimes |v_2\\rangle])=$$\n",
    "\n",
    "$$=iQFT( \\frac{\\beta_1}{2^{accuracy/2}}\\sum_{k=0}^{2^{accuracy}-1} e^{i2\\pi k \\frac{\\lambda_1}{2^{accuracy}}}|k\\rangle) \\otimes I|v_1\\rangle+\n",
    "iQFT( \\frac{\\beta_2}{2^{accuracy/2}}\\sum_{k=0}^{2^{accuracy}-1} e^{i2\\pi k \\frac{\\lambda_2}{2^{accuracy}}}|k\\rangle) \\otimes I|v_2\\rangle \n",
    "=$$\n",
    "$$=\\beta_1|\\lambda_1\\rangle\\otimes|v_1\\rangle + \\beta_2|\\lambda_2\\rangle\\otimes|v_2\\rangle\n",
    "$$\n",
    "\n",
    "As consecuence, the state has a superposition of all the eigenvalues of $M$ on the control register."
   ]
  },
  {
   "cell_type": "code",
   "execution_count": 21,
   "metadata": {},
   "outputs": [],
   "source": [
    "def InitState(b,vector=0,eng=None,cheat=False):\n",
    "    \"\"\"\n",
    "    Init the vector b\n",
    "    \"\"\"\n",
    "    if vector==0:\n",
    "        \"\"\"\n",
    "        1/sqrt(2)(|00>+|01>)\n",
    "        \"\"\"\n",
    "        H|b[0]\n",
    "    if vector==1:\n",
    "        \"\"\"\n",
    "        1/sqrt(2)(|00>-|01>)\n",
    "        \"\"\"\n",
    "        X|b[0]\n",
    "        H|b[0]\n",
    "    if vector==2:\n",
    "        \"\"\"\n",
    "        1/sqrt(2)(|10>+|11>)\n",
    "        \"\"\"\n",
    "\n",
    "        X|b[1]\n",
    "        H|b[0]\n",
    "    if vector==3:\n",
    "        \"\"\"\n",
    "        1/sqrt(2)(|10>-|11>)\n",
    "        \"\"\"\n",
    "        X|b[1]\n",
    "        X|b[0]\n",
    "        H|b[0]\n",
    "    if vector==4:\n",
    "        \"\"\"\n",
    "        |01>\n",
    "        \"\"\"\n",
    "        X|b[0]\n",
    "    if vector==5:\n",
    "        \"\"\"\n",
    "        |10>\n",
    "        \"\"\"\n",
    "        X|b[1]\n",
    "        \n",
    "    if vector==6:\n",
    "        Rx(0.05)|b[0]\n",
    "        Rx(0.25)|b[1]\n",
    "        H|b[1]\n",
    "\n",
    "    if (eng!=None) & cheat:\n",
    "        eng.flush()\n",
    "        Display(get_state_as_str(eng,b+C))\n",
    "    return\n",
    "\n",
    "def QPE(M,C,b,eng=None,cheat=True):\n",
    "    Ham=DecompositionOnSigmas(M)\n",
    "    \n",
    "    accuracy=len(C)\n",
    "    t0=2*math.pi/2**accuracy\n",
    "    \"\"\"\n",
    "    Init the Clock\n",
    "    \"\"\"\n",
    "    \n",
    "    All(H)|C\n",
    "    \n",
    "    \"\"\"\n",
    "    Apply the time evolution of the Hamiltonian\n",
    "    \"\"\"\n",
    "    for i in range(len(C)):\n",
    "        with Control(eng,C[i]):\n",
    "            TimeEvolution(time=-t0*2**i,hamiltonian=Ham)|b\n",
    "    \n",
    "    \"\"\"\n",
    "    Apply the iQFT\n",
    "    \"\"\"\n",
    "    for i in range(len(C)//2):\n",
    "        Swap | (C[i],C[len(C)-i-1])\n",
    "    get_inverse(QFT)|C\n",
    "    #H|C\n",
    "    \n",
    "    if (eng==None) & cheat:\n",
    "        eng.flush()\n",
    "        Display(get_state_as_str(eng,b+C))\n",
    "    \n",
    "def CalculateEigenvalues(M,accuracy,vector=0,cheat=False):\n",
    "    eng=MainEngine()\n",
    "    cols = M.shape[0]\n",
    "    m = int(math.log2(cols))\n",
    "    C = eng.allocate_qureg(accuracy)\n",
    "    b = eng.allocate_qureg(m)\n",
    "    \n",
    "    InitState(b,vector=vector,eng=eng,cheat=cheat)\n",
    "    \n",
    "    QPE(M,C,b,eng,cheat)\n",
    "    \n",
    "    \"\"\"\n",
    "    Measure the registers\n",
    "    \"\"\"\n",
    "    All(Measure)|C\n",
    "    All(Measure)|b\n",
    "    eng.flush()\n",
    "\n",
    "    \"\"\"\n",
    "    Get output \n",
    "    \"\"\"\n",
    "    output=[int(q) for q in C]\n",
    "    ancilla=[int(q) for q in b]\n",
    "\n",
    "    del C\n",
    "    del b\n",
    "    del eng\n",
    "\n",
    "    \"\"\"\n",
    "    Calculate the Eigenvalue\n",
    "    \"\"\"\n",
    "    bits=0\n",
    "    for (k,i) in enumerate(output):\n",
    "        bits=bits+i*2.**k\n",
    "    return bits\n"
   ]
  },
  {
   "cell_type": "markdown",
   "metadata": {},
   "source": [
    "We will calculate the fase with an accuracy of $$\\frac{1}{2^5}$$\n",
    "\n",
    "Because this is a probabilistic algorithm, we have to repeat the experiment several times. In this case, 100\n",
    "\n",
    "Calculate the eigenvalues for the eigenvestors"
   ]
  },
  {
   "cell_type": "code",
   "execution_count": 10,
   "metadata": {},
   "outputs": [
    {
     "data": {
      "image/png": "[encoded data removed]",
      "text/plain": [
       "<Figure size 432x288 with 1 Axes>"
      ]
     },
     "metadata": {
      "needs_background": "light"
     },
     "output_type": "display_data"
    }
   ],
   "source": [
    "accuracy=5\n",
    "experiments=100\n",
    "%matplotlib inline\n",
    "import matplotlib.pyplot as plt\n",
    "for j in range(0,4,1):\n",
    "    out=[]\n",
    "    for i in range(experiments):\n",
    "        out.append(CalculateEigenvalues(M,accuracy=accuracy,vector=j,cheat=False))\n",
    "    x=plt.hist(out,bins=2**accuracy,range=(0,(2**accuracy)),label=\"$\\lambda_%d$\"%(j+1))\n",
    "plt.legend()\n",
    "plt.show()\n",
    "plt.close()\n"
   ]
  },
  {
   "cell_type": "markdown",
   "metadata": {},
   "source": [
    "For the vector=4, \n",
    "\n",
    "$|b_4\\rangle=|01\\rangle=\\frac{\\sqrt{2}}{2}(|v_1\\rangle-|v_2\\rangle)$\n",
    "\n",
    "so, because this superposition, the final state after the QPE must contain eigenvalues $\\lambda_1$ and $\\lambda_2$"
   ]
  },
  {
   "cell_type": "code",
   "execution_count": 11,
   "metadata": {},
   "outputs": [
    {
     "data": {
      "image/png": "[encoded data removed]",
      "text/plain": [
       "<Figure size 432x288 with 1 Axes>"
      ]
     },
     "metadata": {
      "needs_background": "light"
     },
     "output_type": "display_data"
    }
   ],
   "source": [
    "out=[]\n",
    "j=4\n",
    "for i in range(experiments):\n",
    "    out.append(CalculateEigenvalues(M,accuracy=accuracy,vector=j,cheat=False))\n",
    "x=plt.hist(out,bins=2**accuracy,range=(0,(2**accuracy)),label=\"$b_%d$\"%j)\n",
    "plt.legend()\n",
    "plt.show()\n",
    "plt.close()"
   ]
  },
  {
   "cell_type": "markdown",
   "metadata": {},
   "source": [
    "For the vector=5, \n",
    "\n",
    "$|b_5\\rangle=|10\\rangle=\\frac{\\sqrt{2}}{2}(|v_3\\rangle-|v_4\\rangle)$\n",
    "\n",
    "so, because this superposition, the final state after the QPE must contain eigenvalues $\\lambda_3$ and $\\lambda_4$"
   ]
  },
  {
   "cell_type": "code",
   "execution_count": 12,
   "metadata": {},
   "outputs": [
    {
     "data": {
      "image/png": "[encoded data removed]",
      "text/plain": [
       "<Figure size 432x288 with 1 Axes>"
      ]
     },
     "metadata": {
      "needs_background": "light"
     },
     "output_type": "display_data"
    }
   ],
   "source": [
    "out=[]\n",
    "j=5\n",
    "for i in range(experiments):\n",
    "    out.append(CalculateEigenvalues(M,accuracy=accuracy,vector=j,cheat=False))\n",
    "x=plt.hist(out,bins=2**accuracy,range=(0,(2**accuracy)),color=\"r\",label=\"$b_%d$\"%j)\n",
    "plt.legend()\n",
    "plt.show()\n",
    "plt.close()"
   ]
  },
  {
   "cell_type": "markdown",
   "metadata": {},
   "source": [
    "And, because \n",
    "$$|b_6\\rangle=H_1 R_{x0}(0.05)R_{x1}(0.25)|00\\rangle = \\sum_{i=1}^4\\beta_i |v_i\\rangle$$\n",
    "\n",
    "the final state must have a combination of all eigenvalues"
   ]
  },
  {
   "cell_type": "code",
   "execution_count": 13,
   "metadata": {},
   "outputs": [
    {
     "data": {
      "image/png": "[encoded data removed]",
      "text/plain": [
       "<Figure size 432x288 with 1 Axes>"
      ]
     },
     "metadata": {
      "needs_background": "light"
     },
     "output_type": "display_data"
    }
   ],
   "source": [
    "out=[]\n",
    "j=6\n",
    "for i in range(experiments):\n",
    "    out.append(CalculateEigenvalues(M,accuracy=accuracy,vector=j,cheat=False))\n",
    "x=plt.hist(out,bins=2**accuracy,range=(0,(2**accuracy)),color=\"g\",label=\"$b_%d$\"%j)\n",
    "plt.legend()\n",
    "plt.show()\n",
    "plt.close()"
   ]
  }
 ],
 "metadata": {
  "kernelspec": {
   "display_name": "Python 3",
   "language": "python",
   "name": "python3"
  },
  "language_info": {
   "codemirror_mode": {
    "name": "ipython",
    "version": 3
   },
   "file_extension": ".py",
   "mimetype": "text/x-python",
   "name": "python",
   "nbconvert_exporter": "python",
   "pygments_lexer": "ipython3",
   "version": "3.5.6"
  }
 },
 "nbformat": 4,
 "nbformat_minor": 2
}
