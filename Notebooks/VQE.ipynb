{
 "cells": [
  {
   "cell_type": "markdown",
   "metadata": {},
   "source": [
    "# Implementation of a Variational Quantum Eigensolver (VQE).\n",
    "\n",
    "This example is based on the exampled provided by [ProjectQ](https://raw.githubusercontent.com/ProjectQ-Framework/ProjectQ/develop/examples/variational_quantum_eigensolver.ipynb), however, in this notebook the simulation of a QPU will be used instead of geting the expected value of the full Hamiltonian.\n",
    "\n",
    "The example shown here is from the paper \"Scalable Quantum Simulation of\n",
    "Molecular Energies\" by P.J.J. O'Malley et al. [arXiv:1512.06860v2](https://arxiv.org/abs/1512.06860v2)\n",
    "(Note that only the latest arXiv version contains the correct coefficients of\n",
    " the Hamiltonian)\n",
    "\n",
    "Eq. 2 of the paper shows the functional which one needs to minimize and Eq. 3\n",
    "shows the coupled cluster ansatz for the trial wavefunction (using the unitary\n",
    "coupled cluster approach). The Hamiltonian is given in Eq. 1. The coefficients\n",
    "can be found in Table 1. Note that both the ansatz and the Hamiltonian can be\n",
    "calculated using FermiLib which is a library for simulating quantum systems\n",
    "on top of ProjectQ."
   ]
  },
  {
   "cell_type": "markdown",
   "metadata": {},
   "source": [
    "Remember that the Variational Quantum Eigensolver (VQE) is a hybrid algorithm. Part of the code is executed in the CPU (the optimisation) and part in the QPU (the calculus of the expected value of the Hamiltonian). \n"
   ]
  },
  {
   "cell_type": "code",
   "execution_count": 1,
   "metadata": {},
   "outputs": [],
   "source": [
    "import projectq\n",
    "from projectq.ops import All, Measure, QubitOperator, TimeEvolution, X,H,S,Y,get_inverse,Rx,Ry\n",
    "\n",
    "import matplotlib.pyplot as plt\n",
    "from scipy.optimize import minimize_scalar\n",
    "\n",
    "\n",
    "\n"
   ]
  },
  {
   "cell_type": "code",
   "execution_count": 2,
   "metadata": {},
   "outputs": [],
   "source": [
    "HH=QubitOperator(\"X1\",0.2)+QubitOperator(\"Y1\")"
   ]
  },
  {
   "cell_type": "code",
   "execution_count": 3,
   "metadata": {},
   "outputs": [
    {
     "data": {
      "text/plain": [
       "0.2"
      ]
     },
     "execution_count": 3,
     "metadata": {},
     "output_type": "execute_result"
    }
   ],
   "source": [
    "import numpy as np\n",
    "HH.terms[list(HH.terms.keys())[0]]"
   ]
  },
  {
   "cell_type": "code",
   "execution_count": 4,
   "metadata": {},
   "outputs": [
    {
     "name": "stdout",
     "output_type": "stream",
     "text": [
      "1\n",
      "X\n",
      "1\n"
     ]
    }
   ],
   "source": [
    "ops=HH.terms\n",
    "for  i in HH.terms.keys(): \n",
    "    for j in i:\n",
    "        print(j[0])\n",
    "        if j[1] =='X':\n",
    "            print(\"X\")\n",
    "        \n",
    "#    if ops[0][1] == 'Y':\n",
    "#        print(\"Y\")\n"
   ]
  },
  {
   "cell_type": "markdown",
   "metadata": {},
   "source": [
    "Load the coffecientes for the Hamiltonian for each distance. This coefficientes must be calculated externally using other classical programs. \n",
    "the spin\n",
    "Hamiltonian for molecular hydrogen in the minimal\n",
    "(STO-6G) basis\n",
    "As shown in the paper, the spin Hamiltonian for the Hydrogen Molecule in the minimal STO-6G basis, can be approximated as:\n",
    "\n",
    "$$H=g_o I+g_1 Z_0+g_2 Z_1+g_3 Z_0 Z_1+g_4 X_0 X_1+g_5 Y_0 Y_1$$\n",
    "\n",
    "where ${X,Y,Z}_{0,1}$ are the Pauli Matrices applied on spin 0 or 1. This table contents the calue of each $g_i$ for each bond lenght."
   ]
  },
  {
   "cell_type": "code",
   "execution_count": 5,
   "metadata": {},
   "outputs": [],
   "source": [
    "# Data from paper (arXiv:1512.06860v2) table 1: R, I, Z0, Z1, Z0Z1, X0X1, Y0Y1\n",
    "raw_data_table_1 = [\n",
    "    [0.20,  2.8489, 0.5678, -1.4508, 0.6799, 0.0791, 0.0791],\n",
    "    [0.25,  2.1868, 0.5449, -1.2870, 0.6719, 0.0798, 0.0798],\n",
    "    [0.30,  1.7252, 0.5215, -1.1458, 0.6631, 0.0806, 0.0806],\n",
    "    [0.35,  1.3827, 0.4982, -1.0226, 0.6537, 0.0815, 0.0815],\n",
    "    [0.40,  1.1182, 0.4754, -0.9145, 0.6438, 0.0825, 0.0825],\n",
    "    [0.45,  0.9083, 0.4534, -0.8194, 0.6336, 0.0835, 0.0835],\n",
    "    [0.50,  0.7381, 0.4325, -0.7355, 0.6233, 0.0846, 0.0846],\n",
    "    [0.55,  0.5979, 0.4125, -0.6612, 0.6129, 0.0858, 0.0858],\n",
    "    [0.60,  0.4808, 0.3937, -0.5950, 0.6025, 0.0870, 0.0870],\n",
    "    [0.65,  0.3819, 0.3760, -0.5358, 0.5921, 0.0883, 0.0883],\n",
    "    [0.70,  0.2976, 0.3593, -0.4826, 0.5818, 0.0896, 0.0896],\n",
    "    [0.75,  0.2252, 0.3435, -0.4347, 0.5716, 0.0910, 0.0910],\n",
    "    [0.80,  0.1626, 0.3288, -0.3915, 0.5616, 0.0925, 0.0925],\n",
    "    [0.85,  0.1083, 0.3149, -0.3523, 0.5518, 0.0939, 0.0939],\n",
    "    [0.90,  0.0609, 0.3018, -0.3168, 0.5421, 0.0954, 0.0954],\n",
    "    [0.95,  0.0193, 0.2895, -0.2845, 0.5327, 0.0970, 0.0970],\n",
    "    [1.00, -0.0172, 0.2779, -0.2550, 0.5235, 0.0986, 0.0986],\n",
    "    [1.05, -0.0493, 0.2669, -0.2282, 0.5146, 0.1002, 0.1002],\n",
    "    [1.10, -0.0778, 0.2565, -0.2036, 0.5059, 0.1018, 0.1018],\n",
    "    [1.15, -0.1029, 0.2467, -0.1810, 0.4974, 0.1034, 0.1034],\n",
    "    [1.20, -0.1253, 0.2374, -0.1603, 0.4892, 0.1050, 0.1050],\n",
    "    [1.25, -0.1452, 0.2286, -0.1413, 0.4812, 0.1067, 0.1067],\n",
    "    [1.30, -0.1629, 0.2203, -0.1238, 0.4735, 0.1083, 0.1083],\n",
    "    [1.35, -0.1786, 0.2123, -0.1077, 0.4660, 0.1100, 0.1100],\n",
    "    [1.40, -0.1927, 0.2048, -0.0929, 0.4588, 0.1116, 0.1116],\n",
    "    [1.45, -0.2053, 0.1976, -0.0792, 0.4518, 0.1133, 0.1133],\n",
    "    [1.50, -0.2165, 0.1908, -0.0666, 0.4451, 0.1149, 0.1149],\n",
    "    [1.55, -0.2265, 0.1843, -0.0549, 0.4386, 0.1165, 0.1165],\n",
    "    [1.60, -0.2355, 0.1782, -0.0442, 0.4323, 0.1181, 0.1181],\n",
    "    [1.65, -0.2436, 0.1723, -0.0342, 0.4262, 0.1196, 0.1196],\n",
    "    [1.70, -0.2508, 0.1667, -0.0251, 0.4204, 0.1211, 0.1211],\n",
    "    [1.75, -0.2573, 0.1615, -0.0166, 0.4148, 0.1226, 0.1226],\n",
    "    [1.80, -0.2632, 0.1565, -0.0088, 0.4094, 0.1241, 0.1241],\n",
    "    [1.85, -0.2684, 0.1517, -0.0015, 0.4042, 0.1256, 0.1256],\n",
    "    [1.90, -0.2731, 0.1472,  0.0052, 0.3992, 0.1270, 0.1270],\n",
    "    [1.95, -0.2774, 0.1430,  0.0114, 0.3944, 0.1284, 0.1284],\n",
    "    [2.00, -0.2812, 0.1390,  0.0171, 0.3898, 0.1297, 0.1297],\n",
    "    [2.05, -0.2847, 0.1352,  0.0223, 0.3853, 0.1310, 0.1310],\n",
    "    [2.10, -0.2879, 0.1316,  0.0272, 0.3811, 0.1323, 0.1323],\n",
    "    [2.15, -0.2908, 0.1282,  0.0317, 0.3769, 0.1335, 0.1335],\n",
    "    [2.20, -0.2934, 0.1251,  0.0359, 0.3730, 0.1347, 0.1347],\n",
    "    [2.25, -0.2958, 0.1221,  0.0397, 0.3692, 0.1359, 0.1359],\n",
    "    [2.30, -0.2980, 0.1193,  0.0432, 0.3655, 0.1370, 0.1370],\n",
    "    [2.35, -0.3000, 0.1167,  0.0465, 0.3620, 0.1381, 0.1381],\n",
    "    [2.40, -0.3018, 0.1142,  0.0495, 0.3586, 0.1392, 0.1392],\n",
    "    [2.45, -0.3035, 0.1119,  0.0523, 0.3553, 0.1402, 0.1402],\n",
    "    [2.50, -0.3051, 0.1098,  0.0549, 0.3521, 0.1412, 0.1412],\n",
    "    [2.55, -0.3066, 0.1078,  0.0572, 0.3491, 0.1422, 0.1422],\n",
    "    [2.60, -0.3079, 0.1059,  0.0594, 0.3461, 0.1432, 0.1432],\n",
    "    [2.65, -0.3092, 0.1042,  0.0614, 0.3433, 0.1441, 0.1441],\n",
    "    [2.70, -0.3104, 0.1026,  0.0632, 0.3406, 0.1450, 0.1450],\n",
    "    [2.75, -0.3115, 0.1011,  0.0649, 0.3379, 0.1458, 0.1458],\n",
    "    [2.80, -0.3125, 0.0997,  0.0665, 0.3354, 0.1467, 0.1467],\n",
    "    [2.85, -0.3135, 0.0984,  0.0679, 0.3329, 0.1475, 0.1475]]\n"
   ]
  },
  {
   "cell_type": "markdown",
   "metadata": {},
   "source": [
    "Funtion to calculate the expectation value of one Hamiltonian H for a state defined by $\\theta$. This parameter controls the time of the evolution of the Hamiltonian $H=X_o Y_1$ applied to state $|01>$. So, the final state after this time evolution will be:\n",
    "\n",
    "$$|\\Psi\\rangle = e^{-i\\theta X_0 Y_1}|01\\rangle$$\n",
    "\n",
    "and the funtion will return\n",
    "\n",
    "$$\\langle H\\rangle = \\frac{\\langle \\Psi|H|\\Psi\\rangle}{\\langle \\Psi|\\Psi\\rangle}$$"
   ]
  },
  {
   "cell_type": "code",
   "execution_count": 6,
   "metadata": {},
   "outputs": [],
   "source": [
    "def Expectation_H(theta, hamiltonian):\n",
    "    \"\"\"\n",
    "    Args:\n",
    "        theta (float): variational parameter for ansatz wavefunction\n",
    "        hamiltonian (QubitOperator): Hamiltonian of the system\n",
    "    Returns:\n",
    "        energy of the wavefunction for parameter theta\n",
    "    \"\"\"\n",
    "    # Create a ProjectQ compiler with a simulator as a backend\n",
    "    eng = projectq.MainEngine()\n",
    "    # Allocate 2 qubits in state |00>\n",
    "    wavefunction = eng.allocate_qureg(2)\n",
    "    # Initialize the Hartree Fock state |01>\n",
    "    X | wavefunction[0]\n",
    "    # build the operator for ansatz wavefunction\n",
    "    ansatz_op = QubitOperator('X0 Y1')\n",
    "    # Apply the unitary e^{-i * ansatz_op * t}\n",
    "    TimeEvolution(theta, ansatz_op) | wavefunction\n",
    "    # flush all gates\n",
    "    eng.flush()\n",
    "    # Calculate the energy.\n",
    "    # The simulator can directly return expectation values, while on a\n",
    "    # real quantum devices one would have to measure each term of the\n",
    "    # Hamiltonian.\n",
    "    energy = eng.backend.get_expectation_value(hamiltonian, wavefunction)\n",
    "    # Measure in order to return to return to a classical state\n",
    "    # (as otherwise the simulator will give an error)\n",
    "    All(Measure) | wavefunction\n",
    "    del eng\n",
    "    return energy"
   ]
  },
  {
   "cell_type": "markdown",
   "metadata": {},
   "source": [
    "To measure the results of applying Y to qubit *i*, a rotation around X by $\\pi/2$ is needed. \n",
    "Similar, the result for  $X_i$ needs first a rotation around Y by $-\\pi/2$.\n",
    "\n",
    "Finally, because \n",
    "\n",
    "<center>$\\langle 0|Z|0\\rangle = +1$ and  $\\langle 1|Z|1\\rangle = -1$</center>\n",
    "\n",
    "<center>$\\langle 1|Z|0\\rangle = 0$ and  $\\langle 0|Z|1\\rangle = 0$</center>\n",
    "\n",
    "Then, for $$|\\Psi>=\\sum_{i=0}^{2^N-1}a_i|i\\rangle $$\n",
    "\n",
    "measureing on Z:\n",
    "\n",
    "$$\\langle\\Psi|I^{\\otimes m}\\otimes Z^{\\otimes n} |\\Psi\\rangle = \\sum_{i=0}^{2^N-1} (-1)^{Parity\\space n\\space qubits\\space of\\space i} a_i^2$$ \n",
    "\n",
    "For examples, for 2 qubits:\n",
    "\n",
    "$$\\langle\\Psi|Z\\otimes Z |\\Psi\\rangle = a_0^2-a_1^2-a_2^2+a_3^2$$\n",
    "$$\\langle\\Psi|I\\otimes Z |\\Psi\\rangle = a_0^2-a_1^2+a_2^2-a_3^2$$\n",
    "$$\\langle\\Psi|Z\\otimes I |\\Psi\\rangle = a_0^2+a_1^2-a_2^2-a_3^2$$\n"
   ]
  },
  {
   "cell_type": "code",
   "execution_count": 7,
   "metadata": {},
   "outputs": [],
   "source": [
    "def Expectation_H_shots(theta, hamiltonian,shots=1024):\n",
    "    \"\"\"\n",
    "    Args:\n",
    "        theta (float): variational parameter for ansatz wavefunction (the evolution time for the hamiltonian)\n",
    "        hamiltonian (QubitOperator): Hamiltonian of the system\n",
    "    Returns:\n",
    "        energy of the wavefunction for parameter theta\n",
    "    \"\"\"\n",
    "    print(\"Hamiltonian:\",hamiltonian)\n",
    "    # Create a ProjectQ compiler with a simulator as a backend\n",
    "    import numpy as np\n",
    "    results=np.zeros(4)\n",
    "    energy1=0\n",
    "    for i in range(shots):\n",
    "        eng = projectq.MainEngine()\n",
    "        # Allocate 2 qubits in state |00>\n",
    "        wavefunction = eng.allocate_qureg(2)\n",
    "        # Initialize the Hartree Fock state |01>\n",
    "        X | wavefunction[0]\n",
    "        # build the operator for ansatz wavefunction\n",
    "        ansatz_op = QubitOperator('X0 Y1')\n",
    "        # Apply the unitary e^{-i * ansatz_op * t}\n",
    "        TimeEvolution(theta, ansatz_op) | wavefunction\n",
    "        # flush all gates\n",
    "        eng.flush()\n",
    "        # Calculate the energy.\n",
    "        # The simulator can directly return expectation values, while on a\n",
    "        # real quantum devices one would have to measure each term of the\n",
    "        # Hamiltonian.\n",
    "        energy1 = eng.backend.get_expectation_value(hamiltonian, wavefunction)\n",
    "        \n",
    "        # However, using the results of previous cell, we can calculate using measuresements. \n",
    "\n",
    "        for ops in hamiltonian.terms.keys():\n",
    "            for paulis in ops:\n",
    "                if paulis[1] =='X':\n",
    "                    #Applying Ry(-pi/2) is equivalent to apply H, but numerically introduce less error.\n",
    "                    #Ry(-np.pi/2)|wavefunction[paulis[0]]\n",
    "                    H | wavefunction[paulis[0]]\n",
    "                if paulis[1] == 'Y':\n",
    "                    #Applying Rx(pi/2) is equivalent to apply A and H (because only introduce a phace to |1>), \n",
    "                    #but numerically introduces less error\n",
    "                    get_inverse(S) | wavefunction[paulis[0]]\n",
    "                    H | wavefunction[paulis[0]]\n",
    "                    #Rx(np.pi/2)|wavefunction[paulis[0]]\n",
    "\n",
    "        All(Measure) | wavefunction\n",
    "        eng.flush()\n",
    "        results[int(wavefunction[1])*2+int(wavefunction[0])]+=1\n",
    "        del eng\n",
    "    print(results)\n",
    "    coeff=hamiltonian.terms[list(hamiltonian.terms.keys())[0]]\n",
    "    if (len(list(hamiltonian.terms.keys())[0])==0):\n",
    "        print(\"I\")\n",
    "        energy=results[0]/shots+results[3]/shots+results[1]/shots+results[2]/shots \n",
    "    if (len(list(hamiltonian.terms.keys())[0])==1):\n",
    "        ops=int(np.asarray(list(hamiltonian.terms.keys()))[0][0][0])\n",
    "        print(\"Ops\",ops)\n",
    "        if (ops>0):\n",
    "            energy=results[0]/shots+results[1]/shots-results[2]/shots-results[3]/shots\n",
    "        else:\n",
    "            energy=results[0]/shots-results[1]/shots+results[2]/shots-results[3]/shots            \n",
    "            \n",
    "    if (len(list(hamiltonian.terms.keys())[0])==2):\n",
    "        energy=results[0]/shots-results[1]/shots-results[2]/shots+results[3]/shots            \n",
    "    print(\"Coeff:\",coeff, \" Measured energy: \",coeff*energy,\" Theoretical energy:\",energy1)\n",
    "    return coeff*energy"
   ]
  },
  {
   "cell_type": "markdown",
   "metadata": {},
   "source": [
    "Check the results when the expectation value of H is calcualted by rotations and measurements"
   ]
  },
  {
   "cell_type": "code",
   "execution_count": 8,
   "metadata": {},
   "outputs": [
    {
     "name": "stdout",
     "output_type": "stream",
     "text": [
      "Hamiltonian: 1.0 X0 X1\n",
      "[363. 117. 121. 423.]\n",
      "Coeff: 1.0  Measured energy:  0.53515625  Theoretical energy: 0.5646424733950346\n"
     ]
    }
   ],
   "source": [
    "expectedH=Expectation_H_shots(0.3,QubitOperator(\"X0 X1\"),1024)"
   ]
  },
  {
   "cell_type": "markdown",
   "metadata": {},
   "source": [
    "Funtion to calculate the expectation value of the full Hamiltonian. This function uses the property:\n",
    "\n",
    "$$\\langle \\sum_{i=0}^{N}H_i\\rangle = \\sum_{i=0}^{N}\\frac{\\langle \\Psi|H_i|\\Psi\\rangle}{\\langle \\Psi|\\Psi\\rangle}$$\n",
    "\n",
    "Using this property, the circuit can be shallow, allowing the parallelisation of the executions in the QPU. The expectation value of each term of the Hamiltonian can be calculated in parallel because of the linearlity of the expectation value operation"
   ]
  },
  {
   "cell_type": "code",
   "execution_count": 9,
   "metadata": {},
   "outputs": [],
   "source": [
    "def variational_quantum_eigensolver(theta, hamiltonian,shots=0):\n",
    "    #print(\"Theta:\",theta)\n",
    "    vqe=0.\n",
    "    if shots>0:\n",
    "        for i in hamiltonian:\n",
    "            vqe+=Expectation_H_shots(theta, i,shots)\n",
    "    else:\n",
    "        for i in hamiltonian:\n",
    "            vqe+=Expectation_H(theta, i)\n",
    "        \n",
    "    return vqe"
   ]
  },
  {
   "cell_type": "markdown",
   "metadata": {},
   "source": [
    "This is the main loop. For each bond length, the expectation value of the Hamiltonian is calculated, minimizing its value as function of the parameter $\\theta$"
   ]
  },
  {
   "cell_type": "code",
   "execution_count": 10,
   "metadata": {},
   "outputs": [
    {
     "name": "stdout",
     "output_type": "stream",
     "text": [
      "Calculating for Bond distance: 0\n",
      "Calculating for Bond distance: 1\n",
      "Calculating for Bond distance: 2\n",
      "Calculating for Bond distance: 3\n",
      "Calculating for Bond distance: 4\n",
      "Calculating for Bond distance: 5\n",
      "Calculating for Bond distance: 6\n",
      "Calculating for Bond distance: 7\n",
      "Calculating for Bond distance: 8\n",
      "Calculating for Bond distance: 9\n",
      "Calculating for Bond distance: 10\n",
      "Calculating for Bond distance: 11\n",
      "Calculating for Bond distance: 12\n",
      "Calculating for Bond distance: 13\n",
      "Calculating for Bond distance: 14\n",
      "Calculating for Bond distance: 15\n",
      "Calculating for Bond distance: 16\n",
      "Calculating for Bond distance: 17\n",
      "Calculating for Bond distance: 18\n",
      "Calculating for Bond distance: 19\n",
      "Calculating for Bond distance: 20\n",
      "Calculating for Bond distance: 21\n",
      "Calculating for Bond distance: 22\n",
      "Calculating for Bond distance: 23\n",
      "Calculating for Bond distance: 24\n",
      "Calculating for Bond distance: 25\n",
      "Calculating for Bond distance: 26\n",
      "Calculating for Bond distance: 27\n",
      "Calculating for Bond distance: 28\n",
      "Calculating for Bond distance: 29\n",
      "Calculating for Bond distance: 30\n",
      "Calculating for Bond distance: 31\n",
      "Calculating for Bond distance: 32\n",
      "Calculating for Bond distance: 33\n",
      "Calculating for Bond distance: 34\n",
      "Calculating for Bond distance: 35\n",
      "Calculating for Bond distance: 36\n",
      "Calculating for Bond distance: 37\n",
      "Calculating for Bond distance: 38\n",
      "Calculating for Bond distance: 39\n",
      "Calculating for Bond distance: 40\n",
      "Calculating for Bond distance: 41\n",
      "Calculating for Bond distance: 42\n",
      "Calculating for Bond distance: 43\n",
      "Calculating for Bond distance: 44\n",
      "Calculating for Bond distance: 45\n",
      "Calculating for Bond distance: 46\n",
      "Calculating for Bond distance: 47\n",
      "Calculating for Bond distance: 48\n",
      "Calculating for Bond distance: 49\n",
      "Calculating for Bond distance: 50\n",
      "Calculating for Bond distance: 51\n",
      "Calculating for Bond distance: 52\n",
      "Calculating for Bond distance: 53\n"
     ]
    }
   ],
   "source": [
    "lowest_energies = []\n",
    "lowest_energies_shots = []\n",
    "bond_distances = []\n",
    "for i in range(len(raw_data_table_1)):\n",
    "    # Use data of paper to construct the Hamiltonian\n",
    "    print(\"Calculating for Bond distance:\",i)\n",
    "    bond_distances.append(raw_data_table_1[i][0])\n",
    "    hamiltonian=[]\n",
    "    hamiltonian.append(raw_data_table_1[i][1] * QubitOperator(()))  # == identity\n",
    "    hamiltonian.append(raw_data_table_1[i][2] * QubitOperator(\"Z0\"))\n",
    "    hamiltonian.append(raw_data_table_1[i][3] * QubitOperator(\"Z1\"))\n",
    "    hamiltonian.append(raw_data_table_1[i][4] * QubitOperator(\"Z0 Z1\"))\n",
    "    hamiltonian.append(raw_data_table_1[i][5] * QubitOperator(\"X0 X1\"))\n",
    "    hamiltonian.append(raw_data_table_1[i][6] * QubitOperator(\"Y0 Y1\"))\n",
    "\n",
    "    # Use Scipy to perform the classical outerloop of the variational\n",
    "    # eigensolver, i.e., the minimization of the parameter theta.\n",
    "    # See documentation of Scipy for different optimizers.\n",
    "    minimum = minimize_scalar(lambda theta: variational_quantum_eigensolver(theta, hamiltonian,shots=0))\n",
    "    #minimumShots = minimize_scalar(lambda theta: variational_quantum_eigensolver(theta, hamiltonian,shots=1024))\n",
    "    lowest_energies.append(minimum.fun)\n",
    "    #lowest_energies_shots.append(minimumShots.fun)\n",
    "\n"
   ]
  },
  {
   "cell_type": "markdown",
   "metadata": {},
   "source": [
    "Ok. This is the end. Show the results"
   ]
  },
  {
   "cell_type": "code",
   "execution_count": 11,
   "metadata": {},
   "outputs": [
    {
     "data": {
      "image/png": "[encoded data removed]",
      "text/plain": [
       "<Figure size 432x288 with 1 Axes>"
      ]
     },
     "metadata": {
      "needs_background": "light"
     },
     "output_type": "display_data"
    }
   ],
   "source": [
    "# print result\n",
    "plt.xlabel(\"Bond length [Angstrom]\")\n",
    "plt.ylabel(\"Total Energy [Hartree]\")\n",
    "plt.title(\"Variational Quantum Eigensolver\")\n",
    "plt.plot(bond_distances, lowest_energies, \"b.-\",\n",
    "         label=\"Ground-state energy of molecular hydrogen\")\n",
    "plt.legend()\n",
    "plt.show()"
   ]
  },
  {
   "cell_type": "code",
   "execution_count": null,
   "metadata": {},
   "outputs": [],
   "source": []
  }
 ],
 "metadata": {
  "kernelspec": {
   "display_name": "Python 3",
   "language": "python",
   "name": "python3"
  },
  "language_info": {
   "codemirror_mode": {
    "name": "ipython",
    "version": 3
   },
   "file_extension": ".py",
   "mimetype": "text/x-python",
   "name": "python",
   "nbconvert_exporter": "python",
   "pygments_lexer": "ipython3",
   "version": "3.7.0"
  }
 },
 "nbformat": 4,
 "nbformat_minor": 2
}
