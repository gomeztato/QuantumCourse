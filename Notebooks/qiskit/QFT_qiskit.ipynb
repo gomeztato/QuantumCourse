{
 "cells": [
  {
   "cell_type": "markdown",
   "metadata": {},
   "source": [
    "# Quantum Fourier Transform (QFT)"
   ]
  },
  {
   "cell_type": "markdown",
   "metadata": {},
   "source": [
    "QFT Unitary\n",
    "$$F_N=\\frac{1}{\\sqrt{N}}\\begin{bmatrix}\n",
    "1&1&1&1&\\cdots &1 \\\\\n",
    "1&\\omega_n&\\omega_n^2&\\omega_n^3&\\cdots&\\omega_n^{N-1} \\\\\n",
    "1&\\omega_n^2&\\omega_n^4&\\omega_n^6&\\cdots&\\omega_n^{2(N-1)}\\\\ 1&\\omega_n^3&\\omega_n^6&\\omega_n^9&\\cdots&\\omega_n^{3(N-1)}\\\\\n",
    "\\vdots&\\vdots&\\vdots&\\vdots&&\\vdots\\\\\n",
    "1&\\omega_n^{N-1}&\\omega_n^{2(N-1)}&\\omega_n^{3(N-1)}&\\cdots&\\omega_n^{(N-1)(N-1)}\n",
    "\\end{bmatrix}\n",
    "$$\n",
    "\n",
    "where $$\\omega_n= e^{\\frac{2 \\pi i}{N}}$$ \n",
    "\n",
    "for example, for 2 qubits, the operator is:\n",
    "\n",
    "$$F_4=\\frac{1}{2}\\begin{bmatrix}\n",
    "1&1&1&1 \\\\\n",
    "1&e^{\\frac{\\pi i}{2}}&e^{\\pi i}&e^{\\frac{3 \\pi i}{2}} \\\\\n",
    "1&e^{\\pi i}&e^{2 \\pi i}&e^{\\frac{6 \\pi i}{2}}\\\\\n",
    "1&e^{\\frac{3 \\pi i}{2}}&e^{\\frac{6 \\pi i}{2}}&e^{\\frac{9 \\pi i}{2}}\n",
    "\\end{bmatrix}\n",
    "=\\frac{1}{2}\\begin{bmatrix}\n",
    "1&1&1&1 \\\\\n",
    "1&i&-1&-i \\\\\n",
    "1&-1&1&-1\\\\\n",
    "1&-i&-1&-i\n",
    "\\end{bmatrix}\n",
    "$$\n",
    "\n",
    "So, appying $F_4$ on the state $|\\phi>=\\frac{1}{2}[1,-1,1,-1]^T=\\frac{1}{2}(|00>-|01>+|10>-|11>)$\n",
    "\n",
    "$$F_4|\\phi>=\\frac{1}{2}\\begin{bmatrix}\n",
    "1&1&1&1 \\\\\n",
    "1&i&-1&-i \\\\\n",
    "1&-1&1&-1\\\\\n",
    "1&-i&-1&-i\n",
    "\\end{bmatrix}\\frac{1}{2}\\begin{bmatrix}1\\\\-1\\\\1\\\\-1\\end{bmatrix}=\\frac{1}{4}\\begin{bmatrix}0\\\\0\\\\4\\\\0\\end{bmatrix}=\\begin{bmatrix}0\\\\0\\\\1\\\\0\\end{bmatrix}=|10>$$\n",
    "\n"
   ]
  },
  {
   "cell_type": "markdown",
   "metadata": {},
   "source": [
    "[Example](https://algassert.com/quirk#circuit={%22cols%22:[[%22H%22,%22H%22,%22H%22],[%22Z%22],[1,1,%22H%22],[1,%22%E2%80%A2%22,%22Z^%C2%BD%22],[%22%E2%80%A2%22,1,%22Z^%C2%BC%22],[1,%22H%22],[%22%E2%80%A2%22,%22Z^%C2%BD%22],[%22H%22],[%22Swap%22,1,%22Swap%22]]})"
   ]
  },
  {
   "cell_type": "code",
   "execution_count": 1,
   "metadata": {},
   "outputs": [
    {
     "data": {
      "text/html": [
       "\n",
       "        <iframe\n",
       "            width=\"1000\"\n",
       "            height=\"650\"\n",
       "            src=\"http://localhost:8888/files/quirk.html#circuit={%22cols%22:[[%22H%22,%22H%22,%22H%22],[%22Z%22],[1,1,%22H%22],[1,%22%E2%80%A2%22,%22S%22],[%22%E2%80%A2%22,1,%22T%22],[1,%22H%22],[%22%E2%80%A2%22,%22S%22],[%22H%22],[%22Swap%22,1,%22Swap%22]]}\"\n",
       "            frameborder=\"0\"\n",
       "            allowfullscreen\n",
       "        ></iframe>\n",
       "        "
      ],
      "text/plain": [
       "<IPython.lib.display.IFrame at 0x7f17dc401198>"
      ]
     },
     "execution_count": 1,
     "metadata": {},
     "output_type": "execute_result"
    }
   ],
   "source": [
    "from IPython.display import IFrame\n",
    "\n",
    "IFrame(src='http://localhost:8888/files/quirk.html#circuit={%22cols%22:[[%22H%22,%22H%22,%22H%22],[%22Z%22],[1,1,%22H%22],[1,%22%E2%80%A2%22,%22S%22],[%22%E2%80%A2%22,1,%22T%22],[1,%22H%22],[%22%E2%80%A2%22,%22S%22],[%22H%22],[%22Swap%22,1,%22Swap%22]]}', width=1000, height=650)"
   ]
  },
  {
   "cell_type": "markdown",
   "metadata": {},
   "source": [
    "## Using IBM gates\n",
    "\n",
    "$S=U_1(\\frac{\\pi}{2})$\n",
    "\n",
    "and\n",
    "\n",
    "$T=U_1(\\frac{\\pi}{4})$\n",
    "\n",
    "it is possible to construct the previous cirtuit with qiskit\n"
   ]
  },
  {
   "cell_type": "markdown",
   "metadata": {},
   "source": [
    "## Construct the circuit with qiskit"
   ]
  },
  {
   "cell_type": "code",
   "execution_count": 2,
   "metadata": {},
   "outputs": [
    {
     "data": {
      "text/html": [
       "<h3>Version Information</h3><table><tr><th>Qiskit Software</th><th>Version</th></tr><tr><td>Qiskit</td><td>0.14.1</td></tr><tr><td>Terra</td><td>0.11.1</td></tr><tr><td>Aer</td><td>0.3.4</td></tr><tr><td>Ignis</td><td>0.2.0</td></tr><tr><td>Aqua</td><td>0.6.2</td></tr><tr><td>IBM Q Provider</td><td>0.4.5</td></tr><tr><th>System information</th></tr><tr><td>Python</td><td>3.5.5 |Anaconda, Inc.| (default, Mar 12 2018, 23:12:44) \n",
       "[GCC 7.2.0]</td></tr><tr><td>OS</td><td>Linux</td></tr><tr><td>CPUs</td><td>2</td></tr><tr><td>Memory (Gb)</td><td>15.92706298828125</td></tr><tr><td colspan='2'>Sun Jan 12 00:24:47 2020 CET</td></tr></table>"
      ],
      "text/plain": [
       "<IPython.core.display.HTML object>"
      ]
     },
     "metadata": {},
     "output_type": "display_data"
    }
   ],
   "source": [
    "%matplotlib inline\n",
    "from qiskit import *\n",
    "import qiskit.tools.jupyter\n",
    "%qiskit_version_table"
   ]
  },
  {
   "cell_type": "markdown",
   "metadata": {},
   "source": [
    "## Auxiliary functions"
   ]
  },
  {
   "cell_type": "code",
   "execution_count": 3,
   "metadata": {},
   "outputs": [],
   "source": [
    "def Display(string):\n",
    "    from IPython.display import display, Markdown\n",
    "    display(Markdown(string))\n",
    "def VectorToLatex(A,Format='{:.4f}'):\n",
    "    a=\"\\\\begin{bmatrix}\"\n",
    "    for i in range(A.shape[0]):\n",
    "        a=a+Format.format(A[i])\n",
    "        a=a+\"\\\\\\\\\"\n",
    "    a=a+\"\\\\end{bmatrix}\"\n",
    "    return(a)\n",
    "def MatrixToLatex(A,Format='{:.4f}'):\n",
    "    a=\"\\\\begin{bmatrix}\"\n",
    "    for i in range(A.shape[0]):\n",
    "        for j in range(A.shape[1]):\n",
    "            if ((j+1)%A.shape[1])==0:\n",
    "                a=a+Format.format(A[i,j])\n",
    "            else:\n",
    "                a=a+Format.format(A[i,j])+\"&\"\n",
    "        if ((i+1)%A.shape[0])!=0:\n",
    "            a=a+\"\\\\\\\\\"\n",
    "    a=a+\"\\\\end{bmatrix}\"\n",
    "    return(a)"
   ]
  },
  {
   "cell_type": "markdown",
   "metadata": {},
   "source": [
    "## Create a circuit with quantum register of 3 qubits and classical register of 3 bits"
   ]
  },
  {
   "cell_type": "code",
   "execution_count": 24,
   "metadata": {},
   "outputs": [],
   "source": [
    "num_qubits=3"
   ]
  },
  {
   "cell_type": "code",
   "execution_count": 25,
   "metadata": {},
   "outputs": [],
   "source": [
    "circuit=QuantumCircuit(num_qubits,num_qubits,name=\"QFT\")"
   ]
  },
  {
   "cell_type": "markdown",
   "metadata": {},
   "source": [
    "## Create the input state $|\\phi>=\\frac{1}{\\sqrt{8}}[1,-1,1,-1,1,-1,1,-1]^T=\\frac{1}{\\sqrt{8}}(|000>-|001>+|010>-|011>+|100>-|101>+|110>-|111>)$"
   ]
  },
  {
   "cell_type": "code",
   "execution_count": 26,
   "metadata": {},
   "outputs": [
    {
     "data": {
      "text/plain": [
       "<qiskit.circuit.instructionset.InstructionSet at 0x7fea10766e80>"
      ]
     },
     "execution_count": 26,
     "metadata": {},
     "output_type": "execute_result"
    }
   ],
   "source": [
    "def input_state(circ, q, n):\n",
    "    import math\n",
    "    \"\"\"n-qubit input state for QFT that produces output 1.\"\"\"\n",
    "    for j in range(n):\n",
    "        circ.h(q[j])\n",
    "    circ.z(q[0])\n",
    "input_state(circuit,circuit.qregs[0],num_qubits)\n",
    "circuit.barrier()"
   ]
  },
  {
   "cell_type": "code",
   "execution_count": 27,
   "metadata": {},
   "outputs": [
    {
     "data": {
      "text/markdown": [
       "$$InputState=\\begin{bmatrix}0.3536+0.0000j\\\\-0.3536+0.0000j\\\\0.3536+0.0000j\\\\-0.3536+0.0000j\\\\0.3536+0.0000j\\\\-0.3536+0.0000j\\\\0.3536+0.0000j\\\\-0.3536+0.0000j\\\\\\end{bmatrix}$$"
      ],
      "text/plain": [
       "<IPython.core.display.Markdown object>"
      ]
     },
     "metadata": {},
     "output_type": "display_data"
    }
   ],
   "source": [
    "simulator = Aer.get_backend('statevector_simulator')\n",
    "\n",
    "# Execute and get counts\n",
    "result = execute(circuit.copy(), simulator).result()\n",
    "statevector = result.get_statevector(circuit)\n",
    "#plot_state_city(statevector, title='Bell state')\n",
    "Display(\"$$InputState=%s$$\"%VectorToLatex(statevector))"
   ]
  },
  {
   "cell_type": "markdown",
   "metadata": {},
   "source": [
    "## Apply the QFT"
   ]
  },
  {
   "cell_type": "code",
   "execution_count": 28,
   "metadata": {},
   "outputs": [
    {
     "data": {
      "text/plain": [
       "<qiskit.circuit.instructionset.InstructionSet at 0x7fea10791208>"
      ]
     },
     "execution_count": 28,
     "metadata": {},
     "output_type": "execute_result"
    }
   ],
   "source": [
    "def qft(circ, q, n):\n",
    "    import math\n",
    "    \"\"\"n-qubit QFT on q in circ.\"\"\"\n",
    "    for j in range(n-1,-1,-1):\n",
    "        circ.h(q[j])\n",
    "        for k in range(j-1,-1,-1):\n",
    "           circ.cu1(math.pi/float(2**(j-k)), q[k], q[j])\n",
    "    circ.barrier()\n",
    "    for j in range(n//2):\n",
    "        circ.swap(j,n-j-1)\n",
    "qft(circuit,circuit.qregs[0],num_qubits)\n",
    "circuit.barrier()\n",
    "\n",
    "circuit.measure(circuit.qregs[0],circuit.cregs[0])"
   ]
  },
  {
   "cell_type": "code",
   "execution_count": 29,
   "metadata": {},
   "outputs": [
    {
     "data": {
      "image/png": "[encoded data removed]",
      "text/plain": [
       "<Figure size 1059.52x264.88 with 1 Axes>"
      ]
     },
     "execution_count": 29,
     "metadata": {},
     "output_type": "execute_result"
    }
   ],
   "source": [
    "circuit.draw(output='mpl')\n"
   ]
  },
  {
   "cell_type": "markdown",
   "metadata": {},
   "source": [
    "## Get the final state"
   ]
  },
  {
   "cell_type": "code",
   "execution_count": 31,
   "metadata": {},
   "outputs": [
    {
     "data": {
      "text/markdown": [
       "$$OutputState=\\begin{bmatrix}0.0000+0.0000j\\\\0.0000+0.0000j\\\\0.0000+0.0000j\\\\0.0000+0.0000j\\\\1.0000-0.0000j\\\\0.0000+0.0000j\\\\0.0000+0.0000j\\\\0.0000+0.0000j\\\\\\end{bmatrix}$$"
      ],
      "text/plain": [
       "<IPython.core.display.Markdown object>"
      ]
     },
     "metadata": {},
     "output_type": "display_data"
    }
   ],
   "source": [
    "simulator = Aer.get_backend('statevector_simulator')\n",
    "\n",
    "# Execute and get counts\n",
    "result = execute(circuit.copy(), simulator).result()\n",
    "statevector = result.get_statevector(circuit)\n",
    "#plot_state_city(statevector, title='Bell state')\n",
    "Display(\"$$OutputState=%s$$\"%VectorToLatex(statevector))"
   ]
  },
  {
   "cell_type": "markdown",
   "metadata": {},
   "source": [
    "## Or the counts of measurement for each state"
   ]
  },
  {
   "cell_type": "code",
   "execution_count": 32,
   "metadata": {},
   "outputs": [
    {
     "data": {
      "image/png": "[encoded data removed]",
      "text/plain": [
       "<Figure size 504x360 with 1 Axes>"
      ]
     },
     "execution_count": 32,
     "metadata": {},
     "output_type": "execute_result"
    }
   ],
   "source": [
    "from qiskit.visualization import plot_histogram\n",
    "simulator = Aer.get_backend('qasm_simulator')\n",
    "\n",
    "# Execute and get counts\n",
    "result = execute(circuit, simulator).result()\n",
    "plot_histogram(result.get_counts(circuit))"
   ]
  },
  {
   "cell_type": "code",
   "execution_count": 33,
   "metadata": {},
   "outputs": [
    {
     "data": {
      "image/png": "[encoded data removed]",
      "text/plain": [
       "<Figure size 1601.32x264.88 with 1 Axes>"
      ]
     },
     "execution_count": 33,
     "metadata": {},
     "output_type": "execute_result"
    }
   ],
   "source": [
    "from qiskit.aqua.components.qfts import Standard as QFT\n",
    "circuit=QuantumCircuit(num_qubits,num_qubits,name=\"QFT\")\n",
    "input_state(circuit,circuit.qregs[0],num_qubits)\n",
    "circuit.barrier()\n",
    "for j in range(num_qubits//2):\n",
    "        circuit.swap(j,num_qubits-j-1)\n",
    "QFT(num_qubits=num_qubits).construct_circuit(mode=\"circuit\", qubits=circuit.qregs[0], circuit=circuit, do_swaps=False)\n",
    "circuit.barrier()\n",
    "\n",
    "circuit.measure(circuit.qregs[0],circuit.cregs[0])\n",
    "circuit.draw(output='mpl')"
   ]
  },
  {
   "cell_type": "code",
   "execution_count": 34,
   "metadata": {},
   "outputs": [
    {
     "data": {
      "image/png": "[encoded data removed]",
      "text/plain": [
       "<Figure size 504x360 with 1 Axes>"
      ]
     },
     "execution_count": 34,
     "metadata": {},
     "output_type": "execute_result"
    }
   ],
   "source": [
    "from qiskit.visualization import plot_histogram\n",
    "simulator = Aer.get_backend('qasm_simulator')\n",
    "\n",
    "# Execute and get counts\n",
    "result = execute(circuit, simulator).result()\n",
    "plot_histogram(result.get_counts(circuit))"
   ]
  },
  {
   "cell_type": "code",
   "execution_count": 37,
   "metadata": {},
   "outputs": [
    {
     "name": "stderr",
     "output_type": "stream",
     "text": [
      "Credentials are already in use. The existing account in the session will be replaced.\n"
     ]
    }
   ],
   "source": [
    "IBMQ.load_account()\n",
    "provider=IBMQ.get_provider('ibm-q')"
   ]
  },
  {
   "cell_type": "code",
   "execution_count": 36,
   "metadata": {},
   "outputs": [
    {
     "name": "stderr",
     "output_type": "stream",
     "text": [
      "/home/agomez/.conda/envs/cursoQC/lib/python3.5/site-packages/qiskit/providers/models/backendconfiguration.py:367: UserWarning: `dt` and `dtm` now have units of seconds(s) rather than nanoseconds(ns).\n",
      "  warnings.warn('`dt` and `dtm` now have units of seconds(s) rather '\n"
     ]
    },
    {
     "data": {
      "application/vnd.jupyter.widget-view+json": {
       "model_id": "def89405d0a14d85becd0bae8158ac44",
       "version_major": 2,
       "version_minor": 0
      },
      "text/plain": [
       "VBox(children=(HTML(value=\"<h2 style ='color:#ffffff; background-color:#000000;padding-top: 1%; padding-bottom…"
      ]
     },
     "metadata": {},
     "output_type": "display_data"
    }
   ],
   "source": [
    "%qiskit_backend_overview"
   ]
  },
  {
   "cell_type": "code",
   "execution_count": 38,
   "metadata": {},
   "outputs": [],
   "source": [
    "simulator=provider.get_backend('ibmqx2')"
   ]
  },
  {
   "cell_type": "code",
   "execution_count": 39,
   "metadata": {},
   "outputs": [],
   "source": [
    "job=execute(circuit,backend=simulator)"
   ]
  },
  {
   "cell_type": "code",
   "execution_count": 40,
   "metadata": {},
   "outputs": [
    {
     "name": "stdout",
     "output_type": "stream",
     "text": [
      "Job Status: job has successfully run\n"
     ]
    }
   ],
   "source": [
    "from qiskit.tools.monitor import job_monitor\n",
    "job_monitor(job)"
   ]
  },
  {
   "cell_type": "code",
   "execution_count": 42,
   "metadata": {},
   "outputs": [
    {
     "data": {
      "image/png": "[encoded data removed]",
      "text/plain": [
       "<Figure size 504x360 with 1 Axes>"
      ]
     },
     "execution_count": 42,
     "metadata": {},
     "output_type": "execute_result"
    }
   ],
   "source": [
    "result = job.result()\n",
    "\n",
    "plot_histogram(result.get_counts(circuit))"
   ]
  },
  {
   "cell_type": "code",
   "execution_count": null,
   "metadata": {},
   "outputs": [],
   "source": []
  }
 ],
 "metadata": {
  "kernelspec": {
   "display_name": "Python 3",
   "language": "python",
   "name": "python3"
  },
  "language_info": {
   "codemirror_mode": {
    "name": "ipython",
    "version": 3
   },
   "file_extension": ".py",
   "mimetype": "text/x-python",
   "name": "python",
   "nbconvert_exporter": "python",
   "pygments_lexer": "ipython3",
   "version": "3.5.5"
  }
 },
 "nbformat": 4,
 "nbformat_minor": 2
}
