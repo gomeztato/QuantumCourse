{
 "cells": [
  {
   "cell_type": "markdown",
   "metadata": {},
   "source": [
    "# Finding the edge of one pinture using Quantum Paralelism\n",
    "\n",
    "This notebook is based on the paper:\n",
    "\n",
    "[Yao, X.-W.](https://arxiv.org/abs/1801.01465), et al. (2017). Quantum Image Processing and Its Application to Edge Detection: Theory and Experiment. Physical Review X, 7(3), 031041. http://doi.org/10.1103/PhysRevX.7.031041\n",
    "\n",
    "The main objective of this algorithm is to find the edge of one image. This means, given the image:\n",
    "\n",
    "<img src=\"./Images/C.png\">\n",
    "\n",
    "the objective is to find its edges to get this other image:\n",
    "\n",
    "<img src=\"./Images/C_EDGES.png\">\n",
    "\n",
    "The algorithm has the next steps:\n",
    "\n",
    "1. Load the image as a matrix os (n,m) elements $c_{ij}$\n",
    "$$D=\\begin{bmatrix} \n",
    "d_{11} & d_{12} & \\cdots&d_{1j}&\\cdots&d_{1m}  \\\\\n",
    "d_{21} & d_{22} & \\cdots&d_{2j}&\\cdots &d_{2m}  \\\\\n",
    "\\vdots&&\\ddots&\\vdots&\\ddots&\\vdots\\\\\n",
    "d_{i1} & d_{i2} & \\cdots&d_{ij}&\\cdots &d_{im}  \\\\\n",
    "\\vdots&&\\ddots&\\vdots&\\ddots&\\vdots\\\\\n",
    "d_{n1} & d_{n2} & \\cdots&d_{nj}&\\cdots &d_{nm}  \\\\\n",
    "\\end{bmatrix}$$\n",
    "2. Convert the array in a vector of N=n\\*m elements\n",
    "$$C=\\begin{bmatrix} \n",
    "d_{11}   \\\\\n",
    "d_{21}   \\\\\n",
    "\\vdots\\\\\n",
    "d_{ij}   \\\\\n",
    "d_{(i+1) j}   \\\\\n",
    "\\vdots\\\\\n",
    "d_{nm} \\\\\n",
    "\\end{bmatrix}=\n",
    "\\begin{bmatrix} \n",
    "c_{0}   \\\\\n",
    "c_{1}   \\\\\n",
    "\\vdots\\\\\n",
    "c_{N-2}   \\\\\n",
    "c_{N-1}   \\\\\n",
    "\\end{bmatrix}\n",
    "$$\n",
    "3. Map this vector to one qureg of $q=log_2(N)$ qubits as\n",
    "$${\\lvert}\\phi(C){\\rangle}=\\frac{1}{{\\left\\lVert C \\right\\rVert}^2}\\sum_{k=0}^{N-1}c_{k}{\\lvert}k{\\rangle}$$\n",
    "4. Apply a Hadamard gate to the last qubit\n",
    "$$(I^{\\otimes q-1}\\otimes H)\\lvert\\phi(C)\\rangle=\\begin{bmatrix} \n",
    "c_{0}+c_{1}   \\\\\n",
    "c_{0}-c_{1}   \\\\\n",
    "\\vdots\\\\\n",
    "c_{N-2}+c_{N-1}\\\\\n",
    "c_{N-2}-c_{N-1}\\\\\n",
    "\\end{bmatrix}$$\n",
    "So, even elements will be close to 0 if two pixels have near values -in the case of black and white images, they must be 0- and will have values different of 0 if they are borders. Measuring the last qubit, if the result is 1, the final states $\\lvert k \\rangle$ (states representing odd natural numbers), encode the pixels of the boundaries."
   ]
  },
  {
   "cell_type": "code",
   "execution_count": 1,
   "metadata": {},
   "outputs": [
    {
     "data": {
      "text/html": [
       "<h3>Version Information</h3><table><tr><th>Qiskit Software</th><th>Version</th></tr><tr><td>Qiskit</td><td>0.14.1</td></tr><tr><td>Terra</td><td>0.11.1</td></tr><tr><td>Aer</td><td>0.3.4</td></tr><tr><td>Ignis</td><td>0.2.0</td></tr><tr><td>Aqua</td><td>0.6.2</td></tr><tr><td>IBM Q Provider</td><td>0.4.5</td></tr><tr><th>System information</th></tr><tr><td>Python</td><td>3.5.5 |Anaconda, Inc.| (default, Mar 12 2018, 23:12:44) \n",
       "[GCC 7.2.0]</td></tr><tr><td>OS</td><td>Linux</td></tr><tr><td>CPUs</td><td>2</td></tr><tr><td>Memory (Gb)</td><td>15.92706298828125</td></tr><tr><td colspan='2'>Sun Jan 12 02:42:13 2020 CET</td></tr></table>"
      ],
      "text/plain": [
       "<IPython.core.display.HTML object>"
      ]
     },
     "metadata": {},
     "output_type": "display_data"
    }
   ],
   "source": [
    "%matplotlib inline\n",
    "import matplotlib.pyplot as plt\n",
    "from PIL import Image\n",
    "import numpy as np\n",
    "from numpy import linalg as LA\n",
    "from qiskit import *\n",
    "import qiskit.tools.jupyter\n",
    "%qiskit_version_table"
   ]
  },
  {
   "cell_type": "markdown",
   "metadata": {},
   "source": [
    "Load the image. Because it is too large, rescale it."
   ]
  },
  {
   "cell_type": "code",
   "execution_count": 2,
   "metadata": {},
   "outputs": [
    {
     "data": {
      "text/plain": [
       "<matplotlib.image.AxesImage at 0x7f3e9a7e1d30>"
      ]
     },
     "execution_count": 2,
     "metadata": {},
     "output_type": "execute_result"
    },
    {
     "data": {
      "image/png": "[encoded data removed]",
      "text/plain": [
       "<Figure size 432x288 with 1 Axes>"
      ]
     },
     "metadata": {},
     "output_type": "display_data"
    }
   ],
   "source": [
    "A=Image.open(\"Images/cesga_unha_tinta.jpg\").convert(\"1\")\n",
    "maxsize=(A.size[0]//4,A.size[1]//4)\n",
    "A.thumbnail(maxsize, Image.ANTIALIAS)\n",
    "im_arr = (np.array(A)==False).astype(np.int8)\n",
    "plt.imshow(im_arr, cmap='Greys' )"
   ]
  },
  {
   "cell_type": "markdown",
   "metadata": {},
   "source": [
    "Because even after rescaling the image is to large to simulate, crop it around **C**"
   ]
  },
  {
   "cell_type": "code",
   "execution_count": 3,
   "metadata": {},
   "outputs": [
    {
     "data": {
      "text/plain": [
       "<matplotlib.image.AxesImage at 0x7f3e997320b8>"
      ]
     },
     "execution_count": 3,
     "metadata": {},
     "output_type": "execute_result"
    },
    {
     "data": {
      "image/png": "[encoded data removed]",
      "text/plain": [
       "<Figure size 432x288 with 1 Axes>"
      ]
     },
     "metadata": {},
     "output_type": "display_data"
    }
   ],
   "source": [
    "im_crop=im_arr[46:120,265:320]\n",
    "#im_crop=im_arr[46:60,265:300]\n",
    "plt.imshow(im_crop, cmap='Greys' )"
   ]
  },
  {
   "cell_type": "markdown",
   "metadata": {},
   "source": [
    "Calculate the number of qubits needed to store all the image. Remember that n qubits can store $N=2^ n$ complex numbers. As consequence, to store m\\*n pixels, a qureg of $q=\\log_2(n*m)$ qubits is used"
   ]
  },
  {
   "cell_type": "code",
   "execution_count": 4,
   "metadata": {},
   "outputs": [
    {
     "name": "stdout",
     "output_type": "stream",
     "text": [
      "12\n"
     ]
    }
   ],
   "source": [
    "number_of_qubits=int(np.ceil(np.log2(im_crop.shape[0]*im_crop.shape[1])))\n",
    "print(number_of_qubits)"
   ]
  },
  {
   "cell_type": "markdown",
   "metadata": {},
   "source": [
    "Create a vector with the number of elements that number_of_qubits can store"
   ]
  },
  {
   "cell_type": "code",
   "execution_count": 5,
   "metadata": {},
   "outputs": [
    {
     "name": "stdout",
     "output_type": "stream",
     "text": [
      "Print 12 qubits can store 4096 elements.\n"
     ]
    }
   ],
   "source": [
    "Vector=np.zeros((2**number_of_qubits))\n",
    "print(\"Print %d qubits can store %d elements.\"%(number_of_qubits,Vector.shape[0]))"
   ]
  },
  {
   "cell_type": "markdown",
   "metadata": {},
   "source": [
    "Now, map the image to the first elements of this vector"
   ]
  },
  {
   "cell_type": "code",
   "execution_count": 6,
   "metadata": {},
   "outputs": [],
   "source": [
    "shape=im_crop.shape[0]*im_crop.shape[1]\n",
    "Vector[0:shape]=im_crop.reshape((shape))"
   ]
  },
  {
   "cell_type": "markdown",
   "metadata": {},
   "source": [
    "Because the norm of the amplitudes of one quantum state must be one, we must convert this vector to a normalized one, dividing each element by the norm of the vector. "
   ]
  },
  {
   "cell_type": "code",
   "execution_count": 7,
   "metadata": {},
   "outputs": [],
   "source": [
    "from numpy import linalg as LA\n",
    "norma=LA.norm(Vector)\n",
    "Vnorma=Vector/norma"
   ]
  },
  {
   "cell_type": "markdown",
   "metadata": {},
   "source": [
    "Allocate one qureg with the number of needed qubits."
   ]
  },
  {
   "cell_type": "code",
   "execution_count": 8,
   "metadata": {},
   "outputs": [],
   "source": [
    "\n",
    "circuit=QuantumCircuit(number_of_qubits,number_of_qubits,name=\"EDGE\")\n",
    "qreg=circuit.qregs[0]"
   ]
  },
  {
   "cell_type": "markdown",
   "metadata": {},
   "source": [
    "Now, use the operation [Custom](https://qiskit.org/documentation/api/qiskit.aqua.components.initial_states.Custom.html) to generate the quantum circuit to map the Vnorma vector to one quantum state. This operation will generate the set of gates to transform the initial state $\\lvert 0 \\rangle^{\\otimes q}$ to the desired final state $\\lvert \\phi \\rangle$."
   ]
  },
  {
   "cell_type": "code",
   "execution_count": 9,
   "metadata": {},
   "outputs": [],
   "source": [
    "from qiskit.aqua.components.initial_states import Custom"
   ]
  },
  {
   "cell_type": "code",
   "execution_count": 10,
   "metadata": {},
   "outputs": [],
   "source": [
    "import numpy as np\n",
    "CreateState=Custom(number_of_qubits,state_vector=Vnorma)"
   ]
  },
  {
   "cell_type": "code",
   "execution_count": 11,
   "metadata": {},
   "outputs": [],
   "source": [
    "inputCir=circuit+CreateState.construct_circuit(mode='circuit', register=qreg)"
   ]
  },
  {
   "cell_type": "code",
   "execution_count": 12,
   "metadata": {},
   "outputs": [],
   "source": [
    "def Display(string):\n",
    "    from IPython.display import display, Markdown\n",
    "    display(Markdown(string))\n",
    "def VectorToLatex(A,Format='{:.4f}'):\n",
    "    a=\"\\\\begin{bmatrix}\"\n",
    "    for i in range(A.shape[0]):\n",
    "        a=a+Format.format(A[i])\n",
    "        a=a+\"\\\\\\\\\"\n",
    "    a=a+\"\\\\end{bmatrix}\"\n",
    "    return(a)\n",
    "def MatrixToLatex(A,Format='{:.4f}'):\n",
    "    a=\"\\\\begin{bmatrix}\"\n",
    "    for i in range(A.shape[0]):\n",
    "        for j in range(A.shape[1]):\n",
    "            if ((j+1)%A.shape[1])==0:\n",
    "                a=a+Format.format(A[i,j])\n",
    "            else:\n",
    "                a=a+Format.format(A[i,j])+\"&\"\n",
    "        if ((i+1)%A.shape[0])!=0:\n",
    "            a=a+\"\\\\\\\\\"\n",
    "    a=a+\"\\\\end{bmatrix}\"\n",
    "    return(a)"
   ]
  },
  {
   "cell_type": "code",
   "execution_count": 13,
   "metadata": {},
   "outputs": [],
   "source": [
    "simulator = Aer.get_backend('statevector_simulator')\n",
    "\n",
    "# Execute and get counts\n",
    "result = execute(inputCir.copy(), simulator).result()\n",
    "statevector = result.get_statevector(inputCir)\n",
    "#plot_state_city(statevector, title='Bell state')\n"
   ]
  },
  {
   "cell_type": "code",
   "execution_count": 14,
   "metadata": {},
   "outputs": [
    {
     "name": "stderr",
     "output_type": "stream",
     "text": [
      "/home/agomez/.conda/envs/cursoQC/lib/python3.5/site-packages/numpy/core/numeric.py:501: ComplexWarning: Casting complex values to real discards the imaginary part\n",
      "  return array(a, dtype, copy=False, order=order)\n"
     ]
    },
    {
     "data": {
      "text/plain": [
       "<matplotlib.legend.Legend at 0x7f3e93ed96d8>"
      ]
     },
     "execution_count": 14,
     "metadata": {},
     "output_type": "execute_result"
    },
    {
     "data": {
      "image/png": "[encoded data removed]",
      "text/plain": [
       "<Figure size 720x216 with 2 Axes>"
      ]
     },
     "metadata": {},
     "output_type": "display_data"
    }
   ],
   "source": [
    "fig,ax=plt.subplots(1,2,figsize=(10,3))\n",
    "ax[0].plot(statevector,\"r*\",label=\"State\")\n",
    "ax[0].legend()\n",
    "ax[0].set_ylabel(\"Amplitude\")\n",
    "ax[1].plot(Vnorma,\"*\",label=\"Vnorma\")\n",
    "ax[1].legend()"
   ]
  },
  {
   "cell_type": "code",
   "execution_count": 15,
   "metadata": {},
   "outputs": [
    {
     "name": "stderr",
     "output_type": "stream",
     "text": [
      "/home/agomez/.conda/envs/cursoQC/lib/python3.5/site-packages/numpy/core/numeric.py:501: ComplexWarning: Casting complex values to real discards the imaginary part\n",
      "  return array(a, dtype, copy=False, order=order)\n"
     ]
    },
    {
     "data": {
      "text/plain": [
       "<matplotlib.legend.Legend at 0x7f3e9792a390>"
      ]
     },
     "execution_count": 15,
     "metadata": {},
     "output_type": "execute_result"
    },
    {
     "data": {
      "image/png": "[encoded data removed]",
      "text/plain": [
       "<Figure size 1440x216 with 2 Axes>"
      ]
     },
     "metadata": {},
     "output_type": "display_data"
    }
   ],
   "source": [
    "fig,ax=plt.subplots(1,2,figsize=(20,3))\n",
    "ax[0].plot(statevector,\"r-\",label=\"State\")\n",
    "ax[0].legend()\n",
    "ax[0].set_ylabel(\"Amplitude\")\n",
    "ax[1].plot(Vnorma,\"-\",label=\"Vnorma\")\n",
    "ax[1].legend()"
   ]
  },
  {
   "cell_type": "code",
   "execution_count": 16,
   "metadata": {},
   "outputs": [
    {
     "data": {
      "text/plain": [
       "<matplotlib.image.AxesImage at 0x7f3e942d9da0>"
      ]
     },
     "execution_count": 16,
     "metadata": {},
     "output_type": "execute_result"
    },
    {
     "data": {
      "image/png": "[encoded data removed]",
      "text/plain": [
       "<Figure size 432x288 with 1 Axes>"
      ]
     },
     "metadata": {},
     "output_type": "display_data"
    }
   ],
   "source": [
    "IMOutput=np.round((statevector[0:im_crop.shape[0]*im_crop.shape[1]]).real*norma)\n",
    "plt.imshow(IMOutput.reshape((im_crop.shape[0],im_crop.shape[1])), cmap='Greys')"
   ]
  },
  {
   "cell_type": "markdown",
   "metadata": {},
   "source": [
    "Now, apply the Hadamard gate to the last qubit."
   ]
  },
  {
   "cell_type": "code",
   "execution_count": 17,
   "metadata": {},
   "outputs": [
    {
     "data": {
      "text/plain": [
       "<qiskit.circuit.instructionset.InstructionSet at 0x7f3e9692eda0>"
      ]
     },
     "execution_count": 17,
     "metadata": {},
     "output_type": "execute_result"
    }
   ],
   "source": [
    "inputCir.h(0)"
   ]
  },
  {
   "cell_type": "markdown",
   "metadata": {},
   "source": [
    "In the real case, a large number of measurements of the final state have to be done to obtain the probabilities of the final state. In fact, the algorithm needs to measure the last qubit and, when the results is one, the result state is the solution.However, in the simulator, you can recover them directly, and take only those that are due to last state equal to 1, this means, the natural odd numbers."
   ]
  },
  {
   "cell_type": "code",
   "execution_count": 18,
   "metadata": {},
   "outputs": [
    {
     "data": {
      "text/plain": [
       "<qiskit.circuit.instructionset.InstructionSet at 0x7f3e99244f60>"
      ]
     },
     "execution_count": 18,
     "metadata": {},
     "output_type": "execute_result"
    }
   ],
   "source": [
    "inputCir.measure(inputCir.qregs[0],inputCir.cregs[0])"
   ]
  },
  {
   "cell_type": "code",
   "execution_count": 19,
   "metadata": {},
   "outputs": [],
   "source": [
    "simulator = Aer.get_backend('qasm_simulator')\n",
    "\n",
    "# Execute and get counts\n",
    "result = execute(inputCir.copy(), simulator,shots=shape).result()\n"
   ]
  },
  {
   "cell_type": "code",
   "execution_count": 20,
   "metadata": {},
   "outputs": [],
   "source": [
    "resultado=result.get_counts(inputCir)"
   ]
  },
  {
   "cell_type": "code",
   "execution_count": 21,
   "metadata": {},
   "outputs": [
    {
     "data": {
      "text/plain": [
       "{'000111010100': 10,\n",
       " '000111010110': 11,\n",
       " '000111011000': 7,\n",
       " '000111011010': 12,\n",
       " '000111011101': 1,\n",
       " '001000000110': 3,\n",
       " '001000001000': 8,\n",
       " '001000001010': 7,\n",
       " '001000001100': 10,\n",
       " '001000001110': 9,\n",
       " '001000010000': 6,\n",
       " '001000010010': 9,\n",
       " '001000010100': 6,\n",
       " '001000010110': 8,\n",
       " '001000011000': 15,\n",
       " '001000111011': 1,\n",
       " '001000111100': 8,\n",
       " '001000111110': 15,\n",
       " '001001000000': 11,\n",
       " '001001000010': 10,\n",
       " '001001000100': 7,\n",
       " '001001000110': 11,\n",
       " '001001001000': 11,\n",
       " '001001001010': 9,\n",
       " '001001001100': 7,\n",
       " '001001001110': 11,\n",
       " '001001010000': 9,\n",
       " '001001010010': 8,\n",
       " '001001101111': 3,\n",
       " '001001110000': 10,\n",
       " '001001110010': 6,\n",
       " '001001110100': 4,\n",
       " '001001110110': 4,\n",
       " '001001111000': 8,\n",
       " '001001111010': 6,\n",
       " '001001111100': 5,\n",
       " '001001111110': 10,\n",
       " '001010000000': 8,\n",
       " '001010000010': 6,\n",
       " '001010000100': 14,\n",
       " '001010000110': 9,\n",
       " '001010001000': 7,\n",
       " '001010001011': 2,\n",
       " '001010100100': 3,\n",
       " '001010100101': 7,\n",
       " '001010100110': 8,\n",
       " '001010101000': 7,\n",
       " '001010101010': 8,\n",
       " '001010101100': 10,\n",
       " '001010101110': 7,\n",
       " '001010110000': 12,\n",
       " '001010110010': 12,\n",
       " '001010110100': 9,\n",
       " '001010110110': 8,\n",
       " '001010111000': 11,\n",
       " '001010111010': 11,\n",
       " '001010111100': 4,\n",
       " '001010111110': 12,\n",
       " '001011000000': 11,\n",
       " '001011011010': 11,\n",
       " '001011011100': 9,\n",
       " '001011011110': 13,\n",
       " '001011100000': 8,\n",
       " '001011100010': 12,\n",
       " '001011100100': 6,\n",
       " '001011100110': 10,\n",
       " '001011101000': 11,\n",
       " '001011101010': 11,\n",
       " '001011101100': 9,\n",
       " '001011101110': 9,\n",
       " '001011110000': 5,\n",
       " '001011110010': 8,\n",
       " '001011110100': 5,\n",
       " '001011110110': 16,\n",
       " '001011111000': 1,\n",
       " '001011111001': 3,\n",
       " '001100010000': 11,\n",
       " '001100010010': 11,\n",
       " '001100010100': 6,\n",
       " '001100010110': 6,\n",
       " '001100011000': 17,\n",
       " '001100011010': 12,\n",
       " '001100011100': 7,\n",
       " '001100011110': 9,\n",
       " '001100100000': 10,\n",
       " '001100100010': 8,\n",
       " '001100100100': 11,\n",
       " '001100100110': 11,\n",
       " '001100101000': 8,\n",
       " '001100101010': 4,\n",
       " '001100101100': 15,\n",
       " '001100101110': 15,\n",
       " '001101000100': 2,\n",
       " '001101000101': 2,\n",
       " '001101000110': 13,\n",
       " '001101001000': 8,\n",
       " '001101001010': 9,\n",
       " '001101001100': 5,\n",
       " '001101001110': 12,\n",
       " '001101010000': 5,\n",
       " '001101010010': 8,\n",
       " '001101010100': 2,\n",
       " '001101010110': 5,\n",
       " '001101011000': 5,\n",
       " '001101011010': 13,\n",
       " '001101011100': 7,\n",
       " '001101011110': 6,\n",
       " '001101100000': 4,\n",
       " '001101100010': 8,\n",
       " '001101100100': 13,\n",
       " '001101100111': 1,\n",
       " '001101111010': 2,\n",
       " '001101111100': 3,\n",
       " '001101111110': 10,\n",
       " '001110000000': 8,\n",
       " '001110000010': 6,\n",
       " '001110000100': 6,\n",
       " '001110000110': 10,\n",
       " '001110001000': 1,\n",
       " '001110001001': 1,\n",
       " '001110010110': 4,\n",
       " '001110011000': 6,\n",
       " '001110011010': 8,\n",
       " '001110011100': 10,\n",
       " '001110110000': 4,\n",
       " '001110110001': 2,\n",
       " '001110110010': 11,\n",
       " '001110110100': 5,\n",
       " '001110110110': 13,\n",
       " '001110111000': 8,\n",
       " '001110111010': 16,\n",
       " '001110111100': 6,\n",
       " '001111010000': 2,\n",
       " '001111010010': 12,\n",
       " '001111010100': 2,\n",
       " '001111010101': 3,\n",
       " '001111100110': 1,\n",
       " '001111101000': 10,\n",
       " '001111101010': 8,\n",
       " '001111101100': 5,\n",
       " '001111101110': 9,\n",
       " '001111110000': 12,\n",
       " '001111110010': 1,\n",
       " '001111110011': 2,\n",
       " '010000001010': 10,\n",
       " '010000011100': 1,\n",
       " '010000011101': 2,\n",
       " '010000011110': 8,\n",
       " '010000100000': 10,\n",
       " '010000100010': 11,\n",
       " '010000100100': 10,\n",
       " '010000100110': 9,\n",
       " '010001010100': 11,\n",
       " '010001010110': 5,\n",
       " '010001011000': 16,\n",
       " '010001011010': 14,\n",
       " '010001011100': 8,\n",
       " '010010001010': 10,\n",
       " '010010001100': 6,\n",
       " '010010001110': 11,\n",
       " '010010010000': 14,\n",
       " '010010010010': 8,\n",
       " '010011000000': 8,\n",
       " '010011000010': 14,\n",
       " '010011000100': 12,\n",
       " '010011000110': 10,\n",
       " '010011001000': 5,\n",
       " '010011110110': 2,\n",
       " '010011110111': 2,\n",
       " '010011111000': 5,\n",
       " '010011111010': 10,\n",
       " '010011111100': 9,\n",
       " '010011111110': 9,\n",
       " '010100101100': 4,\n",
       " '010100101101': 2,\n",
       " '010100101110': 14,\n",
       " '010100110000': 11,\n",
       " '010100110010': 13,\n",
       " '010100110100': 10,\n",
       " '010100110110': 2,\n",
       " '010100110111': 6,\n",
       " '010101100100': 11,\n",
       " '010101100110': 10,\n",
       " '010101101000': 8,\n",
       " '010101101010': 10,\n",
       " '010101101100': 1,\n",
       " '010101101101': 6,\n",
       " '010110011010': 5,\n",
       " '010110011100': 12,\n",
       " '010110011110': 10,\n",
       " '010110100000': 10,\n",
       " '010110100010': 9,\n",
       " '010111010000': 2,\n",
       " '010111010001': 4,\n",
       " '010111010010': 12,\n",
       " '010111010100': 13,\n",
       " '010111010110': 7,\n",
       " '010111011000': 10,\n",
       " '011000000110': 2,\n",
       " '011000000111': 6,\n",
       " '011000001000': 10,\n",
       " '011000001010': 10,\n",
       " '011000001100': 6,\n",
       " '011000001110': 9,\n",
       " '011000010000': 1,\n",
       " '011000010001': 1,\n",
       " '011000111110': 14,\n",
       " '011001000000': 7,\n",
       " '011001000010': 12,\n",
       " '011001000100': 8,\n",
       " '011001000110': 8,\n",
       " '011001110100': 1,\n",
       " '011001110110': 11,\n",
       " '011001111000': 10,\n",
       " '011001111010': 8,\n",
       " '011001111100': 8,\n",
       " '011010101100': 9,\n",
       " '011010101110': 7,\n",
       " '011010110000': 7,\n",
       " '011010110010': 8,\n",
       " '011010110101': 3,\n",
       " '011011100010': 11,\n",
       " '011011100100': 9,\n",
       " '011011100110': 9,\n",
       " '011011101000': 8,\n",
       " '011011101010': 6,\n",
       " '011100011000': 3,\n",
       " '011100011001': 5,\n",
       " '011100011010': 15,\n",
       " '011100011100': 12,\n",
       " '011100011110': 8,\n",
       " '011100100000': 12,\n",
       " '011100100010': 1,\n",
       " '011100100011': 4,\n",
       " '011101010000': 10,\n",
       " '011101010010': 14,\n",
       " '011101010100': 13,\n",
       " '011101010110': 8,\n",
       " '011101011000': 8,\n",
       " '011110000110': 4,\n",
       " '011110000111': 3,\n",
       " '011110001000': 8,\n",
       " '011110001010': 7,\n",
       " '011110001100': 12,\n",
       " '011110001110': 6,\n",
       " '011110010000': 6,\n",
       " '011110010001': 2,\n",
       " '011110111110': 4,\n",
       " '011111000000': 5,\n",
       " '011111000010': 10,\n",
       " '011111000100': 5,\n",
       " '011111000110': 12,\n",
       " '011111110100': 1,\n",
       " '011111110101': 4,\n",
       " '011111110110': 9,\n",
       " '011111111000': 14,\n",
       " '011111111010': 11,\n",
       " '011111111100': 9,\n",
       " '011111111110': 1,\n",
       " '011111111111': 4,\n",
       " '100000101100': 5,\n",
       " '100000101110': 7,\n",
       " '100000110000': 10,\n",
       " '100000110010': 4,\n",
       " '100000110100': 7,\n",
       " '100001100010': 2,\n",
       " '100001100011': 6,\n",
       " '100001100100': 5,\n",
       " '100001100110': 14,\n",
       " '100001101000': 11,\n",
       " '100001101010': 13,\n",
       " '100001101100': 2,\n",
       " '100001101101': 1,\n",
       " '100010011010': 11,\n",
       " '100010011100': 5,\n",
       " '100010011110': 7,\n",
       " '100010100000': 9,\n",
       " '100010100010': 4,\n",
       " '100011010000': 2,\n",
       " '100011010001': 5,\n",
       " '100011010010': 11,\n",
       " '100011010100': 12,\n",
       " '100011010110': 5,\n",
       " '100011011000': 12,\n",
       " '100011011010': 2,\n",
       " '100011011011': 1,\n",
       " '100100001000': 11,\n",
       " '100100001010': 10,\n",
       " '100100001100': 8,\n",
       " '100100001110': 5,\n",
       " '100100010000': 10,\n",
       " '100100111110': 4,\n",
       " '100100111111': 3,\n",
       " '100101000000': 10,\n",
       " '100101000010': 10,\n",
       " '100101000100': 8,\n",
       " '100101000110': 7,\n",
       " '100101001000': 1,\n",
       " '100101001001': 3,\n",
       " '100101110110': 3,\n",
       " '100101111000': 8,\n",
       " '100101111010': 14,\n",
       " '100101111100': 4,\n",
       " '100101111110': 11,\n",
       " '100110000000': 1,\n",
       " '100110000001': 3,\n",
       " '100110101110': 9,\n",
       " '100110110000': 7,\n",
       " '100110110010': 7,\n",
       " '100110110100': 17,\n",
       " '100110110110': 6,\n",
       " '100111100100': 2,\n",
       " '100111100101': 1,\n",
       " '100111100110': 11,\n",
       " '100111101000': 7,\n",
       " '100111101010': 9,\n",
       " '100111101100': 7,\n",
       " '100111101110': 3,\n",
       " '100111101111': 4,\n",
       " '101000011100': 10,\n",
       " '101000011110': 9,\n",
       " '101000100000': 6,\n",
       " '101000100010': 9,\n",
       " '101000100100': 7,\n",
       " '101000100110': 3,\n",
       " '101000100111': 1,\n",
       " '101001010100': 12,\n",
       " '101001010110': 12,\n",
       " '101001011000': 5,\n",
       " '101001011010': 7,\n",
       " '101001011100': 6,\n",
       " '101010001010': 3,\n",
       " '101010001011': 2,\n",
       " '101010001100': 4,\n",
       " '101010001110': 16,\n",
       " '101010010000': 12,\n",
       " '101010010010': 13,\n",
       " '101010010100': 12,\n",
       " '101011000010': 4,\n",
       " '101011000011': 2,\n",
       " '101011000100': 11,\n",
       " '101011000110': 12,\n",
       " '101011001000': 15,\n",
       " '101011001010': 9,\n",
       " '101011001100': 3,\n",
       " '101011001101': 1,\n",
       " '101011111010': 4,\n",
       " '101011111100': 11,\n",
       " '101011111110': 6,\n",
       " '101100000000': 6,\n",
       " '101100000010': 5,\n",
       " '101100000100': 3,\n",
       " '101100000101': 3,\n",
       " '101100110010': 11,\n",
       " '101100110100': 5,\n",
       " '101100110110': 6,\n",
       " '101100111000': 13,\n",
       " '101100111010': 17,\n",
       " '101100111100': 2,\n",
       " '101100111101': 4,\n",
       " '101101101000': 2,\n",
       " '101101101001': 2,\n",
       " '101101101010': 19,\n",
       " '101101101100': 10,\n",
       " '101101101110': 11,\n",
       " '101101110000': 10,\n",
       " '101101110010': 8,\n",
       " '101101110100': 4,\n",
       " '101101110101': 1,\n",
       " '101110100000': 2,\n",
       " '101110100001': 2,\n",
       " '101110100010': 9,\n",
       " '101110100100': 13,\n",
       " '101110100110': 7,\n",
       " '101110101000': 8,\n",
       " '101110101010': 9,\n",
       " '101110101100': 4,\n",
       " '101110101101': 1,\n",
       " '101111001101': 3,\n",
       " '101111011000': 4,\n",
       " '101111011010': 11,\n",
       " '101111011100': 8,\n",
       " '101111011110': 9,\n",
       " '101111100000': 11,\n",
       " '101111100010': 7,\n",
       " '101111100100': 1,\n",
       " '101111100101': 2,\n",
       " '110000000000': 6,\n",
       " '110000000001': 4,\n",
       " '110000000010': 7,\n",
       " '110000000011': 1,\n",
       " '110000010000': 1,\n",
       " '110000010001': 2,\n",
       " '110000010010': 13,\n",
       " '110000010100': 7,\n",
       " '110000010110': 11,\n",
       " '110000011000': 10,\n",
       " '110000011010': 8,\n",
       " '110000011100': 2,\n",
       " '110000011101': 4,\n",
       " '110000110110': 9,\n",
       " '110000111000': 9,\n",
       " '110001001000': 12,\n",
       " '110001001010': 7,\n",
       " '110001001100': 10,\n",
       " '110001001110': 10,\n",
       " '110001010000': 5,\n",
       " '110001010010': 10,\n",
       " '110001010100': 12,\n",
       " '110001101011': 1,\n",
       " '110001101100': 11,\n",
       " '110001101110': 10,\n",
       " '110010000000': 8,\n",
       " '110010000010': 14,\n",
       " '110010000100': 8,\n",
       " '110010000110': 4,\n",
       " '110010001000': 10,\n",
       " '110010001010': 9,\n",
       " '110010001100': 5,\n",
       " '110010001110': 1,\n",
       " '110010001111': 2,\n",
       " '110010011110': 4,\n",
       " '110010011111': 3,\n",
       " '110010100000': 13,\n",
       " '110010100010': 13,\n",
       " '110010100100': 11,\n",
       " '110010100110': 1,\n",
       " '110010100111': 3,\n",
       " '110010111000': 3,\n",
       " '110010111001': 2,\n",
       " '110010111010': 8,\n",
       " '110010111100': 10,\n",
       " '110010111110': 7,\n",
       " '110011000000': 9,\n",
       " '110011000010': 12,\n",
       " '110011000100': 10,\n",
       " '110011000110': 6,\n",
       " '110011001000': 2,\n",
       " '110011001001': 3,\n",
       " '110011010010': 7,\n",
       " '110011010100': 11,\n",
       " '110011010110': 7,\n",
       " '110011011000': 6,\n",
       " '110011011010': 8,\n",
       " '110011011100': 2,\n",
       " '110011011101': 2,\n",
       " '110011110000': 4,\n",
       " '110011110001': 7,\n",
       " '110011110010': 6,\n",
       " '110011110100': 10,\n",
       " '110011110110': 9,\n",
       " '110011111000': 8,\n",
       " '110011111010': 11,\n",
       " '110011111100': 9,\n",
       " '110011111110': 12,\n",
       " '110100000000': 12,\n",
       " '110100000010': 11,\n",
       " '110100000100': 11,\n",
       " '110100000110': 8,\n",
       " '110100001000': 8,\n",
       " '110100001010': 7,\n",
       " '110100001100': 8,\n",
       " '110100001110': 9,\n",
       " '110100010000': 13,\n",
       " '110100010010': 9,\n",
       " '110100101010': 7,\n",
       " '110100101100': 6,\n",
       " '110100101110': 9,\n",
       " '110100110000': 12,\n",
       " '110100110010': 12,\n",
       " '110100110100': 9,\n",
       " '110100110110': 7,\n",
       " '110100111000': 10,\n",
       " '110100111010': 7,\n",
       " '110100111100': 8,\n",
       " '110100111110': 9,\n",
       " '110101000000': 7,\n",
       " '110101000010': 8,\n",
       " '110101000100': 10,\n",
       " '110101000110': 6,\n",
       " '110101001000': 8,\n",
       " '110101001010': 1,\n",
       " '110101001011': 1,\n",
       " '110101100010': 8,\n",
       " '110101100100': 8,\n",
       " '110101100110': 14,\n",
       " '110101101000': 8,\n",
       " '110101101010': 7,\n",
       " '110101101100': 10,\n",
       " '110101101110': 10,\n",
       " '110101110000': 6,\n",
       " '110101110010': 14,\n",
       " '110101110100': 5,\n",
       " '110101110110': 8,\n",
       " '110101111000': 6,\n",
       " '110101111010': 14,\n",
       " '110101111100': 8,\n",
       " '110101111110': 4,\n",
       " '110110000000': 1,\n",
       " '110110000001': 1,\n",
       " '110110011010': 2,\n",
       " '110110011100': 10,\n",
       " '110110011110': 7,\n",
       " '110110100000': 12,\n",
       " '110110100010': 18,\n",
       " '110110100100': 7,\n",
       " '110110100110': 14,\n",
       " '110110101000': 10,\n",
       " '110110101010': 3,\n",
       " '110110101100': 9,\n",
       " '110110101110': 15,\n",
       " '110110110000': 9,\n",
       " '110110110010': 11,\n",
       " '110110110100': 6,\n",
       " '110110110110': 6,\n",
       " '110111010100': 1,\n",
       " '110111010101': 1,\n",
       " '110111010110': 11,\n",
       " '110111011000': 10,\n",
       " '110111011010': 12,\n",
       " '110111011100': 9,\n",
       " '110111011110': 9,\n",
       " '110111100000': 7,\n",
       " '110111100010': 10,\n",
       " '110111100100': 11,\n",
       " '110111100110': 11,\n",
       " '110111101000': 8,\n",
       " '110111101010': 10,\n",
       " '110111101100': 2,\n",
       " '111000001111': 2,\n",
       " '111000010000': 12,\n",
       " '111000010010': 7,\n",
       " '111000010100': 13,\n",
       " '111000010110': 11,\n",
       " '111000011000': 10,\n",
       " '111000011010': 8,\n",
       " '111000011100': 11,\n",
       " '111000011110': 11}"
      ]
     },
     "execution_count": 21,
     "metadata": {},
     "output_type": "execute_result"
    }
   ],
   "source": [
    "resultado"
   ]
  },
  {
   "cell_type": "code",
   "execution_count": 22,
   "metadata": {},
   "outputs": [
    {
     "name": "stdout",
     "output_type": "stream",
     "text": [
      "000111011101 1\n",
      "001000111011 1\n",
      "001001101111 3\n",
      "001010001011 2\n",
      "001010100101 7\n",
      "001011111001 3\n",
      "001101000101 2\n",
      "001101100111 1\n",
      "001110001001 1\n",
      "001110110001 2\n",
      "001111010101 3\n",
      "001111110011 2\n",
      "010000011101 2\n",
      "010011110111 2\n",
      "010100101101 2\n",
      "010100110111 6\n",
      "010101101101 6\n",
      "010111010001 4\n",
      "011000000111 6\n",
      "011000010001 1\n",
      "011010110101 3\n",
      "011100011001 5\n",
      "011100100011 4\n",
      "011110000111 3\n",
      "011110010001 2\n",
      "011111110101 4\n",
      "011111111111 4\n",
      "100001100011 6\n",
      "100001101101 1\n",
      "100011010001 5\n",
      "100011011011 1\n",
      "100100111111 3\n",
      "100101001001 3\n",
      "100110000001 3\n",
      "100111100101 1\n",
      "100111101111 4\n",
      "101000100111 1\n",
      "101010001011 2\n",
      "101011000011 2\n",
      "101011001101 1\n",
      "101100000101 3\n",
      "101100111101 4\n",
      "101101101001 2\n",
      "101101110101 1\n",
      "101110100001 2\n",
      "101110101101 1\n",
      "101111001101 3\n",
      "101111100101 2\n",
      "110000000001 4\n",
      "110000000011 1\n",
      "110000010001 2\n",
      "110000011101 4\n",
      "110001101011 1\n",
      "110010001111 2\n",
      "110010011111 3\n",
      "110010100111 3\n",
      "110010111001 2\n",
      "110011001001 3\n",
      "110011011101 2\n",
      "110011110001 7\n",
      "110101001011 1\n",
      "110110000001 1\n",
      "110111010101 1\n",
      "111000001111 2\n"
     ]
    }
   ],
   "source": [
    "for i in range(1,2**number_of_qubits,2):\n",
    "    state=np.binary_repr(i,width=number_of_qubits)\n",
    "    try:\n",
    "        print(state,resultado[state])\n",
    "    except:\n",
    "        pass"
   ]
  },
  {
   "cell_type": "code",
   "execution_count": 23,
   "metadata": {},
   "outputs": [],
   "source": [
    "Vout=np.zeros(shape)"
   ]
  },
  {
   "cell_type": "code",
   "execution_count": 24,
   "metadata": {},
   "outputs": [
    {
     "name": "stdout",
     "output_type": "stream",
     "text": [
      "000111011101 1\n",
      "001000111011 1\n",
      "001001101111 3\n",
      "001010001011 2\n",
      "001010100101 7\n",
      "001011111001 3\n",
      "001101000101 2\n",
      "001101100111 1\n",
      "001110001001 1\n",
      "001110110001 2\n",
      "001111010101 3\n",
      "001111110011 2\n",
      "010000011101 2\n",
      "010011110111 2\n",
      "010100101101 2\n",
      "010100110111 6\n",
      "010101101101 6\n",
      "010111010001 4\n",
      "011000000111 6\n",
      "011000010001 1\n",
      "011010110101 3\n",
      "011100011001 5\n",
      "011100100011 4\n",
      "011110000111 3\n",
      "011110010001 2\n",
      "011111110101 4\n",
      "011111111111 4\n",
      "100001100011 6\n",
      "100001101101 1\n",
      "100011010001 5\n",
      "100011011011 1\n",
      "100100111111 3\n",
      "100101001001 3\n",
      "100110000001 3\n",
      "100111100101 1\n",
      "100111101111 4\n",
      "101000100111 1\n",
      "101010001011 2\n",
      "101011000011 2\n",
      "101011001101 1\n",
      "101100000101 3\n",
      "101100111101 4\n",
      "101101101001 2\n",
      "101101110101 1\n",
      "101110100001 2\n",
      "101110101101 1\n",
      "101111001101 3\n",
      "101111100101 2\n",
      "110000000001 4\n",
      "110000000011 1\n",
      "110000010001 2\n",
      "110000011101 4\n",
      "110001101011 1\n",
      "110010001111 2\n",
      "110010011111 3\n",
      "110010100111 3\n",
      "110010111001 2\n",
      "110011001001 3\n",
      "110011011101 2\n",
      "110011110001 7\n",
      "110101001011 1\n",
      "110110000001 1\n",
      "110111010101 1\n",
      "111000001111 2\n"
     ]
    }
   ],
   "source": [
    "for i in  range(1,shape,2):\n",
    "    bits=np.binary_repr(i,width=number_of_qubits)\n",
    "    try:\n",
    "        Vout[i]=resultado[bits]\n",
    "        print(bits,resultado[bits])\n",
    "    except:\n",
    "        pass"
   ]
  },
  {
   "cell_type": "code",
   "execution_count": 25,
   "metadata": {},
   "outputs": [
    {
     "data": {
      "text/plain": [
       "Text(0.5, 1.0, 'New transformed image')"
      ]
     },
     "execution_count": 25,
     "metadata": {},
     "output_type": "execute_result"
    },
    {
     "data": {
      "image/png": "[encoded data removed]",
      "text/plain": [
       "<Figure size 864x216 with 3 Axes>"
      ]
     },
     "metadata": {},
     "output_type": "display_data"
    }
   ],
   "source": [
    "fig,ax=plt.subplots(1,3,figsize=(12,3))\n",
    "ax[0].plot(Vout,\"r*\",label=\"Final state\")\n",
    "ax[0].set_title(\"Final state\")\n",
    "ax[0].set_ylabel(\"Counts\")\n",
    "ax[1].plot(Vnorma,\"*\",label=\"Vnorma\")\n",
    "ax[1].set_title(\"Vnorma\")\n",
    "IMOutputOdd=np.round((Vout)*norma)\n",
    "IMOutput=np.round(Vout*0)\n",
    "IMOutput[0::2]=IMOutputOdd[1::2]\n",
    "ax[2].imshow(IMOutput.reshape((im_crop.shape[0],im_crop.shape[1])), cmap='Greys')\n",
    "ax[2].set_title(\"New transformed image\")"
   ]
  },
  {
   "cell_type": "markdown",
   "metadata": {},
   "source": [
    "OK. Look the final result after applying a single gate. Remember that only even elements are needed"
   ]
  },
  {
   "cell_type": "markdown",
   "metadata": {},
   "source": [
    "Only half of the borders have been calculated. To calculate the even borders, the algorithm must be executed permuting the input vector by one position."
   ]
  },
  {
   "cell_type": "code",
   "execution_count": 26,
   "metadata": {},
   "outputs": [],
   "source": [
    "Veven=np.take(Vnorma,range(1,len(Vnorma)+1),mode=\"warp\")"
   ]
  },
  {
   "cell_type": "code",
   "execution_count": 27,
   "metadata": {},
   "outputs": [],
   "source": [
    "circuit=QuantumCircuit(number_of_qubits,number_of_qubits,name=\"EDGE\")\n",
    "qreg=circuit.qregs[0]\n",
    "import numpy as np\n",
    "CreateState=Custom(number_of_qubits,state_vector=Veven)\n",
    "inputCir=circuit+CreateState.construct_circuit(mode='circuit', register=qreg)\n",
    "inputCir.h(0)\n",
    "inputCir.measure(inputCir.qregs[0],inputCir.cregs[0])\n",
    "simulator = Aer.get_backend('qasm_simulator')\n",
    "\n",
    "# Execute and get counts\n",
    "result = execute(inputCir.copy(), simulator,shots=shape).result()\n"
   ]
  },
  {
   "cell_type": "code",
   "execution_count": 40,
   "metadata": {},
   "outputs": [
    {
     "name": "stdout",
     "output_type": "stream",
     "text": [
      "000111010011 1\n",
      "001001010011 1\n",
      "001011000001 5\n",
      "001100001111 1\n",
      "001100101111 4\n",
      "001110011101 3\n",
      "001110111101 1\n",
      "010000001001 3\n",
      "010000001011 4\n",
      "010000100111 5\n",
      "010001010011 5\n",
      "010001011101 5\n",
      "010010001001 2\n",
      "010010111111 5\n",
      "010011001001 1\n",
      "010011111111 1\n",
      "010101100011 4\n",
      "010110011001 1\n",
      "010110100011 2\n",
      "010111011001 4\n",
      "011000111101 3\n",
      "011001000111 2\n",
      "011001111101 3\n",
      "011010101011 2\n",
      "011011100001 1\n",
      "011011101011 1\n",
      "011101001111 3\n",
      "011101011001 2\n",
      "011111000111 3\n",
      "100000101011 1\n",
      "100000110101 4\n",
      "100010011001 2\n",
      "100010100011 1\n",
      "100100000111 2\n",
      "100100010001 1\n",
      "100110101101 2\n",
      "100110110111 2\n",
      "101001010011 8\n",
      "101001011101 3\n",
      "101010010101 2\n",
      "101011111001 1\n",
      "101111001011 4\n",
      "110000110101 1\n",
      "110000111001 1\n",
      "110001010101 1\n",
      "110001101111 2\n",
      "110001111111 3\n",
      "110100010011 1\n",
      "110100101001 1\n",
      "110101100001 1\n",
      "110110110111 1\n",
      "111000011111 1\n"
     ]
    }
   ],
   "source": [
    "resultado=result.get_counts(inputCir)\n",
    "Vouteven=np.zeros(shape)\n",
    "for i in  range(1,shape,2):\n",
    "    bits=np.binary_repr(i,width=number_of_qubits)\n",
    "    try:\n",
    "        Vouteven[i]=resultado[bits]\n",
    "        print(bits,resultado[bits])\n",
    "    except:\n",
    "        pass\n"
   ]
  },
  {
   "cell_type": "code",
   "execution_count": 41,
   "metadata": {},
   "outputs": [
    {
     "data": {
      "text/plain": [
       "Text(0.5, 1.0, 'New transformed image')"
      ]
     },
     "execution_count": 41,
     "metadata": {},
     "output_type": "execute_result"
    },
    {
     "data": {
      "image/png": "[encoded data removed]",
      "text/plain": [
       "<Figure size 864x216 with 3 Axes>"
      ]
     },
     "metadata": {},
     "output_type": "display_data"
    }
   ],
   "source": [
    "fig,ax=plt.subplots(1,3,figsize=(12,3))\n",
    "ax[0].plot(Vouteven,\"r*\",label=\"Final state\")\n",
    "ax[0].set_title(\"Final state\")\n",
    "ax[0].set_ylabel(\"Counts\")\n",
    "ax[1].plot(Vnorma,\"*\",label=\"Vnorma\")\n",
    "ax[1].set_title(\"Vnorma\")\n",
    "IMOutputeven=np.round((Vouteven>0))\n",
    "IMOutput=np.round(Vouteven*0)\n",
    "IMOutput[0::2]=IMOutputeven[1::2]\n",
    "ax[2].imshow(IMOutput.reshape((im_crop.shape[0],im_crop.shape[1])), cmap='Greys')\n",
    "ax[2].set_title(\"New transformed image\")"
   ]
  },
  {
   "cell_type": "code",
   "execution_count": 48,
   "metadata": {},
   "outputs": [
    {
     "data": {
      "text/plain": [
       "<matplotlib.image.AxesImage at 0x7f3e96524be0>"
      ]
     },
     "execution_count": 48,
     "metadata": {},
     "output_type": "execute_result"
    },
    {
     "data": {
      "image/png": "[encoded data removed]",
      "text/plain": [
       "<Figure size 432x288 with 1 Axes>"
      ]
     },
     "metadata": {},
     "output_type": "display_data"
    }
   ],
   "source": [
    "IMOutputEven=np.round((Vouteven)*norma)\n",
    "IMOutput=np.zeros(shape)\n",
    "IMOutput[1:-1:2]=(IMOutputEven[1:-1:2]>0)\n",
    "IMOutput[0::2]=(IMOutputOdd[1::2]>0)\n",
    "plt.imshow(IMOutput.reshape((im_crop.shape[0],im_crop.shape[1])), cmap='Greys')"
   ]
  },
  {
   "cell_type": "code",
   "execution_count": null,
   "metadata": {},
   "outputs": [],
   "source": []
  }
 ],
 "metadata": {
  "kernelspec": {
   "display_name": "Python 3",
   "language": "python",
   "name": "python3"
  },
  "language_info": {
   "codemirror_mode": {
    "name": "ipython",
    "version": 3
   },
   "file_extension": ".py",
   "mimetype": "text/x-python",
   "name": "python",
   "nbconvert_exporter": "python",
   "pygments_lexer": "ipython3",
   "version": "3.5.5"
  }
 },
 "nbformat": 4,
 "nbformat_minor": 2
}
