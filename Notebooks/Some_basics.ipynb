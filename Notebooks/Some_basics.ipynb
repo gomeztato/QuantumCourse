{
 "cells": [
  {
   "cell_type": "markdown",
   "metadata": {},
   "source": [
    "# This notebooks shows some basic operations for Quantum Computing\n",
    "\n",
    "ProjectQ must be installed before you execute it."
   ]
  },
  {
   "cell_type": "markdown",
   "metadata": {},
   "source": [
    "### 1. Import needed modules"
   ]
  },
  {
   "cell_type": "code",
   "execution_count": 1,
   "metadata": {},
   "outputs": [],
   "source": [
    "from projectq.ops import Ph,H,Measure,X,All\n",
    "from projectq.meta import Control\n",
    "from projectq.cengines import MainEngine\n",
    "import numpy as np\n",
    "np.set_printoptions(precision=3)"
   ]
  },
  {
   "cell_type": "markdown",
   "metadata": {},
   "source": [
    "This is a helper function to print a n-qubit state. **Just, execute it**"
   ]
  },
  {
   "cell_type": "code",
   "execution_count": 2,
   "metadata": {},
   "outputs": [],
   "source": [
    "def get_state_as_str(eng,qubits,cheat=False,ancilla=True):\n",
    "    import numpy as np\n",
    "    s=\"\"\n",
    "    if (cheat):\n",
    "        print(\"Cheat: \", eng.backend.cheat())\n",
    "    if (len(qubits)==1):\n",
    "        for i in range(2):\n",
    "            #print(\"bits:%d%s\"%(i,bits))\n",
    "            a=eng.backend.get_amplitude(\"%d\"%(i),qubits)\n",
    "            if (a.real!=0)|(a.imag!=0):\n",
    "                if s!=\"\":\n",
    "                    s=s+\"+\"\n",
    "                a=\"({:.2f})\".format(a)\n",
    "                s=s+\"%s|%d>\"%(a,i)\n",
    "\n",
    "    else:\n",
    "        for j in range(2**(len(qubits)-1)):\n",
    "            bits=np.binary_repr(j,width=len(qubits)-1)\n",
    "            #print(\"Bits:\",j,bits)\n",
    "            for i in range(2):\n",
    "                #print(\"bits:%d%s\"%(i,bits))\n",
    "                a=eng.backend.get_amplitude(\"%d%s\"%(i,bits[-1::-1]),qubits)\n",
    "                if (a.real!=0)|(a.imag!=0):\n",
    "                    if s!=\"\":\n",
    "                        s=s+\"+\"\n",
    "                    a=\"({:.2f})\".format(a)\n",
    "                    if (ancilla):\n",
    "                        s=s+\"%s|%s>|%d>\"%(a,bits,i)\n",
    "                    else:\n",
    "                        s=s+\"%s|%s%d>\"%(a,bits,i)\n",
    "                #print(s)\n",
    "   \n",
    "    \n",
    "    return(s)"
   ]
  },
  {
   "cell_type": "markdown",
   "metadata": {},
   "source": [
    "# Qubit order\n",
    "\n",
    "When you make an allocation of a quantum register, take into account the order. Lower index of the Quantum Register is the lower bit of the binary representation of a quantum state. For example:\n",
    "\n",
    "1. Allocate a quantum register q with 3 qubits\n",
    "2. Apply a X gate to the first one using X | q[0]\n",
    "3. Check the final state, converting it to a number using binary representation, so $|001\\rangle = |1\\rangle$ and $|010\\rangle=|2\\rangle$"
   ]
  },
  {
   "cell_type": "markdown",
   "metadata": {},
   "source": [
    "### 1.Start the Engine"
   ]
  },
  {
   "cell_type": "code",
   "execution_count": 3,
   "metadata": {},
   "outputs": [],
   "source": [
    "eng=MainEngine()"
   ]
  },
  {
   "cell_type": "markdown",
   "metadata": {},
   "source": [
    "### 2. Initialise the quantum state\n",
    "Check the vector of the quantum state and its binary representation. \n",
    "\n",
    "**Remember**: in python, the index of a vector of length N, starts on 0 and ends on N-1. "
   ]
  },
  {
   "cell_type": "code",
   "execution_count": 4,
   "metadata": {},
   "outputs": [
    {
     "name": "stdout",
     "output_type": "stream",
     "text": [
      "Cheat:  ({0: 0, 1: 1, 2: 2}, [0j, 0j, 0j, 0j, (1+0j), 0j, 0j, 0j])\n"
     ]
    },
    {
     "data": {
      "text/plain": [
       "'(1.00+0.00j)|100>'"
      ]
     },
     "execution_count": 4,
     "metadata": {},
     "output_type": "execute_result"
    }
   ],
   "source": [
    "q=eng.allocate_qureg(3)\n",
    "X | q[2]\n",
    "eng.flush()\n",
    "get_state_as_str(eng, q,cheat=True,ancilla=False)"
   ]
  },
  {
   "cell_type": "markdown",
   "metadata": {},
   "source": [
    "### 3.Do not forget to delete the Engine"
   ]
  },
  {
   "cell_type": "code",
   "execution_count": 5,
   "metadata": {},
   "outputs": [],
   "source": [
    "All(Measure) | q\n",
    "eng.flush()"
   ]
  },
  {
   "cell_type": "markdown",
   "metadata": {},
   "source": [
    "# Phase Kickback\n",
    "\n",
    "When a qubit that has been initialized to a Walsh-Hadamard state $\\frac{1}{\\sqrt{2}}(|0\\rangle+|1\\rangle)$ is used as a control bit for a phase gate $U(\\phi)$ on a state $|\\Psi\\rangle$, the result is the final state is $\\frac{1}{\\sqrt{2}}(|0\\rangle>+e^{i\\phi}|1\\rangle)\\otimes|\\Psi>$. So, the fase is transferred to the control qubit. \n",
    "\n",
    "<img src=\"Images/CPhase.png\"/>\n",
    "\n",
    "This exercise will help you to check it experimentally. Remember, for this exercise, qubit **q0** is the top one of this picture, so, Phase Kickback goes to qubit **q0**\n"
   ]
  },
  {
   "cell_type": "markdown",
   "metadata": {},
   "source": [
    "### 1.Start the Engine"
   ]
  },
  {
   "cell_type": "code",
   "execution_count": 6,
   "metadata": {},
   "outputs": [],
   "source": [
    "eng=MainEngine()"
   ]
  },
  {
   "cell_type": "markdown",
   "metadata": {},
   "source": [
    "### 2. Allocate two qubits: q1 and q2"
   ]
  },
  {
   "cell_type": "code",
   "execution_count": 7,
   "metadata": {},
   "outputs": [],
   "source": [
    "q0=eng.allocate_qubit()\n",
    "q1=eng.allocate_qubit()"
   ]
  },
  {
   "cell_type": "markdown",
   "metadata": {},
   "source": [
    "### 3. Apply a Hadamard gate to the first qubit"
   ]
  },
  {
   "cell_type": "code",
   "execution_count": 8,
   "metadata": {},
   "outputs": [
    {
     "data": {
      "text/plain": [
       "'(0.71+0.00j)|0>|0>+(0.71+0.00j)|0>|1>'"
      ]
     },
     "execution_count": 8,
     "metadata": {},
     "output_type": "execute_result"
    }
   ],
   "source": [
    "H|q0\n",
    "eng.flush()\n",
    "get_state_as_str(eng, q0+q1,cheat=False)"
   ]
  },
  {
   "cell_type": "markdown",
   "metadata": {},
   "source": [
    "### 4. Apply a controlled phase gate to the second qubit, controlled by the first qubit"
   ]
  },
  {
   "cell_type": "markdown",
   "metadata": {},
   "source": [
    "The Phase gate has a matrix as $e^{i\\phi}I$. Let check which is the generated matrix for a rotation $\\phi=\\pi/4$"
   ]
  },
  {
   "cell_type": "code",
   "execution_count": 9,
   "metadata": {},
   "outputs": [
    {
     "name": "stdout",
     "output_type": "stream",
     "text": [
      "[[0.707+0.707j 0.   +0.j   ]\n",
      " [0.   +0.j    0.707+0.707j]]\n"
     ]
    }
   ],
   "source": [
    "import math\n",
    "pi=math.pi\n",
    "a=Ph(pi/4).matrix\n",
    "print(a)\n"
   ]
  },
  {
   "cell_type": "markdown",
   "metadata": {},
   "source": [
    "Ok. Apply the Controlled Phase gate for $\\phi=\\pi/4$ to the second qubit"
   ]
  },
  {
   "cell_type": "code",
   "execution_count": 10,
   "metadata": {},
   "outputs": [],
   "source": [
    "with Control(eng,q0):\n",
    "    Ph(pi/4)|q1"
   ]
  },
  {
   "cell_type": "markdown",
   "metadata": {},
   "source": [
    "And flush the current circuit to calculate the result state"
   ]
  },
  {
   "cell_type": "code",
   "execution_count": 11,
   "metadata": {},
   "outputs": [],
   "source": [
    "eng.flush()"
   ]
  },
  {
   "cell_type": "markdown",
   "metadata": {},
   "source": [
    "### 5.Print the result state. "
   ]
  },
  {
   "cell_type": "code",
   "execution_count": 12,
   "metadata": {},
   "outputs": [
    {
     "name": "stdout",
     "output_type": "stream",
     "text": [
      "Cheat:  ({0: 0, 1: 1}, [(0.7071067811865475+0j), (0.5000000000002242+0.4999999999997758j), 0j, 0j])\n"
     ]
    },
    {
     "data": {
      "text/plain": [
       "'(0.71+0.00j)|0>|0>+(0.50+0.50j)|0>|1>'"
      ]
     },
     "execution_count": 12,
     "metadata": {},
     "output_type": "execute_result"
    }
   ],
   "source": [
    "get_state_as_str(eng, q0+q1,cheat=True)"
   ]
  },
  {
   "cell_type": "code",
   "execution_count": 13,
   "metadata": {},
   "outputs": [],
   "source": [
    "Measure | q0\n",
    "Measure | q1\n",
    "eng.flush()"
   ]
  },
  {
   "cell_type": "code",
   "execution_count": 14,
   "metadata": {},
   "outputs": [],
   "source": [
    "del eng"
   ]
  },
  {
   "cell_type": "markdown",
   "metadata": {},
   "source": [
    "# Toffoli Gate\n",
    "\n",
    "<img src=\"Images/Toffoli.png\"/>\n",
    "This gate is know to be a universal gate. It uses two contol qubits to produce as output \n",
    "\n",
    "<table>\n",
    "    <tr><td colspan=\"3\">INPUT</td><td colspan=\"3\">OUTPUT</td></tr>\n",
    "    <tr><td>0</td><td>0</td><td>0</td><td>0</td><td>0</td><td>0</td></tr>\n",
    "    <tr><td>0</td><td>0</td><td>1</td><td>0</td><td>0</td><td>1</td></tr>\n",
    "    <tr><td>0</td><td>1</td><td>0</td><td>0</td><td>1</td><td>0</td></tr>\n",
    "    <tr><td>0</td><td>1</td><td>1</td><td>0</td><td>1</td><td>1</td></tr>\n",
    "    <tr><td>1</td><td>0</td><td>0</td><td>1</td><td>0</td><td>0</td></tr>\n",
    "    <tr><td>1</td><td>0</td><td>1</td><td>1</td><td>0</td><td>1</td></tr>\n",
    "    <tr><td>1</td><td>1</td><td>0</td><td>1</td><td>1</td><td>1</td></tr>\n",
    "    <tr><td>1</td><td>1</td><td>1</td><td>1</td><td>1</td><td>0</td></tr>\n",
    "            \n",
    "</table>\n",
    "\n",
    "The Matrix representation is:\n",
    "<math>\n",
    "\\begin{bmatrix}\n",
    "1 & 0 & 0 & 0 & 0 & 0 & 0 & 0 \\\\\n",
    "0 & 1 & 0 & 0 & 0 & 0 & 0 & 0 \\\\\n",
    "0 & 0 & 1 & 0 & 0 & 0 & 0 & 0 \\\\\n",
    "0 & 0 & 0 & 1 & 0 & 0 & 0 & 0 \\\\\n",
    "0 & 0 & 0 & 0 & 1 & 0 & 0 & 0 \\\\\n",
    "0 & 0 & 0 & 0 & 0 & 1 & 0 & 0 \\\\\n",
    "0 & 0 & 0 & 0 & 0 & 0 & 0 & 1 \\\\\n",
    "0 & 0 & 0 & 0 & 0 & 0 & 1 & 0 \\\\\n",
    "\\end{bmatrix}\n",
    "</math>\n",
    "\n",
    "It can be also described as mapping bits {a, b, c} to {a, b, c XOR (a AND b)}."
   ]
  },
  {
   "cell_type": "code",
   "execution_count": 15,
   "metadata": {},
   "outputs": [],
   "source": [
    "eng=MainEngine()"
   ]
  },
  {
   "cell_type": "markdown",
   "metadata": {},
   "source": [
    "### 1.Create the quantum registers, one for each qubit"
   ]
  },
  {
   "cell_type": "code",
   "execution_count": 16,
   "metadata": {},
   "outputs": [],
   "source": [
    "ancilla=eng.allocate_qubit()\n",
    "c1=eng.allocate_qubit()\n",
    "c2=eng.allocate_qubit()\n"
   ]
  },
  {
   "cell_type": "markdown",
   "metadata": {},
   "source": [
    "### 2.Initiallize the qubits to check the main cases. For example, to initialize the last row of the table, you should apply one X gate to each qubit"
   ]
  },
  {
   "cell_type": "code",
   "execution_count": 17,
   "metadata": {},
   "outputs": [],
   "source": [
    "X|c1\n",
    "X|c2\n",
    "X|ancilla"
   ]
  },
  {
   "cell_type": "markdown",
   "metadata": {},
   "source": [
    "### 3.Apply now the Controlled-Controlled-X gate. To do it, use the meta operation Control"
   ]
  },
  {
   "cell_type": "code",
   "execution_count": 18,
   "metadata": {},
   "outputs": [],
   "source": [
    "with Control(eng,c1):\n",
    "    with Control(eng,c2):\n",
    "        X|ancilla"
   ]
  },
  {
   "cell_type": "markdown",
   "metadata": {},
   "source": [
    "### 4.Execute the circuit to get the final state."
   ]
  },
  {
   "cell_type": "code",
   "execution_count": 19,
   "metadata": {},
   "outputs": [],
   "source": [
    "eng.flush()"
   ]
  },
  {
   "cell_type": "markdown",
   "metadata": {},
   "source": [
    "### 5. Print the result state\n",
    "\n",
    "If you want to execute another case, remenber to delete the Engine before going back to step 1"
   ]
  },
  {
   "cell_type": "code",
   "execution_count": 20,
   "metadata": {},
   "outputs": [
    {
     "data": {
      "text/plain": [
       "'(1.00+0.00j)|11>|0>'"
      ]
     },
     "execution_count": 20,
     "metadata": {},
     "output_type": "execute_result"
    }
   ],
   "source": [
    "get_state_as_str(eng, ancilla+c1+c2)"
   ]
  },
  {
   "cell_type": "code",
   "execution_count": 21,
   "metadata": {},
   "outputs": [],
   "source": [
    "All(Measure) | c1+c2+ancilla\n",
    "del eng"
   ]
  },
  {
   "cell_type": "markdown",
   "metadata": {},
   "source": [
    "### 6.In ProjectQ you can create a new controlled gate of any number of qubits using the special operation ControlledGate({gate to control},{number of control qubits})"
   ]
  },
  {
   "cell_type": "code",
   "execution_count": 22,
   "metadata": {},
   "outputs": [],
   "source": [
    "from projectq.ops import ControlledGate\n",
    "Toffoli=ControlledGate(X, 2) "
   ]
  },
  {
   "cell_type": "code",
   "execution_count": 23,
   "metadata": {},
   "outputs": [
    {
     "name": "stdout",
     "output_type": "stream",
     "text": [
      "Cheat:  ({0: 0, 1: 1, 2: 2}, [0j, 0j, 0j, 0j, 0j, 0j, (1+0j), 0j])\n",
      "(1.00+0.00j)|11>|0>\n"
     ]
    }
   ],
   "source": [
    "eng=MainEngine()\n",
    "ancilla=eng.allocate_qubit()\n",
    "c1=eng.allocate_qubit()\n",
    "c2=eng.allocate_qubit()\n",
    "X|c1\n",
    "X|c2\n",
    "X|ancilla\n",
    "Toffoli| (c1, c2, ancilla)\n",
    "eng.flush()\n",
    "print(get_state_as_str(eng, ancilla+c1+c2,cheat=True))\n",
    "All(Measure) | c1+c2+ancilla\n",
    "del eng"
   ]
  },
  {
   "cell_type": "markdown",
   "metadata": {},
   "source": [
    "### 7. or use the predefined builtin Toffoli gate"
   ]
  },
  {
   "cell_type": "code",
   "execution_count": 24,
   "metadata": {},
   "outputs": [],
   "source": [
    "from projectq.ops import Toffoli "
   ]
  },
  {
   "cell_type": "code",
   "execution_count": 25,
   "metadata": {},
   "outputs": [
    {
     "name": "stdout",
     "output_type": "stream",
     "text": [
      "(1.00+0.00j)|11>|0>\n"
     ]
    }
   ],
   "source": [
    "eng=MainEngine()\n",
    "c1=eng.allocate_qubit()\n",
    "c2=eng.allocate_qubit()\n",
    "ancilla=eng.allocate_qubit()\n",
    "X|c1\n",
    "X|c2\n",
    "X|ancilla\n",
    "\n",
    "Toffoli| (c1, c2, ancilla)\n",
    "\n",
    "eng.flush()\n",
    "print(get_state_as_str(eng, ancilla+c2+c1))\n",
    "All(Measure) | c1+c2+ancilla\n",
    "del eng"
   ]
  },
  {
   "cell_type": "markdown",
   "metadata": {},
   "source": [
    "# Multiple Controlled k-Gates\n",
    "\n",
    "In general, in a register with n+k qubits a n-Controlled U acting on k-qubits is defined as:\n",
    "\n",
    "$C^n(U)|x_1 x_2 \\dots x_n\\rangle|\\Psi\\rangle = |x_1 x_2 \\dots x_n\\rangle U^{x_1 x_2 \\dots x_n}|\\Psi\\rangle$\n",
    "\n",
    "For example, the Tofooli's gate is defined as:\n",
    "\n",
    "$C^n(X)|x_1 x_2\\rangle>|y_1\\rangle = |x_1 x_2\\rangle X^{x_1 x_2}|y_1\\rangle$\n",
    "\n",
    "If $x_1=1,x_2=1$, then $C^n(X)|11\\rangle|0\\rangle = |11\\rangle X^{1x1}|0\\rangle=|11\\rangle X|0\\rangle=|11\\rangle|1\\rangle$\n",
    "\n",
    "So, check that this is true **H** with three control qubits. Check the 3-Controlled gate $C^3(H)$\n"
   ]
  },
  {
   "cell_type": "code",
   "execution_count": 26,
   "metadata": {},
   "outputs": [],
   "source": [
    "eng=MainEngine()"
   ]
  },
  {
   "cell_type": "code",
   "execution_count": 27,
   "metadata": {},
   "outputs": [],
   "source": [
    "a=eng.allocate_qubit(1)\n",
    "C=eng.allocate_qureg(3)\n"
   ]
  },
  {
   "cell_type": "markdown",
   "metadata": {},
   "source": [
    "Funtion to initialize the control qubits to a bit mask"
   ]
  },
  {
   "cell_type": "code",
   "execution_count": 28,
   "metadata": {},
   "outputs": [],
   "source": [
    "def init_control(C,bits):\n",
    "    for i in range(len(bits)):      \n",
    "        if bits[i]==\"1\":\n",
    "            X|C[-1-i]"
   ]
  },
  {
   "cell_type": "markdown",
   "metadata": {},
   "source": [
    "Initialize the control bits as a string containitn {1,0} for each qubit. Which is the result for **\"011\"**? And for **\"111\"**?"
   ]
  },
  {
   "cell_type": "code",
   "execution_count": 29,
   "metadata": {},
   "outputs": [
    {
     "data": {
      "text/plain": [
       "'(1.00+0.00j)|100>|0>'"
      ]
     },
     "execution_count": 29,
     "metadata": {},
     "output_type": "execute_result"
    }
   ],
   "source": [
    "init_control(C,\"100\")\n",
    "eng.flush()\n",
    "get_state_as_str(eng, a+C)"
   ]
  },
  {
   "cell_type": "markdown",
   "metadata": {},
   "source": [
    "Create the controlled gate"
   ]
  },
  {
   "cell_type": "code",
   "execution_count": 30,
   "metadata": {},
   "outputs": [],
   "source": [
    "def CnGate(eng,C,G,a):\n",
    "    if (len(C)>1):\n",
    "        with Control(eng,C[0]):\n",
    "            CnGate(eng,C[1:],G,a)\n",
    "    else:\n",
    "        with Control(eng,C):\n",
    "            G|a"
   ]
  },
  {
   "cell_type": "code",
   "execution_count": 31,
   "metadata": {},
   "outputs": [],
   "source": [
    "CnGate(eng,C,H,a)\n",
    "eng.flush()"
   ]
  },
  {
   "cell_type": "code",
   "execution_count": 32,
   "metadata": {},
   "outputs": [
    {
     "data": {
      "text/plain": [
       "'(1.00+0.00j)|100>|0>'"
      ]
     },
     "execution_count": 32,
     "metadata": {},
     "output_type": "execute_result"
    }
   ],
   "source": [
    "get_state_as_str(eng, a+C)"
   ]
  },
  {
   "cell_type": "code",
   "execution_count": 33,
   "metadata": {},
   "outputs": [],
   "source": [
    "All(Measure) | C+a\n",
    "del eng"
   ]
  },
  {
   "cell_type": "markdown",
   "metadata": {},
   "source": [
    "### Or using the ControlledGate operation defined previously"
   ]
  },
  {
   "cell_type": "code",
   "execution_count": 34,
   "metadata": {},
   "outputs": [],
   "source": [
    "CH=ControlledGate(H,3)"
   ]
  },
  {
   "cell_type": "code",
   "execution_count": 35,
   "metadata": {},
   "outputs": [
    {
     "name": "stdout",
     "output_type": "stream",
     "text": [
      "(1.00+0.00j)|111>|0>\n",
      "(0.71+0.00j)|111>|0>+(0.71+0.00j)|111>|1>\n"
     ]
    }
   ],
   "source": [
    "eng=MainEngine()\n",
    "a=eng.allocate_qubit(1)\n",
    "C=eng.allocate_qureg(3)\n",
    "\n",
    "init_control(C,\"111\")\n",
    "eng.flush()\n",
    "print(get_state_as_str(eng, a+C))\n",
    "\n",
    "CH|(C,a)\n",
    "eng.flush()\n",
    "print(get_state_as_str(eng, a+C))\n",
    "\n",
    "All(Measure) | C+a\n",
    "del eng"
   ]
  },
  {
   "cell_type": "markdown",
   "metadata": {},
   "source": [
    "Now you can check it for any other number of qubits and unitary gates."
   ]
  }
 ],
 "metadata": {
  "kernelspec": {
   "display_name": "Python 3",
   "language": "python",
   "name": "python3"
  },
  "language_info": {
   "codemirror_mode": {
    "name": "ipython",
    "version": 3
   },
   "file_extension": ".py",
   "mimetype": "text/x-python",
   "name": "python",
   "nbconvert_exporter": "python",
   "pygments_lexer": "ipython3",
   "version": "3.5.6"
  }
 },
 "nbformat": 4,
 "nbformat_minor": 2
}
