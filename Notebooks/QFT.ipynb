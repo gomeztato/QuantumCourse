{
 "cells": [
  {
   "cell_type": "markdown",
   "metadata": {
    "collapsed": true
   },
   "source": [
    "# Exercise 6: Quantum Fourier Transform"
   ]
  },
  {
   "cell_type": "markdown",
   "metadata": {},
   "source": [
    "QFT Unitary\n",
    "$$F_N=\\frac{1}{\\sqrt{N}}\\begin{bmatrix}\n",
    "1&1&1&1&\\cdots &1 \\\\\n",
    "1&\\omega_n&\\omega_n^2&\\omega_n^3&\\cdots&\\omega_n^{N-1} \\\\\n",
    "1&\\omega_n^2&\\omega_n^4&\\omega_n^6&\\cdots&\\omega_n^{2(N-1)}\\\\ 1&\\omega_n^3&\\omega_n^6&\\omega_n^9&\\cdots&\\omega_n^{3(N-1)}\\\\\n",
    "\\vdots&\\vdots&\\vdots&\\vdots&&\\vdots\\\\\n",
    "1&\\omega_n^{N-1}&\\omega_n^{2(N-1)}&\\omega_n^{3(N-1)}&\\cdots&\\omega_n^{(N-1)(N-1)}\n",
    "\\end{bmatrix}\n",
    "$$\n",
    "\n",
    "where $$\\omega_n= e^{\\frac{2 \\pi i}{N}}$$ \n",
    "\n",
    "for example, for 2 qubits, the operator is:\n",
    "\n",
    "$$F_4=\\frac{1}{2}\\begin{bmatrix}\n",
    "1&1&1&1 \\\\\n",
    "1&e^{\\frac{\\pi i}{2}}&e^{\\pi i}&e^{\\frac{3 \\pi i}{2}} \\\\\n",
    "1&e^{\\pi i}&e^{2 \\pi i}&e^{\\frac{6 \\pi i}{2}}\\\\\n",
    "1&e^{\\frac{3 \\pi i}{2}}&e^{\\frac{6 \\pi i}{2}}&e^{\\frac{9 \\pi i}{2}}\n",
    "\\end{bmatrix}\n",
    "=\\frac{1}{2}\\begin{bmatrix}\n",
    "1&1&1&1 \\\\\n",
    "1&i&-1&-i \\\\\n",
    "1&-1&1&-1\\\\\n",
    "1&-i&-1&-i\n",
    "\\end{bmatrix}\n",
    "$$\n",
    "\n",
    "So, appying $F_4$ on the state $|\\phi>=\\frac{1}{2}[1,-1,1,-1]^T=\\frac{1}{2}(|00>-|01>+|10>-|11>)$\n",
    "\n",
    "$$F_4|\\phi>=\\frac{1}{2}\\begin{bmatrix}\n",
    "1&1&1&1 \\\\\n",
    "1&i&-1&-i \\\\\n",
    "1&-1&1&-1\\\\\n",
    "1&-i&-1&-i\n",
    "\\end{bmatrix}\\frac{1}{2}\\begin{bmatrix}1\\\\-1\\\\1\\\\-1\\end{bmatrix}=\\frac{1}{4}\\begin{bmatrix}0\\\\0\\\\4\\\\0\\end{bmatrix}=\\begin{bmatrix}0\\\\0\\\\1\\\\0\\end{bmatrix}=|10>=|2>=|N/r>$$\n",
    "\n",
    "being $N=2^{numberQubits}$ and $r$ the period of the function (in this case, 2)\n",
    "\n"
   ]
  },
  {
   "cell_type": "markdown",
   "metadata": {},
   "source": [
    "[Example](../quirk.html#circuit=%7B%22cols%22%3A%5B%5B%22Y%22%5D%2C%5B%22H%22%2C%22H%22%2C%22H%22%2C%22H%22%2C%22H%22%2C%22H%22%5D%2C%5B%22QFT6%22%5D%5D%7D)"
   ]
  },
  {
   "cell_type": "markdown",
   "metadata": {},
   "source": [
    "ProjectQ implements a single gate for QFT, but in the current version, it needs at the end, additional permutations\n"
   ]
  },
  {
   "cell_type": "code",
   "execution_count": 1,
   "metadata": {},
   "outputs": [],
   "source": [
    "import projectq\n",
    "from projectq.backends import CommandPrinter\n",
    "from projectq.ops import QFT, All, Measure, Y, H, Swap\n",
    "from projectq.backends import Simulator\n",
    "from projectq.setups.default import get_engine_list\n",
    "def get_state_as_str(eng,qubits,cheat=False):\n",
    "    import numpy as np\n",
    "    s=\"\"\n",
    "    if (cheat):\n",
    "        print(\"Cheat: \", eng.backend.cheat())\n",
    "    if (len(qubits)==1):\n",
    "        for i in range(2):\n",
    "            #print(\"bits:%d%s\"%(i,bits))\n",
    "            a=eng.backend.get_amplitude(\"%d\"%(i),qubits)\n",
    "            if (a.real!=0)|(a.imag!=0):\n",
    "                if s!=\"\":\n",
    "                    s=s+\"+\"\n",
    "                a=\"({:.2f})\".format(a)\n",
    "                s=s+\"%s|%d>\"%(a,i)\n",
    "\n",
    "    else:\n",
    "        for j in range(2**(len(qubits)-1)):\n",
    "            bits=np.binary_repr(j,width=len(qubits)-1)\n",
    "            #print(\"Bits:\",j,bits)\n",
    "            for i in range(2):\n",
    "                #print(\"bits:%d%s\"%(i,bits))\n",
    "                a=eng.backend.get_amplitude(\"%d%s\"%(i,bits[-1::-1]),qubits)\n",
    "                if (a.real!=0)|(a.imag!=0):\n",
    "                    if s!=\"\":\n",
    "                        s=s+\"+\"\n",
    "                    a=\"({:.2f})\".format(a)\n",
    "                    s=s+\"%s|%s%d>\"%(a,bits,i)\n",
    "                #print(s)\n",
    "    return(s)\n",
    "\n"
   ]
  },
  {
   "cell_type": "code",
   "execution_count": 2,
   "metadata": {},
   "outputs": [
    {
     "name": "stdout",
     "output_type": "stream",
     "text": [
      "Initial state: (0.00+0.12j)|000000>+(0.00-0.12j)|000001>+(0.00+0.12j)|000010>+(0.00-0.12j)|000011>+(0.00+0.12j)|000100>+(0.00-0.12j)|000101>+(0.00+0.12j)|000110>+(0.00-0.12j)|000111>+(0.00+0.12j)|001000>+(0.00-0.12j)|001001>+(0.00+0.12j)|001010>+(0.00-0.12j)|001011>+(0.00+0.12j)|001100>+(0.00-0.12j)|001101>+(0.00+0.12j)|001110>+(0.00-0.12j)|001111>+(0.00+0.12j)|010000>+(0.00-0.12j)|010001>+(0.00+0.12j)|010010>+(0.00-0.12j)|010011>+(0.00+0.12j)|010100>+(0.00-0.12j)|010101>+(0.00+0.12j)|010110>+(0.00-0.12j)|010111>+(0.00+0.12j)|011000>+(0.00-0.12j)|011001>+(0.00+0.12j)|011010>+(0.00-0.12j)|011011>+(0.00+0.12j)|011100>+(0.00-0.12j)|011101>+(0.00+0.12j)|011110>+(0.00-0.12j)|011111>+(0.00+0.12j)|100000>+(0.00-0.12j)|100001>+(0.00+0.12j)|100010>+(0.00-0.12j)|100011>+(0.00+0.12j)|100100>+(0.00-0.12j)|100101>+(0.00+0.12j)|100110>+(0.00-0.12j)|100111>+(0.00+0.12j)|101000>+(0.00-0.12j)|101001>+(0.00+0.12j)|101010>+(0.00-0.12j)|101011>+(0.00+0.12j)|101100>+(0.00-0.12j)|101101>+(0.00+0.12j)|101110>+(0.00-0.12j)|101111>+(0.00+0.12j)|110000>+(0.00-0.12j)|110001>+(0.00+0.12j)|110010>+(0.00-0.12j)|110011>+(0.00+0.12j)|110100>+(0.00-0.12j)|110101>+(0.00+0.12j)|110110>+(0.00-0.12j)|110111>+(0.00+0.12j)|111000>+(0.00-0.12j)|111001>+(0.00+0.12j)|111010>+(0.00-0.12j)|111011>+(0.00+0.12j)|111100>+(0.00-0.12j)|111101>+(0.00+0.12j)|111110>+(0.00-0.12j)|111111>\n",
      "\n",
      "QFT: (0.00+1.00j)|100000>\n"
     ]
    }
   ],
   "source": [
    "# Use the default compiler engines with a CommandPrinter in the end:\n",
    "engines2 = get_engine_list() # + [CommandPrinter()]\n",
    "\n",
    "eng = projectq.MainEngine(backend=Simulator(), engine_list=engines2)\n",
    "\n",
    "#Select the number of qubits\n",
    "q = eng.allocate_qureg(6)\n",
    "\n",
    "\n",
    "Y | q[0]\n",
    "All(H) | q\n",
    "eng.flush()\n",
    "print(\"Initial state:\",get_state_as_str(eng,q))\n",
    "\n",
    "QFT | q\n",
    "for i in range(len(q)//2):\n",
    "        Swap | (q[i],q[len(q)-i-1])\n",
    "eng.flush()\n",
    "\n",
    "print(\"\\nQFT:\",get_state_as_str(eng,q))\n",
    "\n",
    "All(Measure) | q\n",
    "\n",
    "del eng"
   ]
  },
  {
   "cell_type": "code",
   "execution_count": null,
   "metadata": {},
   "outputs": [],
   "source": []
  }
 ],
 "metadata": {
  "kernelspec": {
   "display_name": "Python 3",
   "language": "python",
   "name": "python3"
  },
  "language_info": {
   "codemirror_mode": {
    "name": "ipython",
    "version": 3
   },
   "file_extension": ".py",
   "mimetype": "text/x-python",
   "name": "python",
   "nbconvert_exporter": "python",
   "pygments_lexer": "ipython3",
   "version": "3.5.6"
  }
 },
 "nbformat": 4,
 "nbformat_minor": 2
}
