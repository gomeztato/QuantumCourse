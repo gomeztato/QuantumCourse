{
 "cells": [
  {
   "cell_type": "markdown",
   "metadata": {},
   "source": [
    "# Implementation of a Quantum Approximation Optimization Algorithm (QAOA).\n",
    "\n",
    "This example is based on the exampled provided by Rigetti [Rigetti](https://github.com/rigetticomputing/grove/blob/master/examples/IsingSolver.ipynb).\n",
    "\n",
    "\n",
    "This code finds the global minima of an Ising model with external fields of the form\n",
    "$$f(x)= \\Sigma_i h_i x_i + \\Sigma_{i,j} J_{i,j} x_i x_j.$$\n",
    "Two adjacent sites $i,j$ have an interaction equal to $J_{i,j}$. There is also an external magnetic field $h_i$ that affects each individual spin. The discrete variables take the values $x_i \\in \\{+1,-1\\}$.\n",
    "\n",
    "The reference hamiltonian will be \n",
    "\n",
    "$$H_{b}=\\sum_{i=0}^{N-1}\\sigma^X_i$$\n",
    "\n",
    "with N the number of qubits for the problem (in this small case, 4). This state has the ground state define for a Walsh-Hadamard state\n",
    "\n",
    "$$|\\Psi(0)\\rangle = |+>_{N-1}\\otimes|+>_{N-2}\\otimes \\dots \\otimes |+>_{0} = \\frac{1}{\\sqrt{2^N}}\\sum_{i=0}^{2^N-1}|i\\rangle$$ \n",
    "\n",
    "So, the time evolution will be applied starting from this ground state.\n",
    "\n",
    "You will find the minima of the following Ising model\n",
    "$$f(x)=x_0+x_1-x_2+x_3-2 x_0 x_1 +3 x_2 x_3.$$\n",
    "Which corresponds to $x_{min}=[-1, -1, 1, -1]$ in numerical order, with a minimum value of $f(x_{min})=-9$. "
   ]
  },
  {
   "cell_type": "markdown",
   "metadata": {},
   "source": [
    "Remember that, as Variational Quantum Eigensolver (VQE), this is a hybrid algorithm. Part of the code is executed in the CPU (the optimisation) and part in the QPU (the calculus of the expected values of the Hamiltonian). \n"
   ]
  },
  {
   "cell_type": "markdown",
   "metadata": {},
   "source": [
    "## 1. Import the needed packages\n",
    "\n",
    "Import:\n",
    "\n",
    "1. ProjecQ Simulator\n",
    "2. Operations to be used. Because this is mainly a time evolution, the most important is TimeEvolution\n",
    "3. The optimization function from Scipy."
   ]
  },
  {
   "cell_type": "code",
   "execution_count": 1,
   "metadata": {},
   "outputs": [],
   "source": [
    "import projectq\n",
    "from projectq.backends import Simulator\n",
    "from projectq.ops import All, Measure, QubitOperator, TimeEvolution,H\n",
    "from scipy.optimize import minimize"
   ]
  },
  {
   "cell_type": "markdown",
   "metadata": {},
   "source": [
    "## 2. Define the functions for the optimization"
   ]
  },
  {
   "cell_type": "markdown",
   "metadata": {},
   "source": [
    "This functions will calculate the expectation value for a hamiltonian *H* after applying the Time Evolution of the Hamiltonian composed by the reference and cost hamiltonians, for a selected number of times. However, the time evolution of each hamiltonian is executed for a different *time* $\\theta_i$ which are the optimisation parameters."
   ]
  },
  {
   "cell_type": "code",
   "execution_count": 2,
   "metadata": {},
   "outputs": [],
   "source": [
    "def Expectation_H(theta,nqubits, steps,base_ham,cost_ham,eval_ham):\n",
    "    \"\"\"\n",
    "    Args:\n",
    "        theta (float): array of variational parameters for ansatz wavefunction\n",
    "        nqubits: number of qubits to use for this Hamiltonian\n",
    "        steps: number of times that the time evolution is repeated\n",
    "        base_ham: the base hamiltonian\n",
    "        cost_ham: the cost hamiltonian\n",
    "        hamiltonian (QubitOperator): Hamiltonian to evaluate\n",
    "    Returns:\n",
    "        energy of the wavefunction for parameters\n",
    "    \"\"\"\n",
    "    # Create a ProjectQ compiler with a simulator as a backend\n",
    "\n",
    "\n",
    "    eng = projectq.MainEngine(backend=Simulator(gate_fusion=True, rnd_seed=1000))\n",
    "    wavefunction = eng.allocate_qureg(nqubits)\n",
    "\n",
    "    # Initialize to Walsh-Hadamard state\n",
    "    All(H) | wavefunction\n",
    "    \n",
    "    #Get the parameters from the optimizer\n",
    "    alfa=theta[:steps]\n",
    "    gamma=theta[steps:]\n",
    "    \n",
    "    #Apply the \"time evolution\"  a number of times (steps)\n",
    "    for i in range(steps):\n",
    "        TimeEvolution(gamma[i], cost_ham) | wavefunction\n",
    "        TimeEvolution(alfa[i], base_ham) | wavefunction\n",
    "        \n",
    "    # flush all gates\n",
    "    eng.flush()\n",
    "    # Calculate the energy.\n",
    "    # The simulator can directly return expectation values, while on a\n",
    "    # real quantum devices one would have to measure each term of the\n",
    "    # Hamiltonian.\n",
    "    energy = eng.backend.get_expectation_value(eval_ham, wavefunction)\n",
    "\n",
    "    # Measure in order to return to return to a classical state\n",
    "    # (as otherwise the simulator will give an error)\n",
    "    All(Measure) | wavefunction\n",
    "    \n",
    "    \n",
    "    del eng\n",
    "    \n",
    "    return energy"
   ]
  },
  {
   "cell_type": "markdown",
   "metadata": {},
   "source": [
    "\n",
    "\n",
    "Helper function to compose the real hamiltonians from their terms.\n",
    "\n"
   ]
  },
  {
   "cell_type": "code",
   "execution_count": 3,
   "metadata": {},
   "outputs": [],
   "source": [
    "def compose_ham(Base,hamiltonian):\n",
    "    \n",
    "    H_o=None\n",
    "    for i in hamiltonian:\n",
    "        if (H_o is None):\n",
    "            H_o=i\n",
    "        else:\n",
    "            H_o=H_o+i\n",
    "    H_b=None\n",
    "    for i in Base:\n",
    "        if (H_b is None):\n",
    "            H_b=i\n",
    "        else:\n",
    "            H_b=H_b+i\n",
    "    return H_b,H_o"
   ]
  },
  {
   "cell_type": "markdown",
   "metadata": {},
   "source": [
    "This function returns the most probable state (which is is solution)"
   ]
  },
  {
   "cell_type": "code",
   "execution_count": 4,
   "metadata": {},
   "outputs": [],
   "source": [
    "def State_H(theta,nqubits, steps,base_ham,cost_ham):\n",
    "    \n",
    "    \"\"\"\n",
    "    Args:\n",
    "        theta (float): variational parameter for ansatz wavefunction\n",
    "        hamiltonian (QubitOperator): Hamiltonian of the system\n",
    "    Returns:\n",
    "        energy of the wavefunction for parameter theta\n",
    "    \"\"\"\n",
    "    import numpy as np\n",
    "    H_b,H_o=compose_ham(base_ham,cost_ham)\n",
    "    # Create a ProjectQ compiler with a simulator as a backend\n",
    "    from projectq.backends import Simulator\n",
    "    eng = projectq.MainEngine(backend=Simulator(gate_fusion=True, rnd_seed=1000))\n",
    "    wavefunction = eng.allocate_qureg(nqubits)\n",
    "\n",
    "    # Initialize to Walsh-Hadamard state\n",
    "    All(H) | wavefunction\n",
    "    #print(\"Theta:\",theta)\n",
    "    alfa=theta[:steps]\n",
    "    gamma=theta[steps:]\n",
    "    #print(steps)\n",
    "    for i in range(steps):\n",
    "        TimeEvolution(gamma[i], H_o) | wavefunction\n",
    "        TimeEvolution(alfa[i], H_b) | wavefunction\n",
    "        \n",
    "    # flush all gates\n",
    "    eng.flush()\n",
    "    maxp=0.0\n",
    "    maxstate=None\n",
    "    for i in range(2**nqubits):\n",
    "        bits=np.binary_repr(i,width=len(wavefunction))\n",
    "        statep=eng.backend.get_probability(bits[-1::-1],wavefunction)\n",
    "        if (maxp < statep):\n",
    "            maxstate=bits[-1::-1]\n",
    "            maxp=statep\n",
    "            \n",
    "    All(Measure) | wavefunction\n",
    "    eng.flush()\n",
    "    \n",
    "    del eng\n",
    "    \n",
    "    return maxstate,maxp"
   ]
  },
  {
   "cell_type": "markdown",
   "metadata": {},
   "source": [
    "Function to calculate the expectation values of each term of the hamiltonian. This step can be executed in parallel"
   ]
  },
  {
   "cell_type": "code",
   "execution_count": 5,
   "metadata": {},
   "outputs": [],
   "source": [
    "def variational_quantum_eigensolver(theta,nqubits,steps,Base,hamiltonian):\n",
    "    #print(\"Theta:\",theta)\n",
    "    vqe=0.\n",
    "    \n",
    "    H_b,H_o=compose_ham(Base,hamiltonian) \n",
    "    \n",
    "    for i in hamiltonian:\n",
    "        vqe+=Expectation_H(theta,nqubits,steps,H_b,H_o,i)\n",
    "    print(\"VQE:\",vqe)    \n",
    "    return vqe"
   ]
  },
  {
   "cell_type": "markdown",
   "metadata": {},
   "source": [
    "## 4. Optimize\n",
    "\n",
    "This is the main part. Starting from a defined Ising Hamiltonian, find the result using an optimizer "
   ]
  },
  {
   "cell_type": "markdown",
   "metadata": {},
   "source": [
    "The input for the code in the default mode corresponds simply to the parameters $h_i$ and $J_{i,j}$, that we specify as a list in numerical order and a dictionary. The code returns the bitstring of the minima, the minimum value, and the QAOA quantum circuit used to obtain that result."
   ]
  },
  {
   "cell_type": "code",
   "execution_count": 6,
   "metadata": {},
   "outputs": [],
   "source": [
    "J = {(0, 1): -2, (2, 3): 3}\n",
    "h = [1, 1, -1, 1]\n",
    "num_steps=10"
   ]
  },
  {
   "cell_type": "code",
   "execution_count": 7,
   "metadata": {},
   "outputs": [
    {
     "name": "stdout",
     "output_type": "stream",
     "text": [
      "VQE: -3.1267108885017905\n",
      "VQE: -3.0746127151692515\n",
      "VQE: -2.4703078260129576\n",
      "VQE: -2.992830279033867\n",
      "VQE: -3.328404601259681\n",
      "VQE: -3.0947854574467586\n",
      "VQE: -2.9046451732570784\n",
      "VQE: -3.671034058669843\n",
      "VQE: -2.8959402609395615\n",
      "VQE: -3.021877167297663\n",
      "VQE: -3.2702033489490994\n",
      "VQE: -1.2537536430481186\n",
      "VQE: -4.732157941905806\n",
      "VQE: -1.9466821811644195\n",
      "VQE: -2.878178215938844\n",
      "VQE: -3.0799305618827497\n",
      "VQE: -2.910286964127516\n",
      "VQE: -1.8677697906524502\n",
      "VQE: -3.0074331998096366\n",
      "VQE: -3.960728630494119\n",
      "VQE: -3.7770706378717254\n",
      "VQE: -4.514548657387155\n",
      "VQE: -2.6776213636174955\n",
      "VQE: -4.514024405976839\n",
      "VQE: -4.918323312752894\n",
      "VQE: -5.817911089057661\n",
      "VQE: -2.2842284936619692\n",
      "VQE: -3.5376680087503636\n",
      "VQE: -3.668135887828318\n",
      "VQE: -4.902031488366625\n",
      "VQE: -4.441174337021387\n",
      "VQE: -3.2189336009442426\n",
      "VQE: -4.988852793021318\n",
      "VQE: -4.572076042091683\n",
      "VQE: -5.406066757494104\n",
      "VQE: -5.430014975251307\n",
      "VQE: -5.361876257918651\n",
      "VQE: -5.939176668760072\n",
      "VQE: -6.47308100271566\n",
      "VQE: -6.157242214265662\n",
      "VQE: -3.6792837753790777\n",
      "VQE: -5.80077647940084\n",
      "VQE: -5.934226996294407\n",
      "Warning: Maximum number of iterations has been exceeded.\n"
     ]
    }
   ],
   "source": [
    "import numpy as np\n",
    "#\n",
    "# if the number os steps is 0, select them as twice the number of qubits\n",
    "if num_steps == 0:\n",
    "    num_steps = 2 * len(h)\n",
    "\n",
    "nqubits = len(h)\n",
    "hamiltonian_o=[]\n",
    "hamiltonian_b=[]\n",
    "for i, j in J.keys():\n",
    "    hamiltonian_o.append(QubitOperator(\"Z%d Z%d\"%(i,j),J[(i, j)]))\n",
    "\n",
    "for i in range(nqubits):\n",
    "    hamiltonian_o.append(QubitOperator(\"Z%d\"%i,h[i]))\n",
    "\n",
    "for i in range(nqubits):\n",
    "    hamiltonian_b.append(QubitOperator(\"X%d\"%i,-1.0))\n",
    "\n",
    "betas = np.random.uniform(0, np.pi, num_steps)[::-1]\n",
    "gammas = np.random.uniform(0, 2*np.pi, num_steps)\n",
    "theta_0=np.zeros(2*num_steps)\n",
    "theta_0[0:num_steps]=betas\n",
    "theta_0[num_steps:]=gammas\n",
    "\n",
    "minimum = minimize(variational_quantum_eigensolver,theta_0,args=(nqubits,num_steps,hamiltonian_b,hamiltonian_o),\n",
    "                  method='Nelder-Mead',options= {'disp': True,'ftol': 1.0e-2,'xtol': 1.0e-2,'maxiter':20})\n",
    "\n",
    "    "
   ]
  },
  {
   "cell_type": "markdown",
   "metadata": {},
   "source": [
    "And calculate now the most probable state"
   ]
  },
  {
   "cell_type": "code",
   "execution_count": 8,
   "metadata": {},
   "outputs": [],
   "source": [
    "maxstate,maxp=State_H(minimum.x,nqubits,num_steps,hamiltonian_b,hamiltonian_o)"
   ]
  },
  {
   "cell_type": "markdown",
   "metadata": {},
   "source": [
    "Ok. This is the end. Show the results"
   ]
  },
  {
   "cell_type": "code",
   "execution_count": 9,
   "metadata": {},
   "outputs": [
    {
     "name": "stdout",
     "output_type": "stream",
     "text": [
      "[-1, -1, 1, -1]  with probability 0.51\n"
     ]
    }
   ],
   "source": [
    "print([(-1 if int(i)==1 else 1) for i in maxstate], \" with probability %.2f\"%maxp)"
   ]
  },
  {
   "cell_type": "code",
   "execution_count": null,
   "metadata": {},
   "outputs": [],
   "source": []
  }
 ],
 "metadata": {
  "kernelspec": {
   "display_name": "Python 3",
   "language": "python",
   "name": "python3"
  },
  "language_info": {
   "codemirror_mode": {
    "name": "ipython",
    "version": 3
   },
   "file_extension": ".py",
   "mimetype": "text/x-python",
   "name": "python",
   "nbconvert_exporter": "python",
   "pygments_lexer": "ipython3",
   "version": "3.5.6"
  }
 },
 "nbformat": 4,
 "nbformat_minor": 2
}
