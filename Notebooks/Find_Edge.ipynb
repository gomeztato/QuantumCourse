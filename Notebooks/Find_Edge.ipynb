{
 "cells": [
  {
   "cell_type": "markdown",
   "metadata": {},
   "source": [
    "# Finding the edge of one pinture using Quantum Paralelism\n",
    "\n",
    "This notebook is based on the paper:\n",
    "\n",
    "[Yao, X.-W.](https://arxiv.org/abs/1801.01465), et al. (2017). Quantum Image Processing and Its Application to Edge Detection: Theory and Experiment. Physical Review X, 7(3), 031041. http://doi.org/10.1103/PhysRevX.7.031041\n",
    "\n",
    "The main objective of this algorithm is to find the edge of one image. This means, given the image:\n",
    "\n",
    "<img src=\"./Images/C.png\">\n",
    "\n",
    "the objective is to find its edges to get this other image:\n",
    "\n",
    "<img src=\"./Images/C_EDGES.png\">\n",
    "\n",
    "The algorithm has the next steps:\n",
    "\n",
    "1. Load the image as a matrix os (n,m) elements $c_{ij}$\n",
    "$$D=\\begin{bmatrix} \n",
    "d_{11} & d_{12} & \\cdots&d_{1j}&\\cdots&d_{1m}  \\\\\n",
    "d_{21} & d_{22} & \\cdots&d_{2j}&\\cdots &d_{2m}  \\\\\n",
    "\\vdots&&\\ddots&\\vdots&\\ddots&\\vdots\\\\\n",
    "d_{i1} & d_{i2} & \\cdots&d_{ij}&\\cdots &d_{im}  \\\\\n",
    "\\vdots&&\\ddots&\\vdots&\\ddots&\\vdots\\\\\n",
    "d_{n1} & d_{n2} & \\cdots&d_{nj}&\\cdots &d_{nm}  \\\\\n",
    "\\end{bmatrix}$$\n",
    "2. Convert the array in a vector of N=n\\*m elements\n",
    "$$C=\\begin{bmatrix} \n",
    "d_{11}   \\\\\n",
    "d_{21}   \\\\\n",
    "\\vdots\\\\\n",
    "d_{ij}   \\\\\n",
    "d_{(i+1) j}   \\\\\n",
    "\\vdots\\\\\n",
    "d_{nm} \\\\\n",
    "\\end{bmatrix}=\n",
    "\\begin{bmatrix} \n",
    "c_{0}   \\\\\n",
    "c_{1}   \\\\\n",
    "\\vdots\\\\\n",
    "c_{N-2}   \\\\\n",
    "c_{N-1}   \\\\\n",
    "\\end{bmatrix}\n",
    "$$\n",
    "3. Map this vector to one qureg of $q=log_2(N)$ qubits as\n",
    "$${\\lvert}\\phi(C){\\rangle}=\\frac{1}{{\\left\\lVert C \\right\\rVert}^2}\\sum_{k=0}^{N-1}c_{k}{\\lvert}k{\\rangle}$$\n",
    "4. Apply a Hadamard gate to the last qubit\n",
    "$$(I^{\\otimes q-1}\\otimes H)\\lvert\\phi(C)\\rangle=\\begin{bmatrix} \n",
    "c_{0}+c_{1}   \\\\\n",
    "c_{0}-c_{1}   \\\\\n",
    "\\vdots\\\\\n",
    "c_{N-2}+c_{N-1}\\\\\n",
    "c_{N-2}-c_{N-1}\\\\\n",
    "\\end{bmatrix}$$\n",
    "So, even elements will be close to 0 is two pixels have close values -in the case of black and white images, they must be 0-. Measuring the last qubit, if the result is one, the final states $\\lvert k \\rangle$, encode the pixels of the boundaries.\n",
    "\n"
   ]
  },
  {
   "cell_type": "markdown",
   "metadata": {},
   "source": [
    "Start importing the packages to use. To load and convert the image, PIL package is needed"
   ]
  },
  {
   "cell_type": "code",
   "execution_count": 4,
   "metadata": {},
   "outputs": [],
   "source": [
    "%matplotlib inline\n",
    "import matplotlib.pyplot as plt\n",
    "from projectq.cengines import MainEngine\n",
    "from projectq.ops import H,_state_prep\n",
    "from PIL import Image\n",
    "import numpy as np\n",
    "from numpy import linalg as LA"
   ]
  },
  {
   "cell_type": "markdown",
   "metadata": {},
   "source": [
    "Load the image. Because it is too large, rescale it."
   ]
  },
  {
   "cell_type": "code",
   "execution_count": 5,
   "metadata": {},
   "outputs": [
    {
     "data": {
      "text/plain": [
       "<matplotlib.image.AxesImage at 0x7fb708e18c50>"
      ]
     },
     "execution_count": 5,
     "metadata": {},
     "output_type": "execute_result"
    },
    {
     "data": {
      "image/png": "[encoded data removed]",
      "text/plain": [
       "<Figure size 432x288 with 1 Axes>"
      ]
     },
     "metadata": {
      "needs_background": "light"
     },
     "output_type": "display_data"
    }
   ],
   "source": [
    "A=Image.open(\"Images/cesga_unha_tinta.jpg\").convert(\"1\")\n",
    "maxsize=(A.size[0]//4,A.size[1]//4)\n",
    "A.thumbnail(maxsize, Image.ANTIALIAS)\n",
    "im_arr = (np.array(A)==False).astype(np.int8)\n",
    "plt.imshow(im_arr, cmap='Greys' )"
   ]
  },
  {
   "cell_type": "markdown",
   "metadata": {},
   "source": [
    "Because even after rescaling the image is to large to simulate, crop it around **C**"
   ]
  },
  {
   "cell_type": "code",
   "execution_count": 6,
   "metadata": {},
   "outputs": [
    {
     "data": {
      "text/plain": [
       "<matplotlib.image.AxesImage at 0x7fb708d87da0>"
      ]
     },
     "execution_count": 6,
     "metadata": {},
     "output_type": "execute_result"
    },
    {
     "data": {
      "image/png": "[encoded data removed]",
      "text/plain": [
       "<Figure size 432x288 with 1 Axes>"
      ]
     },
     "metadata": {
      "needs_background": "light"
     },
     "output_type": "display_data"
    }
   ],
   "source": [
    "im_crop=im_arr[46:120,265:320]\n",
    "plt.imshow(im_crop, cmap='Greys' )\n"
   ]
  },
  {
   "cell_type": "markdown",
   "metadata": {},
   "source": [
    "Calculate the number of qubits needed to store all the image. Remember that n qubits can store $N=2^ n$ complex numbers. As consequence, to store m\\*n pixels, a qureg of $q=\\log_2(n*m)$ qubits is used"
   ]
  },
  {
   "cell_type": "code",
   "execution_count": 7,
   "metadata": {},
   "outputs": [
    {
     "name": "stdout",
     "output_type": "stream",
     "text": [
      "12\n"
     ]
    }
   ],
   "source": [
    "number_of_qubits=int(np.ceil(np.log2(im_crop.shape[0]*im_crop.shape[1])))\n",
    "print(number_of_qubits)"
   ]
  },
  {
   "cell_type": "markdown",
   "metadata": {},
   "source": [
    "Create a vector with the number of elements that number_of_qubits can store"
   ]
  },
  {
   "cell_type": "code",
   "execution_count": 8,
   "metadata": {},
   "outputs": [
    {
     "name": "stdout",
     "output_type": "stream",
     "text": [
      "Print 12 qubits can store 4096 elements.\n"
     ]
    }
   ],
   "source": [
    "Vector=np.zeros((2**number_of_qubits))\n",
    "print(\"Print %d qubits can store %d elements.\"%(number_of_qubits,Vector.shape[0]))"
   ]
  },
  {
   "cell_type": "markdown",
   "metadata": {},
   "source": [
    "Now, map the image to the first elements of this vector"
   ]
  },
  {
   "cell_type": "code",
   "execution_count": 9,
   "metadata": {},
   "outputs": [],
   "source": [
    "shape=im_crop.shape[0]*im_crop.shape[1]\n",
    "Vector[0:shape]=im_crop.reshape((shape))"
   ]
  },
  {
   "cell_type": "markdown",
   "metadata": {},
   "source": [
    "Because the norm of the amplitudes of one quantum state must be one, we must convert this vector to a normalized one, dividing each element by the norm of the vector. "
   ]
  },
  {
   "cell_type": "code",
   "execution_count": 10,
   "metadata": {},
   "outputs": [],
   "source": [
    "from numpy import linalg as LA\n",
    "norma=LA.norm(Vector)\n",
    "Vnorma=Vector/norma"
   ]
  },
  {
   "cell_type": "markdown",
   "metadata": {},
   "source": [
    "Allocate one qureg with the number of needed qubits."
   ]
  },
  {
   "cell_type": "code",
   "execution_count": 11,
   "metadata": {},
   "outputs": [],
   "source": [
    "eng=MainEngine()\n",
    "q=eng.allocate_qureg(number_of_qubits)"
   ]
  },
  {
   "cell_type": "markdown",
   "metadata": {},
   "source": [
    "Now, use the operation [StatePreparation](https://projectq.readthedocs.io/en/latest/projectq.ops.html#projectq.ops.StatePreparation) to generate the quantum circuit to map the Vnorma vector to one quantum state. This operation will generate the set of gates to transform the initial state $\\lvert 0 \\rangle^{\\otimes q}$ to the desired final state $\\lvert \\phi \\rangle$ using the algorithm proposed by [Mikko Mottonen et al.](https://arxiv.org/abs/quant-ph/0407010). There are other methods implemented on the literature that deserve to be explored because this is a critical point of many modern algorithms."
   ]
  },
  {
   "cell_type": "code",
   "execution_count": 12,
   "metadata": {},
   "outputs": [],
   "source": [
    "CreateState=_state_prep.StatePreparation(Vnorma)"
   ]
  },
  {
   "cell_type": "markdown",
   "metadata": {},
   "source": [
    "OK. Apply this circuit to the allocated qureg"
   ]
  },
  {
   "cell_type": "code",
   "execution_count": 13,
   "metadata": {},
   "outputs": [],
   "source": [
    "CreateState | q"
   ]
  },
  {
   "cell_type": "markdown",
   "metadata": {},
   "source": [
    "Do not to forget that any operation must be executed before getting the results. Because this circuit is simulated and not executed on a quantum processor, it will consume some minutes to finish. Be patient!"
   ]
  },
  {
   "cell_type": "code",
   "execution_count": 14,
   "metadata": {},
   "outputs": [],
   "source": [
    "eng.flush()\n"
   ]
  },
  {
   "cell_type": "markdown",
   "metadata": {},
   "source": [
    "In the simulator, it is possible to obtain the current state and probabilities without measuring it. "
   ]
  },
  {
   "cell_type": "code",
   "execution_count": 15,
   "metadata": {},
   "outputs": [],
   "source": [
    "Vout=np.zeros(shape)\n",
    "for i in range(shape):\n",
    "    bits=np.binary_repr(i,width=len(q))\n",
    "    Vout[i]=abs(eng.backend.get_probability(bits[-1::-1],q))\n",
    "    "
   ]
  },
  {
   "cell_type": "markdown",
   "metadata": {},
   "source": [
    "Remember that the amplitude of one state is the square root of the probability. Plot the results and compare the initial normalized vector with the amplitudes of the final state."
   ]
  },
  {
   "cell_type": "code",
   "execution_count": 16,
   "metadata": {},
   "outputs": [
    {
     "data": {
      "text/plain": [
       "<matplotlib.legend.Legend at 0x7fb7084cdef0>"
      ]
     },
     "execution_count": 16,
     "metadata": {},
     "output_type": "execute_result"
    },
    {
     "data": {
      "image/png": "[encoded data removed]",
      "text/plain": [
       "<Figure size 720x216 with 2 Axes>"
      ]
     },
     "metadata": {
      "needs_background": "light"
     },
     "output_type": "display_data"
    }
   ],
   "source": [
    "fig,ax=plt.subplots(1,2,figsize=(10,3))\n",
    "ax[0].plot(Vout**0.5,\"r*\",label=\"State\")\n",
    "ax[0].legend()\n",
    "ax[0].set_ylabel(\"Amplitude\")\n",
    "ax[1].plot(Vnorma,\"*\",label=\"Vnorma\")\n",
    "ax[1].legend()\n"
   ]
  },
  {
   "cell_type": "code",
   "execution_count": 17,
   "metadata": {},
   "outputs": [
    {
     "data": {
      "text/plain": [
       "<matplotlib.image.AxesImage at 0x7fb7084a2828>"
      ]
     },
     "execution_count": 17,
     "metadata": {},
     "output_type": "execute_result"
    },
    {
     "data": {
      "image/png": "[encoded data removed]",
      "text/plain": [
       "<Figure size 432x288 with 1 Axes>"
      ]
     },
     "metadata": {
      "needs_background": "light"
     },
     "output_type": "display_data"
    }
   ],
   "source": [
    "IMOutput=np.round((Vout**0.5)*norma)\n",
    "plt.imshow(IMOutput.reshape((im_crop.shape[0],im_crop.shape[1])), cmap='Greys')"
   ]
  },
  {
   "cell_type": "markdown",
   "metadata": {},
   "source": [
    "Now, apply the Hadamard gate to the last qubit. "
   ]
  },
  {
   "cell_type": "code",
   "execution_count": 18,
   "metadata": {},
   "outputs": [],
   "source": [
    "H|q[0]\n",
    "eng.flush()"
   ]
  },
  {
   "cell_type": "markdown",
   "metadata": {},
   "source": [
    "In the real case, a large number of measurements of the final state have to be done to obtain the probabilities of the final state. In fact, the algorithm needs to measure the last qubit and, when the results is one, the result state is the solution.However, in the simulator, you can recover them directly, and take only those that are due to last state equal to 1, this means, the natural odd numbers."
   ]
  },
  {
   "cell_type": "code",
   "execution_count": 19,
   "metadata": {},
   "outputs": [],
   "source": [
    "eng.backend.collapse_wavefunction([q[0]], [1])\n",
    "Vout=np.zeros(shape)\n",
    "IMOutputOdd=np.zeros(shape)\n",
    "for i in range(shape):\n",
    "    bits=np.binary_repr(i,width=len(q))\n",
    "    Vout[i]=abs(eng.backend.get_probability(bits[-1::-1],q))\n",
    "    if (Vout[i]>0.0001):\n",
    "        IMOutputOdd[i]=1.0\n"
   ]
  },
  {
   "cell_type": "code",
   "execution_count": 20,
   "metadata": {},
   "outputs": [
    {
     "data": {
      "text/plain": [
       "Text(0.5, 1.0, 'New transformed image')"
      ]
     },
     "execution_count": 20,
     "metadata": {},
     "output_type": "execute_result"
    },
    {
     "data": {
      "image/png": "[encoded data removed]",
      "text/plain": [
       "<Figure size 864x216 with 3 Axes>"
      ]
     },
     "metadata": {
      "needs_background": "light"
     },
     "output_type": "display_data"
    }
   ],
   "source": [
    "fig,ax=plt.subplots(1,3,figsize=(12,3))\n",
    "ax[0].plot(Vout**0.5,\"r*\",label=\"Final state\")\n",
    "ax[0].set_title(\"Final state\")\n",
    "ax[0].set_ylabel(\"Amplitude\")\n",
    "ax[1].plot(Vnorma,\"*\",label=\"Vnorma\")\n",
    "ax[1].set_title(\"Vnorma\")\n",
    "ax[2].imshow(IMOutputOdd.reshape((im_crop.shape[0],im_crop.shape[1])), cmap='Greys')\n",
    "ax[2].set_title(\"New transformed image\")"
   ]
  },
  {
   "cell_type": "markdown",
   "metadata": {},
   "source": [
    "OK. Look the final result after applying a single gate. Remember that only even elements are needed"
   ]
  },
  {
   "cell_type": "markdown",
   "metadata": {},
   "source": [
    "Only half of the borders have been calculated. To calculate the even borders, the algorithm must be executed permuting the input vector by one position."
   ]
  },
  {
   "cell_type": "code",
   "execution_count": 21,
   "metadata": {},
   "outputs": [],
   "source": [
    "eng2=MainEngine()\n",
    "q2=eng2.allocate_qureg(number_of_qubits)\n",
    "CreateState2=_state_prep.StatePreparation(np.take(Vnorma,range(1,len(Vnorma)+1),mode=\"warp\"))\n",
    "CreateState2 | q2\n",
    "H |q2[0]\n",
    "eng2.flush()"
   ]
  },
  {
   "cell_type": "markdown",
   "metadata": {},
   "source": [
    "Get the final amplitudes of this case from the simulator"
   ]
  },
  {
   "cell_type": "code",
   "execution_count": 22,
   "metadata": {},
   "outputs": [],
   "source": [
    "eng2.backend.collapse_wavefunction([q[0]], [1])\n",
    "Vout=np.zeros(shape)\n",
    "IMOutputEven=np.zeros(shape)\n",
    "for i in range(shape):\n",
    "    bits=np.binary_repr(i,width=len(q))\n",
    "    Vout[i]=abs(eng2.backend.get_probability(bits[-1::-1],q))\n",
    "    if (Vout[i]>0.0001):\n",
    "        IMOutputEven[i+1]=1.0"
   ]
  },
  {
   "cell_type": "markdown",
   "metadata": {},
   "source": [
    "Plot the result of this second execution"
   ]
  },
  {
   "cell_type": "code",
   "execution_count": 23,
   "metadata": {},
   "outputs": [
    {
     "data": {
      "text/plain": [
       "<matplotlib.image.AxesImage at 0x7fb70839e2b0>"
      ]
     },
     "execution_count": 23,
     "metadata": {},
     "output_type": "execute_result"
    },
    {
     "data": {
      "image/png": "[encoded data removed]",
      "text/plain": [
       "<Figure size 432x288 with 1 Axes>"
      ]
     },
     "metadata": {
      "needs_background": "light"
     },
     "output_type": "display_data"
    }
   ],
   "source": [
    "plt.imshow(IMOutputEven.reshape((im_crop.shape[0],im_crop.shape[1])), cmap='Greys')"
   ]
  },
  {
   "cell_type": "markdown",
   "metadata": {},
   "source": [
    "And combine both outputs to produce the final"
   ]
  },
  {
   "cell_type": "code",
   "execution_count": 24,
   "metadata": {},
   "outputs": [
    {
     "data": {
      "text/plain": [
       "<matplotlib.image.AxesImage at 0x7fb7083534e0>"
      ]
     },
     "execution_count": 24,
     "metadata": {},
     "output_type": "execute_result"
    },
    {
     "data": {
      "image/png": "[encoded data removed]",
      "text/plain": [
       "<Figure size 432x288 with 1 Axes>"
      ]
     },
     "metadata": {
      "needs_background": "light"
     },
     "output_type": "display_data"
    }
   ],
   "source": [
    "plt.imshow((IMOutputOdd+IMOutputEven).reshape((im_crop.shape[0],im_crop.shape[1])), cmap='Greys')"
   ]
  },
  {
   "cell_type": "code",
   "execution_count": null,
   "metadata": {},
   "outputs": [],
   "source": []
  }
 ],
 "metadata": {
  "kernelspec": {
   "display_name": "Python 3",
   "language": "python",
   "name": "python3"
  },
  "language_info": {
   "codemirror_mode": {
    "name": "ipython",
    "version": 3
   },
   "file_extension": ".py",
   "mimetype": "text/x-python",
   "name": "python",
   "nbconvert_exporter": "python",
   "pygments_lexer": "ipython3",
   "version": "3.5.6"
  }
 },
 "nbformat": 4,
 "nbformat_minor": 2
}
