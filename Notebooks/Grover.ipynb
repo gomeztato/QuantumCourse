{
 "cells": [
  {
   "cell_type": "markdown",
   "metadata": {},
   "source": [
    "### Grover's algorithm.\n",
    "\n",
    "This exercise will implement the Grover's algorithm to find a the solution to a function that select the state: |01010>=|10>.\n",
    "The algorithm needs an additional qubit (ancilla). \n",
    "\n",
    "Ths algorithm steps are:\n",
    "\n",
    "1. Allocate a register with 6 qubits: 5 for applying the oracle and one ancilla\n",
    "2. Initialize the ancilla qubit to |1>\n",
    "3. Apply a Walsh-Hadamard operator to all the qubits in the quantum register.\n",
    "4. Apply the Grover's operator that includes the oracle and the diffusion operator.\n",
    "\n",
    "You can see a graphical view of the full algorithm at [Circuit 5 qubits](https://algassert.com/quirk#circuit=%7B%22cols%22%3A%5B%5B1%2C1%2C1%2C1%2C1%2C%22X%22%5D%2C%5B%22H%22%2C%22H%22%2C%22H%22%2C%22H%22%2C%22H%22%2C%22H%22%5D%2C%5B1%2C%22X%22%2C1%2C%22X%22%5D%2C%5B%22%E2%80%A2%22%2C%22%E2%80%A2%22%2C%22%E2%80%A2%22%2C%22%E2%80%A2%22%2C%22%E2%80%A2%22%2C%22X%22%5D%2C%5B1%2C%22X%22%2C1%2C%22X%22%5D%2C%5B%22Amps5%22%5D%2C%5B%5D%2C%5B%5D%2C%5B%22H%22%2C%22H%22%2C%22H%22%2C%22H%22%2C%22H%22%5D%2C%5B%22X%22%2C%22X%22%2C%22X%22%2C%22X%22%2C%22X%22%5D%2C%5B%22%E2%80%A2%22%2C%22%E2%80%A2%22%2C%22%E2%80%A2%22%2C%22%E2%80%A2%22%2C%22Z%22%5D%2C%5B%22X%22%2C%22X%22%2C%22X%22%2C%22X%22%2C%22X%22%5D%2C%5B%22H%22%2C%22H%22%2C%22H%22%2C%22H%22%2C%22H%22%5D%2C%5B%22Chance5%22%5D%2C%5B1%2C%22X%22%2C1%2C%22X%22%5D%2C%5B%22%E2%80%A2%22%2C%22%E2%80%A2%22%2C%22%E2%80%A2%22%2C%22%E2%80%A2%22%2C%22%E2%80%A2%22%2C%22X%22%5D%2C%5B1%2C%22X%22%2C1%2C%22X%22%5D%2C%5B%22H%22%2C%22H%22%2C%22H%22%2C%22H%22%2C%22H%22%5D%2C%5B%22X%22%2C%22X%22%2C%22X%22%2C%22X%22%2C%22X%22%5D%2C%5B%22%E2%80%A2%22%2C%22%E2%80%A2%22%2C%22%E2%80%A2%22%2C%22%E2%80%A2%22%2C%22Z%22%5D%2C%5B%22X%22%2C%22X%22%2C%22X%22%2C%22X%22%2C%22X%22%5D%2C%5B%22H%22%2C%22H%22%2C%22H%22%2C%22H%22%2C%22H%22%5D%2C%5B%22Chance5%22%5D%2C%5B1%2C%22X%22%2C1%2C%22X%22%5D%2C%5B%22%E2%80%A2%22%2C%22%E2%80%A2%22%2C%22%E2%80%A2%22%2C%22%E2%80%A2%22%2C%22%E2%80%A2%22%2C%22X%22%5D%2C%5B1%2C%22X%22%2C1%2C%22X%22%5D%2C%5B%22H%22%2C%22H%22%2C%22H%22%2C%22H%22%2C%22H%22%5D%2C%5B%22X%22%2C%22X%22%2C%22X%22%2C%22X%22%2C%22X%22%5D%2C%5B%22%E2%80%A2%22%2C%22%E2%80%A2%22%2C%22%E2%80%A2%22%2C%22%E2%80%A2%22%2C%22Z%22%5D%2C%5B%22X%22%2C%22X%22%2C%22X%22%2C%22X%22%2C%22X%22%5D%2C%5B%22H%22%2C%22H%22%2C%22H%22%2C%22H%22%2C%22H%22%5D%2C%5B%22Chance5%22%5D%2C%5B1%2C%22X%22%2C1%2C%22X%22%5D%2C%5B%22%E2%80%A2%22%2C%22%E2%80%A2%22%2C%22%E2%80%A2%22%2C%22%E2%80%A2%22%2C%22%E2%80%A2%22%2C%22X%22%5D%2C%5B1%2C%22X%22%2C1%2C%22X%22%5D%2C%5B%22H%22%2C%22H%22%2C%22H%22%2C%22H%22%2C%22H%22%5D%2C%5B%22X%22%2C%22X%22%2C%22X%22%2C%22X%22%2C%22X%22%5D%2C%5B%22%E2%80%A2%22%2C%22%E2%80%A2%22%2C%22%E2%80%A2%22%2C%22%E2%80%A2%22%2C%22Z%22%5D%2C%5B%22X%22%2C%22X%22%2C%22X%22%2C%22X%22%2C%22X%22%5D%2C%5B%22H%22%2C%22H%22%2C%22H%22%2C%22H%22%2C%22H%22%5D%2C%5B%22Chance5%22%5D%5D%7D)\n",
    "See that alter applying the Oracle the first time, the state |10101> has a different phase (-180º) that other states (0º)."
   ]
  },
  {
   "cell_type": "markdown",
   "metadata": {},
   "source": [
    "First of all, import all the Python modules you will use in your quantum program"
   ]
  },
  {
   "cell_type": "code",
   "execution_count": 1,
   "metadata": {},
   "outputs": [],
   "source": [
    "import math\n",
    "from projectq import MainEngine\n",
    "from projectq.ops import H, Z, X, Measure, All\n",
    "from projectq.meta import Loop, Compute, Uncompute, Control"
   ]
  },
  {
   "cell_type": "markdown",
   "metadata": {},
   "source": [
    "Start the ProjectQ engine. Initilially, we will use the default Engine."
   ]
  },
  {
   "cell_type": "code",
   "execution_count": 2,
   "metadata": {},
   "outputs": [],
   "source": [
    "eng = MainEngine()"
   ]
  },
  {
   "cell_type": "markdown",
   "metadata": {},
   "source": [
    "This is the Oracle which select the state [10101]. To do it, this funtion will apply a X operator to all the odd qubits and will use the ancilla to store the result. To simplify the programming, ProjectQ allows you to use the tag Compute which stores all the operations on the qubits. Later, Uncompute will execute the inverse sequence. \n",
    "\n",
    "The second tag is Control, that will apply a controled gate on the ancilla by the other qubits.\n",
    "\n"
   ]
  },
  {
   "cell_type": "code",
   "execution_count": 3,
   "metadata": {},
   "outputs": [],
   "source": [
    "def alternating_bits_oracle(eng, qubits, output):\n",
    "    \n",
    "    with Compute(eng):\n",
    "        All(X) | qubits[1::2]\n",
    "    with Control(eng, qubits):\n",
    "        X | output\n",
    "    Uncompute(eng)"
   ]
  },
  {
   "cell_type": "markdown",
   "metadata": {},
   "source": [
    "Select now the number of qubits you want to test. By default 5, as in the graphical version"
   ]
  },
  {
   "cell_type": "code",
   "execution_count": 4,
   "metadata": {},
   "outputs": [],
   "source": [
    "n=5"
   ]
  },
  {
   "cell_type": "markdown",
   "metadata": {},
   "source": [
    "Allocate the number of selected qubits in a Quantum register"
   ]
  },
  {
   "cell_type": "code",
   "execution_count": 5,
   "metadata": {},
   "outputs": [],
   "source": [
    "x = eng.allocate_qureg(n)"
   ]
  },
  {
   "cell_type": "markdown",
   "metadata": {},
   "source": [
    "Allocate the oracle output qubit and initialize to |1>"
   ]
  },
  {
   "cell_type": "code",
   "execution_count": 6,
   "metadata": {},
   "outputs": [],
   "source": [
    "oracle_out = eng.allocate_qubit()\n",
    "X | oracle_out\n"
   ]
  },
  {
   "cell_type": "markdown",
   "metadata": {},
   "source": [
    "Apply the Walsh-Hadamard operator to all the qubits. The final state after this operation will be $$\\frac{1}{\\sqrt{N}}\\sum\\limits_{i=0}^{N-1}|i>\\otimes\\frac{|0>-|1>}{\\sqrt{2}}$$\n",
    "\n",
    "where $$N=2^n$$\n"
   ]
  },
  {
   "cell_type": "code",
   "execution_count": 7,
   "metadata": {},
   "outputs": [],
   "source": [
    "All(H) |x\n",
    "H | oracle_out"
   ]
  },
  {
   "cell_type": "markdown",
   "metadata": {},
   "source": [
    "Remember that the amplitude amplification algorithm must be applied a maximum number of times:\n",
    "$$k\\approx\\frac{\\pi}{4}\\sqrt{\\frac{N}{\\rvert G\\rvert}}$$\n",
    "\n",
    "For this case $$\\rvert G \\rvert = 1$$ because the oracle markes one single state. So, the number of iteratios of the Amplitide Amplification algorithm must be:"
   ]
  },
  {
   "cell_type": "code",
   "execution_count": 8,
   "metadata": {},
   "outputs": [],
   "source": [
    "# number of iterations we have to run:\n",
    "num_it = int(math.pi/4.*math.sqrt(1 << n))"
   ]
  },
  {
   "cell_type": "markdown",
   "metadata": {},
   "source": [
    "OK. Now apply the Grover's operator (Oracle D) the number of maximum iterations. Oracle is the previous defined function **H | oracle_out**. And the diffusion operator is:\n",
    "\n",
    "$$D=\\begin{bmatrix} \n",
    "\\frac{2}{N}-1 & \\frac{2}{N} & \\cdots& &\\frac{2}{N}  \\\\\n",
    " \\frac{2}{N} & \\frac{2}{N}-1 & \\frac{2}{N} & \\cdots& \\frac{2}{N}\\\\\n",
    "\\vdots&&\\ddots&&\\vdots\\\\\n",
    "\\frac{2}{N}& \\cdots & &\\cdots & \\frac{2}{N}-1\n",
    "\\end{bmatrix}$$"
   ]
  },
  {
   "cell_type": "code",
   "execution_count": 9,
   "metadata": {},
   "outputs": [],
   "source": [
    "with Loop(eng, num_it):\n",
    "    # oracle adds a (-1)-phase to the solution\n",
    "    alternating_bits_oracle(eng, x, oracle_out)\n",
    "\n",
    "    # reflection across uniform superposition\n",
    "    with Compute(eng):\n",
    "        All(H) | x\n",
    "        All(X) | x\n",
    "\n",
    "    with Control(eng, x[0:-1]):\n",
    "        Z | x[-1]\n",
    "\n",
    "    Uncompute(eng)"
   ]
  },
  {
   "cell_type": "markdown",
   "metadata": {},
   "source": [
    "Finally. measure all the qubits"
   ]
  },
  {
   "cell_type": "code",
   "execution_count": 10,
   "metadata": {},
   "outputs": [],
   "source": [
    "All(Measure) | x\n",
    "All(Measure) | oracle_out\n",
    "\n",
    "eng.flush()"
   ]
  },
  {
   "cell_type": "markdown",
   "metadata": {},
   "source": [
    "And print the result!"
   ]
  },
  {
   "cell_type": "code",
   "execution_count": 11,
   "metadata": {},
   "outputs": [
    {
     "name": "stdout",
     "output_type": "stream",
     "text": [
      "Our solution is:[1, 0, 1, 0, 1]\n"
     ]
    }
   ],
   "source": [
    "print(\"Our solution is:{}\".format([int(qubit) for qubit in x]))"
   ]
  },
  {
   "cell_type": "code",
   "execution_count": null,
   "metadata": {},
   "outputs": [],
   "source": []
  }
 ],
 "metadata": {
  "kernelspec": {
   "display_name": "Python 3",
   "language": "python",
   "name": "python3"
  },
  "language_info": {
   "codemirror_mode": {
    "name": "ipython",
    "version": 3
   },
   "file_extension": ".py",
   "mimetype": "text/x-python",
   "name": "python",
   "nbconvert_exporter": "python",
   "pygments_lexer": "ipython3",
   "version": "3.5.6"
  }
 },
 "nbformat": 4,
 "nbformat_minor": 2
}
